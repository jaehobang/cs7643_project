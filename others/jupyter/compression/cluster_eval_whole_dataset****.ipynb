{
 "cells": [
  {
   "cell_type": "code",
   "execution_count": 2,
   "metadata": {},
   "outputs": [],
   "source": [
    "import numpy as np\n",
    "import time\n",
    "import os\n",
    "import cv2\n",
    "import sys"
   ]
  },
  {
   "cell_type": "code",
   "execution_count": 3,
   "metadata": {},
   "outputs": [],
   "source": [
    "os.getcwd()\n",
    "home_dir = os.path.abspath('../../')\n",
    "data_dir = os.path.join(home_dir, 'data', 'ua_detrac',  'DETRAC-Images')\n",
    "data_dir\n",
    "\n",
    "home_dir\n",
    "\n",
    "filter_path = os.path.join(home_dir, 'filters')\n",
    "loader_path = os.path.join(home_dir, 'loaders')\n",
    "\n",
    "sys.path.append(home_dir)\n",
    "sys.path.append(loader_path)\n",
    "sys.path.append(filter_path)"
   ]
  },
  {
   "cell_type": "code",
   "execution_count": 4,
   "metadata": {},
   "outputs": [
    {
     "name": "stdout",
     "output_type": "stream",
     "text": [
      "/home/jbang36/eva/others/jupyter\n"
     ]
    }
   ],
   "source": [
    "print(os.getcwd())"
   ]
  },
  {
   "cell_type": "code",
   "execution_count": 5,
   "metadata": {},
   "outputs": [
    {
     "name": "stdout",
     "output_type": "stream",
     "text": [
      "image directory is  /home/jbang36/eva/data/ua_detrac/DETRAC-Train-Images\n"
     ]
    },
    {
     "name": "stderr",
     "output_type": "stream",
     "text": [
      "  0%|          | 16/83791 [00:00<08:57, 155.85it/s]"
     ]
    },
    {
     "name": "stdout",
     "output_type": "stream",
     "text": [
      "Length of file_names: 83791\n"
     ]
    },
    {
     "name": "stderr",
     "output_type": "stream",
     "text": [
      "100%|██████████| 83791/83791 [03:43<00:00, 375.38it/s]\n",
      "1it [00:00,  2.39it/s]"
     ]
    },
    {
     "name": "stdout",
     "output_type": "stream",
     "text": [
      "MVI_20011.xml\n",
      "mvi length: 664\n",
      "car_labels length: 664\n"
     ]
    },
    {
     "name": "stderr",
     "output_type": "stream",
     "text": [
      "\r",
      "2it [00:00,  2.33it/s]"
     ]
    },
    {
     "name": "stdout",
     "output_type": "stream",
     "text": [
      "MVI_20012.xml\n",
      "mvi length: 1600\n",
      "car_labels length: 1600\n",
      "MVI_20032.xml\n",
      "mvi length: 2037\n",
      "car_labels length: 2037\n"
     ]
    },
    {
     "name": "stderr",
     "output_type": "stream",
     "text": [
      "\r",
      "4it [00:01,  2.85it/s]"
     ]
    },
    {
     "name": "stdout",
     "output_type": "stream",
     "text": [
      "MVI_20033.xml\n",
      "mvi length: 2821\n",
      "car_labels length: 2821\n"
     ]
    },
    {
     "name": "stderr",
     "output_type": "stream",
     "text": [
      "\r",
      "5it [00:01,  2.82it/s]"
     ]
    },
    {
     "name": "stdout",
     "output_type": "stream",
     "text": [
      "MVI_20034.xml\n",
      "mvi length: 3621\n",
      "car_labels length: 3621\n"
     ]
    },
    {
     "name": "stderr",
     "output_type": "stream",
     "text": [
      "\r",
      "6it [00:01,  2.68it/s]"
     ]
    },
    {
     "name": "stdout",
     "output_type": "stream",
     "text": [
      "MVI_20035.xml\n",
      "mvi length: 4421\n",
      "car_labels length: 4421\n"
     ]
    },
    {
     "name": "stderr",
     "output_type": "stream",
     "text": [
      "\r",
      "7it [00:02,  2.60it/s]"
     ]
    },
    {
     "name": "stdout",
     "output_type": "stream",
     "text": [
      "MVI_20051.xml\n",
      "mvi length: 5327\n",
      "car_labels length: 5327\n"
     ]
    },
    {
     "name": "stderr",
     "output_type": "stream",
     "text": [
      "\r",
      "8it [00:02,  2.56it/s]"
     ]
    },
    {
     "name": "stdout",
     "output_type": "stream",
     "text": [
      "MVI_20052.xml\n",
      "mvi length: 6021\n",
      "car_labels length: 6021\n"
     ]
    },
    {
     "name": "stderr",
     "output_type": "stream",
     "text": [
      "10it [00:03,  3.22it/s]"
     ]
    },
    {
     "name": "stdout",
     "output_type": "stream",
     "text": [
      "MVI_20061.xml\n",
      "mvi length: 6821\n",
      "car_labels length: 6821\n",
      "MVI_20062.xml\n",
      "mvi length: 7621\n",
      "car_labels length: 7621\n"
     ]
    },
    {
     "name": "stderr",
     "output_type": "stream",
     "text": [
      "\r",
      "11it [00:03,  3.31it/s]"
     ]
    },
    {
     "name": "stdout",
     "output_type": "stream",
     "text": [
      "MVI_20063.xml\n",
      "mvi length: 8421\n",
      "car_labels length: 8421\n"
     ]
    },
    {
     "name": "stderr",
     "output_type": "stream",
     "text": [
      "\r",
      "12it [00:04,  2.59it/s]"
     ]
    },
    {
     "name": "stdout",
     "output_type": "stream",
     "text": [
      "MVI_20064.xml\n",
      "mvi length: 9221\n",
      "car_labels length: 9221\n"
     ]
    },
    {
     "name": "stderr",
     "output_type": "stream",
     "text": [
      "\r",
      "13it [00:05,  1.89it/s]"
     ]
    },
    {
     "name": "stdout",
     "output_type": "stream",
     "text": [
      "MVI_20065.xml\n",
      "mvi length: 10421\n",
      "car_labels length: 10421\n"
     ]
    },
    {
     "name": "stderr",
     "output_type": "stream",
     "text": [
      "15it [00:05,  2.86it/s]"
     ]
    },
    {
     "name": "stdout",
     "output_type": "stream",
     "text": [
      "MVI_39761.xml\n",
      "mvi length: 12081\n",
      "car_labels length: 12081\n",
      "MVI_39771.xml\n",
      "mvi length: 12651\n",
      "car_labels length: 12651\n"
     ]
    },
    {
     "name": "stderr",
     "output_type": "stream",
     "text": [
      "\r",
      "16it [00:05,  2.98it/s]"
     ]
    },
    {
     "name": "stdout",
     "output_type": "stream",
     "text": [
      "MVI_39781.xml\n",
      "mvi length: 14516\n",
      "car_labels length: 14516\n"
     ]
    },
    {
     "name": "stderr",
     "output_type": "stream",
     "text": [
      "\r",
      "17it [00:05,  3.26it/s]"
     ]
    },
    {
     "name": "stdout",
     "output_type": "stream",
     "text": [
      "MVI_39801.xml\n",
      "mvi length: 15401\n",
      "car_labels length: 15401\n",
      "MVI_39811.xml\n",
      "mvi length: 16471\n",
      "car_labels length: 16471\n"
     ]
    },
    {
     "name": "stderr",
     "output_type": "stream",
     "text": [
      "20it [00:06,  4.52it/s]"
     ]
    },
    {
     "name": "stdout",
     "output_type": "stream",
     "text": [
      "MVI_39821.xml\n",
      "mvi length: 17351\n",
      "car_labels length: 17351\n",
      "MVI_39851.xml\n",
      "mvi length: 18771\n",
      "car_labels length: 18771\n"
     ]
    },
    {
     "name": "stderr",
     "output_type": "stream",
     "text": [
      "22it [00:06,  5.19it/s]"
     ]
    },
    {
     "name": "stdout",
     "output_type": "stream",
     "text": [
      "MVI_39861.xml\n",
      "mvi length: 19516\n",
      "car_labels length: 19516\n",
      "MVI_39931.xml\n",
      "mvi length: 20786\n",
      "car_labels length: 20786\n"
     ]
    },
    {
     "name": "stderr",
     "output_type": "stream",
     "text": [
      "\r",
      "23it [00:07,  3.34it/s]"
     ]
    },
    {
     "name": "stdout",
     "output_type": "stream",
     "text": [
      "MVI_40131.xml\n",
      "mvi length: 22431\n",
      "car_labels length: 22431\n"
     ]
    },
    {
     "name": "stderr",
     "output_type": "stream",
     "text": [
      "\r",
      "24it [00:07,  3.34it/s]"
     ]
    },
    {
     "name": "stdout",
     "output_type": "stream",
     "text": [
      "MVI_40141.xml\n",
      "mvi length: 24031\n",
      "car_labels length: 24031\n"
     ]
    },
    {
     "name": "stderr",
     "output_type": "stream",
     "text": [
      "\r",
      "25it [00:07,  3.47it/s]"
     ]
    },
    {
     "name": "stdout",
     "output_type": "stream",
     "text": [
      "MVI_40152.xml\n",
      "mvi length: 25781\n",
      "car_labels length: 25781\n"
     ]
    },
    {
     "name": "stderr",
     "output_type": "stream",
     "text": [
      "\r",
      "26it [00:08,  3.46it/s]"
     ]
    },
    {
     "name": "stdout",
     "output_type": "stream",
     "text": [
      "MVI_40161.xml\n",
      "mvi length: 27271\n",
      "car_labels length: 27271\n"
     ]
    },
    {
     "name": "stderr",
     "output_type": "stream",
     "text": [
      "\r",
      "27it [00:08,  2.97it/s]"
     ]
    },
    {
     "name": "stdout",
     "output_type": "stream",
     "text": [
      "MVI_40162.xml\n",
      "mvi length: 29036\n",
      "car_labels length: 29036\n"
     ]
    },
    {
     "name": "stderr",
     "output_type": "stream",
     "text": [
      "\r",
      "28it [00:09,  2.56it/s]"
     ]
    },
    {
     "name": "stdout",
     "output_type": "stream",
     "text": [
      "MVI_40171.xml\n",
      "mvi length: 30186\n",
      "car_labels length: 30186\n"
     ]
    },
    {
     "name": "stderr",
     "output_type": "stream",
     "text": [
      "\r",
      "29it [00:09,  1.84it/s]"
     ]
    },
    {
     "name": "stdout",
     "output_type": "stream",
     "text": [
      "MVI_40172.xml\n",
      "mvi length: 32821\n",
      "car_labels length: 32821\n"
     ]
    },
    {
     "name": "stderr",
     "output_type": "stream",
     "text": [
      "\r",
      "30it [00:10,  1.96it/s]"
     ]
    },
    {
     "name": "stdout",
     "output_type": "stream",
     "text": [
      "MVI_40181.xml\n",
      "mvi length: 34521\n",
      "car_labels length: 34521\n"
     ]
    },
    {
     "name": "stderr",
     "output_type": "stream",
     "text": [
      "\r",
      "31it [00:12,  1.05it/s]"
     ]
    },
    {
     "name": "stdout",
     "output_type": "stream",
     "text": [
      "MVI_40191.xml\n",
      "mvi length: 37016\n",
      "car_labels length: 37016\n"
     ]
    },
    {
     "name": "stderr",
     "output_type": "stream",
     "text": [
      "\r",
      "32it [00:13,  1.03s/it]"
     ]
    },
    {
     "name": "stdout",
     "output_type": "stream",
     "text": [
      "MVI_40192.xml\n",
      "mvi length: 39211\n",
      "car_labels length: 39211\n"
     ]
    },
    {
     "name": "stderr",
     "output_type": "stream",
     "text": [
      "\r",
      "33it [00:13,  1.21it/s]"
     ]
    },
    {
     "name": "stdout",
     "output_type": "stream",
     "text": [
      "MVI_40201.xml\n",
      "mvi length: 40136\n",
      "car_labels length: 40136\n"
     ]
    },
    {
     "name": "stderr",
     "output_type": "stream",
     "text": [
      "\r",
      "34it [00:14,  1.15it/s]"
     ]
    },
    {
     "name": "stdout",
     "output_type": "stream",
     "text": [
      "MVI_40204.xml\n",
      "mvi length: 41361\n",
      "car_labels length: 41361\n"
     ]
    },
    {
     "name": "stderr",
     "output_type": "stream",
     "text": [
      "\r",
      "35it [00:15,  1.46it/s]"
     ]
    },
    {
     "name": "stdout",
     "output_type": "stream",
     "text": [
      "MVI_40211.xml\n",
      "mvi length: 43311\n",
      "car_labels length: 43311\n"
     ]
    },
    {
     "name": "stderr",
     "output_type": "stream",
     "text": [
      "\r",
      "36it [00:15,  1.69it/s]"
     ]
    },
    {
     "name": "stdout",
     "output_type": "stream",
     "text": [
      "MVI_40212.xml\n",
      "mvi length: 45001\n",
      "car_labels length: 45001\n"
     ]
    },
    {
     "name": "stderr",
     "output_type": "stream",
     "text": [
      "\r",
      "37it [00:15,  1.90it/s]"
     ]
    },
    {
     "name": "stdout",
     "output_type": "stream",
     "text": [
      "MVI_40213.xml\n",
      "mvi length: 46791\n",
      "car_labels length: 46791\n"
     ]
    },
    {
     "name": "stderr",
     "output_type": "stream",
     "text": [
      "\r",
      "38it [00:16,  1.53it/s]"
     ]
    },
    {
     "name": "stdout",
     "output_type": "stream",
     "text": [
      "MVI_40241.xml\n",
      "mvi length: 49111\n",
      "car_labels length: 49111\n"
     ]
    },
    {
     "name": "stderr",
     "output_type": "stream",
     "text": [
      "\r",
      "39it [00:17,  1.77it/s]"
     ]
    },
    {
     "name": "stdout",
     "output_type": "stream",
     "text": [
      "MVI_40243.xml\n",
      "mvi length: 50376\n",
      "car_labels length: 50376\n"
     ]
    },
    {
     "name": "stderr",
     "output_type": "stream",
     "text": [
      "\r",
      "40it [00:17,  1.91it/s]"
     ]
    },
    {
     "name": "stdout",
     "output_type": "stream",
     "text": [
      "MVI_40244.xml\n",
      "mvi length: 51721\n",
      "car_labels length: 51721\n"
     ]
    },
    {
     "name": "stderr",
     "output_type": "stream",
     "text": [
      "\r",
      "41it [00:18,  1.91it/s]"
     ]
    },
    {
     "name": "stdout",
     "output_type": "stream",
     "text": [
      "MVI_40732.xml\n",
      "mvi length: 53841\n",
      "car_labels length: 53841\n"
     ]
    },
    {
     "name": "stderr",
     "output_type": "stream",
     "text": [
      "\r",
      "42it [00:18,  2.04it/s]"
     ]
    },
    {
     "name": "stdout",
     "output_type": "stream",
     "text": [
      "MVI_40751.xml\n",
      "mvi length: 54986\n",
      "car_labels length: 54986\n"
     ]
    },
    {
     "name": "stderr",
     "output_type": "stream",
     "text": [
      "\r",
      "43it [00:19,  1.64it/s]"
     ]
    },
    {
     "name": "stdout",
     "output_type": "stream",
     "text": [
      "MVI_40752.xml\n",
      "mvi length: 57011\n",
      "car_labels length: 57011\n"
     ]
    },
    {
     "name": "stderr",
     "output_type": "stream",
     "text": [
      "\r",
      "44it [00:21,  1.10it/s]"
     ]
    },
    {
     "name": "stdout",
     "output_type": "stream",
     "text": [
      "MVI_40871.xml\n",
      "mvi length: 58731\n",
      "car_labels length: 58731\n"
     ]
    },
    {
     "name": "stderr",
     "output_type": "stream",
     "text": [
      "\r",
      "45it [00:21,  1.27it/s]"
     ]
    },
    {
     "name": "stdout",
     "output_type": "stream",
     "text": [
      "MVI_40962.xml\n",
      "mvi length: 60606\n",
      "car_labels length: 60606\n"
     ]
    },
    {
     "name": "stderr",
     "output_type": "stream",
     "text": [
      "\r",
      "46it [00:21,  1.51it/s]"
     ]
    },
    {
     "name": "stdout",
     "output_type": "stream",
     "text": [
      "MVI_40963.xml\n",
      "mvi length: 62426\n",
      "car_labels length: 62426\n"
     ]
    },
    {
     "name": "stderr",
     "output_type": "stream",
     "text": [
      "48it [00:22,  2.10it/s]"
     ]
    },
    {
     "name": "stdout",
     "output_type": "stream",
     "text": [
      "MVI_40981.xml\n",
      "mvi length: 64421\n",
      "car_labels length: 64421\n",
      "MVI_40991.xml\n",
      "mvi length: 66241\n",
      "car_labels length: 66241\n"
     ]
    },
    {
     "name": "stderr",
     "output_type": "stream",
     "text": [
      "\r",
      "49it [00:22,  2.32it/s]"
     ]
    },
    {
     "name": "stdout",
     "output_type": "stream",
     "text": [
      "MVI_40992.xml\n",
      "mvi length: 68401\n",
      "car_labels length: 68401\n"
     ]
    },
    {
     "name": "stderr",
     "output_type": "stream",
     "text": [
      "\r",
      "50it [00:23,  2.25it/s]"
     ]
    },
    {
     "name": "stdout",
     "output_type": "stream",
     "text": [
      "MVI_41063.xml\n",
      "mvi length: 69906\n",
      "car_labels length: 69906\n"
     ]
    },
    {
     "name": "stderr",
     "output_type": "stream",
     "text": [
      "\r",
      "51it [00:23,  2.15it/s]"
     ]
    },
    {
     "name": "stdout",
     "output_type": "stream",
     "text": [
      "MVI_41073.xml\n",
      "mvi length: 71731\n",
      "car_labels length: 71731\n"
     ]
    },
    {
     "name": "stderr",
     "output_type": "stream",
     "text": [
      "53it [00:24,  2.48it/s]"
     ]
    },
    {
     "name": "stdout",
     "output_type": "stream",
     "text": [
      "MVI_63521.xml\n",
      "mvi length: 73786\n",
      "car_labels length: 73786\n",
      "MVI_63525.xml\n",
      "mvi length: 74771\n",
      "car_labels length: 74771\n",
      "MVI_63544.xml\n",
      "mvi length: 75931\n",
      "car_labels length: 75931\n"
     ]
    },
    {
     "name": "stderr",
     "output_type": "stream",
     "text": [
      "\r",
      "55it [00:25,  2.85it/s]"
     ]
    },
    {
     "name": "stdout",
     "output_type": "stream",
     "text": [
      "MVI_63552.xml\n",
      "mvi length: 77081\n",
      "car_labels length: 77081\n"
     ]
    },
    {
     "name": "stderr",
     "output_type": "stream",
     "text": [
      "\r",
      "56it [00:25,  2.45it/s]"
     ]
    },
    {
     "name": "stdout",
     "output_type": "stream",
     "text": [
      "MVI_63553.xml\n",
      "mvi length: 78486\n",
      "car_labels length: 78486\n"
     ]
    },
    {
     "name": "stderr",
     "output_type": "stream",
     "text": [
      "\r",
      "57it [00:26,  2.58it/s]"
     ]
    },
    {
     "name": "stdout",
     "output_type": "stream",
     "text": [
      "MVI_63554.xml\n",
      "mvi length: 79931\n",
      "car_labels length: 79931\n"
     ]
    },
    {
     "name": "stderr",
     "output_type": "stream",
     "text": [
      "\r",
      "58it [00:26,  2.36it/s]"
     ]
    },
    {
     "name": "stdout",
     "output_type": "stream",
     "text": [
      "MVI_63561.xml\n",
      "mvi length: 81216\n",
      "car_labels length: 81216\n"
     ]
    },
    {
     "name": "stderr",
     "output_type": "stream",
     "text": [
      "\r",
      "59it [00:26,  2.37it/s]"
     ]
    },
    {
     "name": "stdout",
     "output_type": "stream",
     "text": [
      "MVI_63562.xml\n",
      "mvi length: 82401\n",
      "car_labels length: 82401\n"
     ]
    },
    {
     "name": "stderr",
     "output_type": "stream",
     "text": [
      "\r",
      "60it [00:27,  2.55it/s]"
     ]
    },
    {
     "name": "stdout",
     "output_type": "stream",
     "text": [
      "MVI_63563.xml\n",
      "mvi length: 83791\n",
      "car_labels length: 83791\n",
      "Total time to load whole-data is 250.79137659072876 seconds\n"
     ]
    },
    {
     "name": "stderr",
     "output_type": "stream",
     "text": [
      "\n"
     ]
    }
   ],
   "source": [
    "# Load the data\n",
    "from loaders.load import Load\n",
    "\n",
    "start_time = time.time()\n",
    "load = Load()\n",
    "\n",
    "eva_dir = home_dir\n",
    "image_dir = os.path.join(eva_dir, \"data\", \"ua_detrac\", \"DETRAC-Train-Images\")\n",
    "anno_dir = os.path.join(eva_dir, \"data\", \"ua_detrac\", \"DETRAC-Train-Annotations-XML\")\n",
    "\n",
    "X, length_per_mvi = load.load_images(image_dir)\n",
    "Y_dict = load.load_XML(anno_dir, X, length_per_mvi)\n",
    "\n",
    "print(\"Total time to load whole-data is\", time.time() - start_time, \"seconds\")"
   ]
  },
  {
   "cell_type": "code",
   "execution_count": 6,
   "metadata": {},
   "outputs": [
    {
     "name": "stdout",
     "output_type": "stream",
     "text": [
      "before: (67032, 540, 960, 1)\n",
      "After change, shape of image is (67032, 45, 80, 1)\n",
      "before: (16759, 540, 960, 1)\n",
      "After change, shape of image is (16759, 45, 80, 1)\n"
     ]
    }
   ],
   "source": [
    "# I am wondering if we downsample and normalize the input early and just apply those images as training, it will affect performance in any way..\n",
    "# so after running _split_train_test here is the code we should run\n",
    "\n",
    "# Divide the data into train, test\n",
    "\n",
    "def _split_train_test(X,Y_dict):\n",
    "    n_samples, _, _, _= X.shape\n",
    "    train_index_end = int(len(X) * 0.8)\n",
    "\n",
    "    X_train = X[:train_index_end]\n",
    "    X_test = X[train_index_end:]\n",
    "\n",
    "    Y_dict_train = {}\n",
    "    Y_dict_test = {}\n",
    "    for column in Y_dict:\n",
    "        Y_dict_train[column] = Y_dict[column][:train_index_end]\n",
    "        Y_dict_test[column] = Y_dict[column][train_index_end:]\n",
    "\n",
    "    return X_train, X_test, Y_dict_train, Y_dict_test\n",
    "\n",
    "X_train, X_test, Y_train_dict, Y_test_dict = _split_train_test(X, Y_dict)\n",
    "\n",
    "\n",
    "X_train_norm = np.copy(X_train)\n",
    "X_test_norm = np.copy(X_test)\n",
    "\n",
    "def _format_image(X, sampling_rate=12):\n",
    "    print(\"before:\", X.shape)\n",
    "    reduction_rate = sampling_rate\n",
    "    # need to down shape them so that the kernels can train faster\n",
    "    # image should be num_samples, height, width, channel\n",
    "    downsampled_images = X[:, ::reduction_rate, ::reduction_rate, :]\n",
    "    downsampled_images = downsampled_images.astype(np.float32)\n",
    "    print(\"After change, shape of image is\", downsampled_images.shape)\n",
    "    downsampled_images /= 255.0\n",
    "    return downsampled_images\n",
    "\n",
    "X_train_norm = _format_image(X_train_norm)\n",
    "X_test_norm = _format_image(X_test_norm)\n"
   ]
  },
  {
   "cell_type": "code",
   "execution_count": 7,
   "metadata": {
    "scrolled": true
   },
   "outputs": [
    {
     "name": "stdout",
     "output_type": "stream",
     "text": [
      "Generating binary labels...\n",
      "(67032, 21)\n",
      "['t=car', 't=van', 't=bus', 't=others', 'c=red', 'c=white', 'c=black', 'c=silver', 's>40', 's>50', 's>60', 's<65', 's<70', 'i=pt335', 'i=pt211', 'i=pt342', 'i=pt208', 'o=pt335', 'o=pt211', 'o=pt342', 'o=pt208']\n",
      "[[1. 0. 0. 0. 1. 1. 1. 1. 1. 1. 1. 1. 1. 1. 0. 1. 1. 1. 0. 1. 1.]\n",
      " [1. 0. 0. 0. 1. 1. 1. 1. 1. 1. 1. 1. 1. 1. 1. 1. 1. 1. 1. 1. 1.]\n",
      " [1. 0. 0. 0. 0. 0. 1. 1. 1. 1. 0. 1. 1. 1. 1. 1. 0. 1. 1. 1. 0.]\n",
      " [1. 0. 0. 0. 1. 1. 1. 1. 1. 0. 0. 1. 1. 1. 1. 1. 1. 1. 1. 1. 1.]\n",
      " [1. 0. 0. 0. 1. 0. 1. 1. 1. 0. 0. 1. 1. 1. 1. 1. 0. 1. 1. 1. 0.]\n",
      " [1. 0. 0. 0. 1. 0. 1. 1. 1. 0. 0. 1. 1. 1. 1. 1. 1. 1. 1. 1. 1.]\n",
      " [1. 0. 0. 0. 1. 1. 1. 0. 0. 0. 0. 1. 1. 1. 1. 1. 1. 1. 1. 1. 1.]\n",
      " [1. 0. 0. 0. 1. 0. 1. 1. 1. 0. 0. 1. 1. 1. 1. 0. 1. 1. 1. 0. 1.]\n",
      " [1. 0. 0. 0. 0. 1. 1. 1. 0. 0. 0. 1. 1. 0. 1. 1. 1. 0. 1. 1. 1.]\n",
      " [1. 0. 0. 0. 1. 1. 1. 1. 0. 0. 0. 1. 1. 1. 0. 1. 1. 1. 0. 1. 1.]]\n",
      "Done in 2.396127223968506 seconds\n",
      "reshaping images...\n",
      "before: (67032, 45, 80, 1)\n",
      "After change, shape of image is (67032, 60)\n",
      "Done in 0.042819976806640625 seconds\n",
      "Splitting train / val...\n",
      "X_train shape (53625, 60)\n",
      "X_val shape (13407, 60)\n",
      "Y_train shape (53625, 21)\n",
      "Y_vale shaep (13407, 21)\n",
      "Done in 0.0015106201171875 seconds\n",
      "Starting preprocessing...\n",
      "time it took to train pca: 0.1470186710357666 seconds\n",
      "X_train shape:  (53625, 60)\n",
      "X_train_pca shape:  (53625, 9)\n",
      "Done in 0.14722180366516113 seconds\n",
      "Starting processing...\n",
      "Full Model Name: pca_svm using pca'd X_train\n",
      "Training for t=car\n",
      "svm finished training for column t=car in 21.564795970916748 seconds\n",
      "Training for t=van\n"
     ]
    },
    {
     "name": "stderr",
     "output_type": "stream",
     "text": [
      "/nethome/jbang36/anaconda3/envs/eva_35/lib/python3.6/site-packages/sklearn/svm/base.py:244: ConvergenceWarning: Solver terminated early (max_iter=10000).  Consider pre-processing your data with StandardScaler or MinMaxScaler.\n",
      "  % self.max_iter, ConvergenceWarning)\n"
     ]
    },
    {
     "name": "stdout",
     "output_type": "stream",
     "text": [
      "svm finished training for column t=van in 119.62712788581848 seconds\n",
      "Training for t=bus\n"
     ]
    },
    {
     "name": "stderr",
     "output_type": "stream",
     "text": [
      "/nethome/jbang36/anaconda3/envs/eva_35/lib/python3.6/site-packages/sklearn/svm/base.py:244: ConvergenceWarning: Solver terminated early (max_iter=10000).  Consider pre-processing your data with StandardScaler or MinMaxScaler.\n",
      "  % self.max_iter, ConvergenceWarning)\n"
     ]
    },
    {
     "name": "stdout",
     "output_type": "stream",
     "text": [
      "svm finished training for column t=bus in 122.25875306129456 seconds\n",
      "Training for t=others\n",
      "svm finished training for column t=others in 22.40015149116516 seconds\n",
      "Training for c=red\n"
     ]
    },
    {
     "name": "stderr",
     "output_type": "stream",
     "text": [
      "/nethome/jbang36/anaconda3/envs/eva_35/lib/python3.6/site-packages/sklearn/svm/base.py:244: ConvergenceWarning: Solver terminated early (max_iter=10000).  Consider pre-processing your data with StandardScaler or MinMaxScaler.\n",
      "  % self.max_iter, ConvergenceWarning)\n"
     ]
    },
    {
     "name": "stdout",
     "output_type": "stream",
     "text": [
      "svm finished training for column c=red in 116.65598559379578 seconds\n",
      "Training for c=white\n"
     ]
    },
    {
     "name": "stderr",
     "output_type": "stream",
     "text": [
      "/nethome/jbang36/anaconda3/envs/eva_35/lib/python3.6/site-packages/sklearn/svm/base.py:244: ConvergenceWarning: Solver terminated early (max_iter=10000).  Consider pre-processing your data with StandardScaler or MinMaxScaler.\n",
      "  % self.max_iter, ConvergenceWarning)\n"
     ]
    },
    {
     "name": "stdout",
     "output_type": "stream",
     "text": [
      "svm finished training for column c=white in 117.17397046089172 seconds\n",
      "Training for c=black\n"
     ]
    },
    {
     "name": "stderr",
     "output_type": "stream",
     "text": [
      "/nethome/jbang36/anaconda3/envs/eva_35/lib/python3.6/site-packages/sklearn/svm/base.py:244: ConvergenceWarning: Solver terminated early (max_iter=10000).  Consider pre-processing your data with StandardScaler or MinMaxScaler.\n",
      "  % self.max_iter, ConvergenceWarning)\n"
     ]
    },
    {
     "name": "stdout",
     "output_type": "stream",
     "text": [
      "svm finished training for column c=black in 116.72114562988281 seconds\n",
      "Training for c=silver\n"
     ]
    },
    {
     "name": "stderr",
     "output_type": "stream",
     "text": [
      "/nethome/jbang36/anaconda3/envs/eva_35/lib/python3.6/site-packages/sklearn/svm/base.py:244: ConvergenceWarning: Solver terminated early (max_iter=10000).  Consider pre-processing your data with StandardScaler or MinMaxScaler.\n",
      "  % self.max_iter, ConvergenceWarning)\n"
     ]
    },
    {
     "name": "stdout",
     "output_type": "stream",
     "text": [
      "svm finished training for column c=silver in 115.51524496078491 seconds\n",
      "Training for s>40\n"
     ]
    },
    {
     "name": "stderr",
     "output_type": "stream",
     "text": [
      "/nethome/jbang36/anaconda3/envs/eva_35/lib/python3.6/site-packages/sklearn/svm/base.py:244: ConvergenceWarning: Solver terminated early (max_iter=10000).  Consider pre-processing your data with StandardScaler or MinMaxScaler.\n",
      "  % self.max_iter, ConvergenceWarning)\n"
     ]
    },
    {
     "name": "stdout",
     "output_type": "stream",
     "text": [
      "svm finished training for column s>40 in 118.03374147415161 seconds\n",
      "Training for s>50\n"
     ]
    },
    {
     "name": "stderr",
     "output_type": "stream",
     "text": [
      "/nethome/jbang36/anaconda3/envs/eva_35/lib/python3.6/site-packages/sklearn/svm/base.py:244: ConvergenceWarning: Solver terminated early (max_iter=10000).  Consider pre-processing your data with StandardScaler or MinMaxScaler.\n",
      "  % self.max_iter, ConvergenceWarning)\n"
     ]
    },
    {
     "name": "stdout",
     "output_type": "stream",
     "text": [
      "svm finished training for column s>50 in 118.28098893165588 seconds\n",
      "Training for s>60\n"
     ]
    },
    {
     "name": "stderr",
     "output_type": "stream",
     "text": [
      "/nethome/jbang36/anaconda3/envs/eva_35/lib/python3.6/site-packages/sklearn/svm/base.py:244: ConvergenceWarning: Solver terminated early (max_iter=10000).  Consider pre-processing your data with StandardScaler or MinMaxScaler.\n",
      "  % self.max_iter, ConvergenceWarning)\n"
     ]
    },
    {
     "name": "stdout",
     "output_type": "stream",
     "text": [
      "svm finished training for column s>60 in 118.41672563552856 seconds\n",
      "Training for s<65\n",
      "svm finished training for column s<65 in 43.78440475463867 seconds\n",
      "Training for s<70\n",
      "svm finished training for column s<70 in 38.24957776069641 seconds\n",
      "Training for i=pt335\n"
     ]
    },
    {
     "name": "stderr",
     "output_type": "stream",
     "text": [
      "/nethome/jbang36/anaconda3/envs/eva_35/lib/python3.6/site-packages/sklearn/svm/base.py:244: ConvergenceWarning: Solver terminated early (max_iter=10000).  Consider pre-processing your data with StandardScaler or MinMaxScaler.\n",
      "  % self.max_iter, ConvergenceWarning)\n"
     ]
    },
    {
     "name": "stdout",
     "output_type": "stream",
     "text": [
      "svm finished training for column i=pt335 in 115.31072092056274 seconds\n",
      "Training for i=pt211\n"
     ]
    },
    {
     "name": "stderr",
     "output_type": "stream",
     "text": [
      "/nethome/jbang36/anaconda3/envs/eva_35/lib/python3.6/site-packages/sklearn/svm/base.py:244: ConvergenceWarning: Solver terminated early (max_iter=10000).  Consider pre-processing your data with StandardScaler or MinMaxScaler.\n",
      "  % self.max_iter, ConvergenceWarning)\n"
     ]
    },
    {
     "name": "stdout",
     "output_type": "stream",
     "text": [
      "svm finished training for column i=pt211 in 115.46149206161499 seconds\n",
      "Training for i=pt342\n"
     ]
    },
    {
     "name": "stderr",
     "output_type": "stream",
     "text": [
      "/nethome/jbang36/anaconda3/envs/eva_35/lib/python3.6/site-packages/sklearn/svm/base.py:244: ConvergenceWarning: Solver terminated early (max_iter=10000).  Consider pre-processing your data with StandardScaler or MinMaxScaler.\n",
      "  % self.max_iter, ConvergenceWarning)\n"
     ]
    },
    {
     "name": "stdout",
     "output_type": "stream",
     "text": [
      "svm finished training for column i=pt342 in 116.37458992004395 seconds\n",
      "Training for i=pt208\n"
     ]
    },
    {
     "name": "stderr",
     "output_type": "stream",
     "text": [
      "/nethome/jbang36/anaconda3/envs/eva_35/lib/python3.6/site-packages/sklearn/svm/base.py:244: ConvergenceWarning: Solver terminated early (max_iter=10000).  Consider pre-processing your data with StandardScaler or MinMaxScaler.\n",
      "  % self.max_iter, ConvergenceWarning)\n"
     ]
    },
    {
     "name": "stdout",
     "output_type": "stream",
     "text": [
      "svm finished training for column i=pt208 in 115.77801823616028 seconds\n",
      "Training for o=pt335\n"
     ]
    },
    {
     "name": "stderr",
     "output_type": "stream",
     "text": [
      "/nethome/jbang36/anaconda3/envs/eva_35/lib/python3.6/site-packages/sklearn/svm/base.py:244: ConvergenceWarning: Solver terminated early (max_iter=10000).  Consider pre-processing your data with StandardScaler or MinMaxScaler.\n",
      "  % self.max_iter, ConvergenceWarning)\n"
     ]
    },
    {
     "name": "stdout",
     "output_type": "stream",
     "text": [
      "svm finished training for column o=pt335 in 116.21943378448486 seconds\n",
      "Training for o=pt211\n"
     ]
    },
    {
     "name": "stderr",
     "output_type": "stream",
     "text": [
      "/nethome/jbang36/anaconda3/envs/eva_35/lib/python3.6/site-packages/sklearn/svm/base.py:244: ConvergenceWarning: Solver terminated early (max_iter=10000).  Consider pre-processing your data with StandardScaler or MinMaxScaler.\n",
      "  % self.max_iter, ConvergenceWarning)\n"
     ]
    },
    {
     "name": "stdout",
     "output_type": "stream",
     "text": [
      "svm finished training for column o=pt211 in 115.94611406326294 seconds\n",
      "Training for o=pt342\n"
     ]
    },
    {
     "name": "stderr",
     "output_type": "stream",
     "text": [
      "/nethome/jbang36/anaconda3/envs/eva_35/lib/python3.6/site-packages/sklearn/svm/base.py:244: ConvergenceWarning: Solver terminated early (max_iter=10000).  Consider pre-processing your data with StandardScaler or MinMaxScaler.\n",
      "  % self.max_iter, ConvergenceWarning)\n"
     ]
    },
    {
     "name": "stdout",
     "output_type": "stream",
     "text": [
      "svm finished training for column o=pt342 in 115.93923211097717 seconds\n",
      "Training for o=pt208\n"
     ]
    },
    {
     "name": "stderr",
     "output_type": "stream",
     "text": [
      "/nethome/jbang36/anaconda3/envs/eva_35/lib/python3.6/site-packages/sklearn/svm/base.py:244: ConvergenceWarning: Solver terminated early (max_iter=10000).  Consider pre-processing your data with StandardScaler or MinMaxScaler.\n",
      "  % self.max_iter, ConvergenceWarning)\n"
     ]
    },
    {
     "name": "stdout",
     "output_type": "stream",
     "text": [
      "svm finished training for column o=pt208 in 116.0228009223938 seconds\n",
      "Full Model Name: dnn using regular X_train\n",
      "dnn finished training for column t=car in 0.32308316230773926 seconds\n",
      "dnn finished training for column t=van in 5.721405506134033 seconds\n",
      "dnn finished training for column t=bus in 5.826432466506958 seconds\n",
      "dnn finished training for column t=others in 5.9103851318359375 seconds\n",
      "dnn finished training for column c=red in 0.15378570556640625 seconds\n",
      "dnn finished training for column c=white in 0.16452479362487793 seconds\n",
      "dnn finished training for column c=black in 0.1619720458984375 seconds\n",
      "dnn finished training for column c=silver in 0.1724560260772705 seconds\n",
      "dnn finished training for column s>40 in 2.9596660137176514 seconds\n",
      "dnn finished training for column s>50 in 1.8197176456451416 seconds\n",
      "dnn finished training for column s>60 in 1.8340015411376953 seconds\n",
      "dnn finished training for column s<65 in 0.20263957977294922 seconds\n",
      "dnn finished training for column s<70 in 0.20557737350463867 seconds\n",
      "dnn finished training for column i=pt335 in 0.19716954231262207 seconds\n",
      "dnn finished training for column i=pt211 in 0.16270899772644043 seconds\n",
      "dnn finished training for column i=pt342 in 0.2185823917388916 seconds\n",
      "dnn finished training for column i=pt208 in 0.21180510520935059 seconds\n",
      "dnn finished training for column o=pt335 in 0.16167545318603516 seconds\n",
      "dnn finished training for column o=pt211 in 0.18622517585754395 seconds\n",
      "dnn finished training for column o=pt342 in 0.16163182258605957 seconds\n",
      "dnn finished training for column o=pt208 in 0.17474675178527832 seconds\n",
      "Full Model Name: pca_rf using pca'd X_train\n"
     ]
    },
    {
     "name": "stderr",
     "output_type": "stream",
     "text": [
      "/nethome/jbang36/anaconda3/envs/eva_35/lib/python3.6/site-packages/sklearn/ensemble/forest.py:246: FutureWarning: The default value of n_estimators will change from 10 in version 0.20 to 100 in 0.22.\n",
      "  \"10 in version 0.20 to 100 in 0.22.\", FutureWarning)\n"
     ]
    },
    {
     "name": "stdout",
     "output_type": "stream",
     "text": [
      "rf finished training for column t=car in 0.353778600692749 seconds\n"
     ]
    },
    {
     "name": "stderr",
     "output_type": "stream",
     "text": [
      "/nethome/jbang36/anaconda3/envs/eva_35/lib/python3.6/site-packages/sklearn/ensemble/forest.py:246: FutureWarning: The default value of n_estimators will change from 10 in version 0.20 to 100 in 0.22.\n",
      "  \"10 in version 0.20 to 100 in 0.22.\", FutureWarning)\n"
     ]
    },
    {
     "name": "stdout",
     "output_type": "stream",
     "text": [
      "rf finished training for column t=van in 0.32194042205810547 seconds\n"
     ]
    },
    {
     "name": "stderr",
     "output_type": "stream",
     "text": [
      "/nethome/jbang36/anaconda3/envs/eva_35/lib/python3.6/site-packages/sklearn/ensemble/forest.py:246: FutureWarning: The default value of n_estimators will change from 10 in version 0.20 to 100 in 0.22.\n",
      "  \"10 in version 0.20 to 100 in 0.22.\", FutureWarning)\n"
     ]
    },
    {
     "name": "stdout",
     "output_type": "stream",
     "text": [
      "rf finished training for column t=bus in 0.3151869773864746 seconds\n"
     ]
    },
    {
     "name": "stderr",
     "output_type": "stream",
     "text": [
      "/nethome/jbang36/anaconda3/envs/eva_35/lib/python3.6/site-packages/sklearn/ensemble/forest.py:246: FutureWarning: The default value of n_estimators will change from 10 in version 0.20 to 100 in 0.22.\n",
      "  \"10 in version 0.20 to 100 in 0.22.\", FutureWarning)\n"
     ]
    },
    {
     "name": "stdout",
     "output_type": "stream",
     "text": [
      "rf finished training for column t=others in 0.30143094062805176 seconds\n"
     ]
    },
    {
     "name": "stderr",
     "output_type": "stream",
     "text": [
      "/nethome/jbang36/anaconda3/envs/eva_35/lib/python3.6/site-packages/sklearn/ensemble/forest.py:246: FutureWarning: The default value of n_estimators will change from 10 in version 0.20 to 100 in 0.22.\n",
      "  \"10 in version 0.20 to 100 in 0.22.\", FutureWarning)\n"
     ]
    },
    {
     "name": "stdout",
     "output_type": "stream",
     "text": [
      "rf finished training for column c=red in 0.3192427158355713 seconds\n"
     ]
    },
    {
     "name": "stderr",
     "output_type": "stream",
     "text": [
      "/nethome/jbang36/anaconda3/envs/eva_35/lib/python3.6/site-packages/sklearn/ensemble/forest.py:246: FutureWarning: The default value of n_estimators will change from 10 in version 0.20 to 100 in 0.22.\n",
      "  \"10 in version 0.20 to 100 in 0.22.\", FutureWarning)\n"
     ]
    },
    {
     "name": "stdout",
     "output_type": "stream",
     "text": [
      "rf finished training for column c=white in 0.3335762023925781 seconds\n"
     ]
    },
    {
     "name": "stderr",
     "output_type": "stream",
     "text": [
      "/nethome/jbang36/anaconda3/envs/eva_35/lib/python3.6/site-packages/sklearn/ensemble/forest.py:246: FutureWarning: The default value of n_estimators will change from 10 in version 0.20 to 100 in 0.22.\n",
      "  \"10 in version 0.20 to 100 in 0.22.\", FutureWarning)\n"
     ]
    },
    {
     "name": "stdout",
     "output_type": "stream",
     "text": [
      "rf finished training for column c=black in 0.2688424587249756 seconds\n"
     ]
    },
    {
     "name": "stderr",
     "output_type": "stream",
     "text": [
      "/nethome/jbang36/anaconda3/envs/eva_35/lib/python3.6/site-packages/sklearn/ensemble/forest.py:246: FutureWarning: The default value of n_estimators will change from 10 in version 0.20 to 100 in 0.22.\n",
      "  \"10 in version 0.20 to 100 in 0.22.\", FutureWarning)\n"
     ]
    },
    {
     "name": "stdout",
     "output_type": "stream",
     "text": [
      "rf finished training for column c=silver in 0.28440070152282715 seconds\n"
     ]
    },
    {
     "name": "stderr",
     "output_type": "stream",
     "text": [
      "/nethome/jbang36/anaconda3/envs/eva_35/lib/python3.6/site-packages/sklearn/ensemble/forest.py:246: FutureWarning: The default value of n_estimators will change from 10 in version 0.20 to 100 in 0.22.\n",
      "  \"10 in version 0.20 to 100 in 0.22.\", FutureWarning)\n"
     ]
    },
    {
     "name": "stdout",
     "output_type": "stream",
     "text": [
      "rf finished training for column s>40 in 0.31255316734313965 seconds\n"
     ]
    },
    {
     "name": "stderr",
     "output_type": "stream",
     "text": [
      "/nethome/jbang36/anaconda3/envs/eva_35/lib/python3.6/site-packages/sklearn/ensemble/forest.py:246: FutureWarning: The default value of n_estimators will change from 10 in version 0.20 to 100 in 0.22.\n",
      "  \"10 in version 0.20 to 100 in 0.22.\", FutureWarning)\n"
     ]
    },
    {
     "name": "stdout",
     "output_type": "stream",
     "text": [
      "rf finished training for column s>50 in 0.328838586807251 seconds\n"
     ]
    },
    {
     "name": "stderr",
     "output_type": "stream",
     "text": [
      "/nethome/jbang36/anaconda3/envs/eva_35/lib/python3.6/site-packages/sklearn/ensemble/forest.py:246: FutureWarning: The default value of n_estimators will change from 10 in version 0.20 to 100 in 0.22.\n",
      "  \"10 in version 0.20 to 100 in 0.22.\", FutureWarning)\n"
     ]
    },
    {
     "name": "stdout",
     "output_type": "stream",
     "text": [
      "rf finished training for column s>60 in 0.3627750873565674 seconds\n"
     ]
    },
    {
     "name": "stderr",
     "output_type": "stream",
     "text": [
      "/nethome/jbang36/anaconda3/envs/eva_35/lib/python3.6/site-packages/sklearn/ensemble/forest.py:246: FutureWarning: The default value of n_estimators will change from 10 in version 0.20 to 100 in 0.22.\n",
      "  \"10 in version 0.20 to 100 in 0.22.\", FutureWarning)\n"
     ]
    },
    {
     "name": "stdout",
     "output_type": "stream",
     "text": [
      "rf finished training for column s<65 in 0.4506099224090576 seconds\n"
     ]
    },
    {
     "name": "stderr",
     "output_type": "stream",
     "text": [
      "/nethome/jbang36/anaconda3/envs/eva_35/lib/python3.6/site-packages/sklearn/ensemble/forest.py:246: FutureWarning: The default value of n_estimators will change from 10 in version 0.20 to 100 in 0.22.\n",
      "  \"10 in version 0.20 to 100 in 0.22.\", FutureWarning)\n"
     ]
    },
    {
     "name": "stdout",
     "output_type": "stream",
     "text": [
      "rf finished training for column s<70 in 0.28363466262817383 seconds\n"
     ]
    },
    {
     "name": "stderr",
     "output_type": "stream",
     "text": [
      "/nethome/jbang36/anaconda3/envs/eva_35/lib/python3.6/site-packages/sklearn/ensemble/forest.py:246: FutureWarning: The default value of n_estimators will change from 10 in version 0.20 to 100 in 0.22.\n",
      "  \"10 in version 0.20 to 100 in 0.22.\", FutureWarning)\n"
     ]
    },
    {
     "name": "stdout",
     "output_type": "stream",
     "text": [
      "rf finished training for column i=pt335 in 0.3020029067993164 seconds\n"
     ]
    },
    {
     "name": "stderr",
     "output_type": "stream",
     "text": [
      "/nethome/jbang36/anaconda3/envs/eva_35/lib/python3.6/site-packages/sklearn/ensemble/forest.py:246: FutureWarning: The default value of n_estimators will change from 10 in version 0.20 to 100 in 0.22.\n",
      "  \"10 in version 0.20 to 100 in 0.22.\", FutureWarning)\n"
     ]
    },
    {
     "name": "stdout",
     "output_type": "stream",
     "text": [
      "rf finished training for column i=pt211 in 0.29753637313842773 seconds\n"
     ]
    },
    {
     "name": "stderr",
     "output_type": "stream",
     "text": [
      "/nethome/jbang36/anaconda3/envs/eva_35/lib/python3.6/site-packages/sklearn/ensemble/forest.py:246: FutureWarning: The default value of n_estimators will change from 10 in version 0.20 to 100 in 0.22.\n",
      "  \"10 in version 0.20 to 100 in 0.22.\", FutureWarning)\n"
     ]
    },
    {
     "name": "stdout",
     "output_type": "stream",
     "text": [
      "rf finished training for column i=pt342 in 0.26967620849609375 seconds\n"
     ]
    },
    {
     "name": "stderr",
     "output_type": "stream",
     "text": [
      "/nethome/jbang36/anaconda3/envs/eva_35/lib/python3.6/site-packages/sklearn/ensemble/forest.py:246: FutureWarning: The default value of n_estimators will change from 10 in version 0.20 to 100 in 0.22.\n",
      "  \"10 in version 0.20 to 100 in 0.22.\", FutureWarning)\n"
     ]
    },
    {
     "name": "stdout",
     "output_type": "stream",
     "text": [
      "rf finished training for column i=pt208 in 0.2600698471069336 seconds\n"
     ]
    },
    {
     "name": "stderr",
     "output_type": "stream",
     "text": [
      "/nethome/jbang36/anaconda3/envs/eva_35/lib/python3.6/site-packages/sklearn/ensemble/forest.py:246: FutureWarning: The default value of n_estimators will change from 10 in version 0.20 to 100 in 0.22.\n",
      "  \"10 in version 0.20 to 100 in 0.22.\", FutureWarning)\n"
     ]
    },
    {
     "name": "stdout",
     "output_type": "stream",
     "text": [
      "rf finished training for column o=pt335 in 0.2738161087036133 seconds\n"
     ]
    },
    {
     "name": "stderr",
     "output_type": "stream",
     "text": [
      "/nethome/jbang36/anaconda3/envs/eva_35/lib/python3.6/site-packages/sklearn/ensemble/forest.py:246: FutureWarning: The default value of n_estimators will change from 10 in version 0.20 to 100 in 0.22.\n",
      "  \"10 in version 0.20 to 100 in 0.22.\", FutureWarning)\n"
     ]
    },
    {
     "name": "stdout",
     "output_type": "stream",
     "text": [
      "rf finished training for column o=pt211 in 0.2847614288330078 seconds\n"
     ]
    },
    {
     "name": "stderr",
     "output_type": "stream",
     "text": [
      "/nethome/jbang36/anaconda3/envs/eva_35/lib/python3.6/site-packages/sklearn/ensemble/forest.py:246: FutureWarning: The default value of n_estimators will change from 10 in version 0.20 to 100 in 0.22.\n",
      "  \"10 in version 0.20 to 100 in 0.22.\", FutureWarning)\n"
     ]
    },
    {
     "name": "stdout",
     "output_type": "stream",
     "text": [
      "rf finished training for column o=pt342 in 0.3042411804199219 seconds\n"
     ]
    },
    {
     "name": "stderr",
     "output_type": "stream",
     "text": [
      "/nethome/jbang36/anaconda3/envs/eva_35/lib/python3.6/site-packages/sklearn/ensemble/forest.py:246: FutureWarning: The default value of n_estimators will change from 10 in version 0.20 to 100 in 0.22.\n",
      "  \"10 in version 0.20 to 100 in 0.22.\", FutureWarning)\n"
     ]
    },
    {
     "name": "stdout",
     "output_type": "stream",
     "text": [
      "rf finished training for column o=pt208 in 0.2812161445617676 seconds\n",
      "Done in 2149.1953716278076 seconds\n",
      "Total time to train all columns all models  2151.7856516838074 seconds\n"
     ]
    }
   ],
   "source": [
    "# Train the filters\n",
    "from filters.pp import PP\n",
    "\n",
    "pp = PP()\n",
    "start_time = time.time()\n",
    "pp.train(X_train_norm, Y_train_dict)\n",
    "print(\"Total time to train all columns all models \", time.time() - start_time, \"seconds\")"
   ]
  },
  {
   "cell_type": "code",
   "execution_count": 8,
   "metadata": {},
   "outputs": [
    {
     "name": "stdout",
     "output_type": "stream",
     "text": [
      "before: (16759, 45, 80, 1)\n",
      "After change, shape of image is (16759, 60)\n",
      "(16759, 21)\n",
      "['t=car', 't=van', 't=bus', 't=others', 'c=red', 'c=white', 'c=black', 'c=silver', 's>40', 's>50', 's>60', 's<65', 's<70', 'i=pt335', 'i=pt211', 'i=pt342', 'i=pt208', 'o=pt335', 'o=pt211', 'o=pt342', 'o=pt208']\n",
      "[[1. 0. 0. 0. 0. 1. 1. 0. 1. 1. 1. 1. 1. 1. 1. 0. 0. 1. 1. 0. 0.]\n",
      " [1. 0. 0. 0. 0. 1. 1. 0. 1. 1. 1. 1. 1. 1. 0. 1. 0. 1. 0. 1. 0.]\n",
      " [1. 0. 0. 0. 1. 1. 0. 0. 1. 1. 1. 1. 1. 0. 0. 1. 0. 0. 0. 1. 0.]\n",
      " [1. 0. 0. 0. 0. 1. 0. 1. 1. 1. 1. 1. 1. 1. 1. 0. 0. 1. 1. 0. 0.]\n",
      " [1. 0. 0. 0. 1. 1. 0. 0. 1. 1. 1. 1. 1. 1. 0. 0. 1. 1. 0. 0. 1.]\n",
      " [1. 0. 0. 0. 0. 0. 1. 0. 1. 1. 0. 1. 1. 1. 0. 0. 0. 1. 0. 0. 0.]\n",
      " [1. 0. 0. 0. 0. 1. 0. 0. 1. 1. 0. 1. 1. 0. 0. 1. 0. 0. 0. 1. 0.]\n",
      " [1. 0. 0. 0. 1. 0. 0. 0. 1. 1. 0. 1. 1. 0. 0. 0. 1. 0. 0. 0. 1.]\n",
      " [1. 0. 0. 0. 0. 1. 0. 0. 1. 1. 0. 1. 1. 0. 0. 0. 1. 0. 0. 0. 1.]\n",
      " [1. 0. 0. 0. 0. 1. 0. 0. 1. 1. 0. 1. 1. 0. 0. 1. 0. 0. 0. 1. 0.]]\n",
      "(16759, 21)\n",
      "Finished evaluation in  63.603952169418335 seconds\n"
     ]
    }
   ],
   "source": [
    "# Evaluate the filters\n",
    "pca_model = pp.trained_pre['pca']\n",
    "trained_models = pp.trained_post \n",
    "tic = time.time()\n",
    "\"\"\"\n",
    "{'t=car': {'pca_svm': SVC(C=1.0, cache_size=200, class_weight=None, coef0=0.0,\n",
    "  decision_function_shape='ovr', degree=3, gamma='auto_deprecated',\n",
    "  kernel='linear', max_iter=10000, probability=True, random_state=None,\n",
    "  shrinking=True, tol=0.001, verbose=False),\n",
    "\"\"\"\n",
    "X_test_reshaped = pp._reshape_image(X_test_norm)\n",
    "X_test_pcaed = pca_model.transform(X_test_reshaped)\n",
    "Y_names, Y_test = pp._generate_binary_labels(Y_test_dict, len(X_test_pcaed))\n",
    "\n",
    "print(Y_test.shape)\n",
    "\n",
    "stats = {}\n",
    "for Y_col, models in trained_models.items():\n",
    "    for model_name, model in models.items():\n",
    "        if 'pca' in model_name:\n",
    "            index = Y_names.index(Y_col)\n",
    "            #print(\"index is\",index)\n",
    "            #print(Y_test[:10][0])\n",
    "            #print(type(index))\n",
    "            score = model.score(X_test_pcaed, Y_test[:, index])\n",
    "            stats[Y_col + \" \" + model_name] = [score]\n",
    "        else:\n",
    "            index = Y_names.index(Y_col)\n",
    "            score = model.score(X_test_reshaped, Y_test[:, index])\n",
    "            stats[Y_col + \" \" + model_name] = [score]\n",
    "\n",
    "print(\"Finished evaluation in \", time.time() - tic, \"seconds\")"
   ]
  },
  {
   "cell_type": "code",
   "execution_count": 9,
   "metadata": {},
   "outputs": [
    {
     "name": "stdout",
     "output_type": "stream",
     "text": [
      "{'t=car pca_svm': [0.967659168208127], 't=car dnn': [0.967659168208127], 't=car pca_rf': [0.967659168208127], 't=van pca_svm': [0.5151858702786563], 't=van dnn': [0.5824929888418163], 't=van pca_rf': [0.5070708276150129], 't=bus pca_svm': [0.3473954293215586], 't=bus dnn': [0.7277283847484933], 't=bus pca_rf': [0.8156214571275135], 't=others pca_svm': [0.9331702368876424], 't=others dnn': [0.9305447819082284], 't=others pca_rf': [0.9331702368876424], 'c=red pca_svm': [0.723909541142073], 'c=red dnn': [0.7550569843069396], 'c=red pca_rf': [0.7550569843069396], 'c=white pca_svm': [0.7519541738767229], 'c=white dnn': [0.7519541738767229], 'c=white pca_rf': [0.7519541738767229], 'c=black pca_svm': [0.7494480577600096], 'c=black dnn': [0.7501640909362134], 'c=black pca_rf': [0.7501640909362134], 'c=silver pca_svm': [0.7515364878572707], 'c=silver dnn': [0.7515364878572707], 'c=silver pca_rf': [0.7515364878572707], 's>40 pca_svm': [0.8283310460051315], 's>40 dnn': [0.8152634405394117], 's>40 pca_rf': [0.8045229428963542], 's>50 pca_svm': [0.7902022793722776], 's>50 dnn': [0.8144877379318575], 's>50 pca_rf': [0.8061340175428128], 's>60 pca_svm': [0.33838534518766034], 's>60 dnn': [0.8143683990691569], 's>60 pca_rf': [0.7308908646100603], 's<65 pca_svm': [0.9668237961692225], 's<65 dnn': [0.9668237961692225], 's<65 pca_rf': [0.9668237961692225], 's<70 pca_svm': [0.9704039620502417], 's<70 dnn': [0.9704039620502417], 's<70 pca_rf': [0.9704039620502417], 'i=pt335 pca_svm': [0.7497464049167611], 'i=pt335 dnn': [0.7497464049167611], 'i=pt335 pca_rf': [0.7497464049167611], 'i=pt211 pca_svm': [0.7254012769258309], 'i=pt211 dnn': [0.7521928516021242], 'i=pt211 pca_rf': [0.7521928516021242], 'i=pt342 pca_svm': [0.6500387851303777], 'i=pt342 dnn': [0.7524911987588758], 'i=pt342 pca_rf': [0.7524911987588758], 'i=pt208 pca_svm': [0.7499254132108121], 'i=pt208 dnn': [0.7500447520735127], 'i=pt208 pca_rf': [0.7500447520735127], 'o=pt335 pca_svm': [0.7497464049167611], 'o=pt335 dnn': [0.7497464049167611], 'o=pt335 pca_rf': [0.7497464049167611], 'o=pt211 pca_svm': [0.7254012769258309], 'o=pt211 dnn': [0.7521928516021242], 'o=pt211 pca_rf': [0.7521928516021242], 'o=pt342 pca_svm': [0.6500387851303777], 'o=pt342 dnn': [0.7524911987588758], 'o=pt342 pca_rf': [0.7524911987588758], 'o=pt208 pca_svm': [0.7499254132108121], 'o=pt208 dnn': [0.7500447520735127], 'o=pt208 pca_rf': [0.7500447520735127]}\n"
     ]
    }
   ],
   "source": [
    "# convert stats dict to table\n",
    "# rows should be column name and model\n",
    "# cols should be accuracy, training_time\n",
    "\n",
    "print(stats)\n",
    "stats_arr = np.zeros(shape=(len(stats), 2))\n",
    "row_names = []\n",
    "index = 0\n",
    "for row, col in stats.items():\n",
    "    row_names.append(row)\n",
    "    stats_arr[index, 0] = col[0]\n",
    "    index += 1\n",
    "    \n",
    "for Y_col, models in pp.column_stats.items():\n",
    "    for model_name, cost in models.items():\n",
    "        row_index = row_names.index(Y_col + \" \" + model_name)\n",
    "        stats_arr[row_index, 1] = cost[0]"
   ]
  },
  {
   "cell_type": "code",
   "execution_count": 10,
   "metadata": {},
   "outputs": [
    {
     "name": "stdout",
     "output_type": "stream",
     "text": [
      "[[  0.96765917  21.71      ]\n",
      " [  0.96765917   0.32      ]\n",
      " [  0.96765917   0.5       ]\n",
      " [  0.51518587 119.78      ]\n",
      " [  0.58249299   5.72      ]\n",
      " [  0.50707083   0.47      ]\n",
      " [  0.34739543 122.41      ]\n",
      " [  0.72772838   5.83      ]\n",
      " [  0.81562146   0.47      ]\n",
      " [  0.93317024  22.55      ]\n",
      " [  0.93054478   5.91      ]\n",
      " [  0.93317024   0.45      ]\n",
      " [  0.72390954 116.81      ]\n",
      " [  0.75505698   0.15      ]\n",
      " [  0.75505698   0.47      ]\n",
      " [  0.75195417 117.32      ]\n",
      " [  0.75195417   0.16      ]\n",
      " [  0.75195417   0.48      ]\n",
      " [  0.74944806 116.87      ]\n",
      " [  0.75016409   0.16      ]\n",
      " [  0.75016409   0.42      ]\n",
      " [  0.75153649 115.67      ]\n",
      " [  0.75153649   0.17      ]\n",
      " [  0.75153649   0.43      ]\n",
      " [  0.82833105 118.18      ]\n",
      " [  0.81526344   2.96      ]\n",
      " [  0.80452294   0.46      ]\n",
      " [  0.79020228 118.43      ]\n",
      " [  0.81448774   1.82      ]\n",
      " [  0.80613402   0.48      ]\n",
      " [  0.33838535 118.57      ]\n",
      " [  0.8143684    1.83      ]\n",
      " [  0.73089086   0.51      ]\n",
      " [  0.9668238   43.93      ]\n",
      " [  0.9668238    0.2       ]\n",
      " [  0.9668238    0.6       ]\n",
      " [  0.97040396  38.4       ]\n",
      " [  0.97040396   0.21      ]\n",
      " [  0.97040396   0.43      ]\n",
      " [  0.7497464  115.46      ]\n",
      " [  0.7497464    0.2       ]\n",
      " [  0.7497464    0.45      ]\n",
      " [  0.72540128 115.61      ]\n",
      " [  0.75219285   0.16      ]\n",
      " [  0.75219285   0.45      ]\n",
      " [  0.65003879 116.52      ]\n",
      " [  0.7524912    0.22      ]\n",
      " [  0.7524912    0.42      ]\n",
      " [  0.74992541 115.93      ]\n",
      " [  0.75004475   0.21      ]\n",
      " [  0.75004475   0.41      ]\n",
      " [  0.7497464  116.37      ]\n",
      " [  0.7497464    0.16      ]\n",
      " [  0.7497464    0.42      ]\n",
      " [  0.72540128 116.1       ]\n",
      " [  0.75219285   0.19      ]\n",
      " [  0.75219285   0.43      ]\n",
      " [  0.65003879 116.09      ]\n",
      " [  0.7524912    0.16      ]\n",
      " [  0.7524912    0.45      ]\n",
      " [  0.74992541 116.17      ]\n",
      " [  0.75004475   0.17      ]\n",
      " [  0.75004475   0.43      ]]\n"
     ]
    }
   ],
   "source": [
    "print(stats_arr)"
   ]
  },
  {
   "cell_type": "code",
   "execution_count": 42,
   "metadata": {},
   "outputs": [
    {
     "name": "stdout",
     "output_type": "stream",
     "text": [
      "['t=car pca_svm', 't=car dnn', 't=car pca_rf', 't=van pca_svm', 't=van dnn', 't=van pca_rf', 't=bus pca_svm', 't=bus dnn', 't=bus pca_rf', 't=others pca_svm', 't=others dnn', 't=others pca_rf', 'c=red pca_svm', 'c=red dnn', 'c=red pca_rf', 'c=white pca_svm', 'c=white dnn', 'c=white pca_rf', 'c=black pca_svm', 'c=black dnn', 'c=black pca_rf', 'c=silver pca_svm', 'c=silver dnn', 'c=silver pca_rf', 's>40 pca_svm', 's>40 dnn', 's>40 pca_rf', 's>50 pca_svm', 's>50 dnn', 's>50 pca_rf', 's>60 pca_svm', 's>60 dnn', 's>60 pca_rf', 's<65 pca_svm', 's<65 dnn', 's<65 pca_rf', 's<70 pca_svm', 's<70 dnn', 's<70 pca_rf', 'i=pt335 pca_svm', 'i=pt335 dnn', 'i=pt335 pca_rf', 'i=pt211 pca_svm', 'i=pt211 dnn', 'i=pt211 pca_rf', 'i=pt342 pca_svm', 'i=pt342 dnn', 'i=pt342 pca_rf', 'i=pt208 pca_svm', 'i=pt208 dnn', 'i=pt208 pca_rf', 'o=pt335 pca_svm', 'o=pt335 dnn', 'o=pt335 pca_rf', 'o=pt211 pca_svm', 'o=pt211 dnn', 'o=pt211 pca_rf', 'o=pt342 pca_svm', 'o=pt342 dnn', 'o=pt342 pca_rf', 'o=pt208 pca_svm', 'o=pt208 dnn', 'o=pt208 pca_rf']\n"
     ]
    }
   ],
   "source": [
    "print(row_names)"
   ]
  },
  {
   "cell_type": "code",
   "execution_count": 11,
   "metadata": {},
   "outputs": [
    {
     "name": "stdout",
     "output_type": "stream",
     "text": [
      "Populating the interactive namespace from numpy and matplotlib\n"
     ]
    },
    {
     "name": "stderr",
     "output_type": "stream",
     "text": [
      "/nethome/jbang36/anaconda3/envs/eva_35/lib/python3.6/site-packages/IPython/core/magics/pylab.py:160: UserWarning: pylab import has clobbered these variables: ['load']\n",
      "`%matplotlib` prevents importing * from pylab and numpy\n",
      "  \"\\n`%matplotlib` prevents importing * from pylab and numpy\"\n",
      "Using TensorFlow backend.\n"
     ]
    }
   ],
   "source": [
    "# Now cluster the data\n",
    "\n",
    "%pylab inline\n",
    "import os\n",
    "import keras\n",
    "import cv2\n",
    "import time\n",
    "import numpy as np\n",
    "import pandas as pd\n",
    "import keras.backend as K\n",
    "import tensorflow as tf\n",
    "\n",
    "import sklearn.metrics as metrics\n",
    "\n",
    "from keras import callbacks\n",
    "from keras.models import Model\n",
    "from keras.optimizers import SGD\n",
    "from keras.initializers import VarianceScaling\n",
    "from keras.engine.topology import Layer, InputSpec\n",
    "from keras.layers import Input, Dense, Conv2D, MaxPooling2D, Conv2DTranspose, Flatten,Reshape, UpSampling2D, Cropping2D\n",
    "from keras.callbacks import ModelCheckpoint, EarlyStopping"
   ]
  },
  {
   "cell_type": "code",
   "execution_count": 12,
   "metadata": {},
   "outputs": [
    {
     "name": "stdout",
     "output_type": "stream",
     "text": [
      "(540, 960, 1)\n",
      "(540, 960)\n",
      "(540, 960)\n"
     ]
    },
    {
     "data": {
      "text/plain": [
       "<matplotlib.image.AxesImage at 0x7fe7cf2ae2e8>"
      ]
     },
     "execution_count": 12,
     "metadata": {},
     "output_type": "execute_result"
    },
    {
     "data": {
      "image/png": "[encoded data removed]",
      "text/plain": [
       "<Figure size 432x288 with 1 Axes>"
      ]
     },
     "metadata": {
      "needs_background": "light"
     },
     "output_type": "display_data"
    }
   ],
   "source": [
    "import matplotlib.pyplot as plt\n",
    "import random\n",
    "image_index = random.randint(0,100) # You may select anything up to 60,000\n",
    "print(X_train[image_index].shape)\n",
    "\n",
    "example = X_train[image_index]\n",
    "width, height, channels = example.shape\n",
    "example = np.squeeze(example)\n",
    "print(np.squeeze(example).shape)\n",
    "print(example.shape)\n",
    "\n",
    "plt.imshow(example, cmap='Greys')"
   ]
  },
  {
   "cell_type": "code",
   "execution_count": 13,
   "metadata": {},
   "outputs": [],
   "source": [
    "\n",
    "keras.backend.clear_session()\n",
    "os.environ[\"CUDA_VISIBLE_DEVICES\"]=\"0\""
   ]
  },
  {
   "cell_type": "code",
   "execution_count": 14,
   "metadata": {},
   "outputs": [],
   "source": [
    "n_samples1, width1, height1, channels1 = X_train_norm.shape\n",
    "n_samples2, width2, height2, channels2 = X_test_norm.shape\n",
    "\n",
    "assert(width1 == width2)\n",
    "assert(height1 == height2)\n",
    "assert(channels1 == channels2)"
   ]
  },
  {
   "cell_type": "code",
   "execution_count": 15,
   "metadata": {},
   "outputs": [
    {
     "name": "stdout",
     "output_type": "stream",
     "text": [
      "_________________________________________________________________\n",
      "Layer (type)                 Output Shape              Param #   \n",
      "=================================================================\n",
      "input_1 (InputLayer)         (None, 45, 80, 1)         0         \n",
      "_________________________________________________________________\n",
      "conv2d_1 (Conv2D)            (None, 45, 80, 8)         80        \n",
      "_________________________________________________________________\n",
      "conv2d_2 (Conv2D)            (None, 45, 80, 8)         584       \n",
      "_________________________________________________________________\n",
      "max_pooling2d_1 (MaxPooling2 (None, 23, 40, 8)         0         \n",
      "_________________________________________________________________\n",
      "conv2d_3 (Conv2D)            (None, 23, 40, 16)        1168      \n",
      "_________________________________________________________________\n",
      "conv2d_4 (Conv2D)            (None, 23, 40, 16)        2320      \n",
      "_________________________________________________________________\n",
      "max_pooling2d_2 (MaxPooling2 (None, 12, 20, 16)        0         \n",
      "_________________________________________________________________\n",
      "flatten_1 (Flatten)          (None, 3840)              0         \n",
      "_________________________________________________________________\n",
      "dense_1 (Dense)              (None, 256)               983296    \n",
      "_________________________________________________________________\n",
      "dense_2 (Dense)              (None, 3840)              986880    \n",
      "_________________________________________________________________\n",
      "reshape_1 (Reshape)          (None, 12, 20, 16)        0         \n",
      "_________________________________________________________________\n",
      "up_sampling2d_1 (UpSampling2 (None, 24, 40, 16)        0         \n",
      "_________________________________________________________________\n",
      "conv2d_5 (Conv2D)            (None, 24, 40, 16)        2320      \n",
      "_________________________________________________________________\n",
      "conv2d_6 (Conv2D)            (None, 24, 40, 16)        2320      \n",
      "_________________________________________________________________\n",
      "up_sampling2d_2 (UpSampling2 (None, 48, 80, 16)        0         \n",
      "_________________________________________________________________\n",
      "conv2d_7 (Conv2D)            (None, 48, 80, 8)         1160      \n",
      "_________________________________________________________________\n",
      "conv2d_8 (Conv2D)            (None, 48, 80, 1)         73        \n",
      "_________________________________________________________________\n",
      "cropping2d_1 (Cropping2D)    (None, 45, 80, 1)         0         \n",
      "=================================================================\n",
      "Total params: 1,980,201\n",
      "Trainable params: 1,980,201\n",
      "Non-trainable params: 0\n",
      "_________________________________________________________________\n"
     ]
    }
   ],
   "source": [
    "# Combined network with both FC and CNN layers\n",
    "\n",
    "n_samples, width, height, channels = X_train_norm.shape\n",
    "# Input\n",
    "input_img = Input(shape=(width, height, 1))\n",
    "# Encoder\n",
    "x = Conv2D(8,(3,3),\n",
    "           activation='relu',\n",
    "           padding='same')(input_img)\n",
    "x = Conv2D(8,(3,3),\n",
    "           activation='relu',\n",
    "           padding='same')(x)\n",
    "x = MaxPooling2D((2,2),\n",
    "                 padding='same')(x) \n",
    "x = Conv2D(16,(3,3),\n",
    "           activation='relu',\n",
    "           padding='same')(x)\n",
    "x = Conv2D(16,(3,3),\n",
    "           activation='relu',\n",
    "           padding='same')(x)\n",
    "x = MaxPooling2D((2,2),\n",
    "                 padding='same')(x) # Size \n",
    "x = Flatten()(x)\n",
    "encoded = Dense(256)(x)\n",
    "# Decoder\n",
    "x = Dense(3840)(encoded)\n",
    "x = Reshape((12, 20, 16))(x)\n",
    "x = UpSampling2D((2, 2))(x) # 24, 40, 16\n",
    "x = Conv2D(16, (3, 3),\n",
    "           activation='relu',\n",
    "           padding='same')(x)\n",
    "x = Conv2D(16, (3, 3),\n",
    "           activation='relu',\n",
    "           padding='same')(x)\n",
    "x = UpSampling2D((2, 2))(x)  # Size 48, 80, 16\n",
    "x = Conv2D(8, (3, 3),\n",
    "           activation='relu',\n",
    "           padding='same')(x)\n",
    "x = Conv2D(1, (3, 3),\n",
    "           activation='relu',\n",
    "           padding='same')(x)\n",
    "\n",
    "decoded = Cropping2D(cropping=((2,1),(0,0)),\n",
    "               data_format='channels_last')(x) # size 45, 80, 16\n",
    "\n",
    "\n",
    "autoencoder = Model(input_img, decoded)\n",
    "\n",
    "encoder = Model(input_img, encoded)\n",
    "\n",
    "autoencoder.compile(optimizer='adam', loss='mse')\n",
    "\n",
    "autoencoder.summary()"
   ]
  },
  {
   "cell_type": "code",
   "execution_count": 16,
   "metadata": {
    "scrolled": true
   },
   "outputs": [
    {
     "name": "stdout",
     "output_type": "stream",
     "text": [
      "Train on 67032 samples, validate on 16759 samples\n",
      "Epoch 1/200\n",
      "67032/67032 [==============================] - 16s 234us/step - loss: 0.0630 - val_loss: 0.0290\n",
      "Epoch 2/200\n",
      "67032/67032 [==============================] - 10s 145us/step - loss: 0.0270 - val_loss: 0.0259\n",
      "Epoch 3/200\n",
      "67032/67032 [==============================] - 10s 147us/step - loss: 0.0237 - val_loss: 0.0228\n",
      "Epoch 4/200\n",
      "67032/67032 [==============================] - 10s 143us/step - loss: 0.0189 - val_loss: 0.0208\n",
      "Epoch 5/200\n",
      "67032/67032 [==============================] - 9s 131us/step - loss: 0.0166 - val_loss: 0.0201\n",
      "Epoch 6/200\n",
      "67032/67032 [==============================] - 9s 139us/step - loss: 0.0152 - val_loss: 0.0191\n",
      "Epoch 7/200\n",
      "67032/67032 [==============================] - 9s 133us/step - loss: 0.0143 - val_loss: 0.0182\n",
      "Epoch 8/200\n",
      "67032/67032 [==============================] - 9s 137us/step - loss: 0.0136 - val_loss: 0.0181\n",
      "Epoch 9/200\n",
      "67032/67032 [==============================] - 9s 130us/step - loss: 0.0131 - val_loss: 0.0173\n",
      "Epoch 10/200\n",
      "67032/67032 [==============================] - 9s 140us/step - loss: 0.0127 - val_loss: 0.0169\n",
      "Epoch 11/200\n",
      "67032/67032 [==============================] - 9s 130us/step - loss: 0.0122 - val_loss: 0.0166\n",
      "Epoch 12/200\n",
      "67032/67032 [==============================] - 9s 140us/step - loss: 0.0120 - val_loss: 0.0164\n",
      "Epoch 13/200\n",
      "67032/67032 [==============================] - 9s 133us/step - loss: 0.0121 - val_loss: 0.0168\n",
      "Epoch 14/200\n",
      "67032/67032 [==============================] - 9s 139us/step - loss: 0.0114 - val_loss: 0.0159\n",
      "Epoch 15/200\n",
      "67032/67032 [==============================] - 9s 135us/step - loss: 0.0111 - val_loss: 0.0154\n",
      "Epoch 16/200\n",
      "67032/67032 [==============================] - 9s 136us/step - loss: 0.0112 - val_loss: 0.0154\n",
      "Epoch 17/200\n",
      "67032/67032 [==============================] - 9s 134us/step - loss: 0.0108 - val_loss: 0.0150\n",
      "Epoch 18/200\n",
      "67032/67032 [==============================] - 9s 133us/step - loss: 0.0111 - val_loss: 0.0152\n",
      "Epoch 19/200\n",
      "67032/67032 [==============================] - 9s 139us/step - loss: 0.0105 - val_loss: 0.0149\n",
      "Epoch 20/200\n",
      "67032/67032 [==============================] - 9s 132us/step - loss: 0.0103 - val_loss: 0.0147\n",
      "Epoch 21/200\n",
      "67032/67032 [==============================] - 9s 140us/step - loss: 0.0102 - val_loss: 0.0146\n",
      "Epoch 22/200\n",
      "67032/67032 [==============================] - 9s 130us/step - loss: 0.0102 - val_loss: 0.0143\n",
      "Epoch 23/200\n",
      "67032/67032 [==============================] - 9s 132us/step - loss: 0.0099 - val_loss: 0.0144\n",
      "Epoch 24/200\n",
      "67032/67032 [==============================] - 9s 139us/step - loss: 0.0101 - val_loss: 0.0141\n",
      "Epoch 25/200\n",
      "67032/67032 [==============================] - 9s 132us/step - loss: 0.0097 - val_loss: 0.0139\n",
      "Epoch 26/200\n",
      "67032/67032 [==============================] - 9s 133us/step - loss: 0.0097 - val_loss: 0.0141\n",
      "Epoch 27/200\n",
      "67032/67032 [==============================] - 9s 138us/step - loss: 0.0096 - val_loss: 0.0138\n",
      "Epoch 28/200\n",
      "67032/67032 [==============================] - 9s 129us/step - loss: 0.0094 - val_loss: 0.0139\n",
      "Epoch 29/200\n",
      "67032/67032 [==============================] - 9s 141us/step - loss: 0.0096 - val_loss: 0.0137\n",
      "Epoch 30/200\n",
      "67032/67032 [==============================] - 9s 131us/step - loss: 0.0092 - val_loss: 0.0134\n",
      "Epoch 31/200\n",
      "67032/67032 [==============================] - 9s 131us/step - loss: 0.0092 - val_loss: 0.0135\n",
      "Epoch 32/200\n",
      "67032/67032 [==============================] - 9s 138us/step - loss: 0.0091 - val_loss: 0.0133\n",
      "Epoch 33/200\n",
      "67032/67032 [==============================] - 9s 134us/step - loss: 0.0090 - val_loss: 0.0131\n",
      "Epoch 34/200\n",
      "67032/67032 [==============================] - 9s 131us/step - loss: 0.0089 - val_loss: 0.0130\n",
      "Epoch 35/200\n",
      "67032/67032 [==============================] - 10s 142us/step - loss: 0.0089 - val_loss: 0.0131\n",
      "Epoch 36/200\n",
      "67032/67032 [==============================] - 9s 130us/step - loss: 0.0088 - val_loss: 0.0131\n",
      "Epoch 37/200\n",
      "67032/67032 [==============================] - 9s 136us/step - loss: 0.0088 - val_loss: 0.0130\n",
      "Epoch 38/200\n",
      "67032/67032 [==============================] - 9s 136us/step - loss: 0.0087 - val_loss: 0.0131\n",
      "Epoch 39/200\n",
      "67032/67032 [==============================] - 9s 132us/step - loss: 0.0087 - val_loss: 0.0129\n",
      "Epoch 40/200\n",
      "67032/67032 [==============================] - 9s 137us/step - loss: 0.0086 - val_loss: 0.0128\n",
      "Epoch 41/200\n",
      "67032/67032 [==============================] - 9s 134us/step - loss: 0.0085 - val_loss: 0.0128\n",
      "Epoch 42/200\n",
      "67032/67032 [==============================] - 9s 130us/step - loss: 0.0085 - val_loss: 0.0128\n",
      "Epoch 43/200\n",
      "67032/67032 [==============================] - 9s 140us/step - loss: 0.0084 - val_loss: 0.0133\n",
      "Epoch 44/200\n",
      "67032/67032 [==============================] - 9s 131us/step - loss: 0.0085 - val_loss: 0.0127\n",
      "Epoch 45/200\n",
      "67032/67032 [==============================] - 9s 135us/step - loss: 0.0083 - val_loss: 0.0126\n",
      "Epoch 46/200\n",
      "67032/67032 [==============================] - 9s 135us/step - loss: 0.0082 - val_loss: 0.0125\n",
      "Epoch 47/200\n",
      "67032/67032 [==============================] - 9s 131us/step - loss: 0.0084 - val_loss: 0.0127\n",
      "Epoch 48/200\n",
      "67032/67032 [==============================] - 9s 139us/step - loss: 0.0081 - val_loss: 0.0124\n",
      "Epoch 49/200\n",
      "67032/67032 [==============================] - 9s 129us/step - loss: 0.0082 - val_loss: 0.0124\n",
      "Epoch 50/200\n",
      "67032/67032 [==============================] - 9s 137us/step - loss: 0.0080 - val_loss: 0.0124\n",
      "Epoch 51/200\n",
      "67032/67032 [==============================] - 9s 133us/step - loss: 0.0081 - val_loss: 0.0124\n",
      "Epoch 52/200\n",
      "67032/67032 [==============================] - 9s 129us/step - loss: 0.0081 - val_loss: 0.0124\n",
      "Epoch 53/200\n",
      "67032/67032 [==============================] - 9s 138us/step - loss: 0.0079 - val_loss: 0.0123\n",
      "Epoch 54/200\n",
      "67032/67032 [==============================] - 9s 134us/step - loss: 0.0080 - val_loss: 0.0125\n",
      "Epoch 55/200\n",
      "67032/67032 [==============================] - 9s 132us/step - loss: 0.0078 - val_loss: 0.0124\n",
      "Epoch 56/200\n",
      "67032/67032 [==============================] - 10s 142us/step - loss: 0.0079 - val_loss: 0.0123\n",
      "Epoch 57/200\n",
      "67032/67032 [==============================] - 9s 132us/step - loss: 0.0078 - val_loss: 0.0124\n",
      "Epoch 58/200\n",
      "67032/67032 [==============================] - 9s 135us/step - loss: 0.0078 - val_loss: 0.0122\n",
      "Epoch 59/200\n",
      "67032/67032 [==============================] - 9s 139us/step - loss: 0.0077 - val_loss: 0.0122\n",
      "Epoch 60/200\n",
      "67032/67032 [==============================] - 9s 132us/step - loss: 0.0078 - val_loss: 0.0122\n",
      "Epoch 61/200\n",
      "67032/67032 [==============================] - 9s 141us/step - loss: 0.0078 - val_loss: 0.0123\n",
      "Epoch 62/200\n",
      "67032/67032 [==============================] - 9s 131us/step - loss: 0.0076 - val_loss: 0.0122\n",
      "Epoch 63/200\n",
      "67032/67032 [==============================] - 9s 135us/step - loss: 0.0076 - val_loss: 0.0145\n",
      "Epoch 64/200\n",
      "67032/67032 [==============================] - 9s 139us/step - loss: 0.0077 - val_loss: 0.0123\n",
      "Epoch 65/200\n",
      "67032/67032 [==============================] - 9s 131us/step - loss: 0.0075 - val_loss: 0.0120\n",
      "Epoch 66/200\n",
      "67032/67032 [==============================] - 9s 138us/step - loss: 0.0076 - val_loss: 0.0121\n",
      "Epoch 67/200\n",
      "67032/67032 [==============================] - 9s 135us/step - loss: 0.0075 - val_loss: 0.0121\n",
      "Epoch 68/200\n",
      "67032/67032 [==============================] - 9s 132us/step - loss: 0.0075 - val_loss: 0.0120\n",
      "Epoch 69/200\n",
      "67032/67032 [==============================] - 10s 142us/step - loss: 0.0074 - val_loss: 0.0125\n",
      "Epoch 70/200\n",
      "67032/67032 [==============================] - 9s 130us/step - loss: 0.0075 - val_loss: 0.0121\n",
      "Epoch 71/200\n",
      "67032/67032 [==============================] - 9s 139us/step - loss: 0.0074 - val_loss: 0.0120\n",
      "Epoch 72/200\n",
      "67032/67032 [==============================] - 9s 133us/step - loss: 0.0074 - val_loss: 0.0120\n",
      "Epoch 73/200\n",
      "67032/67032 [==============================] - 9s 132us/step - loss: 0.0075 - val_loss: 0.0122\n",
      "Epoch 74/200\n",
      "67032/67032 [==============================] - 9s 140us/step - loss: 0.0073 - val_loss: 0.0120\n",
      "Epoch 75/200\n",
      "67032/67032 [==============================] - 9s 132us/step - loss: 0.0074 - val_loss: 0.0122\n",
      "Epoch 76/200\n"
     ]
    },
    {
     "name": "stdout",
     "output_type": "stream",
     "text": [
      "67032/67032 [==============================] - 9s 133us/step - loss: 0.0073 - val_loss: 0.0121\n",
      "Epoch 77/200\n",
      "67032/67032 [==============================] - 9s 139us/step - loss: 0.0072 - val_loss: 0.0119\n",
      "Epoch 78/200\n",
      "67032/67032 [==============================] - 9s 130us/step - loss: 0.0072 - val_loss: 0.0122\n",
      "Epoch 79/200\n",
      "67032/67032 [==============================] - 10s 143us/step - loss: 0.0072 - val_loss: 0.0119\n",
      "Epoch 80/200\n",
      "67032/67032 [==============================] - 9s 132us/step - loss: 0.0072 - val_loss: 0.0119\n",
      "Epoch 81/200\n",
      "67032/67032 [==============================] - 9s 136us/step - loss: 0.0072 - val_loss: 0.0119\n",
      "Epoch 82/200\n",
      "67032/67032 [==============================] - 9s 136us/step - loss: 0.0071 - val_loss: 0.0119\n",
      "Epoch 83/200\n",
      "67032/67032 [==============================] - 9s 133us/step - loss: 0.0072 - val_loss: 0.0120\n",
      "Epoch 84/200\n",
      "67032/67032 [==============================] - 9s 140us/step - loss: 0.0071 - val_loss: 0.0119\n",
      "Epoch 85/200\n",
      "67032/67032 [==============================] - 9s 132us/step - loss: 0.0071 - val_loss: 0.0119\n",
      "Epoch 86/200\n",
      "67032/67032 [==============================] - 9s 134us/step - loss: 0.0071 - val_loss: 0.0119\n",
      "Epoch 87/200\n",
      "67032/67032 [==============================] - 9s 140us/step - loss: 0.0070 - val_loss: 0.0118\n",
      "Epoch 88/200\n",
      "67032/67032 [==============================] - 9s 131us/step - loss: 0.0071 - val_loss: 0.0120\n",
      "Epoch 89/200\n",
      "67032/67032 [==============================] - 9s 139us/step - loss: 0.0069 - val_loss: 0.0119\n",
      "Epoch 90/200\n",
      "67032/67032 [==============================] - 9s 135us/step - loss: 0.0070 - val_loss: 0.0121\n",
      "Epoch 91/200\n",
      "67032/67032 [==============================] - 9s 133us/step - loss: 0.0069 - val_loss: 0.0118\n",
      "Epoch 92/200\n",
      "67032/67032 [==============================] - 9s 137us/step - loss: 0.0069 - val_loss: 0.0118\n",
      "Epoch 93/200\n",
      "67032/67032 [==============================] - 9s 130us/step - loss: 0.0071 - val_loss: 0.0121\n",
      "Epoch 94/200\n",
      "67032/67032 [==============================] - 9s 139us/step - loss: 0.0069 - val_loss: 0.0118\n",
      "Epoch 95/200\n",
      "67032/67032 [==============================] - 9s 130us/step - loss: 0.0069 - val_loss: 0.0120\n",
      "Epoch 96/200\n",
      "67032/67032 [==============================] - 9s 129us/step - loss: 0.0068 - val_loss: 0.0119\n",
      "Epoch 97/200\n",
      "67032/67032 [==============================] - 9s 138us/step - loss: 0.0068 - val_loss: 0.0120\n",
      "Epoch 98/200\n",
      "67032/67032 [==============================] - 9s 135us/step - loss: 0.0068 - val_loss: 0.0119\n",
      "Epoch 99/200\n",
      "67032/67032 [==============================] - 9s 137us/step - loss: 0.0068 - val_loss: 0.0118\n",
      "Epoch 100/200\n",
      "67032/67032 [==============================] - 9s 140us/step - loss: 0.0068 - val_loss: 0.0118\n",
      "Epoch 101/200\n",
      "67032/67032 [==============================] - 9s 133us/step - loss: 0.0068 - val_loss: 0.0119\n",
      "Epoch 102/200\n",
      "67032/67032 [==============================] - 9s 139us/step - loss: 0.0068 - val_loss: 0.0119\n",
      "Epoch 103/200\n",
      "67032/67032 [==============================] - 9s 132us/step - loss: 0.0067 - val_loss: 0.0122\n",
      "Epoch 104/200\n",
      "67032/67032 [==============================] - 9s 132us/step - loss: 0.0067 - val_loss: 0.0120\n",
      "Epoch 105/200\n",
      "67032/67032 [==============================] - 9s 139us/step - loss: 0.0067 - val_loss: 0.0117\n",
      "Epoch 106/200\n",
      "67032/67032 [==============================] - 9s 132us/step - loss: 0.0067 - val_loss: 0.0118\n",
      "Epoch 107/200\n",
      "67032/67032 [==============================] - 9s 136us/step - loss: 0.0067 - val_loss: 0.0118\n",
      "Epoch 108/200\n",
      "67032/67032 [==============================] - 9s 135us/step - loss: 0.0066 - val_loss: 0.0120\n",
      "Epoch 109/200\n",
      "67032/67032 [==============================] - 9s 132us/step - loss: 0.0066 - val_loss: 0.0121\n",
      "Epoch 110/200\n",
      "67032/67032 [==============================] - 9s 140us/step - loss: 0.0066 - val_loss: 0.0117\n",
      "Epoch 111/200\n",
      "67032/67032 [==============================] - 9s 132us/step - loss: 0.0066 - val_loss: 0.0118\n",
      "Epoch 112/200\n",
      "67032/67032 [==============================] - 9s 133us/step - loss: 0.0067 - val_loss: 0.0117\n",
      "Epoch 113/200\n",
      "67032/67032 [==============================] - 9s 141us/step - loss: 0.0065 - val_loss: 0.0117\n",
      "Epoch 114/200\n",
      "67032/67032 [==============================] - 9s 130us/step - loss: 0.0065 - val_loss: 0.0117\n",
      "Epoch 115/200\n",
      "67032/67032 [==============================] - 9s 136us/step - loss: 0.0066 - val_loss: 0.0118\n",
      "Epoch 116/200\n",
      "67032/67032 [==============================] - 9s 136us/step - loss: 0.0065 - val_loss: 0.0120\n",
      "Epoch 117/200\n",
      "67032/67032 [==============================] - 9s 132us/step - loss: 0.0067 - val_loss: 0.0118\n",
      "Epoch 118/200\n",
      "67032/67032 [==============================] - 9s 141us/step - loss: 0.0064 - val_loss: 0.0118\n",
      "Epoch 119/200\n",
      "67032/67032 [==============================] - 9s 133us/step - loss: 0.0065 - val_loss: 0.0117\n",
      "Epoch 120/200\n",
      "67032/67032 [==============================] - 9s 138us/step - loss: 0.0065 - val_loss: 0.0117\n",
      "Epoch 121/200\n",
      "67032/67032 [==============================] - 9s 135us/step - loss: 0.0065 - val_loss: 0.0119\n",
      "Epoch 122/200\n",
      "67032/67032 [==============================] - 9s 129us/step - loss: 0.0064 - val_loss: 0.0118\n",
      "Epoch 123/200\n",
      "67032/67032 [==============================] - 9s 142us/step - loss: 0.0064 - val_loss: 0.0118\n",
      "Epoch 124/200\n",
      "67032/67032 [==============================] - 9s 130us/step - loss: 0.0064 - val_loss: 0.0118\n",
      "Epoch 125/200\n",
      "67032/67032 [==============================] - 9s 135us/step - loss: 0.0064 - val_loss: 0.0117\n",
      "Epoch 126/200\n",
      "67032/67032 [==============================] - 9s 137us/step - loss: 0.0064 - val_loss: 0.0117\n",
      "Epoch 127/200\n",
      "67032/67032 [==============================] - 9s 133us/step - loss: 0.0064 - val_loss: 0.0117\n",
      "Epoch 128/200\n",
      "67032/67032 [==============================] - 9s 138us/step - loss: 0.0063 - val_loss: 0.0118\n",
      "Epoch 129/200\n",
      "67032/67032 [==============================] - 9s 135us/step - loss: 0.0063 - val_loss: 0.0117\n",
      "Epoch 130/200\n",
      "67032/67032 [==============================] - 9s 131us/step - loss: 0.0064 - val_loss: 0.0117\n",
      "Epoch 131/200\n",
      "67032/67032 [==============================] - 9s 140us/step - loss: 0.0064 - val_loss: 0.0120\n",
      "Epoch 132/200\n",
      "67032/67032 [==============================] - 9s 129us/step - loss: 0.0063 - val_loss: 0.0117\n",
      "Epoch 133/200\n",
      "67032/67032 [==============================] - 9s 138us/step - loss: 0.0063 - val_loss: 0.0117\n",
      "Epoch 134/200\n",
      "67032/67032 [==============================] - 9s 131us/step - loss: 0.0063 - val_loss: 0.0123\n",
      "Epoch 135/200\n",
      "67032/67032 [==============================] - 9s 129us/step - loss: 0.0063 - val_loss: 0.0118\n",
      "Epoch 136/200\n",
      "67032/67032 [==============================] - 9s 135us/step - loss: 0.0062 - val_loss: 0.0119\n",
      "Epoch 137/200\n",
      "67032/67032 [==============================] - 9s 134us/step - loss: 0.0063 - val_loss: 0.0117\n",
      "Epoch 138/200\n",
      "67032/67032 [==============================] - 9s 139us/step - loss: 0.0062 - val_loss: 0.0117\n",
      "Epoch 139/200\n",
      "67032/67032 [==============================] - 9s 132us/step - loss: 0.0062 - val_loss: 0.0119\n",
      "Epoch 140/200\n",
      "67032/67032 [==============================] - 9s 133us/step - loss: 0.0063 - val_loss: 0.0118\n",
      "Epoch 141/200\n",
      "67032/67032 [==============================] - 9s 138us/step - loss: 0.0062 - val_loss: 0.0116\n",
      "Epoch 142/200\n",
      "67032/67032 [==============================] - 9s 131us/step - loss: 0.0062 - val_loss: 0.0117\n",
      "Epoch 143/200\n",
      "67032/67032 [==============================] - 9s 140us/step - loss: 0.0062 - val_loss: 0.0116\n",
      "Epoch 144/200\n",
      "67032/67032 [==============================] - 9s 130us/step - loss: 0.0062 - val_loss: 0.0117\n",
      "Epoch 145/200\n",
      "67032/67032 [==============================] - 9s 130us/step - loss: 0.0061 - val_loss: 0.0117\n",
      "Epoch 146/200\n",
      "67032/67032 [==============================] - 9s 139us/step - loss: 0.0062 - val_loss: 0.0116\n",
      "Epoch 147/200\n",
      "67032/67032 [==============================] - 9s 129us/step - loss: 0.0061 - val_loss: 0.0117\n",
      "Epoch 148/200\n",
      "67032/67032 [==============================] - 9s 136us/step - loss: 0.0062 - val_loss: 0.0116\n",
      "Epoch 149/200\n",
      "67032/67032 [==============================] - 9s 138us/step - loss: 0.0061 - val_loss: 0.0116\n",
      "Epoch 150/200\n",
      "67032/67032 [==============================] - 9s 133us/step - loss: 0.0061 - val_loss: 0.0116\n",
      "Epoch 151/200\n"
     ]
    },
    {
     "name": "stdout",
     "output_type": "stream",
     "text": [
      "67032/67032 [==============================] - 10s 142us/step - loss: 0.0061 - val_loss: 0.0118\n",
      "Epoch 152/200\n",
      "67032/67032 [==============================] - 9s 135us/step - loss: 0.0062 - val_loss: 0.0123\n",
      "Epoch 153/200\n",
      "67032/67032 [==============================] - 9s 135us/step - loss: 0.0062 - val_loss: 0.0119\n",
      "Epoch 154/200\n",
      "67032/67032 [==============================] - 9s 137us/step - loss: 0.0060 - val_loss: 0.0117\n",
      "Epoch 155/200\n",
      "67032/67032 [==============================] - 9s 130us/step - loss: 0.0060 - val_loss: 0.0117\n",
      "Epoch 156/200\n",
      "67032/67032 [==============================] - 10s 143us/step - loss: 0.0061 - val_loss: 0.0117\n",
      "Epoch 157/200\n",
      "67032/67032 [==============================] - 9s 132us/step - loss: 0.0060 - val_loss: 0.0116\n",
      "Epoch 158/200\n",
      "67032/67032 [==============================] - 9s 138us/step - loss: 0.0060 - val_loss: 0.0117\n",
      "Epoch 159/200\n",
      "67032/67032 [==============================] - 9s 135us/step - loss: 0.0061 - val_loss: 0.0119\n",
      "Epoch 160/200\n",
      "67032/67032 [==============================] - 9s 132us/step - loss: 0.0060 - val_loss: 0.0117\n",
      "Epoch 161/200\n",
      "67032/67032 [==============================] - 9s 135us/step - loss: 0.0061 - val_loss: 0.0117\n",
      "Epoch 162/200\n",
      "67032/67032 [==============================] - 9s 138us/step - loss: 0.0060 - val_loss: 0.0116\n",
      "Epoch 163/200\n",
      "67032/67032 [==============================] - 9s 132us/step - loss: 0.0060 - val_loss: 0.0117\n",
      "Epoch 164/200\n",
      "67032/67032 [==============================] - 9s 141us/step - loss: 0.0060 - val_loss: 0.0118\n",
      "Epoch 165/200\n",
      "67032/67032 [==============================] - 9s 132us/step - loss: 0.0060 - val_loss: 0.0121\n",
      "Epoch 166/200\n",
      "67032/67032 [==============================] - 9s 132us/step - loss: 0.0060 - val_loss: 0.0117\n",
      "Epoch 167/200\n",
      "67032/67032 [==============================] - 9s 141us/step - loss: 0.0060 - val_loss: 0.0117\n",
      "Epoch 168/200\n",
      "67032/67032 [==============================] - 9s 132us/step - loss: 0.0059 - val_loss: 0.0116\n",
      "Epoch 169/200\n",
      "67032/67032 [==============================] - 9s 136us/step - loss: 0.0060 - val_loss: 0.0118\n",
      "Epoch 170/200\n",
      "67032/67032 [==============================] - 9s 138us/step - loss: 0.0060 - val_loss: 0.0117\n",
      "Epoch 171/200\n",
      "67032/67032 [==============================] - 9s 130us/step - loss: 0.0059 - val_loss: 0.0116\n",
      "Epoch 172/200\n",
      "67032/67032 [==============================] - 10s 142us/step - loss: 0.0059 - val_loss: 0.0116\n",
      "Epoch 173/200\n",
      "67032/67032 [==============================] - 9s 131us/step - loss: 0.0060 - val_loss: 0.0116\n",
      "Epoch 174/200\n",
      "67032/67032 [==============================] - 9s 140us/step - loss: 0.0059 - val_loss: 0.0118\n",
      "Epoch 175/200\n",
      "67032/67032 [==============================] - 9s 136us/step - loss: 0.0059 - val_loss: 0.0118\n",
      "Epoch 176/200\n",
      "67032/67032 [==============================] - 9s 132us/step - loss: 0.0059 - val_loss: 0.0116\n",
      "Epoch 177/200\n",
      "67032/67032 [==============================] - 9s 137us/step - loss: 0.0059 - val_loss: 0.0117\n",
      "Epoch 178/200\n",
      "67032/67032 [==============================] - 9s 135us/step - loss: 0.0059 - val_loss: 0.0118\n",
      "Epoch 179/200\n",
      "67032/67032 [==============================] - 9s 135us/step - loss: 0.0059 - val_loss: 0.0117\n",
      "Epoch 180/200\n",
      "67032/67032 [==============================] - 9s 140us/step - loss: 0.0059 - val_loss: 0.0116\n",
      "Epoch 181/200\n",
      "67032/67032 [==============================] - 9s 133us/step - loss: 0.0059 - val_loss: 0.0116\n",
      "Epoch 182/200\n",
      "67032/67032 [==============================] - 9s 140us/step - loss: 0.0059 - val_loss: 0.0117\n",
      "Epoch 183/200\n",
      "67032/67032 [==============================] - 9s 130us/step - loss: 0.0061 - val_loss: 0.0120\n",
      "Epoch 184/200\n",
      "67032/67032 [==============================] - 9s 137us/step - loss: 0.0061 - val_loss: 0.0116\n",
      "Epoch 185/200\n",
      "67032/67032 [==============================] - 9s 137us/step - loss: 0.0058 - val_loss: 0.0116\n",
      "Epoch 186/200\n",
      "67032/67032 [==============================] - 9s 132us/step - loss: 0.0058 - val_loss: 0.0116\n",
      "Epoch 187/200\n",
      "67032/67032 [==============================] - 9s 142us/step - loss: 0.0058 - val_loss: 0.0116\n",
      "Epoch 188/200\n",
      "67032/67032 [==============================] - 9s 131us/step - loss: 0.0058 - val_loss: 0.0117\n",
      "Epoch 189/200\n",
      "67032/67032 [==============================] - 9s 138us/step - loss: 0.0058 - val_loss: 0.0118\n",
      "Epoch 190/200\n",
      "67032/67032 [==============================] - 9s 133us/step - loss: 0.0058 - val_loss: 0.0117\n",
      "Epoch 191/200\n",
      "67032/67032 [==============================] - 9s 131us/step - loss: 0.0058 - val_loss: 0.0117\n",
      "Epoch 192/200\n",
      "67032/67032 [==============================] - 9s 141us/step - loss: 0.0058 - val_loss: 0.0117\n",
      "Epoch 193/200\n",
      "67032/67032 [==============================] - 9s 131us/step - loss: 0.0058 - val_loss: 0.0116\n",
      "Epoch 194/200\n",
      "67032/67032 [==============================] - 9s 135us/step - loss: 0.0060 - val_loss: 0.0117\n",
      "Epoch 195/200\n",
      "67032/67032 [==============================] - 9s 139us/step - loss: 0.0058 - val_loss: 0.0116\n",
      "Epoch 196/200\n",
      "67032/67032 [==============================] - 9s 131us/step - loss: 0.0058 - val_loss: 0.0116\n",
      "Epoch 197/200\n",
      "67032/67032 [==============================] - 10s 143us/step - loss: 0.0057 - val_loss: 0.0117\n",
      "Epoch 198/200\n",
      "67032/67032 [==============================] - 9s 132us/step - loss: 0.0060 - val_loss: 0.0118\n",
      "Epoch 199/200\n",
      "67032/67032 [==============================] - 9s 135us/step - loss: 0.0058 - val_loss: 0.0116\n",
      "Epoch 200/200\n",
      "67032/67032 [==============================] - 9s 140us/step - loss: 0.0057 - val_loss: 0.0116\n",
      "Total time it took to train autoencoder is  1820.6467564105988  seconds\n"
     ]
    }
   ],
   "source": [
    "start_time = time.time()\n",
    "train_history = autoencoder.fit(X_train_norm, X_train_norm, epochs=200, batch_size=2048, validation_data=(X_test_norm, X_test_norm))\n",
    "print(\"Total time it took to train autoencoder is \", time.time() - start_time, \" seconds\")"
   ]
  },
  {
   "cell_type": "code",
   "execution_count": 17,
   "metadata": {},
   "outputs": [],
   "source": [
    "import h5py\n",
    "\n",
    "# save the trained model\n",
    "autoencoder.save('whole_dataset_autoencoder.h5')"
   ]
  },
  {
   "cell_type": "code",
   "execution_count": null,
   "metadata": {},
   "outputs": [],
   "source": [
    "## verify loading the model\n",
    "from keras.models import load_model\n",
    "start_time = time.time()\n",
    "autoencoder = load_model('whole_dataset_autoencoder.h5')\n",
    "encoder = Model(inputs=autoencoder.input, outputs=autoencoder.get_layer('dense_1').output)\n",
    "print('Model loaded in: ', time.time() - start_time)"
   ]
  },
  {
   "cell_type": "code",
   "execution_count": 18,
   "metadata": {},
   "outputs": [
    {
     "name": "stdout",
     "output_type": "stream",
     "text": [
      "hello world\n",
      "Time to fit X_train 673.7229235172272\n",
      "Time to fit X_test 28.33684206008911\n",
      "0\n",
      "3350\n",
      "0\n",
      "836\n"
     ]
    }
   ],
   "source": [
    "print(\"hello world\")\n",
    "\n",
    "# After downsizing the images, we need to cluster them by similarity\n",
    "# Heuristic we will use is to assume fps rate is 20. We will make num_samples / 20 clusters\n",
    "\n",
    "# Apply hierarchical clustering\n",
    "# Remember the indexes\n",
    "# Put the images into correct locations\n",
    "# TODO: Currently the images are not being divided correctly... We need to find out why\n",
    "\n",
    "from sklearn.cluster import AgglomerativeClustering\n",
    "\n",
    "#image_table_flattened = image_table.reshape(-1, width*height).astype('float32')\n",
    "#image_table /= 255.0\n",
    "\n",
    "X_train_compressed = encoder.predict(X_train_norm)\n",
    "X_test_compressed = encoder.predict(X_test_norm)\n",
    "\n",
    "\n",
    "fps = 20\n",
    "ac = AgglomerativeClustering(n_clusters=len(X_train_compressed) // fps)\n",
    "\n",
    "start_time = time.time()\n",
    "ac.fit(X_train_compressed)\n",
    "print(\"Time to fit X_train\", time.time() - start_time)\n",
    "X_train_clusters = ac.labels_\n",
    "\n",
    "start_time = time.time()\n",
    "ac1 = AgglomerativeClustering(n_clusters=len(X_test_compressed) // fps)\n",
    "ac1.fit(X_test_compressed)\n",
    "print(\"Time to fit X_test\", time.time() - start_time)\n",
    "X_test_clusters = ac1.labels_\n",
    "\n",
    "\n",
    "print(min(X_train_clusters))\n",
    "print(max(X_train_clusters))\n",
    "print(min(X_test_clusters))\n",
    "print(max(X_test_clusters))"
   ]
  },
  {
   "cell_type": "code",
   "execution_count": 21,
   "metadata": {},
   "outputs": [
    {
     "name": "stdout",
     "output_type": "stream",
     "text": [
      "(3351, 45, 80, 1)\n",
      "(837, 45, 80, 1)\n"
     ]
    }
   ],
   "source": [
    "# Choose representative frames from each cluster\n",
    "# Create a fake X_train, Y_train, X_val, Y_val for retraining the filters\n",
    "\n",
    "# We have X_train, X_train_clusters (this gives cluster numbers), Y_train, Y_names\n",
    "\n",
    "visited_cluster_nums = set()\n",
    "\n",
    "n_samples, width1, height1, channels1 = X_train_norm.shape\n",
    "n_samples, width2, height2, channels2 = X_test_norm.shape\n",
    "X_train_rep = np.zeros(shape = (max(X_train_clusters)+1, width1, height1, channels1))\n",
    "X_test_rep = np.zeros(shape = (max(X_test_clusters)+1, width2, height2, channels2))\n",
    "Y_train_dict_rep = {}\n",
    "Y_test_rep = np.zeros(shape = (max(X_test_clusters)+1, len(Y_names)))\n",
    "\n",
    "import copy\n",
    "categories = ['vehicle_type', 'color', 'speed', 'intersection']\n",
    "for category in categories:\n",
    "    Y_train_dict_rep[category] = [None] * (max(X_train_clusters)+1)\n",
    "\n",
    "assert(len(X_train_clusters) == len(X_train))\n",
    "for i in range(len(X_train_clusters)):\n",
    "    if X_train_clusters[i] not in visited_cluster_nums:\n",
    "        visited_cluster_nums.add(X_train_clusters[i])\n",
    "        # we want to pick these frames out but we need to remember their index so that we can extract their labels\n",
    "        # cluster number will be their index\n",
    "        assert(len(X_train.shape) == 4)\n",
    "        X_train_rep[X_train_clusters[i],:,:,:] = X_train_norm[i,:,:,:] #FIXED: X_train[i,:,:,:]\n",
    "        for category in categories:\n",
    "            Y_train_dict_rep[category][X_train_clusters[i]] = copy.deepcopy(Y_train_dict[category][i])\n",
    "\n",
    "visited_cluster_nums.clear()\n",
    "\n",
    "for i in range(len(X_test_clusters)):\n",
    "    if X_test_clusters[i] not in visited_cluster_nums:\n",
    "        visited_cluster_nums.add(X_test_clusters[i])\n",
    "        assert(len(X_test.shape) == 4)\n",
    "        assert(len(Y_test.shape) == 2)\n",
    "        X_test_rep[X_test_clusters[i],:,:,:] = X_test_norm[i,:,:,:]\n",
    "        Y_test_rep[X_test_clusters[i],:] = Y_test[i,:]\n",
    "\n",
    "\n",
    "print(X_train_rep.shape)\n",
    "print(X_test_rep.shape)"
   ]
  },
  {
   "cell_type": "code",
   "execution_count": 22,
   "metadata": {},
   "outputs": [
    {
     "name": "stdout",
     "output_type": "stream",
     "text": [
      "Generating binary labels...\n",
      "(3351, 21)\n",
      "['t=car', 't=van', 't=bus', 't=others', 'c=red', 'c=white', 'c=black', 'c=silver', 's>40', 's>50', 's>60', 's<65', 's<70', 'i=pt335', 'i=pt211', 'i=pt342', 'i=pt208', 'o=pt335', 'o=pt211', 'o=pt342', 'o=pt208']\n",
      "[[1. 0. 0. 0. 1. 1. 1. 1. 1. 1. 1. 1. 1. 1. 1. 1. 1. 1. 1. 1. 1.]\n",
      " [1. 1. 0. 0. 1. 1. 1. 1. 1. 1. 1. 1. 1. 1. 1. 1. 1. 1. 1. 1. 1.]\n",
      " [1. 1. 1. 0. 0. 1. 1. 1. 1. 1. 0. 1. 1. 1. 1. 0. 1. 1. 1. 0. 1.]\n",
      " [1. 1. 1. 1. 1. 1. 0. 1. 1. 1. 1. 1. 1. 1. 1. 1. 1. 1. 1. 1. 1.]\n",
      " [1. 0. 0. 0. 1. 1. 1. 1. 1. 1. 1. 1. 1. 1. 1. 1. 1. 1. 1. 1. 1.]\n",
      " [1. 0. 0. 0. 1. 1. 0. 1. 1. 1. 0. 1. 1. 1. 1. 1. 0. 1. 1. 1. 0.]\n",
      " [1. 1. 0. 0. 0. 0. 1. 1. 1. 1. 1. 0. 0. 1. 0. 1. 0. 1. 0. 1. 0.]\n",
      " [1. 1. 0. 0. 1. 0. 1. 1. 1. 0. 0. 1. 1. 1. 1. 1. 1. 1. 1. 1. 1.]\n",
      " [1. 1. 1. 0. 1. 1. 1. 1. 0. 0. 0. 1. 1. 1. 1. 1. 1. 1. 1. 1. 1.]\n",
      " [1. 0. 0. 0. 1. 0. 0. 0. 1. 1. 1. 0. 1. 0. 0. 1. 0. 0. 0. 1. 0.]]\n",
      "Done in 0.3352220058441162 seconds\n",
      "reshaping images...\n",
      "before: (3351, 45, 80, 1)\n",
      "After change, shape of image is (3351, 60)\n",
      "Done in 0.00439000129699707 seconds\n",
      "Splitting train / val...\n",
      "X_train shape (2680, 60)\n",
      "X_val shape (671, 60)\n",
      "Y_train shape (2680, 21)\n",
      "Y_vale shaep (671, 21)\n",
      "Done in 0.00016117095947265625 seconds\n",
      "Starting preprocessing...\n",
      "time it took to train pca: 0.014716625213623047 seconds\n",
      "X_train shape:  (2680, 60)\n",
      "X_train_pca shape:  (2680, 9)\n",
      "Done in 0.015138626098632812 seconds\n",
      "Starting processing...\n",
      "Full Model Name: pca_svm using pca'd X_train\n",
      "Training for t=car\n",
      "svm finished training for column t=car in 0.033248186111450195 seconds\n",
      "Training for t=van\n",
      "svm finished training for column t=van in 0.8650772571563721 seconds\n",
      "Training for t=bus\n",
      "svm finished training for column t=bus in 0.6662001609802246 seconds\n",
      "Training for t=others\n",
      "svm finished training for column t=others in 0.0717008113861084 seconds\n",
      "Training for c=red\n",
      "svm finished training for column c=red in 0.2102818489074707 seconds\n",
      "Training for c=white\n",
      "svm finished training for column c=white in 0.2360842227935791 seconds\n",
      "Training for c=black\n",
      "svm finished training for column c=black in 0.20212054252624512 seconds\n",
      "Training for c=silver\n",
      "svm finished training for column c=silver in 0.18782567977905273 seconds\n",
      "Training for s>40\n",
      "svm finished training for column s>40 in 0.30582571029663086 seconds\n",
      "Training for s>50\n",
      "svm finished training for column s>50 in 0.4938621520996094 seconds\n",
      "Training for s>60\n",
      "svm finished training for column s>60 in 0.5299365520477295 seconds\n",
      "Training for s<65\n",
      "svm finished training for column s<65 in 0.07829904556274414 seconds\n",
      "Training for s<70\n",
      "svm finished training for column s<70 in 0.06911134719848633 seconds\n",
      "Training for i=pt335\n",
      "svm finished training for column i=pt335 in 0.19051504135131836 seconds\n",
      "Training for i=pt211\n",
      "svm finished training for column i=pt211 in 0.19296550750732422 seconds\n",
      "Training for i=pt342\n",
      "svm finished training for column i=pt342 in 0.19899964332580566 seconds\n",
      "Training for i=pt208\n",
      "svm finished training for column i=pt208 in 0.19025850296020508 seconds\n",
      "Training for o=pt335\n",
      "svm finished training for column o=pt335 in 0.1907351016998291 seconds\n",
      "Training for o=pt211\n",
      "svm finished training for column o=pt211 in 0.19362187385559082 seconds\n",
      "Training for o=pt342\n",
      "svm finished training for column o=pt342 in 0.20492339134216309 seconds\n",
      "Training for o=pt208\n",
      "svm finished training for column o=pt208 in 0.2095632553100586 seconds\n",
      "Full Model Name: dnn using regular X_train\n",
      "dnn finished training for column t=car in 0.013159036636352539 seconds\n",
      "dnn finished training for column t=van in 0.20879602432250977 seconds\n",
      "dnn finished training for column t=bus in 0.2448420524597168 seconds\n",
      "dnn finished training for column t=others in 0.204209566116333 seconds\n",
      "dnn finished training for column c=red in 0.21900057792663574 seconds\n",
      "dnn finished training for column c=white in 0.006994485855102539 seconds\n",
      "dnn finished training for column c=black in 0.21586298942565918 seconds\n",
      "dnn finished training for column c=silver in 0.2102823257446289 seconds\n",
      "dnn finished training for column s>40 in 0.21161270141601562 seconds\n",
      "dnn finished training for column s>50 in 0.2330641746520996 seconds\n",
      "dnn finished training for column s>60 in 0.23296403884887695 seconds\n",
      "dnn finished training for column s<65 in 0.011245012283325195 seconds\n",
      "dnn finished training for column s<70 in 0.01247262954711914 seconds\n",
      "dnn finished training for column i=pt335 in 0.3038966655731201 seconds\n",
      "dnn finished training for column i=pt211 in 0.23168706893920898 seconds\n",
      "dnn finished training for column i=pt342 in 0.24087905883789062 seconds\n",
      "dnn finished training for column i=pt208 in 0.11042118072509766 seconds\n",
      "dnn finished training for column o=pt335 in 0.2697310447692871 seconds\n",
      "dnn finished training for column o=pt211 in 0.3136928081512451 seconds\n",
      "dnn finished training for column o=pt342 in 0.3098480701446533 seconds\n",
      "dnn finished training for column o=pt208 in 0.12257504463195801 seconds\n",
      "Full Model Name: pca_rf using pca'd X_train\n",
      "rf finished training for column t=car in 0.02816176414489746 seconds\n",
      "rf finished training for column t=van in 0.02154684066772461 seconds\n",
      "rf finished training for column t=bus in 0.01892232894897461 seconds\n"
     ]
    },
    {
     "name": "stderr",
     "output_type": "stream",
     "text": [
      "/nethome/jbang36/anaconda3/envs/eva_35/lib/python3.6/site-packages/sklearn/ensemble/forest.py:246: FutureWarning: The default value of n_estimators will change from 10 in version 0.20 to 100 in 0.22.\n",
      "  \"10 in version 0.20 to 100 in 0.22.\", FutureWarning)\n",
      "/nethome/jbang36/anaconda3/envs/eva_35/lib/python3.6/site-packages/sklearn/ensemble/forest.py:246: FutureWarning: The default value of n_estimators will change from 10 in version 0.20 to 100 in 0.22.\n",
      "  \"10 in version 0.20 to 100 in 0.22.\", FutureWarning)\n",
      "/nethome/jbang36/anaconda3/envs/eva_35/lib/python3.6/site-packages/sklearn/ensemble/forest.py:246: FutureWarning: The default value of n_estimators will change from 10 in version 0.20 to 100 in 0.22.\n",
      "  \"10 in version 0.20 to 100 in 0.22.\", FutureWarning)\n",
      "/nethome/jbang36/anaconda3/envs/eva_35/lib/python3.6/site-packages/sklearn/ensemble/forest.py:246: FutureWarning: The default value of n_estimators will change from 10 in version 0.20 to 100 in 0.22.\n",
      "  \"10 in version 0.20 to 100 in 0.22.\", FutureWarning)\n",
      "/nethome/jbang36/anaconda3/envs/eva_35/lib/python3.6/site-packages/sklearn/ensemble/forest.py:246: FutureWarning: The default value of n_estimators will change from 10 in version 0.20 to 100 in 0.22.\n",
      "  \"10 in version 0.20 to 100 in 0.22.\", FutureWarning)\n",
      "/nethome/jbang36/anaconda3/envs/eva_35/lib/python3.6/site-packages/sklearn/ensemble/forest.py:246: FutureWarning: The default value of n_estimators will change from 10 in version 0.20 to 100 in 0.22.\n",
      "  \"10 in version 0.20 to 100 in 0.22.\", FutureWarning)\n",
      "/nethome/jbang36/anaconda3/envs/eva_35/lib/python3.6/site-packages/sklearn/ensemble/forest.py:246: FutureWarning: The default value of n_estimators will change from 10 in version 0.20 to 100 in 0.22.\n",
      "  \"10 in version 0.20 to 100 in 0.22.\", FutureWarning)\n",
      "/nethome/jbang36/anaconda3/envs/eva_35/lib/python3.6/site-packages/sklearn/ensemble/forest.py:246: FutureWarning: The default value of n_estimators will change from 10 in version 0.20 to 100 in 0.22.\n",
      "  \"10 in version 0.20 to 100 in 0.22.\", FutureWarning)\n"
     ]
    },
    {
     "name": "stdout",
     "output_type": "stream",
     "text": [
      "rf finished training for column t=others in 0.0241546630859375 seconds\n",
      "rf finished training for column c=red in 0.02772665023803711 seconds\n",
      "rf finished training for column c=white in 0.027643680572509766 seconds\n",
      "rf finished training for column c=black in 0.02703237533569336 seconds\n",
      "rf finished training for column c=silver in 0.02646660804748535 seconds\n",
      "rf finished training for column s>40 in 0.01789379119873047 seconds\n",
      "rf finished training for column s>50 in 0.018249034881591797 seconds\n",
      "rf finished training for column s>60 in 0.018262386322021484 seconds\n",
      "rf finished training for column s<65 in 0.01789712905883789 seconds\n"
     ]
    },
    {
     "name": "stderr",
     "output_type": "stream",
     "text": [
      "/nethome/jbang36/anaconda3/envs/eva_35/lib/python3.6/site-packages/sklearn/ensemble/forest.py:246: FutureWarning: The default value of n_estimators will change from 10 in version 0.20 to 100 in 0.22.\n",
      "  \"10 in version 0.20 to 100 in 0.22.\", FutureWarning)\n",
      "/nethome/jbang36/anaconda3/envs/eva_35/lib/python3.6/site-packages/sklearn/ensemble/forest.py:246: FutureWarning: The default value of n_estimators will change from 10 in version 0.20 to 100 in 0.22.\n",
      "  \"10 in version 0.20 to 100 in 0.22.\", FutureWarning)\n",
      "/nethome/jbang36/anaconda3/envs/eva_35/lib/python3.6/site-packages/sklearn/ensemble/forest.py:246: FutureWarning: The default value of n_estimators will change from 10 in version 0.20 to 100 in 0.22.\n",
      "  \"10 in version 0.20 to 100 in 0.22.\", FutureWarning)\n",
      "/nethome/jbang36/anaconda3/envs/eva_35/lib/python3.6/site-packages/sklearn/ensemble/forest.py:246: FutureWarning: The default value of n_estimators will change from 10 in version 0.20 to 100 in 0.22.\n",
      "  \"10 in version 0.20 to 100 in 0.22.\", FutureWarning)\n",
      "/nethome/jbang36/anaconda3/envs/eva_35/lib/python3.6/site-packages/sklearn/ensemble/forest.py:246: FutureWarning: The default value of n_estimators will change from 10 in version 0.20 to 100 in 0.22.\n",
      "  \"10 in version 0.20 to 100 in 0.22.\", FutureWarning)\n",
      "/nethome/jbang36/anaconda3/envs/eva_35/lib/python3.6/site-packages/sklearn/ensemble/forest.py:246: FutureWarning: The default value of n_estimators will change from 10 in version 0.20 to 100 in 0.22.\n",
      "  \"10 in version 0.20 to 100 in 0.22.\", FutureWarning)\n",
      "/nethome/jbang36/anaconda3/envs/eva_35/lib/python3.6/site-packages/sklearn/ensemble/forest.py:246: FutureWarning: The default value of n_estimators will change from 10 in version 0.20 to 100 in 0.22.\n",
      "  \"10 in version 0.20 to 100 in 0.22.\", FutureWarning)\n",
      "/nethome/jbang36/anaconda3/envs/eva_35/lib/python3.6/site-packages/sklearn/ensemble/forest.py:246: FutureWarning: The default value of n_estimators will change from 10 in version 0.20 to 100 in 0.22.\n",
      "  \"10 in version 0.20 to 100 in 0.22.\", FutureWarning)\n",
      "/nethome/jbang36/anaconda3/envs/eva_35/lib/python3.6/site-packages/sklearn/ensemble/forest.py:246: FutureWarning: The default value of n_estimators will change from 10 in version 0.20 to 100 in 0.22.\n",
      "  \"10 in version 0.20 to 100 in 0.22.\", FutureWarning)\n",
      "/nethome/jbang36/anaconda3/envs/eva_35/lib/python3.6/site-packages/sklearn/ensemble/forest.py:246: FutureWarning: The default value of n_estimators will change from 10 in version 0.20 to 100 in 0.22.\n",
      "  \"10 in version 0.20 to 100 in 0.22.\", FutureWarning)\n",
      "/nethome/jbang36/anaconda3/envs/eva_35/lib/python3.6/site-packages/sklearn/ensemble/forest.py:246: FutureWarning: The default value of n_estimators will change from 10 in version 0.20 to 100 in 0.22.\n",
      "  \"10 in version 0.20 to 100 in 0.22.\", FutureWarning)\n",
      "/nethome/jbang36/anaconda3/envs/eva_35/lib/python3.6/site-packages/sklearn/ensemble/forest.py:246: FutureWarning: The default value of n_estimators will change from 10 in version 0.20 to 100 in 0.22.\n",
      "  \"10 in version 0.20 to 100 in 0.22.\", FutureWarning)\n"
     ]
    },
    {
     "name": "stdout",
     "output_type": "stream",
     "text": [
      "rf finished training for column s<70 in 0.018097877502441406 seconds\n",
      "rf finished training for column i=pt335 in 0.018145084381103516 seconds\n",
      "rf finished training for column i=pt211 in 0.018019914627075195 seconds\n",
      "rf finished training for column i=pt342 in 0.017986297607421875 seconds\n",
      "rf finished training for column i=pt208 in 0.0181424617767334 seconds\n",
      "rf finished training for column o=pt335 in 0.018132448196411133 seconds\n",
      "rf finished training for column o=pt211 in 0.017633914947509766 seconds\n",
      "rf finished training for column o=pt342 in 0.01799154281616211 seconds\n",
      "rf finished training for column o=pt208 in 0.018059492111206055 seconds\n",
      "Done in 9.902466297149658 seconds\n",
      "Total time to train all columns all models  10.258054733276367 seconds\n"
     ]
    },
    {
     "name": "stderr",
     "output_type": "stream",
     "text": [
      "/nethome/jbang36/anaconda3/envs/eva_35/lib/python3.6/site-packages/sklearn/ensemble/forest.py:246: FutureWarning: The default value of n_estimators will change from 10 in version 0.20 to 100 in 0.22.\n",
      "  \"10 in version 0.20 to 100 in 0.22.\", FutureWarning)\n"
     ]
    }
   ],
   "source": [
    "# Train the filters\n",
    "\n",
    "pp_rep = PP()\n",
    "start_time = time.time()\n",
    "pp_rep.train(X_train_rep, Y_train_dict_rep)\n",
    "print(\"Total time to train all columns all models \", time.time() - start_time, \"seconds\")"
   ]
  },
  {
   "cell_type": "code",
   "execution_count": 32,
   "metadata": {},
   "outputs": [],
   "source": [
    "#extrapolate the predicted labels to all the images\n",
    "def extend_labels(y_hat_rep, X_test_clusters):\n",
    "    arr = np.zeros(shape = (len(X_test_clusters), 1))\n",
    "    for i in range(len(X_test_clusters)):\n",
    "        arr[i,0] = y_hat_rep[X_test_clusters[i]]\n",
    "    return arr\n",
    "\n",
    "def compute_score(y_hat, y):\n",
    "    n = len(y_hat)\n",
    "    assert(len(y_hat) == len(y))\n",
    "    correct_count = 0\n",
    "    for i in range(len(y_hat)):\n",
    "        if y_hat[i] == y[i]:\n",
    "            correct_count += 1\n",
    "    return correct_count / len(y_hat)"
   ]
  },
  {
   "cell_type": "code",
   "execution_count": 28,
   "metadata": {},
   "outputs": [
    {
     "name": "stdout",
     "output_type": "stream",
     "text": [
      "[101 101 101 ... 600 600 600]\n"
     ]
    }
   ],
   "source": [
    "print(X_test_clusters)"
   ]
  },
  {
   "cell_type": "code",
   "execution_count": 33,
   "metadata": {},
   "outputs": [
    {
     "name": "stdout",
     "output_type": "stream",
     "text": [
      "before: (16759, 45, 80, 1)\n",
      "After change, shape of image is (16759, 60)\n",
      "[1. 1. 1. ... 1. 1. 1.]\n",
      "[1. 1. 1. ... 1. 1. 1.]\n",
      "[0. 0. 0. ... 1. 1. 1.]\n",
      "[0. 0. 0. ... 1. 1. 1.]\n",
      "[0. 0. 0. ... 0. 0. 0.]\n",
      "[0. 0. 0. ... 0. 0. 0.]\n",
      "[0. 0. 0. ... 0. 0. 0.]\n",
      "[0. 0. 0. ... 0. 0. 0.]\n",
      "[1. 1. 1. ... 1. 1. 1.]\n",
      "[1. 1. 1. ... 1. 1. 1.]\n",
      "[1. 1. 1. ... 1. 1. 1.]\n",
      "[1. 1. 1. ... 1. 1. 1.]\n",
      "[1. 1. 1. ... 1. 1. 1.]\n",
      "[1. 1. 1. ... 1. 1. 1.]\n",
      "[1. 1. 1. ... 1. 1. 1.]\n",
      "[1. 1. 1. ... 1. 1. 1.]\n",
      "[1. 1. 1. ... 1. 1. 1.]\n",
      "[1. 1. 1. ... 1. 1. 1.]\n",
      "[1. 1. 1. ... 1. 1. 1.]\n",
      "[1. 1. 1. ... 1. 1. 1.]\n",
      "[0. 0. 0. ... 1. 1. 1.]\n",
      "[0. 0. 0. ... 1. 1. 1.]\n",
      "[1. 1. 1. ... 1. 1. 1.]\n",
      "[1. 1. 1. ... 1. 1. 1.]\n",
      "[1. 1. 1. ... 1. 1. 1.]\n",
      "[1. 1. 1. ... 1. 1. 1.]\n",
      "[1. 1. 1. ... 1. 1. 1.]\n",
      "[1. 1. 1. ... 1. 1. 1.]\n",
      "[1. 1. 1. ... 1. 1. 1.]\n",
      "[1. 1. 1. ... 1. 1. 1.]\n",
      "[1. 1. 1. ... 1. 1. 1.]\n",
      "[1. 1. 1. ... 1. 1. 1.]\n",
      "[1. 1. 1. ... 1. 1. 1.]\n",
      "[1. 1. 1. ... 1. 1. 1.]\n",
      "[1. 1. 1. ... 1. 1. 1.]\n",
      "[1. 1. 1. ... 1. 1. 1.]\n",
      "[1. 1. 1. ... 1. 1. 1.]\n",
      "[1. 1. 1. ... 1. 1. 1.]\n",
      "[1. 1. 1. ... 1. 1. 1.]\n",
      "[1. 1. 1. ... 1. 1. 1.]\n",
      "[1. 1. 1. ... 1. 1. 1.]\n",
      "[1. 1. 1. ... 1. 1. 1.]\n",
      "Finished evaluation in  7.911006450653076 seconds\n"
     ]
    }
   ],
   "source": [
    "# Evaluate the filters\n",
    "pca_model_rep = pp_rep.trained_pre['pca']\n",
    "trained_models_rep = pp_rep.trained_post \n",
    "tic = time.time()\n",
    "\"\"\"\n",
    "{'t=car': {'pca_svm': SVC(C=1.0, cache_size=200, class_weight=None, coef0=0.0,\n",
    "  decision_function_shape='ovr', degree=3, gamma='auto_deprecated',\n",
    "  kernel='linear', max_iter=10000, probability=True, random_state=None,\n",
    "  shrinking=True, tol=0.001, verbose=False),\n",
    "\"\"\"\n",
    "X_test_reshaped = pp_rep._reshape_image(X_test_norm)\n",
    "X_test_pcaed = pca_model_rep.transform(X_test_reshaped)\n",
    "\n",
    "\n",
    "stats_rep = {}\n",
    "for Y_col, models in trained_models_rep.items():\n",
    "    for model_name, model in models.items():\n",
    "        if 'pca' in model_name:\n",
    "            index = Y_names.index(Y_col)\n",
    "            #print(\"index is\",index)\n",
    "            #print(Y_test[:10][0])\n",
    "            #print(type(index))\n",
    "            y_hat_rep = model.predict(X_test_pcaed)\n",
    "            \n",
    "            y_hat = extend_labels(y_hat_rep, X_test_clusters)\n",
    "            score = compute_score(y_hat, Y_test[:,index])\n",
    "            stats_rep[Y_col + \" \" + model_name] = [score]\n",
    "        else:\n",
    "            index = Y_names.index(Y_col)\n",
    "            y_hat_rep = model.predict(X_test_reshaped)\n",
    "            y_hat = extend_labels(y_hat_rep, X_test_clusters)\n",
    "            score = compute_score(y_hat, Y_test[:,index])\n",
    "            stats_rep[Y_col + \" \" + model_name] = [score]\n",
    "\n",
    "print(\"Finished evaluation in \", time.time() - tic, \"seconds\")"
   ]
  },
  {
   "cell_type": "code",
   "execution_count": 34,
   "metadata": {},
   "outputs": [],
   "source": [
    "# Compute the accuracy and speed\n",
    "\n",
    "# convert stats dict to table\n",
    "# rows should be column name and model\n",
    "# cols should be accuracy, training_time\n",
    "\n",
    "stats_arr_rep = np.zeros(shape=(len(stats_rep), 2))\n",
    "row_names_rep = []\n",
    "index = 0\n",
    "for row, col in stats_rep.items():\n",
    "    row_names_rep.append(row)\n",
    "    stats_arr_rep[index, 0] = col[0]\n",
    "    index += 1\n",
    "    \n",
    "for Y_col, models in pp_rep.column_stats.items():\n",
    "    for model_name, cost in models.items():\n",
    "        row_index = row_names_rep.index(Y_col + \" \" + model_name)\n",
    "        stats_arr_rep[row_index, 1] = cost[0]"
   ]
  },
  {
   "cell_type": "code",
   "execution_count": 44,
   "metadata": {},
   "outputs": [
    {
     "name": "stdout",
     "output_type": "stream",
     "text": [
      "63\n",
      "63\n",
      "['t=car pca_svm', 't=car dnn', 't=car pca_rf', 't=van pca_svm', 't=van dnn', 't=van pca_rf', 't=bus pca_svm', 't=bus dnn', 't=bus pca_rf', 't=others pca_svm', 't=others dnn', 't=others pca_rf', 'c=red pca_svm', 'c=red dnn', 'c=red pca_rf', 'c=white pca_svm', 'c=white dnn', 'c=white pca_rf', 'c=black pca_svm', 'c=black dnn', 'c=black pca_rf', 'c=silver pca_svm', 'c=silver dnn', 'c=silver pca_rf', 's>40 pca_svm', 's>40 dnn', 's>40 pca_rf', 's>50 pca_svm', 's>50 dnn', 's>50 pca_rf', 's>60 pca_svm', 's>60 dnn', 's>60 pca_rf', 's<65 pca_svm', 's<65 dnn', 's<65 pca_rf', 's<70 pca_svm', 's<70 dnn', 's<70 pca_rf', 'i=pt335 pca_svm', 'i=pt335 dnn', 'i=pt335 pca_rf', 'i=pt211 pca_svm', 'i=pt211 dnn', 'i=pt211 pca_rf', 'i=pt342 pca_svm', 'i=pt342 dnn', 'i=pt342 pca_rf', 'i=pt208 pca_svm', 'i=pt208 dnn', 'i=pt208 pca_rf', 'o=pt335 pca_svm', 'o=pt335 dnn', 'o=pt335 pca_rf', 'o=pt211 pca_svm', 'o=pt211 dnn', 'o=pt211 pca_rf', 'o=pt342 pca_svm', 'o=pt342 dnn', 'o=pt342 pca_rf', 'o=pt208 pca_svm', 'o=pt208 dnn', 'o=pt208 pca_rf']\n",
      "['t=car pca_svm', 't=car dnn', 't=car pca_rf', 't=van pca_svm', 't=van dnn', 't=van pca_rf', 't=bus pca_svm', 't=bus dnn', 't=bus pca_rf', 't=others pca_svm', 't=others dnn', 't=others pca_rf', 'c=red pca_svm', 'c=red dnn', 'c=red pca_rf', 'c=white pca_svm', 'c=white dnn', 'c=white pca_rf', 'c=black pca_svm', 'c=black dnn', 'c=black pca_rf', 'c=silver pca_svm', 'c=silver dnn', 'c=silver pca_rf', 's>40 pca_svm', 's>40 dnn', 's>40 pca_rf', 's>50 pca_svm', 's>50 dnn', 's>50 pca_rf', 's>60 pca_svm', 's>60 dnn', 's>60 pca_rf', 's<65 pca_svm', 's<65 dnn', 's<65 pca_rf', 's<70 pca_svm', 's<70 dnn', 's<70 pca_rf', 'i=pt335 pca_svm', 'i=pt335 dnn', 'i=pt335 pca_rf', 'i=pt211 pca_svm', 'i=pt211 dnn', 'i=pt211 pca_rf', 'i=pt342 pca_svm', 'i=pt342 dnn', 'i=pt342 pca_rf', 'i=pt208 pca_svm', 'i=pt208 dnn', 'i=pt208 pca_rf', 'o=pt335 pca_svm', 'o=pt335 dnn', 'o=pt335 pca_rf', 'o=pt211 pca_svm', 'o=pt211 dnn', 'o=pt211 pca_rf', 'o=pt342 pca_svm', 'o=pt342 dnn', 'o=pt342 pca_rf', 'o=pt208 pca_svm', 'o=pt208 dnn', 'o=pt208 pca_rf']\n",
      "[[9.67659168e-01 2.17100000e+01 9.67659168e-01 5.00000000e-02]\n",
      " [9.67659168e-01 3.20000000e-01 9.67659168e-01 1.00000000e-02]\n",
      " [9.67659168e-01 5.00000000e-01 9.67659168e-01 5.00000000e-02]\n",
      " [5.15185870e-01 1.19780000e+02 5.10292977e-01 8.90000000e-01]\n",
      " [5.82492989e-01 5.72000000e+00 5.06712811e-01 2.10000000e-01]\n",
      " [5.07070828e-01 4.70000000e-01 5.17095292e-01 4.00000000e-02]\n",
      " [3.47395429e-01 1.22410000e+02 8.14845755e-01 6.90000000e-01]\n",
      " [7.27728385e-01 5.83000000e+00 7.97899636e-01 2.40000000e-01]\n",
      " [8.15621457e-01 4.70000000e-01 8.14845755e-01 4.00000000e-02]\n",
      " [9.33170237e-01 2.25500000e+01 9.33170237e-01 9.00000000e-02]\n",
      " [9.30544782e-01 5.91000000e+00 9.33170237e-01 2.00000000e-01]\n",
      " [9.33170237e-01 4.50000000e-01 9.33170237e-01 4.00000000e-02]\n",
      " [7.23909541e-01 1.16810000e+02 7.55056984e-01 2.30000000e-01]\n",
      " [7.55056984e-01 1.50000000e-01 5.19064383e-01 2.20000000e-01]\n",
      " [7.55056984e-01 4.70000000e-01 7.55056984e-01 5.00000000e-02]\n",
      " [7.51954174e-01 1.17320000e+02 7.51954174e-01 2.60000000e-01]\n",
      " [7.51954174e-01 1.60000000e-01 7.51954174e-01 1.00000000e-02]\n",
      " [7.51954174e-01 4.80000000e-01 7.51954174e-01 5.00000000e-02]\n",
      " [7.49448058e-01 1.16870000e+02 7.50164091e-01 2.20000000e-01]\n",
      " [7.50164091e-01 1.60000000e-01 7.20090698e-01 2.20000000e-01]\n",
      " [7.50164091e-01 4.20000000e-01 7.50164091e-01 5.00000000e-02]\n",
      " [7.51536488e-01 1.15670000e+02 7.51536488e-01 2.10000000e-01]\n",
      " [7.51536488e-01 1.70000000e-01 6.23784235e-01 2.10000000e-01]\n",
      " [7.51536488e-01 4.30000000e-01 7.51536488e-01 5.00000000e-02]\n",
      " [8.28331046e-01 1.18180000e+02 8.63237663e-01 3.30000000e-01]\n",
      " [8.15263441e-01 2.96000000e+00 8.59896175e-01 2.10000000e-01]\n",
      " [8.04522943e-01 4.60000000e-01 8.63237663e-01 4.00000000e-02]\n",
      " [7.90202279e-01 1.18430000e+02 7.96467570e-01 5.10000000e-01]\n",
      " [8.14487738e-01 1.82000000e+00 7.04099290e-01 2.30000000e-01]\n",
      " [8.06134018e-01 4.80000000e-01 7.82862939e-01 4.00000000e-02]\n",
      " [3.38385345e-01 1.18570000e+02 3.75440062e-01 5.50000000e-01]\n",
      " [8.14368399e-01 1.83000000e+00 5.91622412e-01 2.30000000e-01]\n",
      " [7.30890865e-01 5.10000000e-01 2.72689301e-01 4.00000000e-02]\n",
      " [9.66823796e-01 4.39300000e+01 9.66823796e-01 1.00000000e-01]\n",
      " [9.66823796e-01 2.00000000e-01 9.66823796e-01 1.00000000e-02]\n",
      " [9.66823796e-01 6.00000000e-01 9.66823796e-01 4.00000000e-02]\n",
      " [9.70403962e-01 3.84000000e+01 9.70403962e-01 9.00000000e-02]\n",
      " [9.70403962e-01 2.10000000e-01 9.70403962e-01 1.00000000e-02]\n",
      " [9.70403962e-01 4.30000000e-01 9.70403962e-01 4.00000000e-02]\n",
      " [7.49746405e-01 1.15460000e+02 7.49746405e-01 2.10000000e-01]\n",
      " [7.49746405e-01 2.00000000e-01 4.54860075e-01 3.00000000e-01]\n",
      " [7.49746405e-01 4.50000000e-01 7.49746405e-01 4.00000000e-02]\n",
      " [7.25401277e-01 1.15610000e+02 7.52192852e-01 2.10000000e-01]\n",
      " [7.52192852e-01 1.60000000e-01 5.10770332e-01 2.30000000e-01]\n",
      " [7.52192852e-01 4.50000000e-01 7.52192852e-01 4.00000000e-02]\n",
      " [6.50038785e-01 1.16520000e+02 7.52491199e-01 2.20000000e-01]\n",
      " [7.52491199e-01 2.20000000e-01 4.86723552e-01 2.40000000e-01]\n",
      " [7.52491199e-01 4.20000000e-01 7.52491199e-01 4.00000000e-02]\n",
      " [7.49925413e-01 1.15930000e+02 7.50044752e-01 2.10000000e-01]\n",
      " [7.50044752e-01 2.10000000e-01 7.47836983e-01 1.10000000e-01]\n",
      " [7.50044752e-01 4.10000000e-01 7.50044752e-01 4.00000000e-02]\n",
      " [7.49746405e-01 1.16370000e+02 7.49746405e-01 2.10000000e-01]\n",
      " [7.49746405e-01 1.60000000e-01 4.54860075e-01 2.70000000e-01]\n",
      " [7.49746405e-01 4.20000000e-01 7.49746405e-01 4.00000000e-02]\n",
      " [7.25401277e-01 1.16100000e+02 7.52192852e-01 2.10000000e-01]\n",
      " [7.52192852e-01 1.90000000e-01 5.10770332e-01 3.10000000e-01]\n",
      " [7.52192852e-01 4.30000000e-01 7.52192852e-01 4.00000000e-02]\n",
      " [6.50038785e-01 1.16090000e+02 7.52491199e-01 2.20000000e-01]\n",
      " [7.52491199e-01 1.60000000e-01 4.86723552e-01 3.10000000e-01]\n",
      " [7.52491199e-01 4.50000000e-01 7.52491199e-01 4.00000000e-02]\n",
      " [7.49925413e-01 1.16170000e+02 7.50044752e-01 2.30000000e-01]\n",
      " [7.50044752e-01 1.70000000e-01 7.47836983e-01 1.20000000e-01]\n",
      " [7.50044752e-01 4.30000000e-01 7.50044752e-01 4.00000000e-02]]\n",
      "(63, 4)\n"
     ]
    }
   ],
   "source": [
    "# Create a comparison graph\n",
    "#print(row_names)\n",
    "#print(stats_arr)\n",
    "#print(\"---------------\")\n",
    "#print(stats_arr_rep)\n",
    "\n",
    "#align the rows so that they match\n",
    "#create a matrix with a_ori, c_ori, a_adj, c_adj\n",
    "#we will use row_names as standard\n",
    "\n",
    "union_ = np.zeros(shape = (len(row_names),4 ))\n",
    "\n",
    "print(len(row_names))\n",
    "print(len(row_names_rep))\n",
    "\n",
    "\n",
    "assert(row_names == row_names_rep)\n",
    "\n",
    "\n",
    "for idx, row_name in enumerate(row_names):\n",
    "    union_[idx,0] = stats_arr[idx][0]\n",
    "    union_[idx,1] = stats_arr[idx][1]\n",
    "    if row_name not in row_names_rep:\n",
    "        union_[idx, 2] = -1\n",
    "        union_[idx, 3] = -1\n",
    "    else:\n",
    "        corresponding_idx = row_names_rep.index(row_name)\n",
    "        union_[idx,2] = stats_arr_rep[corresponding_idx][0]\n",
    "        union_[idx,3] = stats_arr_rep[corresponding_idx][1]\n",
    "    \n",
    "print(union_)\n",
    "print(union_.shape)\n",
    "\n",
    "\n"
   ]
  },
  {
   "cell_type": "code",
   "execution_count": 62,
   "metadata": {},
   "outputs": [
    {
     "data": {
      "image/png": "[encoded data removed]",
      "text/plain": [
       "<Figure size 1332x360 with 1 Axes>"
      ]
     },
     "metadata": {
      "needs_background": "light"
     },
     "output_type": "display_data"
    },
    {
     "data": {
      "text/plain": [
       "\"\\nplt.figure(figsize=(30,30))\\nplt.plot(row_names, y_axis1, 'g^', x_axis, y_axis2, 'bs')\\nplt.setp(ax.get_xticklabels(), rotation=30, horizontalalignment='right')\\n\\nplt.show()\\n\""
      ]
     },
     "execution_count": 62,
     "metadata": {},
     "output_type": "execute_result"
    }
   ],
   "source": [
    "# we want to do a comparison in training speed\n",
    "\n",
    "\n",
    "\n",
    "x_axis = []\n",
    "y_axis1 = []\n",
    "y_axis2 = []\n",
    "curr_num = 0\n",
    "for i in range(len(union_)):\n",
    "    if -1 in union_[i]:\n",
    "        continue\n",
    "    else:\n",
    "        x_axis.append(curr_num)\n",
    "        y_axis1.append(union_[i][1])\n",
    "        y_axis2.append(union_[i][3])\n",
    "        curr_num += 1\n",
    "        \n",
    "fig, ax = plt.subplots()\n",
    "fig.set_size_inches(18.5, 5)\n",
    "ax.plot(row_names, y_axis1, label='original')\n",
    "ax.plot(row_names, y_axis2, label='new')\n",
    "plt.legend(loc='upper right')\n",
    "plt.setp(ax.get_xticklabels(), rotation=90, horizontalalignment='right')\n",
    "plt.show()\n",
    "\n",
    "\"\"\"\n",
    "plt.figure(figsize=(30,30))\n",
    "plt.plot(row_names, y_axis1, 'g^', x_axis, y_axis2, 'bs')\n",
    "plt.setp(ax.get_xticklabels(), rotation=30, horizontalalignment='right')\n",
    "\n",
    "plt.show()\n",
    "\"\"\""
   ]
  },
  {
   "cell_type": "code",
   "execution_count": 61,
   "metadata": {},
   "outputs": [
    {
     "data": {
      "image/png": "[encoded data removed]",
      "text/plain": [
       "<Figure size 1332x360 with 1 Axes>"
      ]
     },
     "metadata": {
      "needs_background": "light"
     },
     "output_type": "display_data"
    }
   ],
   "source": [
    "# we want to do a comparison in evaluation accuracy\n",
    "\n",
    "\n",
    "x_axis = []\n",
    "y_axis1 = []\n",
    "y_axis2 = []\n",
    "curr_num = 0\n",
    "for i in range(len(union_)):\n",
    "    if -1 in union_[i]:\n",
    "        continue\n",
    "    else:\n",
    "        x_axis.append(curr_num)\n",
    "        y_axis1.append(union_[i][0])\n",
    "        y_axis2.append(union_[i][2])\n",
    "        curr_num += 1\n",
    "        \n",
    "        \n",
    "fig, ax = plt.subplots()\n",
    "fig.set_size_inches(18.5, 5)\n",
    "ax.plot(row_names, y_axis1, label='original')\n",
    "ax.plot(row_names, y_axis2, label='new')\n",
    "plt.legend(loc='upper right')\n",
    "plt.setp(ax.get_xticklabels(), rotation=90, horizontalalignment='right')\n",
    "plt.show()\n",
    "        \n",
    "    "
   ]
  },
  {
   "cell_type": "code",
   "execution_count": 67,
   "metadata": {},
   "outputs": [
    {
     "name": "stdout",
     "output_type": "stream",
     "text": [
      "63\n",
      "63\n",
      "[[9.67659168e-01 2.17100000e+01 9.67659168e-01 5.00000000e-02]\n",
      " [9.67659168e-01 3.20000000e-01 9.67659168e-01 1.00000000e-02]\n",
      " [9.67659168e-01 5.00000000e-01 9.67659168e-01 5.00000000e-02]\n",
      " [5.15185870e-01 1.19780000e+02 5.10292977e-01 8.90000000e-01]\n",
      " [5.82492989e-01 5.72000000e+00 5.06712811e-01 2.10000000e-01]\n",
      " [5.07070828e-01 4.70000000e-01 5.17095292e-01 4.00000000e-02]\n",
      " [3.47395429e-01 1.22410000e+02 8.14845755e-01 6.90000000e-01]\n",
      " [7.27728385e-01 5.83000000e+00 7.97899636e-01 2.40000000e-01]\n",
      " [8.15621457e-01 4.70000000e-01 8.14845755e-01 4.00000000e-02]\n",
      " [9.33170237e-01 2.25500000e+01 9.33170237e-01 9.00000000e-02]\n",
      " [9.30544782e-01 5.91000000e+00 9.33170237e-01 2.00000000e-01]\n",
      " [9.33170237e-01 4.50000000e-01 9.33170237e-01 4.00000000e-02]\n",
      " [8.28331046e-01 1.18180000e+02 8.63237663e-01 3.30000000e-01]\n",
      " [8.15263441e-01 2.96000000e+00 8.59896175e-01 2.10000000e-01]\n",
      " [8.04522943e-01 4.60000000e-01 8.63237663e-01 4.00000000e-02]\n",
      " [7.90202279e-01 1.18430000e+02 7.96467570e-01 5.10000000e-01]\n",
      " [8.14487738e-01 1.82000000e+00 7.04099290e-01 2.30000000e-01]\n",
      " [8.06134018e-01 4.80000000e-01 7.82862939e-01 4.00000000e-02]\n",
      " [3.38385345e-01 1.18570000e+02 3.75440062e-01 5.50000000e-01]\n",
      " [8.14368399e-01 1.83000000e+00 5.91622412e-01 2.30000000e-01]\n",
      " [7.30890865e-01 5.10000000e-01 2.72689301e-01 4.00000000e-02]\n",
      " [9.66823796e-01 4.39300000e+01 9.66823796e-01 1.00000000e-01]\n",
      " [9.66823796e-01 2.00000000e-01 9.66823796e-01 1.00000000e-02]\n",
      " [9.66823796e-01 6.00000000e-01 9.66823796e-01 4.00000000e-02]\n",
      " [9.70403962e-01 3.84000000e+01 9.70403962e-01 9.00000000e-02]\n",
      " [9.70403962e-01 2.10000000e-01 9.70403962e-01 1.00000000e-02]\n",
      " [9.70403962e-01 4.30000000e-01 9.70403962e-01 4.00000000e-02]\n",
      " [0.00000000e+00 0.00000000e+00 0.00000000e+00 0.00000000e+00]\n",
      " [0.00000000e+00 0.00000000e+00 0.00000000e+00 0.00000000e+00]\n",
      " [0.00000000e+00 0.00000000e+00 0.00000000e+00 0.00000000e+00]\n",
      " [0.00000000e+00 0.00000000e+00 0.00000000e+00 0.00000000e+00]\n",
      " [0.00000000e+00 0.00000000e+00 0.00000000e+00 0.00000000e+00]\n",
      " [0.00000000e+00 0.00000000e+00 0.00000000e+00 0.00000000e+00]\n",
      " [0.00000000e+00 0.00000000e+00 0.00000000e+00 0.00000000e+00]\n",
      " [0.00000000e+00 0.00000000e+00 0.00000000e+00 0.00000000e+00]\n",
      " [0.00000000e+00 0.00000000e+00 0.00000000e+00 0.00000000e+00]\n",
      " [0.00000000e+00 0.00000000e+00 0.00000000e+00 0.00000000e+00]\n",
      " [0.00000000e+00 0.00000000e+00 0.00000000e+00 0.00000000e+00]\n",
      " [0.00000000e+00 0.00000000e+00 0.00000000e+00 0.00000000e+00]\n",
      " [0.00000000e+00 0.00000000e+00 0.00000000e+00 0.00000000e+00]\n",
      " [0.00000000e+00 0.00000000e+00 0.00000000e+00 0.00000000e+00]\n",
      " [0.00000000e+00 0.00000000e+00 0.00000000e+00 0.00000000e+00]\n",
      " [0.00000000e+00 0.00000000e+00 0.00000000e+00 0.00000000e+00]\n",
      " [0.00000000e+00 0.00000000e+00 0.00000000e+00 0.00000000e+00]\n",
      " [0.00000000e+00 0.00000000e+00 0.00000000e+00 0.00000000e+00]\n",
      " [0.00000000e+00 0.00000000e+00 0.00000000e+00 0.00000000e+00]\n",
      " [0.00000000e+00 0.00000000e+00 0.00000000e+00 0.00000000e+00]\n",
      " [0.00000000e+00 0.00000000e+00 0.00000000e+00 0.00000000e+00]\n",
      " [0.00000000e+00 0.00000000e+00 0.00000000e+00 0.00000000e+00]\n",
      " [0.00000000e+00 0.00000000e+00 0.00000000e+00 0.00000000e+00]\n",
      " [0.00000000e+00 0.00000000e+00 0.00000000e+00 0.00000000e+00]\n",
      " [0.00000000e+00 0.00000000e+00 0.00000000e+00 0.00000000e+00]\n",
      " [0.00000000e+00 0.00000000e+00 0.00000000e+00 0.00000000e+00]\n",
      " [0.00000000e+00 0.00000000e+00 0.00000000e+00 0.00000000e+00]\n",
      " [0.00000000e+00 0.00000000e+00 0.00000000e+00 0.00000000e+00]\n",
      " [0.00000000e+00 0.00000000e+00 0.00000000e+00 0.00000000e+00]\n",
      " [0.00000000e+00 0.00000000e+00 0.00000000e+00 0.00000000e+00]\n",
      " [0.00000000e+00 0.00000000e+00 0.00000000e+00 0.00000000e+00]\n",
      " [0.00000000e+00 0.00000000e+00 0.00000000e+00 0.00000000e+00]\n",
      " [0.00000000e+00 0.00000000e+00 0.00000000e+00 0.00000000e+00]\n",
      " [0.00000000e+00 0.00000000e+00 0.00000000e+00 0.00000000e+00]\n",
      " [0.00000000e+00 0.00000000e+00 0.00000000e+00 0.00000000e+00]\n",
      " [0.00000000e+00 0.00000000e+00 0.00000000e+00 0.00000000e+00]]\n",
      "(63, 4)\n"
     ]
    }
   ],
   "source": [
    "#Comparison for only non random rows\n",
    "\n",
    "\n",
    "\n",
    "union_1 = np.zeros(shape = (len(row_names),4 ))\n",
    "\n",
    "print(len(row_names))\n",
    "print(len(row_names_rep))\n",
    "\n",
    "index = 0\n",
    "new_row_names = []\n",
    "for idx,row_name in enumerate(row_names):\n",
    "    if (\"t=\" in row_name) or (\"s>\" in row_name) or (\"s<\" in row_name):\n",
    "        union_1[index,0] = stats_arr[idx][0]\n",
    "        union_1[index,1] = stats_arr[idx][1]\n",
    "        new_row_names.append(row_name)\n",
    "        if row_name not in row_names_rep:\n",
    "            union_1[index, 2] = -1\n",
    "            union_1[index, 3] = -1\n",
    "        else:\n",
    "            corresponding_idx = row_names_rep.index(row_name)\n",
    "            union_1[index,2] = stats_arr_rep[corresponding_idx][0]\n",
    "            union_1[index,3] = stats_arr_rep[corresponding_idx][1]\n",
    "        index += 1\n",
    "    \n",
    "print(union_1)\n",
    "print(union_1.shape)\n",
    "\n"
   ]
  },
  {
   "cell_type": "code",
   "execution_count": 68,
   "metadata": {},
   "outputs": [
    {
     "data": {
      "image/png": "[encoded data removed]",
      "text/plain": [
       "<Figure size 1332x360 with 1 Axes>"
      ]
     },
     "metadata": {
      "needs_background": "light"
     },
     "output_type": "display_data"
    }
   ],
   "source": [
    "# we want to do a comparison in evaluation accuracy\n",
    "\n",
    "\n",
    "x_axis = []\n",
    "y_axis1 = []\n",
    "y_axis2 = []\n",
    "curr_num = 0\n",
    "for i in range(len(union_1)):\n",
    "    if -1 in union_1[i]:\n",
    "        continue\n",
    "    elif 0 in union_1[i]:\n",
    "        continue\n",
    "    else:\n",
    "        x_axis.append(curr_num)\n",
    "        y_axis1.append(union_1[i][0])\n",
    "        y_axis2.append(union_1[i][2])\n",
    "        curr_num += 1\n",
    "        \n",
    "fig, ax = plt.subplots()\n",
    "fig.set_size_inches(18.5, 5)\n",
    "ax.plot(new_row_names, y_axis1, label='original')\n",
    "ax.plot(new_row_names, y_axis2, label='new')\n",
    "plt.legend(loc='upper right')\n",
    "plt.setp(ax.get_xticklabels(), rotation=90, horizontalalignment='right')\n",
    "plt.show()"
   ]
  },
  {
   "cell_type": "code",
   "execution_count": 69,
   "metadata": {},
   "outputs": [
    {
     "name": "stdout",
     "output_type": "stream",
     "text": [
      "avg time for original pipeline 34.415 seconds\n",
      "avg time for new pipeline 0.172 seconds\n",
      "New pipeline is 199.786 times faster\n",
      "avg accuracy for original pipeline 0.767 %\n",
      "avg accuracy for new pipeline 0.737 %\n",
      "avg accuracy for new is  0.03 worse than original (Note if negative, it means it is better!)\n",
      "avg accuracy for non random columns of original pipeline 0.748 %\n",
      "avg accuracy for non random columns of new pipeline 0.791 %\n",
      "avg accuracy for new is  -0.043 worse than original (Note if negative, it means it is better!)\n"
     ]
    }
   ],
   "source": [
    "\n",
    "union_formatted = union_[1:, :]\n",
    "avg_speed_original = sum(union_formatted[:, 1]) / len(union_formatted[:,1])\n",
    "avg_speed_new = sum(union_formatted[:, 3]) / len(union_formatted[:,3])\n",
    "\n",
    "print(\"avg time for original pipeline\", round(avg_speed_original,3), \"seconds\")\n",
    "print(\"avg time for new pipeline\", round(avg_speed_new,3), \"seconds\")\n",
    "print(\"New pipeline is\", round(avg_speed_original / avg_speed_new,3), \"times faster\")\n",
    "avg_accuracy_original = sum(union_formatted[:,0]) / len(union_formatted[:,0])\n",
    "avg_accuracy_new = sum(union_formatted[:,2]) / len(union_formatted[:,2])\n",
    "print(\"avg accuracy for original pipeline\", round(avg_accuracy_original,3), \"%\")\n",
    "print(\"avg accuracy for new pipeline\", round(avg_accuracy_new,3), \"%\")\n",
    "print(\"avg accuracy for new is \", round(avg_accuracy_original - avg_accuracy_new,3),\"worse than original (Note if negative, it means it is better!)\")\n",
    "\n",
    "union_formatted2 = union_1[1:12,:]\n",
    "avg_accuracy_original_ = sum(union_formatted2[:,0]) / len(union_formatted2[:,0])\n",
    "avg_accuracy_new_ = sum(union_formatted2[:,2]) / len(union_formatted2[:,2])\n",
    "print(\"avg accuracy for non random columns of original pipeline\", round(avg_accuracy_original_,3), \"%\")\n",
    "print(\"avg accuracy for non random columns of new pipeline\", round(avg_accuracy_new_,3), \"%\")\n",
    "print(\"avg accuracy for new is \", round(avg_accuracy_original_ - avg_accuracy_new_,3),\"worse than original (Note if negative, it means it is better!)\")\n",
    "\n",
    "\n",
    "\n"
   ]
  },
  {
   "cell_type": "code",
   "execution_count": 70,
   "metadata": {},
   "outputs": [
    {
     "name": "stdout",
     "output_type": "stream",
     "text": [
      "avg time for original pipeline 0.87 seconds\n",
      "avg time for new pipeline 0.114 seconds\n",
      "New pipeline is 7.628 times faster\n"
     ]
    }
   ],
   "source": [
    "# I want to compute the avg time without linear svm\n",
    "\n",
    "speed_original_no_svm = []\n",
    "speed_new_no_svm = []\n",
    "\n",
    "for idx,row_name in enumerate(row_names[1:]):\n",
    "    if 'svm' not in row_name:\n",
    "        speed_original_no_svm.append(union_formatted[idx, 1])\n",
    "        speed_new_no_svm.append(union_formatted[idx, 3])\n",
    "\n",
    "avg_speed_original_no_svm = sum(speed_original_no_svm) / len(speed_original_no_svm)\n",
    "avg_speed_new_no_svm = sum(speed_new_no_svm) / len(speed_new_no_svm)\n",
    "        \n",
    "print(\"avg time for original pipeline\", round(avg_speed_original_no_svm,3), \"seconds\")\n",
    "print(\"avg time for new pipeline\", round(avg_speed_new_no_svm,3), \"seconds\")\n",
    "print(\"New pipeline is\", round(avg_speed_original_no_svm / avg_speed_new_no_svm,3), \"times faster\")\n",
    "        "
   ]
  },
  {
   "cell_type": "code",
   "execution_count": 39,
   "metadata": {},
   "outputs": [
    {
     "name": "stdout",
     "output_type": "stream",
     "text": [
      "[  0.32   0.5  119.78   5.72   0.47 122.41   5.83   0.47  22.55   5.91\n",
      "   0.45 116.81   0.15   0.47 117.32   0.16   0.48 116.87   0.16   0.42\n",
      " 115.67   0.17   0.43 118.18   2.96   0.46 118.43   1.82   0.48 118.57\n",
      "   1.83   0.51  43.93   0.2    0.6   38.4    0.21   0.43 115.46   0.2\n",
      "   0.45 115.61   0.16   0.45 116.52   0.22   0.42 115.93   0.21   0.41\n",
      " 116.37   0.16   0.42 116.1    0.19   0.43 116.09   0.16   0.45 116.17\n",
      "   0.17   0.43]\n"
     ]
    }
   ],
   "source": [
    "# I want to display the running times and their corresponding speed improvements\n",
    "print(union_formatted[:, 1])\n"
   ]
  },
  {
   "cell_type": "code",
   "execution_count": 40,
   "metadata": {},
   "outputs": [
    {
     "name": "stdout",
     "output_type": "stream",
     "text": [
      "[0.01 0.05 0.89 0.21 0.04 0.69 0.24 0.04 0.09 0.2  0.04 0.23 0.22 0.05\n",
      " 0.26 0.01 0.05 0.22 0.22 0.05 0.21 0.21 0.05 0.33 0.21 0.04 0.51 0.23\n",
      " 0.04 0.55 0.23 0.04 0.1  0.01 0.04 0.09 0.01 0.04 0.21 0.3  0.04 0.21\n",
      " 0.23 0.04 0.22 0.24 0.04 0.21 0.11 0.04 0.21 0.27 0.04 0.21 0.31 0.04\n",
      " 0.22 0.31 0.04 0.23 0.12 0.04]\n"
     ]
    }
   ],
   "source": [
    "print(union_formatted[:, 3])"
   ]
  },
  {
   "cell_type": "code",
   "execution_count": 41,
   "metadata": {},
   "outputs": [
    {
     "name": "stdout",
     "output_type": "stream",
     "text": [
      "['t=car pca_svm', 't=car dnn', 't=car pca_rf', 't=van pca_svm', 't=van dnn', 't=van pca_rf', 't=bus pca_svm', 't=bus dnn', 't=bus pca_rf', 't=others pca_svm', 't=others dnn', 't=others pca_rf', 'c=red pca_svm', 'c=red dnn', 'c=red pca_rf', 'c=white pca_svm', 'c=white dnn', 'c=white pca_rf', 'c=black pca_svm', 'c=black dnn', 'c=black pca_rf', 'c=silver pca_svm', 'c=silver dnn', 'c=silver pca_rf', 's>40 pca_svm', 's>40 dnn', 's>40 pca_rf', 's>50 pca_svm', 's>50 dnn', 's>50 pca_rf', 's>60 pca_svm', 's>60 dnn', 's>60 pca_rf', 's<65 pca_svm', 's<65 dnn', 's<65 pca_rf', 's<70 pca_svm', 's<70 dnn', 's<70 pca_rf', 'i=pt335 pca_svm', 'i=pt335 dnn', 'i=pt335 pca_rf', 'i=pt211 pca_svm', 'i=pt211 dnn', 'i=pt211 pca_rf', 'i=pt342 pca_svm', 'i=pt342 dnn', 'i=pt342 pca_rf', 'i=pt208 pca_svm', 'i=pt208 dnn', 'i=pt208 pca_rf', 'o=pt335 pca_svm', 'o=pt335 dnn', 'o=pt335 pca_rf', 'o=pt211 pca_svm', 'o=pt211 dnn', 'o=pt211 pca_rf', 'o=pt342 pca_svm', 'o=pt342 dnn', 'o=pt342 pca_rf', 'o=pt208 pca_svm', 'o=pt208 dnn', 'o=pt208 pca_rf']\n"
     ]
    }
   ],
   "source": [
    "print(row_names)"
   ]
  },
  {
   "cell_type": "code",
   "execution_count": null,
   "metadata": {},
   "outputs": [],
   "source": []
  }
 ],
 "metadata": {
  "kernelspec": {
   "display_name": "Python 3",
   "language": "python",
   "name": "python3"
  },
  "language_info": {
   "codemirror_mode": {
    "name": "ipython",
    "version": 3
   },
   "file_extension": ".py",
   "mimetype": "text/x-python",
   "name": "python",
   "nbconvert_exporter": "python",
   "pygments_lexer": "ipython3",
   "version": "3.6.8"
  }
 },
 "nbformat": 4,
 "nbformat_minor": 2
}
