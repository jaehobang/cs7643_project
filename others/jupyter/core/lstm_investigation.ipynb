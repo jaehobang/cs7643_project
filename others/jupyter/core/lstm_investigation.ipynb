{
 "cells": [
  {
   "cell_type": "code",
   "execution_count": 1,
   "metadata": {},
   "outputs": [
    {
     "name": "stdout",
     "output_type": "stream",
     "text": [
      "Populating the interactive namespace from numpy and matplotlib\n"
     ]
    }
   ],
   "source": [
    "\n",
    "%pylab inline\n",
    "import os\n",
    "import cv2\n",
    "import time\n",
    "import numpy as np\n",
    "import pandas as pd\n",
    "\n",
    "import torch\n",
    "import torchvision as tv\n",
    "import torchvision.transforms as transforms\n",
    "import torch.nn as nn\n",
    "import torch.nn.functional as F\n",
    "from torch.autograd import Variable\n",
    "from torchvision.utils import save_image\n",
    "\n",
    "\n",
    "os.getcwd()\n",
    "home_dir = os.path.abspath('../../../')\n",
    "data_dir = os.path.join(home_dir, 'data', 'ua_detrac',  'DETRAC-Images')\n",
    "data_dir\n",
    "\n",
    "home_dir\n",
    "\n",
    "filter_path = os.path.join(home_dir, 'filters')\n",
    "loader_path = os.path.join(home_dir, 'loaders')\n",
    "\n",
    "sys.path.append(home_dir)\n",
    "sys.path.append(loader_path)\n",
    "sys.path.append(filter_path)"
   ]
  },
  {
   "cell_type": "code",
   "execution_count": 2,
   "metadata": {},
   "outputs": [
    {
     "name": "stderr",
     "output_type": "stream",
     "text": [
      "  0%|          | 5/10427 [00:00<03:42, 46.76it/s]"
     ]
    },
    {
     "name": "stdout",
     "output_type": "stream",
     "text": [
      "image directory is  /home/jbang36/eva/data/ua_detrac/small-data\n",
      "Length of file_names: 10427\n"
     ]
    },
    {
     "name": "stderr",
     "output_type": "stream",
     "text": [
      "100%|██████████| 10427/10427 [01:21<00:00, 128.22it/s]\n",
      "1it [00:00,  2.39it/s]"
     ]
    },
    {
     "name": "stdout",
     "output_type": "stream",
     "text": [
      "MVI_20011.xml\n",
      "mvi length: 665\n",
      "car_labels length: 665\n"
     ]
    },
    {
     "name": "stderr",
     "output_type": "stream",
     "text": [
      "2it [00:00,  2.35it/s]"
     ]
    },
    {
     "name": "stdout",
     "output_type": "stream",
     "text": [
      "MVI_20012.xml\n",
      "mvi length: 1602\n",
      "car_labels length: 1602\n",
      "MVI_20032.xml\n",
      "mvi length: 2040\n",
      "car_labels length: 2040\n"
     ]
    },
    {
     "name": "stderr",
     "output_type": "stream",
     "text": [
      "4it [00:01,  2.90it/s]"
     ]
    },
    {
     "name": "stdout",
     "output_type": "stream",
     "text": [
      "MVI_20033.xml\n",
      "mvi length: 2825\n",
      "car_labels length: 2825\n"
     ]
    },
    {
     "name": "stderr",
     "output_type": "stream",
     "text": [
      "5it [00:01,  2.80it/s]"
     ]
    },
    {
     "name": "stdout",
     "output_type": "stream",
     "text": [
      "MVI_20034.xml\n",
      "mvi length: 3625\n",
      "car_labels length: 3625\n"
     ]
    },
    {
     "name": "stderr",
     "output_type": "stream",
     "text": [
      "6it [00:01,  2.66it/s]"
     ]
    },
    {
     "name": "stdout",
     "output_type": "stream",
     "text": [
      "MVI_20035.xml\n",
      "mvi length: 4425\n",
      "car_labels length: 4425\n"
     ]
    },
    {
     "name": "stderr",
     "output_type": "stream",
     "text": [
      "7it [00:02,  2.63it/s]"
     ]
    },
    {
     "name": "stdout",
     "output_type": "stream",
     "text": [
      "MVI_20051.xml\n",
      "mvi length: 5332\n",
      "car_labels length: 5332\n"
     ]
    },
    {
     "name": "stderr",
     "output_type": "stream",
     "text": [
      "8it [00:02,  2.73it/s]"
     ]
    },
    {
     "name": "stdout",
     "output_type": "stream",
     "text": [
      "MVI_20052.xml\n",
      "mvi length: 6026\n",
      "car_labels length: 6026\n"
     ]
    },
    {
     "name": "stderr",
     "output_type": "stream",
     "text": [
      "10it [00:03,  3.32it/s]"
     ]
    },
    {
     "name": "stdout",
     "output_type": "stream",
     "text": [
      "MVI_20061.xml\n",
      "mvi length: 6826\n",
      "car_labels length: 6826\n",
      "MVI_20062.xml\n",
      "mvi length: 7626\n",
      "car_labels length: 7626\n"
     ]
    },
    {
     "name": "stderr",
     "output_type": "stream",
     "text": [
      "11it [00:03,  3.42it/s]"
     ]
    },
    {
     "name": "stdout",
     "output_type": "stream",
     "text": [
      "MVI_20063.xml\n",
      "mvi length: 8426\n",
      "car_labels length: 8426\n"
     ]
    },
    {
     "name": "stderr",
     "output_type": "stream",
     "text": [
      "12it [00:04,  2.62it/s]"
     ]
    },
    {
     "name": "stdout",
     "output_type": "stream",
     "text": [
      "MVI_20064.xml\n",
      "mvi length: 9226\n",
      "car_labels length: 9226\n"
     ]
    },
    {
     "name": "stderr",
     "output_type": "stream",
     "text": [
      "13it [00:04,  2.11it/s]"
     ]
    },
    {
     "name": "stdout",
     "output_type": "stream",
     "text": [
      "MVI_20065.xml\n",
      "mvi length: 10427\n",
      "car_labels length: 10427\n",
      "Total time to load small data is 86.16839098930359 seconds\n"
     ]
    },
    {
     "name": "stderr",
     "output_type": "stream",
     "text": [
      "\n"
     ]
    }
   ],
   "source": [
    "# Load the data\n",
    "from loaders.load import Load\n",
    "\n",
    "start_time = time.time()\n",
    "load = Load()\n",
    "\n",
    "eva_dir = home_dir\n",
    "image_dir = os.path.join(eva_dir, \"data\", \"ua_detrac\", \"small-data\")\n",
    "anno_dir = os.path.join(eva_dir, \"data\", \"ua_detrac\", \"small-annotations\")\n",
    "\n",
    "X, length_per_mvi = load.load_images(image_dir, grayscale = False)\n",
    "Y_dict = load.load_XML(anno_dir, X, length_per_mvi)\n",
    "\n",
    "print(\"Total time to load small data is\", time.time() - start_time, \"seconds\")"
   ]
  },
  {
   "cell_type": "code",
   "execution_count": 3,
   "metadata": {},
   "outputs": [],
   "source": [
    "\n",
    "def _split_train_test(X,Y_dict):\n",
    "    n_samples, _, _, _= X.shape\n",
    "    train_index_end = int(len(X) * 0.8)\n",
    "\n",
    "    X_train = X[:train_index_end]\n",
    "    X_test = X[train_index_end:]\n",
    "\n",
    "    Y_dict_train = {}\n",
    "    Y_dict_test = {}\n",
    "    for column in Y_dict:\n",
    "        Y_dict_train[column] = Y_dict[column][:train_index_end]\n",
    "        Y_dict_test[column] = Y_dict[column][train_index_end:]\n",
    "\n",
    "    return X_train, X_test, Y_dict_train, Y_dict_test\n",
    "\n",
    "X_train, X_test, Y_train_dict, Y_test_dict = _split_train_test(X, Y_dict)\n",
    "\n"
   ]
  },
  {
   "cell_type": "code",
   "execution_count": 4,
   "metadata": {},
   "outputs": [],
   "source": [
    "\n",
    "X_train_norm = np.copy(X_train)\n",
    "X_test_norm = np.copy(X_test)\n",
    "\n",
    "def _format_image_fixed(X, height, width):\n",
    "    n_samples,_,_,channels = X.shape\n",
    "    X_new = np.ndarray(shape=(n_samples, height, width, channels))\n",
    "    for i in range(n_samples):\n",
    "        X_new[i] = cv2.resize(X[i],  (width,height))\n",
    "    \n",
    "    X_new /= 255.0\n",
    "        \n",
    "    return X_new\n",
    "\n",
    "\n",
    "def _format_image(X, sampling_rate=12):\n",
    "    print(\"before:\", X.shape)\n",
    "    reduction_rate = sampling_rate\n",
    "    # need to down shape them so that the kernels can train faster\n",
    "    # image should be num_samples, height, width, channel\n",
    "    downsampled_images = X[:, ::reduction_rate, ::reduction_rate, :]\n",
    "    downsampled_images = downsampled_images.astype(np.float32)\n",
    "    print(\"After change, shape of image is\", downsampled_images.shape)\n",
    "    downsampled_images /= 255.0\n",
    "    return downsampled_images\n",
    "\n",
    "X_train_norm = _format_image_fixed(X_train_norm, 40, 80)\n",
    "X_test_norm = _format_image_fixed(X_test_norm, 40, 80)"
   ]
  },
  {
   "cell_type": "code",
   "execution_count": 5,
   "metadata": {},
   "outputs": [],
   "source": [
    "X_train_norm = X_train_norm[1:] #we need to skip the first image because it is black...."
   ]
  },
  {
   "cell_type": "code",
   "execution_count": 6,
   "metadata": {},
   "outputs": [
    {
     "name": "stdout",
     "output_type": "stream",
     "text": [
      "40 80 3\n"
     ]
    },
    {
     "data": {
      "image/png": "[encoded data removed]",
      "text/plain": [
       "<Figure size 432x288 with 1 Axes>"
      ]
     },
     "metadata": {
      "needs_background": "light"
     },
     "output_type": "display_data"
    }
   ],
   "source": [
    "\n",
    "example = X_train_norm[0]\n",
    "width, height, channels = example.shape\n",
    "print(width, height, channels)\n",
    "example = example * 255.0\n",
    "example = example.astype(np.uint8)\n",
    "\n",
    "plt.imshow(example)\n",
    "plt.show()\n"
   ]
  },
  {
   "cell_type": "code",
   "execution_count": 7,
   "metadata": {},
   "outputs": [],
   "source": [
    "import gc\n",
    "gc.collect()\n",
    "\n",
    "\n",
    "torch.cuda.empty_cache() \n",
    "os.environ[\"CUDA_VISIBLE_DEVICES\"]=\"0\"\n",
    "torch.cuda.set_device(0)"
   ]
  },
  {
   "cell_type": "code",
   "execution_count": 8,
   "metadata": {},
   "outputs": [],
   "source": [
    "\n",
    "# Writing our model\n",
    "class Autoencoder_lstm(nn.Module):\n",
    "    def __init__(self):\n",
    "        super(Autoencoder_lstm,self).__init__()\n",
    "        \n",
    "        self.K = 10\n",
    "        self.output_channels = 3\n",
    "        self.input_channels = 6\n",
    "        self.middle_neural_count = 100\n",
    "        self.division = 0.3\n",
    "        self.series_length = 8\n",
    "        \n",
    "        self.create_enc()\n",
    "        input_shape = (64, 64, 10, 20)\n",
    "        self.create_central(input_shape)\n",
    "        self.create_decoder_b()\n",
    "        self.create_decoder_d()\n",
    "        self.create_final_conv_layer()\n",
    "        \n",
    "        \n",
    "    def forward(self,x):\n",
    "        x1 = self.u_enc1(x)\n",
    "        x2 = self.u_enc2(x1)\n",
    "        x3 = self.u_enc3(x2)\n",
    "        n,c,h,w = x3.shape #this will be either a batch of 32 or 64 - divisible by 8\n",
    "        # we want to reshape the input so that shape = (self.series_length, batch, input_size)\n",
    "        \n",
    "        #compressed, (self.h, self.c) = self.central_layers1(x3.view(self.series_length, int(n / self.series_length), c*h*w), \n",
    "        #                                                    (self.h, self.c))\n",
    "        compressed = self.central_layers1(x3.view(self.series_length, int(n / self.series_length), c*h*w))\n",
    "        compressed = compressed.reshape(n,-1)\n",
    "        background, foreground = compressed[:, :int(self.division*compressed.shape[1])], compressed[:, int(self.division*compressed.shape[1]):]\n",
    "        background_ext, _ = self.central_layers3(background.view(self.series_length, int(n / self.series_length), -1))\n",
    "        foreground_ext, _ = self.central_layers4(foreground.view(self.series_length, int(n / self.series_length), -1))\n",
    "        \n",
    "        xb1 = self.u_decb1(torch.cat( (x3, background_ext.view(n,c,h,w)), dim = 1))\n",
    "        xb2 = self.u_decb2(torch.cat( (x2, xb1), dim = 1))\n",
    "        background_regen = self.u_decb3(torch.cat( (x1, xb2), dim = 1))\n",
    "        \n",
    "        xd1 = self.u_decd1(torch.cat( (x3,foreground_ext.view(n,c,h,w)), dim = 1))\n",
    "        xd2 = self.u_decd2(torch.cat( (x2, xd1), dim = 1))\n",
    "        foreground_regen = self.u_decd3(torch.cat( (x1,xd2), dim = 1))\n",
    "        #print(background_regen.size())\n",
    "        #print(foreground_regen.size())\n",
    "        final_regen = torch.cat((background_regen, foreground_regen), dim = 1)\n",
    "        #print(final_regen.size())\n",
    "        final_regen = self.final(final_regen)\n",
    "        \n",
    "        \n",
    "        #------\n",
    "        #print(\"background shape: \", background.size())\n",
    "        #print(\"foreground shape: \", foreground.size())\n",
    "        \n",
    "        return [compressed, background_regen, foreground_regen, final_regen]\n",
    "    \n",
    "    \n",
    "    def create_enc(self):\n",
    "        self.u_enc1 = nn.Sequential()\n",
    "        self.u_enc1.add_module('Conv1_1', nn.Conv2d(self.input_channels, 16, kernel_size=3, padding = (1,1)))\n",
    "        self.u_enc1.add_module('Relu1_2', nn.ReLU(True))\n",
    "        self.u_enc1.add_module('Conv1_3', nn.Conv2d(16,16,kernel_size=3, padding = (1,1)))\n",
    "        self.u_enc1.add_module('Relu1_4', nn.ReLU(True))\n",
    "        \n",
    "        self.u_enc2 = nn.Sequential()\n",
    "        self.u_enc2.add_module('Max2_0', nn.MaxPool2d(2, stride = 2))\n",
    "        self.u_enc2.add_module('Conv2_1', nn.Conv2d(16, 32, kernel_size=3, padding = (1,1)))\n",
    "        self.u_enc2.add_module('Relu2_2', nn.ReLU(True))\n",
    "        self.u_enc2.add_module('Conv2_3', nn.Conv2d(32, 32, kernel_size=3, padding = (1,1)))\n",
    "        self.u_enc2.add_module('Relu2_4', nn.ReLU(True))\n",
    "        \n",
    "        self.u_enc3 = nn.Sequential()\n",
    "        self.u_enc3.add_module('Max3_0', nn.MaxPool2d(2, stride = 2))\n",
    "        self.u_enc3.add_module('Conv3_1', nn.Conv2d(32, 64, kernel_size=3, padding = (1,1)))\n",
    "        self.u_enc3.add_module('Relu3_2', nn.ReLU(True))\n",
    "        self.u_enc3.add_module('Conv3_3', nn.Conv2d(64, 64, kernel_size=3, padding = (1,1)))\n",
    "        self.u_enc3.add_module('Relu3_4', nn.ReLU(True))\n",
    "       \n",
    "    \n",
    "    def create_central(self, input_shape):\n",
    "        n,c,h,w = input_shape\n",
    "        self.central_layers1 = nn.Sequential()\n",
    "        self.central_layers1.add_module('Mlp', nn.Linear(c*h*w, self.middle_neural_count))\n",
    "        \n",
    "        self.central_layers3 = nn.Sequential()\n",
    "        self.central_layers3.add_module('LSTM_back', nn.LSTM(input_size = int(self.division*self.middle_neural_count), hidden_size = c*h*w))\n",
    "        \n",
    "        self.central_layers4 = nn.Sequential()\n",
    "        self.central_layers4.add_module('LSTM_front', nn.LSTM(input_size = int(self.middle_neural_count*(1-self.division)), hidden_size = c*h*w))\n",
    "        \n",
    "    def create_decoder_b(self):\n",
    "        self.u_decb1 = nn.Sequential()\n",
    "        self.u_decb1.add_module('Conv4_2', nn.Conv2d(128, 64, kernel_size=3, padding = (1,1)))\n",
    "        self.u_decb1.add_module('Relu4_3', nn.ReLU(True))\n",
    "        self.u_decb1.add_module('Conv4_4', nn.Conv2d(64, 32, kernel_size=3, padding = (1,1)))\n",
    "        self.u_decb1.add_module('Relu4_5', nn.ReLU(True))\n",
    "        self.u_decb1.add_module('CT4_6', nn.ConvTranspose2d(32, 32, kernel_size = 2, stride = 2))\n",
    "        \n",
    "        \n",
    "        self.u_decb2 = nn.Sequential()\n",
    "        self.u_decb2.add_module('Conv5_2', nn.Conv2d(64, 32, kernel_size=3, padding = (1,1)))\n",
    "        self.u_decb2.add_module('Relu5_3', nn.ReLU(True))\n",
    "        self.u_decb2.add_module('Conv5_4', nn.Conv2d(32, 16, kernel_size=3, padding = (1,1)))\n",
    "        self.u_decb2.add_module('Relu5_5', nn.ReLU(True))\n",
    "        self.u_decb2.add_module('CT5_6', nn.ConvTranspose2d(16, 16, kernel_size = 2, stride = 2))\n",
    "        \n",
    "        \n",
    "        self.u_decb3 = nn.Sequential()\n",
    "        self.u_decb3.add_module('Conv6_2', nn.Conv2d(32, 8, kernel_size=3, padding = (1,1)))\n",
    "        self.u_decb3.add_module('Relu6_3', nn.ReLU(True))\n",
    "        self.u_decb3.add_module('Conv6_4', nn.Conv2d(8, self.output_channels, kernel_size=3, padding = (1,1)))\n",
    "        self.u_decb3.add_module('Relu6_5', nn.ReLU(True))\n",
    "        \n",
    "    def create_decoder_d(self):\n",
    "        self.u_decd1 = nn.Sequential()\n",
    "        #self.u_decd1.add_module('CT4_1', nn.ConvTranspose2d(64, 64, kernel_size = 2, stride = 2))\n",
    "        self.u_decd1.add_module('Conv4_2', nn.Conv2d(128, 64, kernel_size=3, padding = (1,1)))\n",
    "        self.u_decd1.add_module('Relu4_3', nn.ReLU(True))\n",
    "        self.u_decd1.add_module('Conv4_4', nn.Conv2d(64, 32, kernel_size=3, padding = (1,1)))\n",
    "        self.u_decd1.add_module('Relu4_5', nn.ReLU(True))\n",
    "        self.u_decd1.add_module('CT4_6', nn.ConvTranspose2d(32, 32, kernel_size = 2, stride = 2))\n",
    "        \n",
    "        \n",
    "        self.u_decd2 = nn.Sequential()\n",
    "        self.u_decd2.add_module('Conv5_2', nn.Conv2d(64, 32, kernel_size=3, padding = (1,1)))\n",
    "        self.u_decd2.add_module('Relu5_3', nn.ReLU(True))\n",
    "        self.u_decd2.add_module('Conv5_4', nn.Conv2d(32, 16, kernel_size=3, padding = (1,1)))\n",
    "        self.u_decd2.add_module('Relu5_5', nn.ReLU(True))\n",
    "        self.u_decd2.add_module('CT5_6', nn.ConvTranspose2d(16, 16, kernel_size = 2, stride = 2))\n",
    "        \n",
    "        \n",
    "        self.u_decd3 = nn.Sequential()\n",
    "        self.u_decd3.add_module('Conv6_2', nn.Conv2d(32, 8, kernel_size=3, padding = (1,1)))\n",
    "        self.u_decd3.add_module('Relu6_3', nn.ReLU(True))\n",
    "        self.u_decd3.add_module('Conv6_4', nn.Conv2d(8, self.output_channels, kernel_size=3, padding = (1,1)))\n",
    "        self.u_decd3.add_module('Relu6_5', nn.ReLU(True))\n",
    "        \n",
    "    def create_final_conv_layer(self):\n",
    "        self.final = nn.Sequential()\n",
    "        self.final.add_module('Conv7_1', nn.Conv2d(self.output_channels*2,self.output_channels,kernel_size = 1 ))\n",
    "        self.final.add_module('Relu7_2', nn.ReLU(True))\n",
    "    "
   ]
  },
  {
   "cell_type": "code",
   "execution_count": 9,
   "metadata": {},
   "outputs": [],
   "source": [
    "model = Autoencoder_lstm().cuda()\n",
    "distance = nn.MSELoss()\n",
    "\n",
    "# Loss Function Revision\n",
    "\n",
    "batch_size = 64\n",
    "n_samples, H, W, C = X_train_norm.shape\n",
    "\n",
    "train_data = torch.from_numpy(X_train_norm).float()\n",
    "train_data = train_data.permute(0,3,1,2)\n",
    "train_loader = torch.utils.data.DataLoader(train_data, shuffle=False, batch_size=batch_size, num_workers=4, drop_last=True)\n",
    "\n",
    "#dist_diff_matrix = calculate_dist_matrix(batch_size, H,W)"
   ]
  },
  {
   "cell_type": "code",
   "execution_count": 10,
   "metadata": {},
   "outputs": [],
   "source": [
    "def convert(recon):\n",
    "    recon_p = recon.permute(0,2,3,1)\n",
    "    #print(recon_p.size())\n",
    "    recon_imgs = recon_p.detach().cpu().numpy()\n",
    "    recon_imgs *= 255\n",
    "    recon_imgs = recon_imgs.astype(np.uint8)\n",
    "    return recon_imgs"
   ]
  },
  {
   "cell_type": "code",
   "execution_count": 11,
   "metadata": {},
   "outputs": [
    {
     "ename": "RuntimeError",
     "evalue": "CUDA out of memory. Tried to allocate 2.44 GiB (GPU 0; 23.88 GiB total capacity; 19.66 GiB already allocated; 1.18 GiB free; 2.51 GiB cached)",
     "output_type": "error",
     "traceback": [
      "\u001b[0;31m---------------------------------------------------------------------------\u001b[0m",
      "\u001b[0;31mRuntimeError\u001b[0m                              Traceback (most recent call last)",
      "\u001b[0;32m<ipython-input-11-bce8c52d4017>\u001b[0m in \u001b[0;36m<module>\u001b[0;34m\u001b[0m\n\u001b[1;32m     42\u001b[0m         \u001b[0mloss_all\u001b[0m\u001b[0;34m.\u001b[0m\u001b[0mbackward\u001b[0m\u001b[0;34m(\u001b[0m\u001b[0;34m)\u001b[0m\u001b[0;34m\u001b[0m\u001b[0;34m\u001b[0m\u001b[0m\n\u001b[1;32m     43\u001b[0m         \u001b[0;31m#print_grad(\"After 2nd loss backward\")\u001b[0m\u001b[0;34m\u001b[0m\u001b[0;34m\u001b[0m\u001b[0;34m\u001b[0m\u001b[0m\n\u001b[0;32m---> 44\u001b[0;31m         \u001b[0moptimizer\u001b[0m\u001b[0;34m.\u001b[0m\u001b[0mstep\u001b[0m\u001b[0;34m(\u001b[0m\u001b[0;34m)\u001b[0m\u001b[0;34m\u001b[0m\u001b[0;34m\u001b[0m\u001b[0m\n\u001b[0m\u001b[1;32m     45\u001b[0m         \u001b[0;31m#print_grad(\"After 2nd grad application\")\u001b[0m\u001b[0;34m\u001b[0m\u001b[0;34m\u001b[0m\u001b[0;34m\u001b[0m\u001b[0m\n\u001b[1;32m     46\u001b[0m \u001b[0;34m\u001b[0m\u001b[0m\n",
      "\u001b[0;32m~/anaconda3/envs/eva_37/lib/python3.7/site-packages/torch/optim/adam.py\u001b[0m in \u001b[0;36mstep\u001b[0;34m(self, closure)\u001b[0m\n\u001b[1;32m     99\u001b[0m                     \u001b[0mdenom\u001b[0m \u001b[0;34m=\u001b[0m \u001b[0mmax_exp_avg_sq\u001b[0m\u001b[0;34m.\u001b[0m\u001b[0msqrt\u001b[0m\u001b[0;34m(\u001b[0m\u001b[0;34m)\u001b[0m\u001b[0;34m.\u001b[0m\u001b[0madd_\u001b[0m\u001b[0;34m(\u001b[0m\u001b[0mgroup\u001b[0m\u001b[0;34m[\u001b[0m\u001b[0;34m'eps'\u001b[0m\u001b[0;34m]\u001b[0m\u001b[0;34m)\u001b[0m\u001b[0;34m\u001b[0m\u001b[0;34m\u001b[0m\u001b[0m\n\u001b[1;32m    100\u001b[0m                 \u001b[0;32melse\u001b[0m\u001b[0;34m:\u001b[0m\u001b[0;34m\u001b[0m\u001b[0;34m\u001b[0m\u001b[0m\n\u001b[0;32m--> 101\u001b[0;31m                     \u001b[0mdenom\u001b[0m \u001b[0;34m=\u001b[0m \u001b[0mexp_avg_sq\u001b[0m\u001b[0;34m.\u001b[0m\u001b[0msqrt\u001b[0m\u001b[0;34m(\u001b[0m\u001b[0;34m)\u001b[0m\u001b[0;34m.\u001b[0m\u001b[0madd_\u001b[0m\u001b[0;34m(\u001b[0m\u001b[0mgroup\u001b[0m\u001b[0;34m[\u001b[0m\u001b[0;34m'eps'\u001b[0m\u001b[0;34m]\u001b[0m\u001b[0;34m)\u001b[0m\u001b[0;34m\u001b[0m\u001b[0;34m\u001b[0m\u001b[0m\n\u001b[0m\u001b[1;32m    102\u001b[0m \u001b[0;34m\u001b[0m\u001b[0m\n\u001b[1;32m    103\u001b[0m                 \u001b[0mbias_correction1\u001b[0m \u001b[0;34m=\u001b[0m \u001b[0;36m1\u001b[0m \u001b[0;34m-\u001b[0m \u001b[0mbeta1\u001b[0m \u001b[0;34m**\u001b[0m \u001b[0mstate\u001b[0m\u001b[0;34m[\u001b[0m\u001b[0;34m'step'\u001b[0m\u001b[0;34m]\u001b[0m\u001b[0;34m\u001b[0m\u001b[0;34m\u001b[0m\u001b[0m\n",
      "\u001b[0;31mRuntimeError\u001b[0m: CUDA out of memory. Tried to allocate 2.44 GiB (GPU 0; 23.88 GiB total capacity; 19.66 GiB already allocated; 1.18 GiB free; 2.51 GiB cached)"
     ]
    }
   ],
   "source": [
    "## Paper training stats\n",
    "# learning_rate = 0.003\n",
    "# dropout rate is 0.65\n",
    "# batch size is 10\n",
    "# learning rate dropped by 10 every 1000 iteration\n",
    "# training stopped at 50000 iterations (assuming this is epoch)\n",
    "learning_rate = 0.0001 # our loop starts by dividing 10\n",
    "total_epochs = 300\n",
    "l2_reg = 1e-5\n",
    "\n",
    "\n",
    "optimizer = torch.optim.Adam(model.parameters(), lr=learning_rate, weight_decay = l2_reg)\n",
    "loss_amp_factor = 1\n",
    "#optimizer = torch.optim.SGD(model.parameters(),lr=learning_rate, momentum=0.9)\n",
    "for epoch in range(total_epochs):\n",
    " #   if epoch % 1000 == 0:\n",
    " #       optimizer = torch.optim.SGD(model.parameters(),lr=learning_rate, momentum=0.9)\n",
    "    \n",
    "    st = time.perf_counter()\n",
    "    for i, images in enumerate(train_loader):    # Ignore image labels\n",
    "        images_cuda = images.cuda()\n",
    "        background_img = torch.mean(images_cuda, dim = 0)\n",
    "        background_imgs = background_img.unsqueeze_(0)\n",
    "        background_imgs = background_imgs.expand(batch_size,-1,-1,-1)\n",
    "        images_input_cuda = torch.cat((images_cuda, background_imgs), dim = 1) #concatenate them as channels..\n",
    "        compressed, background, foreground, final = model(images_input_cuda)  \n",
    "        #print_grad(\"Before zero_grad\") ##\n",
    "\n",
    "        optimizer.zero_grad()\n",
    "        #print_grad(\"After zero_grad\") ##\n",
    "        \n",
    "        #print(background_imgs.size())\n",
    "        #print(background.size())\n",
    "        assert(background_imgs.size() == background.size())\n",
    "        loss_back = distance(background, background_imgs)\n",
    "        #loss_back = loss_amp_factor * distance(background, background_imgs)\n",
    "        loss_back.backward(retain_graph=True)\n",
    "        optimizer.step()\n",
    "        optimizer.zero_grad()\n",
    "        assert(background.shape == foreground.shape)\n",
    "        loss_all = distance(final, images_cuda)\n",
    "        loss_all.backward()\n",
    "        #print_grad(\"After 2nd loss backward\")\n",
    "        optimizer.step()\n",
    "        #print_grad(\"After 2nd grad application\")\n",
    "        \n",
    "        # while training, I want to investigate how my images change...so let's write code for that\n",
    "        if epoch % 5 == 0 and i == 0:\n",
    "            background_ref_cpu = convert(background_imgs)\n",
    "            background_cpu = convert(background)\n",
    "            foreground_cpu = convert(foreground)\n",
    "            original_cpu = convert(images_cuda)\n",
    "            final_cpu = convert(final)\n",
    "            \n",
    "            \n",
    "            fig = plt.figure(figsize=(40,80))\n",
    "            columns = 5\n",
    "            rows = 1\n",
    "            for j in range(columns):\n",
    "                fig.add_subplot(rows,columns,j + 1)\n",
    "                if j == 0:     \n",
    "                    plt.imshow(original_cpu[0])\n",
    "                if j == 1:\n",
    "                    plt.imshow(final_cpu[0])\n",
    "                if j == 2:\n",
    "                    plt.imshow(background_ref_cpu[0])\n",
    "                if j == 3:\n",
    "                    plt.imshow(background_cpu[0])\n",
    "                if j == 4:\n",
    "                    plt.imshow(foreground_cpu[0])\n",
    "\n",
    "            plt.show()\n",
    "\n",
    "    print('epoch [{}/{}], loss_total:{:.4f}, loss_background:{:.4f}, loss_all:{:.4f}, time elapsed:{:.4f} (sec)'.format(epoch+1, total_epochs, loss_back.data + loss_all.data, loss_back.data, loss_all.data, time.perf_counter() - st))\n",
    "    "
   ]
  },
  {
   "cell_type": "code",
   "execution_count": null,
   "metadata": {},
   "outputs": [],
   "source": []
  }
 ],
 "metadata": {
  "kernelspec": {
   "display_name": "Python 3",
   "language": "python",
   "name": "python3"
  },
  "language_info": {
   "codemirror_mode": {
    "name": "ipython",
    "version": 3
   },
   "file_extension": ".py",
   "mimetype": "text/x-python",
   "name": "python",
   "nbconvert_exporter": "python",
   "pygments_lexer": "ipython3",
   "version": "3.7.3"
  }
 },
 "nbformat": 4,
 "nbformat_minor": 2
}
