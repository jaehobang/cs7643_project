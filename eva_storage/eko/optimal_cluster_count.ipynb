{
 "cells": [
  {
   "cell_type": "code",
   "execution_count": 1,
   "metadata": {},
   "outputs": [],
   "source": [
    "### how about we try finding the optimal cluster count?"
   ]
  },
  {
   "cell_type": "code",
   "execution_count": 5,
   "metadata": {},
   "outputs": [
    {
     "name": "stdout",
     "output_type": "stream",
     "text": [
      "Populating the interactive namespace from numpy and matplotlib\n",
      "The autoreload extension is already loaded. To reload it, use:\n",
      "  %reload_ext autoreload\n"
     ]
    }
   ],
   "source": [
    "### in this file, we experiment with feature extraction\n",
    "\n",
    "%pylab inline\n",
    "%load_ext autoreload\n",
    "%autoreload 2\n",
    "\n",
    "import os\n",
    "import sys\n",
    "sys.argv=['']\n",
    "sys.path.append('/nethome/jbang36/eva_jaeho')\n",
    "\n",
    "\n",
    "\n",
    "import numpy as np\n",
    "#import utils.helpers as helpers\n",
    "import utils as helpers\n",
    "from loaders.uadetrac_loader import UADetracLoader\n",
    "from eva_storage.UNet import UNet\n",
    "from eva_storage.clusterModule import ClusterModule\n",
    "from filters.minimum_filter import FilterMinimum\n",
    "\n",
    "from loaders.seattle_loader import SeattleLoader\n",
    "from eva_storage.sampling_experiments.sampling_utils import *\n",
    "from eva_storage.analysis.sampling_analysis_tools import *\n",
    "from eva_storage.featureExtractionMethods import *\n",
    "from eva_storage.temporalClusterModule import *\n",
    "from eva_storage.samplingMethods import *\n",
    "from eva_storage.sampling_experiments.noscope_sample_ssd_evaluation import *\n",
    "from loaders.pp_loader import PPLoader\n",
    "\n",
    "from eva_storage.jvc.preprocessor import Preprocessor\n",
    "\n",
    "import cv2"
   ]
  },
  {
   "cell_type": "code",
   "execution_count": 3,
   "metadata": {},
   "outputs": [
    {
     "name": "stderr",
     "output_type": "stream",
     "text": [
      "11-12-2020 16:43:31 [info:049]INFO : meta data of the video /nethome/jbang36/eva_jaeho/data/seattle/seattle2.mp4 is (168601, 240, 360, 3)\n",
      "11-12-2020 16:44:22 [info:049]INFO : Loaded 168601 in 50.79607707168907 seconds\n"
     ]
    },
    {
     "data": {
      "text/plain": [
       "(168601, 240, 360, 3)"
      ]
     },
     "execution_count": 3,
     "metadata": {},
     "output_type": "execute_result"
    }
   ],
   "source": [
    "loader = SeattleLoader()\n",
    "video_directory = '/nethome/jbang36/eva_jaeho/data/seattle/seattle2.mp4'\n",
    "images = loader.load_images(video_directory)\n",
    "images.shape"
   ]
  },
  {
   "cell_type": "code",
   "execution_count": 4,
   "metadata": {},
   "outputs": [],
   "source": [
    "images = images[:10000]\n",
    "### save on some memory..."
   ]
  },
  {
   "cell_type": "code",
   "execution_count": 6,
   "metadata": {},
   "outputs": [
    {
     "name": "stderr",
     "output_type": "stream",
     "text": [
      "11-12-2020 16:46:06 [info:049]INFO : Cluster module starting....\n"
     ]
    },
    {
     "name": "stdout",
     "output_type": "stream",
     "text": [
      "Running clustering method with 100 clusters\n",
      "(10000, 10, 10)\n"
     ]
    },
    {
     "name": "stderr",
     "output_type": "stream",
     "text": [
      "11-12-2020 16:46:10 [info:049]INFO : Time to fit 10000: 4.183607723098248 (sec)\n",
      "11-12-2020 16:46:10 [info:049]INFO : Sampling frames based on Fast Middle Encounter Method strategy\n"
     ]
    }
   ],
   "source": [
    "preprocessor = Preprocessor()\n",
    "rep_indices = preprocessor.run(images)\n"
   ]
  },
  {
   "cell_type": "code",
   "execution_count": 9,
   "metadata": {},
   "outputs": [
    {
     "data": {
      "text/plain": [
       "array([[  248,   249],\n",
       "       [  334,   335],\n",
       "       [  498,   499],\n",
       "       ...,\n",
       "       [19969, 19994],\n",
       "       [19995, 19996],\n",
       "       [19984, 19997]])"
      ]
     },
     "execution_count": 9,
     "metadata": {},
     "output_type": "execute_result"
    }
   ],
   "source": [
    "preprocessor.cluster.ac.children_"
   ]
  },
  {
   "cell_type": "code",
   "execution_count": null,
   "metadata": {},
   "outputs": [],
   "source": [
    "### we can extract the tree and all that....compute the loss for each corresponding number of clusters\n",
    "num_cluster = [i for i in range(len(images))]\n",
    "### loss would be the overall sum of the variance associated with each 'cluster'\n"
   ]
  }
 ],
 "metadata": {
  "kernelspec": {
   "display_name": "Python 3",
   "language": "python",
   "name": "python3"
  },
  "language_info": {
   "codemirror_mode": {
    "name": "ipython",
    "version": 3
   },
   "file_extension": ".py",
   "mimetype": "text/x-python",
   "name": "python",
   "nbconvert_exporter": "python",
   "pygments_lexer": "ipython3",
   "version": "3.7.6"
  }
 },
 "nbformat": 4,
 "nbformat_minor": 4
}
