{
 "cells": [
  {
   "cell_type": "markdown",
   "metadata": {},
   "source": [
    "## no sampling vs my sampling on machine learning models"
   ]
  },
  {
   "cell_type": "code",
   "execution_count": 1,
   "metadata": {},
   "outputs": [
    {
     "data": {
      "text/plain": [
       "'/home/jbang36/eva_jaeho/eva_storage/evaluation/evaluate_rep'"
      ]
     },
     "execution_count": 1,
     "metadata": {},
     "output_type": "execute_result"
    }
   ],
   "source": [
    "import os\n",
    "os.getcwd()"
   ]
  },
  {
   "cell_type": "code",
   "execution_count": 2,
   "metadata": {},
   "outputs": [
    {
     "name": "stdout",
     "output_type": "stream",
     "text": [
      "Populating the interactive namespace from numpy and matplotlib\n"
     ]
    }
   ],
   "source": [
    "%pylab inline\n",
    "%load_ext autoreload\n",
    "%autoreload 2\n",
    "\n",
    "import os\n",
    "import sys\n",
    "sys.argv=['']\n",
    "sys.path.append('../../../')\n",
    "\n",
    "\n",
    "import numpy as np\n",
    "#import utils.helpers as helpers\n",
    "import utils as helpers\n",
    "from loaders.uadetrac_loader import UADetracLoader\n",
    "from eva_storage.preprocessingModule import PreprocessingModule\n",
    "from eva_storage.UNet import UNet\n",
    "from eva_storage.clusterModule import ClusterModule\n",
    "from filters.minimum_filter import FilterMinimum\n",
    "from eva_storage.evaluation.evaluate_compression import *\n"
   ]
  },
  {
   "cell_type": "code",
   "execution_count": 4,
   "metadata": {},
   "outputs": [],
   "source": [
    "import torch\n",
    "torch.cuda.set_device(1)"
   ]
  },
  {
   "cell_type": "code",
   "execution_count": 5,
   "metadata": {},
   "outputs": [],
   "source": [
    "\"\"\"uncomment this if loader functionality all works\n",
    "loader = UADetracLoader()\n",
    "images = loader.load_cached_images()\n",
    "video_start_indices = loader.get_video_start_indices()\n",
    "labels = loader.load_cached_labels()\n",
    "\n",
    "\"\"\"\n",
    "\n",
    "loader = UADetracLoader()\n",
    "images = loader.load_cached_images()\n",
    "video_start_indices = loader.get_video_start_indices()\n",
    "labels = loader.load_cached_labels()\n"
   ]
  },
  {
   "cell_type": "code",
   "execution_count": 6,
   "metadata": {},
   "outputs": [
    {
     "name": "stdout",
     "output_type": "stream",
     "text": [
      "(25435, 300, 300, 3)\n",
      "[1645 1600 1750 1490 1765 1150 2635 1700 2495 2195 2120 1145 2025 1720]\n"
     ]
    }
   ],
   "source": [
    "print(images.shape)\n",
    "print(video_start_indices)"
   ]
  },
  {
   "cell_type": "code",
   "execution_count": 6,
   "metadata": {
    "collapsed": true,
    "jupyter": {
     "outputs_hidden": true,
     "source_hidden": true
    },
    "scrolled": true
   },
   "outputs": [
    {
     "name": "stdout",
     "output_type": "stream",
     "text": [
      "Number of files added:  25435\n",
      "walking /home/jbang36/eva_jaeho/data/ua_detrac/4_xml for xml parsing\n",
      "before sorting operation ['MVI_40131.xml', 'MVI_40152.xml', 'MVI_40751.xml', 'MVI_40171.xml', 'MVI_40752.xml', 'MVI_40191.xml', 'MVI_40172.xml', 'MVI_40192.xml', 'MVI_40141.xml', 'MVI_40871.xml', 'MVI_40732.xml', 'MVI_40181.xml', 'MVI_40162.xml', 'MVI_40161.xml']\n",
      "files len 14\n",
      "/home/jbang36/eva_jaeho/data/ua_detrac/4_xml [] ['MVI_40131.xml', 'MVI_40141.xml', 'MVI_40152.xml', 'MVI_40161.xml', 'MVI_40162.xml', 'MVI_40171.xml', 'MVI_40172.xml', 'MVI_40181.xml', 'MVI_40191.xml', 'MVI_40192.xml', 'MVI_40732.xml', 'MVI_40751.xml', 'MVI_40752.xml', 'MVI_40871.xml']\n",
      "----------------\n",
      "MVI_40131.xml\n",
      "1645\n",
      "1645\n",
      "----------------\n",
      "MVI_40141.xml\n",
      "1600\n",
      "1600\n",
      "----------------\n",
      "MVI_40152.xml\n",
      "1750\n",
      "1750\n",
      "----------------\n",
      "MVI_40161.xml\n",
      "1490\n",
      "1490\n",
      "----------------\n",
      "MVI_40162.xml\n",
      "1765\n",
      "1765\n",
      "----------------\n",
      "MVI_40171.xml\n",
      "1150\n",
      "1150\n",
      "----------------\n",
      "MVI_40172.xml\n",
      "2635\n",
      "2635\n",
      "----------------\n",
      "MVI_40181.xml\n",
      "1700\n",
      "1700\n",
      "----------------\n",
      "MVI_40191.xml\n",
      "2495\n",
      "2495\n",
      "----------------\n",
      "MVI_40192.xml\n",
      "2195\n",
      "2195\n",
      "----------------\n",
      "MVI_40732.xml\n",
      "2120\n",
      "2120\n",
      "----------------\n",
      "MVI_40751.xml\n",
      "1145\n",
      "1145\n",
      "----------------\n",
      "MVI_40752.xml\n",
      "2025\n",
      "2025\n",
      "----------------\n",
      "MVI_40871.xml\n",
      "1720\n",
      "1720\n"
     ]
    }
   ],
   "source": [
    "\"\"\"\n",
    "Put loading operations in one cell\n",
    "loader = UADetracLoader()\n",
    "images = loader.load_images(dir = '/home/jbang36/eva_jaeho/data/ua_detrac/4_images')\n",
    "video_start_indices = loader.get_video_start_indices()\n",
    "labels = loader.load_labels(dir='/home/jbang36/eva_jaeho/data/ua_detrac/4_xml')\n",
    "\"\"\"\n"
   ]
  },
  {
   "cell_type": "code",
   "execution_count": 7,
   "metadata": {},
   "outputs": [
    {
     "name": "stdout",
     "output_type": "stream",
     "text": [
      "saved images to /home/jbang36/eva_jaeho/data/npy_files/ua_detrac_images.npy\n",
      "saved video indices to /home/jbang36/eva_jaeho/data/npy_files/ua_detrac_vi.npy\n",
      "saved labels to /home/jbang36/eva_jaeho/data/npy_files/ua_detrac_labels.npy\n"
     ]
    }
   ],
   "source": [
    "\"\"\"\n",
    "save corresponding image related files for fast upload next time\"\"\"\n",
    "loader.save_images()\n",
    "loader.save_labels()"
   ]
  },
  {
   "cell_type": "markdown",
   "metadata": {},
   "source": [
    "### done with dataset loading operations!!"
   ]
  },
  {
   "cell_type": "code",
   "execution_count": 17,
   "metadata": {},
   "outputs": [
    {
     "name": "stdout",
     "output_type": "stream",
     "text": [
      "(83791, 300, 300, 3)\n"
     ]
    }
   ],
   "source": [
    "print(images.shape)"
   ]
  },
  {
   "cell_type": "code",
   "execution_count": 7,
   "metadata": {},
   "outputs": [
    {
     "name": "stdout",
     "output_type": "stream",
     "text": [
      "(25435, 300, 300)\n"
     ]
    }
   ],
   "source": [
    "# run background subtraction\n",
    "pm = PreprocessingModule()\n",
    "seg_images = pm.run(images,video_start_indices)\n",
    "print(seg_images.shape)\n"
   ]
  },
  {
   "cell_type": "code",
   "execution_count": 9,
   "metadata": {},
   "outputs": [],
   "source": [
    "## save the segmented images so that we don't have to rerun the proprocessor\n",
    "pm.saveSegmentedImages(overwrite=True)\n"
   ]
  },
  {
   "cell_type": "code",
   "execution_count": 8,
   "metadata": {},
   "outputs": [
    {
     "data": {
      "image/png": "[encoded data removed]",
      "text/plain": [
       "<Figure size 576x576 with 10 Axes>"
      ]
     },
     "metadata": {
      "needs_background": "light"
     },
     "output_type": "display_data"
    }
   ],
   "source": [
    "### let's see some seg images side by side with original images (5 sets)\n",
    "import random\n",
    "\n",
    "w=10\n",
    "h=10\n",
    "fig=plt.figure(figsize=(8, 8))\n",
    "columns = 2\n",
    "rows = 5\n",
    "for i in range(1, columns*rows +1, 2):\n",
    "    img = np.random.randint(10, size=(h,w))\n",
    "    fig.add_subplot(rows, columns, i)\n",
    "    random_index = random.randint(0, 20000)\n",
    "    plt.imshow(images[random_index])\n",
    "    fig.add_subplot(rows, columns, i+1)\n",
    "    plt.imshow(seg_images[random_index])\n",
    "plt.show()\n",
    "\n"
   ]
  },
  {
   "cell_type": "code",
   "execution_count": 12,
   "metadata": {},
   "outputs": [
    {
     "data": {
      "text/plain": [
       "'/home/jbang36/eva_jaeho/eva_storage/evaluation/evaluate_rep'"
      ]
     },
     "execution_count": 12,
     "metadata": {},
     "output_type": "execute_result"
    }
   ],
   "source": [
    "os.getcwd()"
   ]
  },
  {
   "cell_type": "code",
   "execution_count": 14,
   "metadata": {
    "scrolled": true
   },
   "outputs": [
    {
     "name": "stdout",
     "output_type": "stream",
     "text": [
      "New instance will be initialized\n",
      "<class 'torch.device'>\n",
      "Training the network....\n",
      "epoch [0/100], loss:0.1370, time elapsed:396.1035 (sec)\n",
      "Saving the trained model as.... /home/jbang36/eva_jaeho/models/unet_uadetrac-epoch0.pth\n",
      "epoch [1/100], loss:0.1351, time elapsed:421.0872 (sec)\n",
      "epoch [2/100], loss:0.1360, time elapsed:396.0005 (sec)\n",
      "epoch [3/100], loss:0.1322, time elapsed:403.7159 (sec)\n",
      "epoch [4/100], loss:0.1321, time elapsed:398.2281 (sec)\n",
      "epoch [5/100], loss:0.1303, time elapsed:394.4018 (sec)\n",
      "epoch [6/100], loss:0.1308, time elapsed:405.6708 (sec)\n",
      "epoch [7/100], loss:0.1303, time elapsed:401.8913 (sec)\n",
      "epoch [8/100], loss:0.1304, time elapsed:399.2438 (sec)\n",
      "epoch [9/100], loss:0.1282, time elapsed:412.6130 (sec)\n",
      "epoch [10/100], loss:0.1284, time elapsed:399.7251 (sec)\n",
      "Saving the trained model as.... /home/jbang36/eva_jaeho/models/unet_uadetrac-epoch10.pth\n",
      "epoch [11/100], loss:0.1286, time elapsed:410.2715 (sec)\n",
      "epoch [12/100], loss:0.1288, time elapsed:405.4758 (sec)\n",
      "epoch [13/100], loss:0.1282, time elapsed:394.6254 (sec)\n",
      "epoch [14/100], loss:0.1278, time elapsed:395.0005 (sec)\n",
      "epoch [15/100], loss:0.1300, time elapsed:399.3338 (sec)\n",
      "epoch [16/100], loss:0.1271, time elapsed:416.2003 (sec)\n",
      "epoch [17/100], loss:0.1320, time elapsed:402.8668 (sec)\n",
      "epoch [18/100], loss:0.1303, time elapsed:398.3332 (sec)\n",
      "epoch [19/100], loss:0.1301, time elapsed:398.1608 (sec)\n",
      "epoch [20/100], loss:0.1272, time elapsed:394.0874 (sec)\n",
      "Saving the trained model as.... /home/jbang36/eva_jaeho/models/unet_uadetrac-epoch20.pth\n",
      "epoch [21/100], loss:0.1287, time elapsed:414.0861 (sec)\n",
      "epoch [22/100], loss:0.1300, time elapsed:395.5439 (sec)\n",
      "epoch [23/100], loss:0.1278, time elapsed:409.4453 (sec)\n",
      "epoch [24/100], loss:0.1298, time elapsed:403.6905 (sec)\n",
      "epoch [25/100], loss:0.1252, time elapsed:394.3041 (sec)\n",
      "epoch [26/100], loss:0.1291, time elapsed:396.4253 (sec)\n",
      "epoch [27/100], loss:0.1278, time elapsed:401.8184 (sec)\n",
      "epoch [28/100], loss:0.1287, time elapsed:402.6366 (sec)\n",
      "epoch [29/100], loss:0.1289, time elapsed:394.8115 (sec)\n",
      "epoch [30/100], loss:0.1282, time elapsed:395.9675 (sec)\n",
      "Saving the trained model as.... /home/jbang36/eva_jaeho/models/unet_uadetrac-epoch30.pth\n",
      "epoch [31/100], loss:0.1286, time elapsed:409.4989 (sec)\n",
      "epoch [32/100], loss:0.1303, time elapsed:400.1293 (sec)\n",
      "epoch [33/100], loss:0.1304, time elapsed:404.2565 (sec)\n",
      "epoch [34/100], loss:0.1304, time elapsed:394.2819 (sec)\n",
      "epoch [35/100], loss:0.1301, time elapsed:396.4329 (sec)\n",
      "epoch [36/100], loss:0.1303, time elapsed:409.2046 (sec)\n",
      "epoch [37/100], loss:0.1332, time elapsed:394.3580 (sec)\n",
      "epoch [38/100], loss:0.1286, time elapsed:396.4319 (sec)\n",
      "epoch [39/100], loss:0.1314, time elapsed:395.1321 (sec)\n",
      "epoch [40/100], loss:0.1258, time elapsed:402.5532 (sec)\n",
      "Saving the trained model as.... /home/jbang36/eva_jaeho/models/unet_uadetrac-epoch40.pth\n",
      "epoch [41/100], loss:0.1290, time elapsed:400.2463 (sec)\n",
      "epoch [42/100], loss:0.1304, time elapsed:396.7155 (sec)\n",
      "epoch [43/100], loss:0.1302, time elapsed:395.8451 (sec)\n",
      "epoch [44/100], loss:0.1304, time elapsed:419.5964 (sec)\n",
      "epoch [45/100], loss:0.1287, time elapsed:393.5579 (sec)\n",
      "epoch [46/100], loss:0.1276, time elapsed:404.6354 (sec)\n",
      "epoch [47/100], loss:0.1287, time elapsed:394.6552 (sec)\n",
      "epoch [48/100], loss:0.1295, time elapsed:394.1362 (sec)\n",
      "epoch [49/100], loss:0.1291, time elapsed:403.4563 (sec)\n",
      "epoch [50/100], loss:0.1292, time elapsed:399.3762 (sec)\n",
      "Saving the trained model as.... /home/jbang36/eva_jaeho/models/unet_uadetrac-epoch50.pth\n",
      "epoch [51/100], loss:0.1282, time elapsed:396.9988 (sec)\n",
      "epoch [52/100], loss:0.1282, time elapsed:394.5932 (sec)\n",
      "epoch [53/100], loss:0.1290, time elapsed:393.6643 (sec)\n",
      "epoch [54/100], loss:0.1263, time elapsed:394.2830 (sec)\n",
      "epoch [55/100], loss:0.1294, time elapsed:418.9666 (sec)\n",
      "epoch [56/100], loss:0.1286, time elapsed:395.0097 (sec)\n",
      "epoch [57/100], loss:0.1293, time elapsed:394.4539 (sec)\n",
      "epoch [58/100], loss:0.1325, time elapsed:415.8445 (sec)\n",
      "epoch [59/100], loss:0.1306, time elapsed:411.0194 (sec)\n",
      "epoch [60/100], loss:0.1309, time elapsed:408.8152 (sec)\n",
      "Saving the trained model as.... /home/jbang36/eva_jaeho/models/unet_uadetrac-epoch60.pth\n",
      "epoch [61/100], loss:0.1327, time elapsed:415.5026 (sec)\n",
      "epoch [62/100], loss:0.1283, time elapsed:394.9565 (sec)\n",
      "epoch [63/100], loss:0.1304, time elapsed:402.9375 (sec)\n",
      "epoch [64/100], loss:0.1305, time elapsed:394.6513 (sec)\n",
      "epoch [65/100], loss:0.1303, time elapsed:398.4323 (sec)\n",
      "epoch [66/100], loss:0.1284, time elapsed:401.7725 (sec)\n",
      "epoch [67/100], loss:0.1281, time elapsed:401.3119 (sec)\n",
      "epoch [68/100], loss:0.1270, time elapsed:402.9258 (sec)\n",
      "epoch [69/100], loss:0.1281, time elapsed:397.8758 (sec)\n",
      "epoch [70/100], loss:0.1299, time elapsed:395.3529 (sec)\n",
      "Saving the trained model as.... /home/jbang36/eva_jaeho/models/unet_uadetrac-epoch70.pth\n",
      "epoch [71/100], loss:0.1280, time elapsed:395.7635 (sec)\n",
      "epoch [72/100], loss:0.1297, time elapsed:399.4080 (sec)\n",
      "epoch [73/100], loss:0.1298, time elapsed:402.6847 (sec)\n",
      "epoch [74/100], loss:0.1285, time elapsed:421.7283 (sec)\n",
      "epoch [75/100], loss:0.1260, time elapsed:409.0896 (sec)\n",
      "epoch [76/100], loss:0.1299, time elapsed:403.0040 (sec)\n",
      "epoch [77/100], loss:0.1274, time elapsed:397.4970 (sec)\n",
      "epoch [78/100], loss:0.1313, time elapsed:397.4886 (sec)\n",
      "epoch [79/100], loss:0.1289, time elapsed:396.4212 (sec)\n",
      "epoch [80/100], loss:0.1321, time elapsed:416.8240 (sec)\n",
      "Saving the trained model as.... /home/jbang36/eva_jaeho/models/unet_uadetrac-epoch80.pth\n",
      "epoch [81/100], loss:0.1285, time elapsed:397.6887 (sec)\n",
      "epoch [82/100], loss:0.1297, time elapsed:395.0279 (sec)\n",
      "epoch [83/100], loss:0.1302, time elapsed:416.8612 (sec)\n",
      "epoch [84/100], loss:0.1286, time elapsed:398.2585 (sec)\n",
      "epoch [85/100], loss:0.1279, time elapsed:397.7826 (sec)\n",
      "epoch [86/100], loss:0.1271, time elapsed:393.4267 (sec)\n",
      "epoch [87/100], loss:0.1270, time elapsed:410.9202 (sec)\n",
      "epoch [88/100], loss:0.1283, time elapsed:400.7548 (sec)\n",
      "epoch [89/100], loss:0.1308, time elapsed:401.7199 (sec)\n",
      "epoch [90/100], loss:0.1302, time elapsed:400.7376 (sec)\n",
      "Saving the trained model as.... /home/jbang36/eva_jaeho/models/unet_uadetrac-epoch90.pth\n",
      "epoch [91/100], loss:0.1274, time elapsed:427.2871 (sec)\n",
      "epoch [92/100], loss:0.1281, time elapsed:394.0613 (sec)\n",
      "epoch [93/100], loss:0.1305, time elapsed:395.4579 (sec)\n",
      "epoch [94/100], loss:0.1272, time elapsed:399.4647 (sec)\n",
      "epoch [95/100], loss:0.1297, time elapsed:435.7468 (sec)\n",
      "epoch [96/100], loss:0.1299, time elapsed:397.7852 (sec)\n",
      "epoch [97/100], loss:0.1282, time elapsed:413.6226 (sec)\n",
      "epoch [98/100], loss:0.1284, time elapsed:400.3312 (sec)\n",
      "epoch [99/100], loss:0.1279, time elapsed:399.7931 (sec)\n",
      "Saving the trained model as.... /home/jbang36/eva_jaeho/models/unet_uadetrac-epoch99.pth\n"
     ]
    }
   ],
   "source": [
    "# train the main network\n",
    "unet = UNet()\n",
    "unet.train(images, seg_images, load=False)\n"
   ]
  },
  {
   "cell_type": "code",
   "execution_count": null,
   "metadata": {},
   "outputs": [
    {
     "name": "stdout",
     "output_type": "stream",
     "text": [
      "loading previous model!\n",
      "trying to load file  /home/jbang36/eva_jaeho/models/unet_uadetrac-epoch99.pth\n",
      "Model successfully loaded!\n",
      "Training the network....\n",
      "epoch [0/100], loss:0.1289, time elapsed:438.0157 (sec)\n",
      "Saving the trained model as.... /home/jbang36/eva_jaeho/models/unet_uadetrac-epoch0.pth\n",
      "epoch [1/100], loss:0.1309, time elapsed:400.0753 (sec)\n",
      "epoch [2/100], loss:0.1296, time elapsed:398.0545 (sec)\n",
      "epoch [3/100], loss:0.1279, time elapsed:412.7986 (sec)\n",
      "epoch [4/100], loss:0.1301, time elapsed:410.1962 (sec)\n",
      "epoch [5/100], loss:0.1326, time elapsed:411.8224 (sec)\n",
      "epoch [6/100], loss:0.1356, time elapsed:404.9019 (sec)\n",
      "epoch [7/100], loss:0.1298, time elapsed:404.1622 (sec)\n",
      "epoch [8/100], loss:0.1281, time elapsed:398.6711 (sec)\n",
      "epoch [9/100], loss:0.1276, time elapsed:411.3605 (sec)\n",
      "epoch [10/100], loss:0.1305, time elapsed:396.6653 (sec)\n",
      "Saving the trained model as.... /home/jbang36/eva_jaeho/models/unet_uadetrac-epoch10.pth\n",
      "epoch [11/100], loss:0.1286, time elapsed:426.0343 (sec)\n",
      "epoch [12/100], loss:0.1311, time elapsed:431.5342 (sec)\n",
      "epoch [13/100], loss:0.1283, time elapsed:396.2176 (sec)\n",
      "epoch [14/100], loss:0.1280, time elapsed:404.8059 (sec)\n"
     ]
    }
   ],
   "source": [
    "## network is naturally saved, next time when running, it will automatically load\n",
    "\"\"\"\"\"\"\n",
    "unet = UNet()\n",
    "unet.train(images, seg_images, epoch=99)\n",
    "\n"
   ]
  },
  {
   "cell_type": "code",
   "execution_count": 15,
   "metadata": {},
   "outputs": [],
   "source": [
    "# Generate the compressed / segmented images\n",
    "unet_compressed_images, unet_segmented_images = unet.execute()\n"
   ]
  },
  {
   "cell_type": "code",
   "execution_count": 16,
   "metadata": {},
   "outputs": [
    {
     "name": "stdout",
     "output_type": "stream",
     "text": [
      "Time to fit  25435 :  30.386281728744507\n"
     ]
    }
   ],
   "source": [
    "# Create clusters\n",
    "cm = ClusterModule()\n",
    "image_cluster_labels = cm.run(unet_compressed_images)\n"
   ]
  },
  {
   "cell_type": "code",
   "execution_count": 18,
   "metadata": {},
   "outputs": [],
   "source": [
    "# Generate binary labels\n",
    "## within labels['vehicle'] there are ['car', 'others', 'van', 'bus']\n",
    "\n",
    "car_labels = helpers.generateBinaryLabels(labels['vehicle'])\n",
    "other_labels = helpers.generateBinaryLabels(labels['vehicle'], label_of_interest = 'others')\n",
    "van_labels = helpers.generateBinaryLabels(labels['vehicle'], 'van')\n",
    "bus_labels = helpers.generateBinaryLabels(labels['vehicle'], 'bus')\n"
   ]
  },
  {
   "cell_type": "code",
   "execution_count": 19,
   "metadata": {},
   "outputs": [
    {
     "name": "stdout",
     "output_type": "stream",
     "text": [
      "391\n",
      "25044\n",
      "24084\n",
      "1351\n",
      "14148\n",
      "11287\n",
      "15245\n",
      "10190\n"
     ]
    }
   ],
   "source": [
    "## must check balance within the label set\n",
    "\n",
    "print(len(car_labels[car_labels == 0]))\n",
    "print(len(car_labels[car_labels == 1]))\n",
    "\n",
    "print(len(other_labels[other_labels == 0]))\n",
    "print(len(other_labels[other_labels == 1]))\n",
    "\n",
    "## can use\n",
    "print(len(van_labels[van_labels == 0]))\n",
    "print(len(van_labels[van_labels == 1]))\n",
    "## can use\n",
    "print(len(bus_labels[bus_labels == 0]))\n",
    "print(len(bus_labels[bus_labels == 1]))"
   ]
  },
  {
   "cell_type": "code",
   "execution_count": 20,
   "metadata": {},
   "outputs": [],
   "source": [
    "## divide the training and validation dataset for all frames\n",
    "division_point = int(images.shape[0] * 0.8)\n",
    "train_set = {}\n",
    "test_set = {}\n",
    "    \n",
    "# this set contains [image, labels, cluster_labels]\n",
    "train_set['van'] = [images[:division_point], van_labels[:division_point], image_cluster_labels[:division_point]]\n",
    "train_set['bus'] = [images[:division_point], bus_labels[:division_point], image_cluster_labels[:division_point]]\n",
    "test_set['van'] = [images[division_point:], van_labels[division_point:], image_cluster_labels[division_point:]]\n",
    "test_set['bus'] = [images[division_point:], bus_labels[division_point:], image_cluster_labels[division_point:]]\n"
   ]
  },
  {
   "cell_type": "code",
   "execution_count": 21,
   "metadata": {},
   "outputs": [],
   "source": [
    "## divide the training and validation dataset for rep frames\n",
    "#division_point = int(rep_images.shape[0] *0.8)\n",
    "\n",
    "rep_train_set = {}\n",
    "rep_test_set = {}\n",
    "for key in ['van', 'bus']:\n",
    "    rep_train_set[key] = get_rep_frames(train_set[key][0], train_set[key][1], train_set[key][2])\n",
    "    rep_test_set[key] = get_rep_frames(test_set[key][0], test_set[key][1], test_set[key][2])\n",
    "    "
   ]
  },
  {
   "cell_type": "code",
   "execution_count": 22,
   "metadata": {},
   "outputs": [
    {
     "name": "stdout",
     "output_type": "stream",
     "text": [
      "training van .....\n",
      "(16278, 270000)\n",
      "(16278,)\n",
      "(1016, 270000)\n",
      "(1016,)\n",
      "training bus .....\n",
      "(16278, 270000)\n",
      "(16278,)\n",
      "(1016, 270000)\n",
      "(1016,)\n"
     ]
    }
   ],
   "source": [
    "# Test on filters\n",
    "fm_everyframe_set = {}\n",
    "fm_repframe_set = {}\n",
    "for key in ['van', 'bus']:\n",
    "    print(\"training\", key, \".....\")\n",
    "    fm_everyframe_set[key] = FilterMinimum()\n",
    "    fm_everyframe_set[key].train(train_set[key][0], train_set[key][1])\n",
    "    \n",
    "    fm_repframe_set[key] = FilterMinimum()\n",
    "    fm_repframe_set[key].train(rep_train_set[key][0], rep_train_set[key][1])\n",
    "    "
   ]
  },
  {
   "cell_type": "code",
   "execution_count": 23,
   "metadata": {},
   "outputs": [],
   "source": [
    "# Evaluate the filters\n",
    "# add y_hat as the third element in the test_set\n",
    "# test set [images, labels, cluster labels, predicted labels]\n",
    "\n",
    "for key in ['van', 'bus']:\n",
    "    test_set[key].append(fm_everyframe_set[key].predict(test_set[key][0], post_model_name= 'rf'))\n",
    "    rep_test_set[key] = list(rep_test_set[key])\n",
    "    rep_test_set[key].append(fm_repframe_set[key].predict(rep_test_set[key][0], post_model_name = 'rf'))\n",
    "    \n",
    "\n"
   ]
  },
  {
   "cell_type": "code",
   "execution_count": 24,
   "metadata": {},
   "outputs": [
    {
     "name": "stdout",
     "output_type": "stream",
     "text": [
      "van score is 43.1885197562414 %\n",
      "bus score is 56.536268920778454 %\n"
     ]
    }
   ],
   "source": [
    "## compute all frame score\n",
    "\n",
    "for key in ['van', 'bus']:\n",
    "    tmp = np.array(test_set[key][1] - test_set[key][3])\n",
    "    all_frame_score = len(tmp[tmp == 0]) / float(len(tmp))\n",
    "    print(key, \"score is\", all_frame_score * 100, \"%\")\n",
    "\n",
    "### accuracy seems really low...... is there something wrong with the network?\n",
    "### we need to see if autoencoder can do it better"
   ]
  },
  {
   "cell_type": "code",
   "execution_count": 25,
   "metadata": {},
   "outputs": [],
   "source": [
    "## compute rep frame score\n",
    "# this requires me to assess -> spread the labels -> compare against original results\n",
    "\n",
    "def extend_labels(y_hat_rep, X_test_clusters):\n",
    "    arr = np.zeros(shape = (len(X_test_clusters)))\n",
    "    \n",
    "    for i in range(len(X_test_clusters)):\n",
    "        arr[i] = y_hat_rep[X_test_clusters[i]]\n",
    "    return arr\n"
   ]
  },
  {
   "cell_type": "code",
   "execution_count": 26,
   "metadata": {},
   "outputs": [
    {
     "name": "stdout",
     "output_type": "stream",
     "text": [
      "van score is 45.88165913111853 %\n",
      "bus score is 37.52702968350698 %\n"
     ]
    }
   ],
   "source": [
    "for key in ['van', 'bus']:\n",
    "    y_hat = extend_labels(rep_test_set[key][2], test_set[key][2])\n",
    "    tmp = np.array(y_hat - test_set[key][1])\n",
    "    rep_frame_score = len(tmp[tmp == 0]) / float(len(tmp))\n",
    "    print(key, \"score is\", rep_frame_score * 100, \"%\")\n",
    "    "
   ]
  },
  {
   "cell_type": "markdown",
   "metadata": {},
   "source": [
    "## Uniform sampling Evaluation"
   ]
  },
  {
   "cell_type": "code",
   "execution_count": 35,
   "metadata": {},
   "outputs": [],
   "source": [
    "### need logic to perform comparison vs uniform sampling\n",
    "end_frame = len(images)\n",
    "fps = 20\n",
    "uniform_indexes_train = [i for i in range(0, division_point, fps)]\n",
    "uniform_indexes_test = [(i - division_point) for i in range(division_point, end_frame, fps)] \n"
   ]
  },
  {
   "cell_type": "code",
   "execution_count": 36,
   "metadata": {},
   "outputs": [],
   "source": [
    "## steps\n",
    "## 1. get the corresponding labels, train the models, evaluate the model, and extend the labels\n",
    "\n",
    "## this set contains [image, labels, cluster_labels]\n",
    "## divide the training and validation dataset for rep frames\n",
    "## division_point = int(rep_images.shape[0] * 0.8)\n",
    "\n",
    "sample_train_set = {}\n",
    "sample_test_set = {}\n",
    "for key in ['van', 'bus']:\n",
    "    sample_train_set[key] = (train_set[key][0][uniform_indexes_train], train_set[key][1][uniform_indexes_train]) ##rep_images, rep_labels get_rep_frames(train_set[key][0], train_set[key][1], train_set[key][2])\n",
    "    sample_test_set[key] = (test_set[key][0][uniform_indexes_test], test_set[key][1][uniform_indexes_test])\n",
    "    \n"
   ]
  },
  {
   "cell_type": "code",
   "execution_count": 37,
   "metadata": {},
   "outputs": [
    {
     "name": "stdout",
     "output_type": "stream",
     "text": [
      "training van .....\n",
      "(814, 270000)\n",
      "(814,)\n",
      "training bus .....\n",
      "(814, 270000)\n",
      "(814,)\n"
     ]
    }
   ],
   "source": [
    "# Test on filters\n",
    "fm_uniframe_set = {}\n",
    "for key in ['van', 'bus']:\n",
    "    print(\"training\", key, \".....\")\n",
    "    fm_uniframe_set[key] = FilterMinimum()\n",
    "    fm_uniframe_set[key].train(sample_train_set[key][0], sample_train_set[key][1])\n",
    "    \n",
    "    "
   ]
  },
  {
   "cell_type": "code",
   "execution_count": 39,
   "metadata": {},
   "outputs": [],
   "source": [
    "# Evaluate the filters\n",
    "# add y_hat as the third element in the test_set\n",
    "# test set [images, labels, cluster labels, predicted labels]\n",
    "\n",
    "for key in ['van', 'bus']:\n",
    "    #test_set[key].append(fm_everyframe_set[key].predict(test_set[key][0], post_model_name= 'rf'))\n",
    "    sample_test_set[key] = list(sample_test_set[key])\n",
    "    sample_test_set[key].append(fm_uniframe_set[key].predict(sample_test_set[key][0], post_model_name = 'rf'))\n",
    "    \n"
   ]
  },
  {
   "cell_type": "code",
   "execution_count": 40,
   "metadata": {},
   "outputs": [
    {
     "name": "stdout",
     "output_type": "stream",
     "text": [
      "van score is 43.1885197562414 %\n",
      "bus score is 56.536268920778454 %\n"
     ]
    }
   ],
   "source": [
    "## compute all frame score\n",
    "\n",
    "for key in ['van', 'bus']:\n",
    "    tmp = np.array(test_set[key][1] - test_set[key][3])\n",
    "    all_frame_score = len(tmp[tmp == 0]) / float(len(tmp))\n",
    "    print(key, \"score is\", all_frame_score * 100, \"%\")\n"
   ]
  },
  {
   "cell_type": "code",
   "execution_count": 45,
   "metadata": {},
   "outputs": [],
   "source": [
    "### need to extend the labels\n",
    "## TODO: modify this function for sampling\n",
    "## for sampling, we will assume each 'cluster' is \n",
    "## from the starting frame to the frame right before the end\n",
    "\n",
    "\n",
    "def extend_labels_sampling(y_hat_samp, images):\n",
    "    end_frame = len(images)\n",
    "    fps = 20\n",
    "    arr = np.zeros(shape = (len(images)))\n",
    "    print(arr.shape)\n",
    "    print(len(y_hat_samp))\n",
    "    \n",
    "    j = -1\n",
    "    for i in range(len(images)):\n",
    "        if i % fps == 0:\n",
    "            j += 1\n",
    "        arr[i] = y_hat_samp[j]\n",
    "    \n",
    "    return arr\n"
   ]
  },
  {
   "cell_type": "code",
   "execution_count": 46,
   "metadata": {},
   "outputs": [
    {
     "name": "stdout",
     "output_type": "stream",
     "text": [
      "(5087,)\n",
      "255\n",
      "van score is 58.364458423432275 %\n",
      "(5087,)\n",
      "255\n",
      "bus score is 54.55081580499312 %\n"
     ]
    }
   ],
   "source": [
    "for key in ['van', 'bus']:\n",
    "    y_hat = extend_labels_sampling(sample_test_set[key][2], images[division_point:])\n",
    "    tmp = np.array(y_hat - test_set[key][1])\n",
    "    rep_frame_score = len(tmp[tmp == 0]) / float(len(tmp))\n",
    "    print(key, \"score is\", rep_frame_score * 100, \"%\")"
   ]
  },
  {
   "cell_type": "code",
   "execution_count": null,
   "metadata": {},
   "outputs": [],
   "source": []
  },
  {
   "cell_type": "code",
   "execution_count": null,
   "metadata": {},
   "outputs": [],
   "source": []
  },
  {
   "cell_type": "markdown",
   "metadata": {},
   "source": [
    "# Result shows that even for this network (segmentation), the compression technique works fairly well. \n",
    "# In terms of deep learning technique application, I think it would be nice to show how using these datapoint with augmentation could be more beneficial?"
   ]
  },
  {
   "cell_type": "code",
   "execution_count": null,
   "metadata": {},
   "outputs": [],
   "source": [
    "################ End of new evaluation!!! ############\n",
    "## Future work: Does it work for other types of models as well?\n",
    "\n",
    "\n"
   ]
  },
  {
   "cell_type": "code",
   "execution_count": 6,
   "metadata": {},
   "outputs": [
    {
     "name": "stdout",
     "output_type": "stream",
     "text": [
      "before: (2085, 540, 960, 1)\n",
      "After change, shape of image is (2085, 8160)\n",
      "(2085, 21)\n",
      "['t=car', 't=van', 't=bus', 't=others', 'c=red', 'c=white', 'c=black', 'c=silver', 's>40', 's>50', 's>60', 's<65', 's<70', 'i=pt335', 'i=pt211', 'i=pt342', 'i=pt208', 'o=pt335', 'o=pt211', 'o=pt342', 'o=pt208']\n",
      "[[1. 0. 1. 1. 1. 1. 1. 1. 0. 0. 0. 1. 1. 1. 1. 1. 1. 1. 1. 1. 1.]\n",
      " [1. 0. 1. 1. 1. 1. 0. 1. 0. 0. 0. 1. 1. 1. 1. 1. 1. 1. 1. 1. 1.]\n",
      " [1. 0. 1. 1. 1. 1. 1. 1. 0. 0. 0. 1. 1. 1. 1. 1. 1. 1. 1. 1. 1.]\n",
      " [1. 0. 1. 1. 0. 0. 1. 1. 0. 0. 0. 1. 1. 1. 1. 1. 1. 1. 1. 1. 1.]\n",
      " [1. 0. 1. 1. 1. 0. 1. 1. 0. 0. 0. 1. 1. 0. 1. 1. 1. 0. 1. 1. 1.]\n",
      " [1. 0. 1. 1. 1. 1. 1. 1. 0. 0. 0. 1. 1. 1. 1. 1. 1. 1. 1. 1. 1.]\n",
      " [1. 0. 1. 1. 1. 1. 1. 1. 0. 0. 0. 1. 1. 1. 1. 1. 1. 1. 1. 1. 1.]\n",
      " [1. 0. 1. 1. 1. 1. 1. 1. 0. 0. 0. 1. 1. 1. 1. 1. 1. 1. 1. 1. 1.]\n",
      " [1. 0. 1. 1. 1. 1. 1. 1. 0. 0. 0. 1. 1. 1. 1. 1. 1. 1. 1. 1. 1.]\n",
      " [1. 0. 1. 1. 1. 1. 1. 1. 0. 0. 0. 1. 1. 1. 1. 1. 1. 1. 1. 1. 1.]]\n",
      "(2085, 21)\n",
      "Finished evaluation in  3.460813283920288 seconds\n"
     ]
    }
   ],
   "source": [
    "# Evaluate the filters\n",
    "pca_model = pp.trained_pre['pca']\n",
    "trained_models = pp.trained_post \n",
    "tic = time.time()\n",
    "\"\"\"\n",
    "{'t=car': {'pca_svm': SVC(C=1.0, cache_size=200, class_weight=None, coef0=0.0,\n",
    "  decision_function_shape='ovr', degree=3, gamma='auto_deprecated',\n",
    "  kernel='linear', max_iter=10000, probability=True, random_state=None,\n",
    "  shrinking=True, tol=0.001, verbose=False),\n",
    "\"\"\"\n",
    "X_test_reshaped = pp._reshape_image(X_test)\n",
    "X_test_pcaed = pca_model.transform(X_test_reshaped)\n",
    "Y_names, Y_test = pp._generate_binary_labels(Y_test_dict, len(X_test_pcaed))\n",
    "\n",
    "print(Y_test.shape)\n",
    "\n",
    "stats = {}\n",
    "for Y_col, models in trained_models.items():\n",
    "    for model_name, model in models.items():\n",
    "        if 'pca' in model_name:\n",
    "            index = Y_names.index(Y_col)\n",
    "            #print(\"index is\",index)\n",
    "            #print(Y_test[:10][0])\n",
    "            #print(type(index))\n",
    "            score = model.score(X_test_pcaed, Y_test[:, index])\n",
    "            stats[Y_col + \" \" + model_name] = [score]\n",
    "        else:\n",
    "            index = Y_names.index(Y_col)\n",
    "            score = model.score(X_test_reshaped, Y_test[:, index])\n",
    "            stats[Y_col + \" \" + model_name] = [score]\n",
    "\n",
    "print(\"Finished evaluation in \", time.time() - tic, \"seconds\")"
   ]
  },
  {
   "cell_type": "code",
   "execution_count": 7,
   "metadata": {},
   "outputs": [
    {
     "name": "stdout",
     "output_type": "stream",
     "text": [
      "{'t=car pca_svm': [0.9755395683453237], 't=car dnn': [1.0], 't=car pca_rf': [1.0], 't=van pca_svm': [0.49544364508393285], 't=van dnn': [0.6661870503597123], 't=van pca_rf': [0.6719424460431654], 't=bus pca_svm': [0.38657074340527575], 't=bus dnn': [0.697841726618705], 't=bus pca_rf': [0.5712230215827339], 't=others pca_svm': [0.9314148681055155], 't=others dnn': [0.9592326139088729], 't=others pca_rf': [0.9592326139088729], 'c=red pca_svm': [0.03405275779376499], 'c=red dnn': [0.962589928057554], 'c=red pca_rf': [0.973621103117506], 'c=white pca_svm': [0.43884892086330934], 'c=white dnn': [0.965947242206235], 'c=white pca_rf': [0.9769784172661871], 'c=black pca_svm': [0.252757793764988], 'c=black dnn': [0.9621103117505995], 'c=black pca_rf': [0.9731414868105516], 'c=silver pca_svm': [0.6081534772182254], 'c=silver dnn': [0.9630695443645084], 'c=silver pca_rf': [0.9741007194244604], 's>40 pca_svm': [0.42302158273381296], 's>40 dnn': [0.7587529976019185], 's>40 pca_rf': [0.7889688249400479], 's>50 pca_svm': [0.8877697841726618], 's>50 dnn': [0.8925659472422063], 's>50 pca_rf': [0.8925659472422063], 's>60 pca_svm': [0.6383693045563549], 's>60 dnn': [0.9592326139088729], 's>60 pca_rf': [0.9592326139088729], 'i=pt335 pca_svm': [0.30839328537170263], 'i=pt335 dnn': [0.965947242206235], 'i=pt335 pca_rf': [0.9760191846522782], 'i=pt211 pca_svm': [0.36594724220623503], 'i=pt211 dnn': [0.965947242206235], 'i=pt211 pca_rf': [0.9769784172661871], 'i=pt342 pca_svm': [0.15971223021582734], 'i=pt342 dnn': [0.9587529976019185], 'i=pt342 pca_rf': [0.9697841726618706], 'i=pt208 pca_svm': [0.8642685851318945], 'i=pt208 dnn': [0.965947242206235], 'i=pt208 pca_rf': [0.9769784172661871], 'o=pt335 pca_svm': [0.30839328537170263], 'o=pt335 dnn': [0.965947242206235], 'o=pt335 pca_rf': [0.9760191846522782], 'o=pt211 pca_svm': [0.36594724220623503], 'o=pt211 dnn': [0.965947242206235], 'o=pt211 pca_rf': [0.9769784172661871], 'o=pt342 pca_svm': [0.15971223021582734], 'o=pt342 dnn': [0.9587529976019185], 'o=pt342 pca_rf': [0.9697841726618706], 'o=pt208 pca_svm': [0.8642685851318945], 'o=pt208 dnn': [0.965947242206235], 'o=pt208 pca_rf': [0.9769784172661871], 's<65 dnn': [1.0], 's<65 pca_rf': [1.0], 's<70 dnn': [1.0], 's<70 pca_rf': [1.0]}\n"
     ]
    }
   ],
   "source": [
    "# convert stats dict to table\n",
    "# rows should be column name and model\n",
    "# cols should be accuracy, training_time\n",
    "\n",
    "print(stats)\n",
    "stats_arr = np.zeros(shape=(len(stats), 2))\n",
    "row_names = []\n",
    "index = 0\n",
    "for row, col in stats.items():\n",
    "    row_names.append(row)\n",
    "    stats_arr[index, 0] = col[0]\n",
    "    index += 1\n",
    "    \n",
    "for Y_col, models in pp.column_stats.items():\n",
    "    for model_name, cost in models.items():\n",
    "        row_index = row_names.index(Y_col + \" \" + model_name)\n",
    "        stats_arr[row_index, 1] = cost[0]"
   ]
  },
  {
   "cell_type": "code",
   "execution_count": 8,
   "metadata": {},
   "outputs": [
    {
     "name": "stdout",
     "output_type": "stream",
     "text": [
      "['t=car pca_svm', 't=car dnn', 't=car pca_rf', 't=van pca_svm', 't=van dnn', 't=van pca_rf', 't=bus pca_svm', 't=bus dnn', 't=bus pca_rf', 't=others pca_svm', 't=others dnn', 't=others pca_rf', 'c=red pca_svm', 'c=red dnn', 'c=red pca_rf', 'c=white pca_svm', 'c=white dnn', 'c=white pca_rf', 'c=black pca_svm', 'c=black dnn', 'c=black pca_rf', 'c=silver pca_svm', 'c=silver dnn', 'c=silver pca_rf', 's>40 pca_svm', 's>40 dnn', 's>40 pca_rf', 's>50 pca_svm', 's>50 dnn', 's>50 pca_rf', 's>60 pca_svm', 's>60 dnn', 's>60 pca_rf', 'i=pt335 pca_svm', 'i=pt335 dnn', 'i=pt335 pca_rf', 'i=pt211 pca_svm', 'i=pt211 dnn', 'i=pt211 pca_rf', 'i=pt342 pca_svm', 'i=pt342 dnn', 'i=pt342 pca_rf', 'i=pt208 pca_svm', 'i=pt208 dnn', 'i=pt208 pca_rf', 'o=pt335 pca_svm', 'o=pt335 dnn', 'o=pt335 pca_rf', 'o=pt211 pca_svm', 'o=pt211 dnn', 'o=pt211 pca_rf', 'o=pt342 pca_svm', 'o=pt342 dnn', 'o=pt342 pca_rf', 'o=pt208 pca_svm', 'o=pt208 dnn', 'o=pt208 pca_rf', 's<65 dnn', 's<65 pca_rf', 's<70 dnn', 's<70 pca_rf']\n",
      "[[1.00000000e+00 1.74000000e+00]\n",
      " [1.00000000e+00 6.20700000e+01]\n",
      " [1.00000000e+00 1.24000000e+00]\n",
      " [4.92565947e-01 3.97000000e+00]\n",
      " [6.66187050e-01 1.16000000e+01]\n",
      " [6.71942446e-01 1.24000000e+00]\n",
      " [6.36450839e-01 3.38000000e+00]\n",
      " [6.97841727e-01 1.06800000e+01]\n",
      " [5.71223022e-01 1.24000000e+00]\n",
      " [7.50599520e-01 2.66000000e+00]\n",
      " [9.59232614e-01 2.21900000e+01]\n",
      " [9.59232614e-01 1.22000000e+00]\n",
      " [2.36930456e-01 3.67000000e+00]\n",
      " [9.60191847e-01 1.07300000e+01]\n",
      " [9.71223022e-01 1.23000000e+00]\n",
      " [9.57314149e-01 3.69000000e+00]\n",
      " [9.69784173e-01 1.80800000e+01]\n",
      " [9.79856115e-01 1.24000000e+00]\n",
      " [5.80815348e-01 3.66000000e+00]\n",
      " [9.64988010e-01 1.27500000e+01]\n",
      " [9.76019185e-01 1.23000000e+00]\n",
      " [4.41247002e-02 4.16000000e+00]\n",
      " [9.60191847e-01 1.14200000e+01]\n",
      " [9.71223022e-01 1.23000000e+00]\n",
      " [5.74100719e-01 4.35000000e+00]\n",
      " [7.58752998e-01 2.22100000e+01]\n",
      " [7.88489209e-01 1.23000000e+00]\n",
      " [5.51079137e-01 4.31000000e+00]\n",
      " [8.92565947e-01 2.15900000e+01]\n",
      " [8.92565947e-01 1.23000000e+00]\n",
      " [8.65707434e-01 4.03000000e+00]\n",
      " [9.59232614e-01 2.16800000e+01]\n",
      " [9.59232614e-01 1.23000000e+00]\n",
      " [1.40047962e-01 3.63000000e+00]\n",
      " [9.65467626e-01 1.12000000e+01]\n",
      " [9.76498801e-01 1.23000000e+00]\n",
      " [4.36450839e-02 3.60000000e+00]\n",
      " [9.65947242e-01 1.17000000e+01]\n",
      " [9.76978417e-01 1.23000000e+00]\n",
      " [2.36450839e-01 3.65000000e+00]\n",
      " [9.70263789e-01 1.17100000e+01]\n",
      " [9.81294964e-01 1.23000000e+00]\n",
      " [4.89208633e-02 3.66000000e+00]\n",
      " [9.61151079e-01 1.05400000e+01]\n",
      " [9.72182254e-01 1.23000000e+00]\n",
      " [1.40047962e-01 3.64000000e+00]\n",
      " [9.65467626e-01 1.07900000e+01]\n",
      " [9.76498801e-01 1.23000000e+00]\n",
      " [4.36450839e-02 3.59000000e+00]\n",
      " [9.65947242e-01 1.08300000e+01]\n",
      " [9.76978417e-01 1.23000000e+00]\n",
      " [2.36450839e-01 3.69000000e+00]\n",
      " [9.70263789e-01 1.16500000e+01]\n",
      " [9.81294964e-01 1.23000000e+00]\n",
      " [4.89208633e-02 3.66000000e+00]\n",
      " [9.61151079e-01 1.10700000e+01]\n",
      " [9.72182254e-01 1.23000000e+00]\n",
      " [1.00000000e+00 1.14000000e+00]\n",
      " [1.00000000e+00 1.20000000e+00]\n",
      " [1.00000000e+00 1.11000000e+00]\n",
      " [1.00000000e+00 1.20000000e+00]]\n"
     ]
    }
   ],
   "source": [
    "print(row_names)\n",
    "print(stats_arr)"
   ]
  },
  {
   "cell_type": "code",
   "execution_count": 8,
   "metadata": {},
   "outputs": [
    {
     "name": "stdout",
     "output_type": "stream",
     "text": [
      "Populating the interactive namespace from numpy and matplotlib\n"
     ]
    },
    {
     "name": "stderr",
     "output_type": "stream",
     "text": [
      "/nethome/jbang36/anaconda3/envs/eva_35/lib/python3.6/site-packages/IPython/core/magics/pylab.py:160: UserWarning: pylab import has clobbered these variables: ['load']\n",
      "`%matplotlib` prevents importing * from pylab and numpy\n",
      "  \"\\n`%matplotlib` prevents importing * from pylab and numpy\"\n",
      "Using TensorFlow backend.\n"
     ]
    }
   ],
   "source": [
    "# Now cluster the data\n",
    "\n",
    "%pylab inline\n",
    "import os\n",
    "import keras\n",
    "import cv2\n",
    "import time\n",
    "import numpy as np\n",
    "import pandas as pd\n",
    "import keras.backend as K\n",
    "import tensorflow as tf\n",
    "\n",
    "import sklearn.metrics as metrics\n",
    "\n",
    "from keras import callbacks\n",
    "from keras.models import Model\n",
    "from keras.optimizers import SGD\n",
    "from keras.initializers import VarianceScaling\n",
    "from keras.engine.topology import Layer, InputSpec\n",
    "from keras.layers import Input, Dense, Conv2D, MaxPooling2D, Conv2DTranspose, Flatten,Reshape, UpSampling2D, Cropping2D\n",
    "from keras.callbacks import ModelCheckpoint, EarlyStopping"
   ]
  },
  {
   "cell_type": "code",
   "execution_count": 9,
   "metadata": {},
   "outputs": [
    {
     "name": "stdout",
     "output_type": "stream",
     "text": [
      "(540, 960, 1)\n",
      "(540, 960)\n",
      "(540, 960)\n"
     ]
    },
    {
     "data": {
      "text/plain": [
       "<matplotlib.image.AxesImage at 0x7f88bc7dc240>"
      ]
     },
     "execution_count": 9,
     "metadata": {},
     "output_type": "execute_result"
    },
    {
     "data": {
      "image/png": "[encoded data removed]",
      "text/plain": [
       "<Figure size 432x288 with 1 Axes>"
      ]
     },
     "metadata": {
      "needs_background": "light"
     },
     "output_type": "display_data"
    }
   ],
   "source": [
    "import matplotlib.pyplot as plt\n",
    "import random\n",
    "image_index = random.randint(0,100) # You may select anything up to 60,000\n",
    "print(X_train[image_index].shape)\n",
    "\n",
    "example = X_train[image_index]\n",
    "width, height, channels = example.shape\n",
    "example = np.squeeze(example)\n",
    "print(np.squeeze(example).shape)\n",
    "print(example.shape)\n",
    "\n",
    "plt.imshow(example, cmap='Greys')"
   ]
  },
  {
   "cell_type": "code",
   "execution_count": 10,
   "metadata": {},
   "outputs": [
    {
     "name": "stdout",
     "output_type": "stream",
     "text": [
      "before: (8336, 540, 960, 1)\n",
      "After change, shape of image is (8336, 45, 80, 1)\n",
      "before: (2085, 540, 960, 1)\n",
      "After change, shape of image is (2085, 45, 80, 1)\n"
     ]
    }
   ],
   "source": [
    "# Must perform normalization for the autoencoder to perform well\n",
    "X_train_norm = np.copy(X_train)\n",
    "X_test_norm = np.copy(X_test)\n",
    "\n",
    "def _format_image(X, sampling_rate=12):\n",
    "    print(\"before:\", X.shape)\n",
    "    reduction_rate = sampling_rate\n",
    "    # need to down shape them so that the kernels can train faster\n",
    "    # image should be num_samples, height, width, channel\n",
    "    downsampled_images = X[:, ::reduction_rate, ::reduction_rate, :]\n",
    "    downsampled_images = downsampled_images.astype(np.float32)\n",
    "    print(\"After change, shape of image is\", downsampled_images.shape)\n",
    "    downsampled_images /= 255.0\n",
    "    return downsampled_images\n",
    "\n",
    "X_train_norm = _format_image(X_train_norm)\n",
    "X_test_norm = _format_image(X_test_norm)\n",
    "\n"
   ]
  },
  {
   "cell_type": "code",
   "execution_count": 11,
   "metadata": {},
   "outputs": [],
   "source": [
    "\n",
    "keras.backend.clear_session()\n",
    "os.environ[\"CUDA_VISIBLE_DEVICES\"]=\"0\""
   ]
  },
  {
   "cell_type": "code",
   "execution_count": 12,
   "metadata": {},
   "outputs": [],
   "source": [
    "n_samples1, width1, height1, channels1 = X_train_norm.shape\n",
    "n_samples2, width2, height2, channels2 = X_test_norm.shape\n",
    "\n",
    "assert(width1 == width2)\n",
    "assert(height1 == height2)\n",
    "assert(channels1 == channels2)"
   ]
  },
  {
   "cell_type": "code",
   "execution_count": 13,
   "metadata": {},
   "outputs": [
    {
     "name": "stdout",
     "output_type": "stream",
     "text": [
      "_________________________________________________________________\n",
      "Layer (type)                 Output Shape              Param #   \n",
      "=================================================================\n",
      "input_1 (InputLayer)         (None, 45, 80, 1)         0         \n",
      "_________________________________________________________________\n",
      "conv2d_1 (Conv2D)            (None, 45, 80, 8)         80        \n",
      "_________________________________________________________________\n",
      "conv2d_2 (Conv2D)            (None, 45, 80, 8)         584       \n",
      "_________________________________________________________________\n",
      "max_pooling2d_1 (MaxPooling2 (None, 23, 40, 8)         0         \n",
      "_________________________________________________________________\n",
      "conv2d_3 (Conv2D)            (None, 23, 40, 16)        1168      \n",
      "_________________________________________________________________\n",
      "conv2d_4 (Conv2D)            (None, 23, 40, 16)        2320      \n",
      "_________________________________________________________________\n",
      "max_pooling2d_2 (MaxPooling2 (None, 12, 20, 16)        0         \n",
      "_________________________________________________________________\n",
      "flatten_1 (Flatten)          (None, 3840)              0         \n",
      "_________________________________________________________________\n",
      "dense_1 (Dense)              (None, 256)               983296    \n",
      "_________________________________________________________________\n",
      "dense_2 (Dense)              (None, 3840)              986880    \n",
      "_________________________________________________________________\n",
      "reshape_1 (Reshape)          (None, 12, 20, 16)        0         \n",
      "_________________________________________________________________\n",
      "up_sampling2d_1 (UpSampling2 (None, 24, 40, 16)        0         \n",
      "_________________________________________________________________\n",
      "conv2d_5 (Conv2D)            (None, 24, 40, 16)        2320      \n",
      "_________________________________________________________________\n",
      "conv2d_6 (Conv2D)            (None, 24, 40, 16)        2320      \n",
      "_________________________________________________________________\n",
      "up_sampling2d_2 (UpSampling2 (None, 48, 80, 16)        0         \n",
      "_________________________________________________________________\n",
      "conv2d_7 (Conv2D)            (None, 48, 80, 8)         1160      \n",
      "_________________________________________________________________\n",
      "conv2d_8 (Conv2D)            (None, 48, 80, 1)         73        \n",
      "_________________________________________________________________\n",
      "cropping2d_1 (Cropping2D)    (None, 45, 80, 1)         0         \n",
      "=================================================================\n",
      "Total params: 1,980,201\n",
      "Trainable params: 1,980,201\n",
      "Non-trainable params: 0\n",
      "_________________________________________________________________\n"
     ]
    }
   ],
   "source": [
    "# Combined network with both FC and CNN layers\n",
    "\n",
    "n_samples, width, height, channels = X_train_norm.shape\n",
    "# Input\n",
    "input_img = Input(shape=(width, height, 1))\n",
    "# Encoder\n",
    "x = Conv2D(8,(3,3),\n",
    "           activation='relu',\n",
    "           padding='same')(input_img)\n",
    "x = Conv2D(8,(3,3),\n",
    "           activation='relu',\n",
    "           padding='same')(x)\n",
    "x = MaxPooling2D((2,2),\n",
    "                 padding='same')(x) \n",
    "x = Conv2D(16,(3,3),\n",
    "           activation='relu',\n",
    "           padding='same')(x)\n",
    "x = Conv2D(16,(3,3),\n",
    "           activation='relu',\n",
    "           padding='same')(x)\n",
    "x = MaxPooling2D((2,2),\n",
    "                 padding='same')(x) # Size \n",
    "x = Flatten()(x)\n",
    "encoded = Dense(256)(x)\n",
    "# Decoder\n",
    "x = Dense(3840)(encoded)\n",
    "x = Reshape((12, 20, 16))(x)\n",
    "x = UpSampling2D((2, 2))(x) # 24, 40, 16\n",
    "x = Conv2D(16, (3, 3),\n",
    "           activation='relu',\n",
    "           padding='same')(x)\n",
    "x = Conv2D(16, (3, 3),\n",
    "           activation='relu',\n",
    "           padding='same')(x)\n",
    "x = UpSampling2D((2, 2))(x)  # Size 48, 80, 16\n",
    "x = Conv2D(8, (3, 3),\n",
    "           activation='relu',\n",
    "           padding='same')(x)\n",
    "x = Conv2D(1, (3, 3),\n",
    "           activation='relu',\n",
    "           padding='same')(x)\n",
    "\n",
    "decoded = Cropping2D(cropping=((2,1),(0,0)),\n",
    "               data_format='channels_last')(x) # size 45, 80, 16\n",
    "\n",
    "\n",
    "autoencoder = Model(input_img, decoded)\n",
    "\n",
    "encoder = Model(input_img, encoded)\n",
    "\n",
    "autoencoder.compile(optimizer='adam', loss='mse')\n",
    "\n",
    "autoencoder.summary()"
   ]
  },
  {
   "cell_type": "code",
   "execution_count": 14,
   "metadata": {
    "scrolled": true
   },
   "outputs": [
    {
     "name": "stdout",
     "output_type": "stream",
     "text": [
      "Train on 8336 samples, validate on 2085 samples\n",
      "Epoch 1/200\n",
      "8336/8336 [==============================] - 5s 641us/step - loss: 0.2036 - val_loss: 0.0851\n",
      "Epoch 2/200\n",
      "8336/8336 [==============================] - 1s 113us/step - loss: 0.0689 - val_loss: 0.0465\n",
      "Epoch 3/200\n",
      "8336/8336 [==============================] - 1s 112us/step - loss: 0.0370 - val_loss: 0.0286\n",
      "Epoch 4/200\n",
      "8336/8336 [==============================] - 1s 112us/step - loss: 0.0282 - val_loss: 0.0251\n",
      "Epoch 5/200\n",
      "8336/8336 [==============================] - 1s 112us/step - loss: 0.0248 - val_loss: 0.0241\n",
      "Epoch 6/200\n",
      "8336/8336 [==============================] - 1s 113us/step - loss: 0.0236 - val_loss: 0.0228\n",
      "Epoch 7/200\n",
      "8336/8336 [==============================] - 1s 113us/step - loss: 0.0227 - val_loss: 0.0223\n",
      "Epoch 8/200\n",
      "8336/8336 [==============================] - 1s 115us/step - loss: 0.0222 - val_loss: 0.0221\n",
      "Epoch 9/200\n",
      "8336/8336 [==============================] - 1s 113us/step - loss: 0.0218 - val_loss: 0.0217\n",
      "Epoch 10/200\n",
      "8336/8336 [==============================] - 1s 115us/step - loss: 0.0215 - val_loss: 0.0216\n",
      "Epoch 11/200\n",
      "8336/8336 [==============================] - 1s 113us/step - loss: 0.0211 - val_loss: 0.0212\n",
      "Epoch 12/200\n",
      "8336/8336 [==============================] - 1s 113us/step - loss: 0.0207 - val_loss: 0.0207\n",
      "Epoch 13/200\n",
      "8336/8336 [==============================] - 1s 112us/step - loss: 0.0202 - val_loss: 0.0202\n",
      "Epoch 14/200\n",
      "8336/8336 [==============================] - 1s 122us/step - loss: 0.0197 - val_loss: 0.0200\n",
      "Epoch 15/200\n",
      "8336/8336 [==============================] - 1s 114us/step - loss: 0.0192 - val_loss: 0.0194\n",
      "Epoch 16/200\n",
      "8336/8336 [==============================] - 1s 113us/step - loss: 0.0187 - val_loss: 0.0192\n",
      "Epoch 17/200\n",
      "8336/8336 [==============================] - 1s 116us/step - loss: 0.0183 - val_loss: 0.0188\n",
      "Epoch 18/200\n",
      "8336/8336 [==============================] - 1s 113us/step - loss: 0.0180 - val_loss: 0.0188\n",
      "Epoch 19/200\n",
      "8336/8336 [==============================] - 1s 112us/step - loss: 0.0177 - val_loss: 0.0192\n",
      "Epoch 20/200\n",
      "8336/8336 [==============================] - 1s 113us/step - loss: 0.0180 - val_loss: 0.0181\n",
      "Epoch 21/200\n",
      "8336/8336 [==============================] - 1s 113us/step - loss: 0.0170 - val_loss: 0.0181\n",
      "Epoch 22/200\n",
      "8336/8336 [==============================] - 1s 113us/step - loss: 0.0165 - val_loss: 0.0176\n",
      "Epoch 23/200\n",
      "8336/8336 [==============================] - 1s 114us/step - loss: 0.0162 - val_loss: 0.0175\n",
      "Epoch 24/200\n",
      "8336/8336 [==============================] - 1s 114us/step - loss: 0.0157 - val_loss: 0.0174\n",
      "Epoch 25/200\n",
      "8336/8336 [==============================] - 1s 124us/step - loss: 0.0156 - val_loss: 0.0178\n",
      "Epoch 26/200\n",
      "8336/8336 [==============================] - 1s 117us/step - loss: 0.0158 - val_loss: 0.0171\n",
      "Epoch 27/200\n",
      "8336/8336 [==============================] - 1s 112us/step - loss: 0.0152 - val_loss: 0.0171\n",
      "Epoch 28/200\n",
      "8336/8336 [==============================] - 1s 112us/step - loss: 0.0150 - val_loss: 0.0171\n",
      "Epoch 29/200\n",
      "8336/8336 [==============================] - 1s 113us/step - loss: 0.0146 - val_loss: 0.0171\n",
      "Epoch 30/200\n",
      "8336/8336 [==============================] - 1s 113us/step - loss: 0.0144 - val_loss: 0.0170\n",
      "Epoch 31/200\n",
      "8336/8336 [==============================] - 1s 114us/step - loss: 0.0147 - val_loss: 0.0170\n",
      "Epoch 32/200\n",
      "8336/8336 [==============================] - 1s 112us/step - loss: 0.0142 - val_loss: 0.0167\n",
      "Epoch 33/200\n",
      "8336/8336 [==============================] - 1s 121us/step - loss: 0.0140 - val_loss: 0.0165\n",
      "Epoch 34/200\n",
      "8336/8336 [==============================] - 1s 112us/step - loss: 0.0138 - val_loss: 0.0172\n",
      "Epoch 35/200\n",
      "8336/8336 [==============================] - 1s 112us/step - loss: 0.0143 - val_loss: 0.0168\n",
      "Epoch 36/200\n",
      "8336/8336 [==============================] - 1s 114us/step - loss: 0.0137 - val_loss: 0.0162\n",
      "Epoch 37/200\n",
      "8336/8336 [==============================] - 1s 117us/step - loss: 0.0134 - val_loss: 0.0162\n",
      "Epoch 38/200\n",
      "8336/8336 [==============================] - 1s 114us/step - loss: 0.0133 - val_loss: 0.0160\n",
      "Epoch 39/200\n",
      "8336/8336 [==============================] - 1s 115us/step - loss: 0.0130 - val_loss: 0.0160\n",
      "Epoch 40/200\n",
      "8336/8336 [==============================] - 1s 117us/step - loss: 0.0129 - val_loss: 0.0159\n",
      "Epoch 41/200\n",
      "8336/8336 [==============================] - 1s 112us/step - loss: 0.0127 - val_loss: 0.0157\n",
      "Epoch 42/200\n",
      "8336/8336 [==============================] - 1s 112us/step - loss: 0.0127 - val_loss: 0.0159\n",
      "Epoch 43/200\n",
      "8336/8336 [==============================] - 1s 114us/step - loss: 0.0125 - val_loss: 0.0157\n",
      "Epoch 44/200\n",
      "8336/8336 [==============================] - 1s 115us/step - loss: 0.0124 - val_loss: 0.0154\n",
      "Epoch 45/200\n",
      "8336/8336 [==============================] - 1s 114us/step - loss: 0.0123 - val_loss: 0.0162\n",
      "Epoch 46/200\n",
      "8336/8336 [==============================] - 1s 118us/step - loss: 0.0126 - val_loss: 0.0154\n",
      "Epoch 47/200\n",
      "8336/8336 [==============================] - 1s 114us/step - loss: 0.0122 - val_loss: 0.0154\n",
      "Epoch 48/200\n",
      "8336/8336 [==============================] - 1s 118us/step - loss: 0.0120 - val_loss: 0.0155\n",
      "Epoch 49/200\n",
      "8336/8336 [==============================] - 1s 113us/step - loss: 0.0119 - val_loss: 0.0153\n",
      "Epoch 50/200\n",
      "8336/8336 [==============================] - 1s 113us/step - loss: 0.0117 - val_loss: 0.0152\n",
      "Epoch 51/200\n",
      "8336/8336 [==============================] - 1s 116us/step - loss: 0.0116 - val_loss: 0.0151\n",
      "Epoch 52/200\n",
      "8336/8336 [==============================] - 1s 115us/step - loss: 0.0115 - val_loss: 0.0149\n",
      "Epoch 53/200\n",
      "8336/8336 [==============================] - 1s 117us/step - loss: 0.0114 - val_loss: 0.0148\n",
      "Epoch 54/200\n",
      "8336/8336 [==============================] - 1s 113us/step - loss: 0.0115 - val_loss: 0.0148\n",
      "Epoch 55/200\n",
      "8336/8336 [==============================] - 1s 113us/step - loss: 0.0112 - val_loss: 0.0149\n",
      "Epoch 56/200\n",
      "8336/8336 [==============================] - 1s 113us/step - loss: 0.0112 - val_loss: 0.0147\n",
      "Epoch 57/200\n",
      "8336/8336 [==============================] - 1s 113us/step - loss: 0.0112 - val_loss: 0.0153\n",
      "Epoch 58/200\n",
      "8336/8336 [==============================] - 1s 113us/step - loss: 0.0117 - val_loss: 0.0148\n",
      "Epoch 59/200\n",
      "8336/8336 [==============================] - 1s 118us/step - loss: 0.0112 - val_loss: 0.0146\n",
      "Epoch 60/200\n",
      "8336/8336 [==============================] - 1s 117us/step - loss: 0.0110 - val_loss: 0.0148\n",
      "Epoch 61/200\n",
      "8336/8336 [==============================] - 1s 117us/step - loss: 0.0109 - val_loss: 0.0147\n",
      "Epoch 62/200\n",
      "8336/8336 [==============================] - 1s 113us/step - loss: 0.0108 - val_loss: 0.0147\n",
      "Epoch 63/200\n",
      "8336/8336 [==============================] - 1s 113us/step - loss: 0.0107 - val_loss: 0.0145\n",
      "Epoch 64/200\n",
      "8336/8336 [==============================] - 1s 115us/step - loss: 0.0106 - val_loss: 0.0144\n",
      "Epoch 65/200\n",
      "8336/8336 [==============================] - 1s 113us/step - loss: 0.0105 - val_loss: 0.0142\n",
      "Epoch 66/200\n",
      "8336/8336 [==============================] - 1s 112us/step - loss: 0.0105 - val_loss: 0.0143\n",
      "Epoch 67/200\n",
      "8336/8336 [==============================] - 1s 114us/step - loss: 0.0104 - val_loss: 0.0142\n",
      "Epoch 68/200\n",
      "8336/8336 [==============================] - 1s 115us/step - loss: 0.0103 - val_loss: 0.0141\n",
      "Epoch 69/200\n",
      "8336/8336 [==============================] - 1s 113us/step - loss: 0.0104 - val_loss: 0.0209\n",
      "Epoch 70/200\n",
      "8336/8336 [==============================] - 1s 119us/step - loss: 0.0128 - val_loss: 0.0146\n",
      "Epoch 71/200\n",
      "8336/8336 [==============================] - 1s 126us/step - loss: 0.0110 - val_loss: 0.0147\n",
      "Epoch 72/200\n",
      "8336/8336 [==============================] - 1s 124us/step - loss: 0.0107 - val_loss: 0.0144\n",
      "Epoch 73/200\n",
      "8336/8336 [==============================] - 1s 128us/step - loss: 0.0104 - val_loss: 0.0142\n",
      "Epoch 74/200\n",
      "8336/8336 [==============================] - 1s 126us/step - loss: 0.0102 - val_loss: 0.0144\n",
      "Epoch 75/200\n",
      "8336/8336 [==============================] - 1s 125us/step - loss: 0.0101 - val_loss: 0.0141\n",
      "Epoch 76/200\n",
      "8336/8336 [==============================] - 1s 118us/step - loss: 0.0100 - val_loss: 0.0140\n",
      "Epoch 77/200\n",
      "8336/8336 [==============================] - 1s 115us/step - loss: 0.0100 - val_loss: 0.0141\n",
      "Epoch 78/200\n",
      "8336/8336 [==============================] - 1s 115us/step - loss: 0.0099 - val_loss: 0.0139\n",
      "Epoch 79/200\n",
      "8336/8336 [==============================] - 1s 116us/step - loss: 0.0099 - val_loss: 0.0139\n",
      "Epoch 80/200\n",
      "8336/8336 [==============================] - 1s 118us/step - loss: 0.0098 - val_loss: 0.0139\n",
      "Epoch 81/200\n",
      "8336/8336 [==============================] - 1s 122us/step - loss: 0.0098 - val_loss: 0.0139\n",
      "Epoch 82/200\n",
      "8336/8336 [==============================] - 1s 123us/step - loss: 0.0097 - val_loss: 0.0138\n",
      "Epoch 83/200\n",
      "8336/8336 [==============================] - 1s 119us/step - loss: 0.0097 - val_loss: 0.0138\n",
      "Epoch 84/200\n",
      "8336/8336 [==============================] - 1s 122us/step - loss: 0.0096 - val_loss: 0.0138\n",
      "Epoch 85/200\n",
      "8336/8336 [==============================] - 1s 129us/step - loss: 0.0096 - val_loss: 0.0138\n",
      "Epoch 86/200\n",
      "8336/8336 [==============================] - 1s 124us/step - loss: 0.0095 - val_loss: 0.0137\n",
      "Epoch 87/200\n",
      "8336/8336 [==============================] - 1s 125us/step - loss: 0.0100 - val_loss: 0.0163\n",
      "Epoch 88/200\n",
      "8336/8336 [==============================] - 1s 124us/step - loss: 0.0104 - val_loss: 0.0141\n",
      "Epoch 89/200\n",
      "8336/8336 [==============================] - 1s 123us/step - loss: 0.0102 - val_loss: 0.0142\n",
      "Epoch 90/200\n",
      "8336/8336 [==============================] - 1s 127us/step - loss: 0.0101 - val_loss: 0.0143\n",
      "Epoch 91/200\n",
      "8336/8336 [==============================] - 1s 127us/step - loss: 0.0098 - val_loss: 0.0138\n",
      "Epoch 92/200\n",
      "8336/8336 [==============================] - 1s 130us/step - loss: 0.0096 - val_loss: 0.0142\n",
      "Epoch 93/200\n",
      "8336/8336 [==============================] - 1s 128us/step - loss: 0.0095 - val_loss: 0.0137\n",
      "Epoch 94/200\n",
      "8336/8336 [==============================] - 1s 128us/step - loss: 0.0094 - val_loss: 0.0138\n",
      "Epoch 95/200\n",
      "8336/8336 [==============================] - 1s 129us/step - loss: 0.0093 - val_loss: 0.0138\n",
      "Epoch 96/200\n",
      "8336/8336 [==============================] - 1s 128us/step - loss: 0.0093 - val_loss: 0.0136\n",
      "Epoch 97/200\n",
      "8336/8336 [==============================] - 1s 132us/step - loss: 0.0092 - val_loss: 0.0136\n",
      "Epoch 98/200\n",
      "8336/8336 [==============================] - 1s 130us/step - loss: 0.0092 - val_loss: 0.0136\n",
      "Epoch 99/200\n",
      "8336/8336 [==============================] - 1s 129us/step - loss: 0.0091 - val_loss: 0.0136\n",
      "Epoch 100/200\n",
      "8336/8336 [==============================] - 1s 130us/step - loss: 0.0091 - val_loss: 0.0136\n",
      "Epoch 101/200\n",
      "8336/8336 [==============================] - 1s 132us/step - loss: 0.0091 - val_loss: 0.0135\n",
      "Epoch 102/200\n",
      "8336/8336 [==============================] - 1s 133us/step - loss: 0.0090 - val_loss: 0.0136\n",
      "Epoch 103/200\n",
      "8336/8336 [==============================] - 1s 127us/step - loss: 0.0090 - val_loss: 0.0135\n",
      "Epoch 104/200\n",
      "8336/8336 [==============================] - 1s 130us/step - loss: 0.0090 - val_loss: 0.0135\n",
      "Epoch 105/200\n",
      "8336/8336 [==============================] - 1s 126us/step - loss: 0.0090 - val_loss: 0.0137\n",
      "Epoch 106/200\n",
      "8336/8336 [==============================] - 1s 129us/step - loss: 0.0090 - val_loss: 0.0134\n",
      "Epoch 107/200\n",
      "8336/8336 [==============================] - 1s 130us/step - loss: 0.0090 - val_loss: 0.0134\n",
      "Epoch 108/200\n",
      "8336/8336 [==============================] - 1s 130us/step - loss: 0.0089 - val_loss: 0.0136\n",
      "Epoch 109/200\n",
      "8336/8336 [==============================] - 1s 130us/step - loss: 0.0088 - val_loss: 0.0136\n",
      "Epoch 110/200\n",
      "8336/8336 [==============================] - 1s 126us/step - loss: 0.0089 - val_loss: 0.0134\n",
      "Epoch 111/200\n",
      "8336/8336 [==============================] - 1s 136us/step - loss: 0.0088 - val_loss: 0.0134\n",
      "Epoch 112/200\n",
      "8336/8336 [==============================] - 1s 128us/step - loss: 0.0088 - val_loss: 0.0142\n",
      "Epoch 113/200\n",
      "8336/8336 [==============================] - 1s 129us/step - loss: 0.0092 - val_loss: 0.0134\n",
      "Epoch 114/200\n",
      "8336/8336 [==============================] - 1s 130us/step - loss: 0.0089 - val_loss: 0.0136\n",
      "Epoch 115/200\n",
      "8336/8336 [==============================] - 1s 131us/step - loss: 0.0088 - val_loss: 0.0136\n",
      "Epoch 116/200\n",
      "8336/8336 [==============================] - 1s 129us/step - loss: 0.0087 - val_loss: 0.0136\n",
      "Epoch 117/200\n",
      "8336/8336 [==============================] - 1s 130us/step - loss: 0.0087 - val_loss: 0.0134\n",
      "Epoch 118/200\n",
      "8336/8336 [==============================] - 1s 128us/step - loss: 0.0086 - val_loss: 0.0133\n",
      "Epoch 119/200\n",
      "8336/8336 [==============================] - 1s 128us/step - loss: 0.0086 - val_loss: 0.0133\n",
      "Epoch 120/200\n",
      "8336/8336 [==============================] - 1s 135us/step - loss: 0.0086 - val_loss: 0.0137\n",
      "Epoch 121/200\n",
      "8336/8336 [==============================] - 1s 125us/step - loss: 0.0088 - val_loss: 0.0134\n",
      "Epoch 122/200\n",
      "8336/8336 [==============================] - 1s 130us/step - loss: 0.0087 - val_loss: 0.0133\n",
      "Epoch 123/200\n",
      "8336/8336 [==============================] - 1s 130us/step - loss: 0.0086 - val_loss: 0.0133\n",
      "Epoch 124/200\n",
      "8336/8336 [==============================] - 1s 130us/step - loss: 0.0085 - val_loss: 0.0133\n",
      "Epoch 125/200\n",
      "8336/8336 [==============================] - 1s 129us/step - loss: 0.0085 - val_loss: 0.0135\n",
      "Epoch 126/200\n",
      "8336/8336 [==============================] - 1s 130us/step - loss: 0.0085 - val_loss: 0.0133\n",
      "Epoch 127/200\n",
      "8336/8336 [==============================] - 1s 129us/step - loss: 0.0084 - val_loss: 0.0134\n",
      "Epoch 128/200\n",
      "8336/8336 [==============================] - 1s 129us/step - loss: 0.0084 - val_loss: 0.0132\n",
      "Epoch 129/200\n",
      "8336/8336 [==============================] - 1s 130us/step - loss: 0.0085 - val_loss: 0.0144\n",
      "Epoch 130/200\n",
      "8336/8336 [==============================] - 1s 130us/step - loss: 0.0089 - val_loss: 0.0134\n",
      "Epoch 131/200\n",
      "8336/8336 [==============================] - 1s 128us/step - loss: 0.0085 - val_loss: 0.0135\n",
      "Epoch 132/200\n",
      "8336/8336 [==============================] - 1s 127us/step - loss: 0.0084 - val_loss: 0.0134\n",
      "Epoch 133/200\n",
      "8336/8336 [==============================] - 1s 126us/step - loss: 0.0083 - val_loss: 0.0133\n",
      "Epoch 134/200\n",
      "8336/8336 [==============================] - 1s 126us/step - loss: 0.0083 - val_loss: 0.0132\n",
      "Epoch 135/200\n",
      "8336/8336 [==============================] - 1s 125us/step - loss: 0.0082 - val_loss: 0.0132\n",
      "Epoch 136/200\n",
      "8336/8336 [==============================] - 1s 121us/step - loss: 0.0083 - val_loss: 0.0135\n",
      "Epoch 137/200\n",
      "8336/8336 [==============================] - 1s 122us/step - loss: 0.0082 - val_loss: 0.0133\n",
      "Epoch 138/200\n",
      "8336/8336 [==============================] - 1s 124us/step - loss: 0.0082 - val_loss: 0.0131\n",
      "Epoch 139/200\n",
      "8336/8336 [==============================] - 1s 125us/step - loss: 0.0083 - val_loss: 0.0138\n",
      "Epoch 140/200\n",
      "8336/8336 [==============================] - 1s 131us/step - loss: 0.0083 - val_loss: 0.0132\n",
      "Epoch 141/200\n",
      "8336/8336 [==============================] - 1s 124us/step - loss: 0.0081 - val_loss: 0.0132\n",
      "Epoch 142/200\n",
      "8336/8336 [==============================] - 1s 123us/step - loss: 0.0081 - val_loss: 0.0134\n",
      "Epoch 143/200\n",
      "8336/8336 [==============================] - 1s 123us/step - loss: 0.0081 - val_loss: 0.0132\n",
      "Epoch 144/200\n",
      "8336/8336 [==============================] - 1s 125us/step - loss: 0.0081 - val_loss: 0.0133\n",
      "Epoch 145/200\n",
      "8336/8336 [==============================] - 1s 125us/step - loss: 0.0081 - val_loss: 0.0132\n",
      "Epoch 146/200\n",
      "8336/8336 [==============================] - 1s 125us/step - loss: 0.0091 - val_loss: 0.0147\n",
      "Epoch 147/200\n",
      "8336/8336 [==============================] - 1s 127us/step - loss: 0.0087 - val_loss: 0.0133\n",
      "Epoch 148/200\n",
      "8336/8336 [==============================] - 1s 122us/step - loss: 0.0084 - val_loss: 0.0134\n",
      "Epoch 149/200\n",
      "8336/8336 [==============================] - 1s 124us/step - loss: 0.0083 - val_loss: 0.0132\n",
      "Epoch 150/200\n",
      "8336/8336 [==============================] - 1s 122us/step - loss: 0.0082 - val_loss: 0.0134\n",
      "Epoch 151/200\n",
      "8336/8336 [==============================] - 1s 127us/step - loss: 0.0081 - val_loss: 0.0135\n",
      "Epoch 152/200\n",
      "8336/8336 [==============================] - 1s 120us/step - loss: 0.0080 - val_loss: 0.0135\n",
      "Epoch 153/200\n",
      "8336/8336 [==============================] - 1s 122us/step - loss: 0.0080 - val_loss: 0.0134\n",
      "Epoch 154/200\n",
      "8336/8336 [==============================] - 1s 125us/step - loss: 0.0079 - val_loss: 0.0133\n",
      "Epoch 155/200\n",
      "8336/8336 [==============================] - 1s 126us/step - loss: 0.0079 - val_loss: 0.0133\n",
      "Epoch 156/200\n",
      "8336/8336 [==============================] - 1s 127us/step - loss: 0.0079 - val_loss: 0.0133\n",
      "Epoch 157/200\n",
      "8336/8336 [==============================] - 1s 123us/step - loss: 0.0079 - val_loss: 0.0132\n",
      "Epoch 158/200\n",
      "8336/8336 [==============================] - 1s 128us/step - loss: 0.0078 - val_loss: 0.0131\n",
      "Epoch 159/200\n",
      "8336/8336 [==============================] - 1s 126us/step - loss: 0.0078 - val_loss: 0.0132\n",
      "Epoch 160/200\n",
      "8336/8336 [==============================] - 1s 129us/step - loss: 0.0078 - val_loss: 0.0131\n",
      "Epoch 161/200\n",
      "8336/8336 [==============================] - 1s 128us/step - loss: 0.0078 - val_loss: 0.0132\n",
      "Epoch 162/200\n",
      "8336/8336 [==============================] - 1s 125us/step - loss: 0.0078 - val_loss: 0.0131\n",
      "Epoch 163/200\n",
      "8336/8336 [==============================] - 1s 131us/step - loss: 0.0078 - val_loss: 0.0132\n",
      "Epoch 164/200\n",
      "8336/8336 [==============================] - 1s 126us/step - loss: 0.0077 - val_loss: 0.0130\n",
      "Epoch 165/200\n",
      "8336/8336 [==============================] - 1s 134us/step - loss: 0.0079 - val_loss: 0.0155\n",
      "Epoch 166/200\n",
      "8336/8336 [==============================] - 1s 133us/step - loss: 0.0089 - val_loss: 0.0146\n",
      "Epoch 167/200\n",
      "8336/8336 [==============================] - 1s 130us/step - loss: 0.0081 - val_loss: 0.0140\n",
      "Epoch 168/200\n",
      "8336/8336 [==============================] - 1s 122us/step - loss: 0.0080 - val_loss: 0.0133\n",
      "Epoch 169/200\n",
      "8336/8336 [==============================] - 1s 120us/step - loss: 0.0078 - val_loss: 0.0131\n",
      "Epoch 170/200\n",
      "8336/8336 [==============================] - 1s 123us/step - loss: 0.0078 - val_loss: 0.0131\n",
      "Epoch 171/200\n",
      "8336/8336 [==============================] - 1s 128us/step - loss: 0.0077 - val_loss: 0.0131\n",
      "Epoch 172/200\n",
      "8336/8336 [==============================] - 1s 121us/step - loss: 0.0077 - val_loss: 0.0131\n",
      "Epoch 173/200\n",
      "8336/8336 [==============================] - 1s 130us/step - loss: 0.0076 - val_loss: 0.0131\n",
      "Epoch 174/200\n",
      "8336/8336 [==============================] - 1s 126us/step - loss: 0.0076 - val_loss: 0.0131\n",
      "Epoch 175/200\n",
      "8336/8336 [==============================] - 1s 125us/step - loss: 0.0076 - val_loss: 0.0131\n",
      "Epoch 176/200\n",
      "8336/8336 [==============================] - 1s 121us/step - loss: 0.0076 - val_loss: 0.0131\n",
      "Epoch 177/200\n",
      "8336/8336 [==============================] - 1s 127us/step - loss: 0.0076 - val_loss: 0.0132\n",
      "Epoch 178/200\n",
      "8336/8336 [==============================] - 1s 130us/step - loss: 0.0075 - val_loss: 0.0132\n",
      "Epoch 179/200\n",
      "8336/8336 [==============================] - 1s 116us/step - loss: 0.0075 - val_loss: 0.0130\n",
      "Epoch 180/200\n",
      "8336/8336 [==============================] - 1s 117us/step - loss: 0.0075 - val_loss: 0.0133\n",
      "Epoch 181/200\n",
      "8336/8336 [==============================] - 1s 117us/step - loss: 0.0075 - val_loss: 0.0131\n",
      "Epoch 182/200\n",
      "8336/8336 [==============================] - 1s 116us/step - loss: 0.0075 - val_loss: 0.0131\n",
      "Epoch 183/200\n",
      "8336/8336 [==============================] - 1s 113us/step - loss: 0.0075 - val_loss: 0.0130\n",
      "Epoch 184/200\n",
      "8336/8336 [==============================] - 1s 115us/step - loss: 0.0075 - val_loss: 0.0141\n",
      "Epoch 185/200\n",
      "8336/8336 [==============================] - 1s 116us/step - loss: 0.0083 - val_loss: 0.0130\n",
      "Epoch 186/200\n",
      "8336/8336 [==============================] - 1s 114us/step - loss: 0.0077 - val_loss: 0.0132\n",
      "Epoch 187/200\n",
      "8336/8336 [==============================] - 1s 118us/step - loss: 0.0076 - val_loss: 0.0133\n",
      "Epoch 188/200\n",
      "8336/8336 [==============================] - 1s 120us/step - loss: 0.0075 - val_loss: 0.0132\n",
      "Epoch 189/200\n",
      "8336/8336 [==============================] - 1s 118us/step - loss: 0.0074 - val_loss: 0.0132\n",
      "Epoch 190/200\n",
      "8336/8336 [==============================] - 1s 123us/step - loss: 0.0074 - val_loss: 0.0131\n",
      "Epoch 191/200\n",
      "8336/8336 [==============================] - 1s 115us/step - loss: 0.0074 - val_loss: 0.0131\n",
      "Epoch 192/200\n",
      "8336/8336 [==============================] - 1s 117us/step - loss: 0.0074 - val_loss: 0.0131\n",
      "Epoch 193/200\n",
      "8336/8336 [==============================] - 1s 119us/step - loss: 0.0074 - val_loss: 0.0131\n",
      "Epoch 194/200\n",
      "8336/8336 [==============================] - 1s 116us/step - loss: 0.0073 - val_loss: 0.0131\n",
      "Epoch 195/200\n",
      "8336/8336 [==============================] - 1s 115us/step - loss: 0.0073 - val_loss: 0.0131\n",
      "Epoch 196/200\n",
      "8336/8336 [==============================] - 1s 122us/step - loss: 0.0073 - val_loss: 0.0130\n",
      "Epoch 197/200\n",
      "8336/8336 [==============================] - 1s 117us/step - loss: 0.0073 - val_loss: 0.0133\n",
      "Epoch 198/200\n",
      "8336/8336 [==============================] - 1s 117us/step - loss: 0.0074 - val_loss: 0.0131\n",
      "Epoch 199/200\n",
      "8336/8336 [==============================] - 1s 117us/step - loss: 0.0077 - val_loss: 0.0132\n",
      "Epoch 200/200\n",
      "8336/8336 [==============================] - 1s 121us/step - loss: 0.0073 - val_loss: 0.0134\n",
      "Total time it took to train autoencoder is  207.4479043483734  seconds\n"
     ]
    }
   ],
   "source": [
    "start_time = time.time()\n",
    "train_history = autoencoder.fit(X_train_norm, X_train_norm, epochs=200, batch_size=2048, validation_data=(X_test_norm, X_test_norm))\n",
    "print(\"Total time it took to train autoencoder is \", time.time() - start_time, \" seconds\")"
   ]
  },
  {
   "cell_type": "code",
   "execution_count": 15,
   "metadata": {},
   "outputs": [
    {
     "name": "stdout",
     "output_type": "stream",
     "text": [
      "Time to fit X_train 6.6948816776275635\n",
      "Time to fit X_test 0.3306722640991211\n",
      "0\n",
      "415\n",
      "0\n",
      "103\n"
     ]
    }
   ],
   "source": [
    "# After downsizing the images, we need to cluster them by similarity\n",
    "# Heuristic we will use is to assume fps rate is 20. We will make num_samples / 20 clusters\n",
    "\n",
    "# Apply hierarchical clustering\n",
    "# Remember the indexes\n",
    "# Put the images into correct locations\n",
    "# TODO: Currently the images are not being divided correctly... We need to find out why\n",
    "\n",
    "from sklearn.cluster import AgglomerativeClustering\n",
    "\n",
    "#image_table_flattened = image_table.reshape(-1, width*height).astype('float32')\n",
    "#image_table /= 255.0\n",
    "\n",
    "X_train_compressed = encoder.predict(X_train_norm)\n",
    "X_test_compressed = encoder.predict(X_test_norm)\n",
    "\n",
    "\n",
    "fps = 20\n",
    "ac = AgglomerativeClustering(n_clusters=len(X_train_compressed) // fps)\n",
    "\n",
    "start_time = time.time()\n",
    "ac.fit(X_train_compressed)\n",
    "print(\"Time to fit X_train\", time.time() - start_time)\n",
    "X_train_clusters = ac.labels_\n",
    "\n",
    "start_time = time.time()\n",
    "ac1 = AgglomerativeClustering(n_clusters=len(X_test_compressed) // fps)\n",
    "ac1.fit(X_test_compressed)\n",
    "print(\"Time to fit X_test\", time.time() - start_time)\n",
    "X_test_clusters = ac1.labels_\n",
    "\n",
    "\n",
    "print(min(X_train_clusters))\n",
    "print(max(X_train_clusters))\n",
    "print(min(X_test_clusters))\n",
    "print(max(X_test_clusters))"
   ]
  },
  {
   "cell_type": "code",
   "execution_count": 16,
   "metadata": {},
   "outputs": [
    {
     "name": "stdout",
     "output_type": "stream",
     "text": [
      "(416, 540, 960, 1)\n",
      "(104, 540, 960, 1)\n"
     ]
    }
   ],
   "source": [
    "# Choose representative frames from each cluster\n",
    "# Create a fake X_train, Y_train, X_val, Y_val for retraining the filters\n",
    "\n",
    "# We have X_train, X_train_clusters (this gives cluster numbers), Y_train, Y_names\n",
    "\n",
    "visited_cluster_nums = set()\n",
    "\n",
    "n_samples, width1, height1, channels1 = X_train.shape\n",
    "n_samples, width2, height2, channels2 = X_test.shape\n",
    "X_train_rep = np.zeros(shape = (max(X_train_clusters)+1, width1, height1, channels1))\n",
    "X_test_rep = np.zeros(shape = (max(X_test_clusters)+1, width2, height2, channels2))\n",
    "Y_train_dict_rep = {}\n",
    "Y_test_rep = np.zeros(shape = (max(X_test_clusters)+1, len(Y_names)))\n",
    "\n",
    "import copy\n",
    "categories = ['vehicle_type', 'color', 'speed', 'intersection']\n",
    "for category in categories:\n",
    "    Y_train_dict_rep[category] = [None] * (max(X_train_clusters)+1)\n",
    "\n",
    "assert(len(X_train_clusters) == len(X_train))\n",
    "for i in range(len(X_train_clusters)):\n",
    "    if X_train_clusters[i] not in visited_cluster_nums:\n",
    "        visited_cluster_nums.add(X_train_clusters[i])\n",
    "        # we want to pick these frames out but we need to remember their index so that we can extract their labels\n",
    "        # cluster number will be their index\n",
    "        assert(len(X_train.shape) == 4)\n",
    "        X_train_rep[X_train_clusters[i],:,:,:] = X_train[i,:,:,:]\n",
    "        for category in categories:\n",
    "            Y_train_dict_rep[category][X_train_clusters[i]] = copy.deepcopy(Y_train_dict[category][i])\n",
    "\n",
    "visited_cluster_nums.clear()\n",
    "\n",
    "for i in range(len(X_test_clusters)):\n",
    "    if X_test_clusters[i] not in visited_cluster_nums:\n",
    "        visited_cluster_nums.add(X_test_clusters[i])\n",
    "        assert(len(X_test.shape) == 4)\n",
    "        assert(len(Y_test.shape) == 2)\n",
    "        X_test_rep[X_test_clusters[i],:,:,:] = X_test[i,:,:,:]\n",
    "        Y_test_rep[X_test_clusters[i],:] = Y_test[i,:]\n",
    "\n",
    "\n",
    "print(X_train_rep.shape)\n",
    "print(X_test_rep.shape)"
   ]
  },
  {
   "cell_type": "code",
   "execution_count": 17,
   "metadata": {
    "scrolled": true
   },
   "outputs": [
    {
     "name": "stdout",
     "output_type": "stream",
     "text": [
      "Generating binary labels...\n",
      "(416, 21)\n",
      "['t=car', 't=van', 't=bus', 't=others', 'c=red', 'c=white', 'c=black', 'c=silver', 's>40', 's>50', 's>60', 's<65', 's<70', 'i=pt335', 'i=pt211', 'i=pt342', 'i=pt208', 'o=pt335', 'o=pt211', 'o=pt342', 'o=pt208']\n",
      "[[1. 0. 1. 0. 1. 1. 1. 0. 0. 0. 0. 1. 1. 1. 1. 1. 1. 1. 1. 1. 1.]\n",
      " [1. 1. 1. 1. 1. 1. 1. 1. 0. 0. 0. 1. 1. 1. 1. 1. 1. 1. 1. 1. 1.]\n",
      " [1. 0. 1. 0. 1. 1. 1. 1. 0. 0. 0. 1. 1. 1. 1. 1. 1. 1. 1. 1. 1.]\n",
      " [1. 1. 1. 0. 1. 1. 1. 1. 0. 0. 0. 1. 1. 1. 1. 1. 1. 1. 1. 1. 1.]\n",
      " [1. 1. 1. 0. 1. 1. 1. 1. 1. 1. 1. 1. 1. 1. 1. 1. 1. 1. 1. 1. 1.]\n",
      " [1. 0. 0. 0. 1. 1. 1. 1. 0. 0. 0. 1. 1. 1. 0. 1. 0. 1. 0. 1. 0.]\n",
      " [1. 1. 1. 0. 1. 1. 0. 1. 0. 0. 0. 1. 1. 1. 1. 0. 0. 1. 1. 0. 0.]\n",
      " [1. 1. 1. 0. 1. 1. 0. 1. 0. 0. 0. 1. 1. 1. 0. 1. 1. 1. 0. 1. 1.]\n",
      " [1. 1. 1. 0. 1. 1. 0. 1. 0. 0. 0. 1. 1. 1. 1. 0. 1. 1. 1. 0. 1.]\n",
      " [1. 0. 1. 0. 1. 1. 0. 0. 1. 0. 0. 1. 1. 0. 1. 1. 1. 0. 1. 1. 1.]]\n",
      "Done in 0.023059368133544922 seconds\n",
      "reshaping images...\n",
      "before: (416, 540, 960, 1)\n",
      "After change, shape of image is (416, 8160)\n",
      "Done in 0.028976917266845703 seconds\n",
      "Splitting train / val...\n",
      "X_train shape (332, 8160)\n",
      "X_val shape (84, 8160)\n",
      "Y_train shape (332, 21)\n",
      "Y_vale shaep (84, 21)\n",
      "Done in 0.0001277923583984375 seconds\n",
      "Starting preprocessing...\n",
      "time it took to train pca: 0.08102130889892578 seconds\n",
      "X_train shape:  (332, 8160)\n",
      "X_train_pca shape:  (332, 9)\n",
      "Done in 0.08204531669616699 seconds\n",
      "Starting processing...\n",
      "Full Model Name: pca_svm using pca'd X_train\n",
      "All the labels are same for column t=car\n",
      "Training for t=van\n"
     ]
    },
    {
     "name": "stderr",
     "output_type": "stream",
     "text": [
      "/nethome/jbang36/anaconda3/envs/eva_35/lib/python3.6/site-packages/sklearn/svm/base.py:244: ConvergenceWarning: Solver terminated early (max_iter=10000).  Consider pre-processing your data with StandardScaler or MinMaxScaler.\n",
      "  % self.max_iter, ConvergenceWarning)\n",
      "/nethome/jbang36/anaconda3/envs/eva_35/lib/python3.6/site-packages/sklearn/svm/base.py:244: ConvergenceWarning: Solver terminated early (max_iter=10000).  Consider pre-processing your data with StandardScaler or MinMaxScaler.\n",
      "  % self.max_iter, ConvergenceWarning)\n",
      "/nethome/jbang36/anaconda3/envs/eva_35/lib/python3.6/site-packages/sklearn/svm/base.py:244: ConvergenceWarning: Solver terminated early (max_iter=10000).  Consider pre-processing your data with StandardScaler or MinMaxScaler.\n",
      "  % self.max_iter, ConvergenceWarning)\n"
     ]
    },
    {
     "name": "stdout",
     "output_type": "stream",
     "text": [
      "svm finished training for column t=van in 0.1851804256439209 seconds\n",
      "Training for t=bus\n",
      "svm finished training for column t=bus in 0.10453438758850098 seconds\n",
      "Training for t=others\n",
      "svm finished training for column t=others in 0.08056116104125977 seconds\n",
      "Training for c=red\n"
     ]
    },
    {
     "name": "stderr",
     "output_type": "stream",
     "text": [
      "/nethome/jbang36/anaconda3/envs/eva_35/lib/python3.6/site-packages/sklearn/svm/base.py:244: ConvergenceWarning: Solver terminated early (max_iter=10000).  Consider pre-processing your data with StandardScaler or MinMaxScaler.\n",
      "  % self.max_iter, ConvergenceWarning)\n",
      "/nethome/jbang36/anaconda3/envs/eva_35/lib/python3.6/site-packages/sklearn/svm/base.py:244: ConvergenceWarning: Solver terminated early (max_iter=10000).  Consider pre-processing your data with StandardScaler or MinMaxScaler.\n",
      "  % self.max_iter, ConvergenceWarning)\n"
     ]
    },
    {
     "name": "stdout",
     "output_type": "stream",
     "text": [
      "svm finished training for column c=red in 0.09995484352111816 seconds\n",
      "Training for c=white\n",
      "svm finished training for column c=white in 0.09974145889282227 seconds\n",
      "Training for c=black\n"
     ]
    },
    {
     "name": "stderr",
     "output_type": "stream",
     "text": [
      "/nethome/jbang36/anaconda3/envs/eva_35/lib/python3.6/site-packages/sklearn/svm/base.py:244: ConvergenceWarning: Solver terminated early (max_iter=10000).  Consider pre-processing your data with StandardScaler or MinMaxScaler.\n",
      "  % self.max_iter, ConvergenceWarning)\n",
      "/nethome/jbang36/anaconda3/envs/eva_35/lib/python3.6/site-packages/sklearn/svm/base.py:244: ConvergenceWarning: Solver terminated early (max_iter=10000).  Consider pre-processing your data with StandardScaler or MinMaxScaler.\n",
      "  % self.max_iter, ConvergenceWarning)\n"
     ]
    },
    {
     "name": "stdout",
     "output_type": "stream",
     "text": [
      "svm finished training for column c=black in 0.10201382637023926 seconds\n",
      "Training for c=silver\n",
      "svm finished training for column c=silver in 0.09936404228210449 seconds\n",
      "Training for s>40\n"
     ]
    },
    {
     "name": "stderr",
     "output_type": "stream",
     "text": [
      "/nethome/jbang36/anaconda3/envs/eva_35/lib/python3.6/site-packages/sklearn/svm/base.py:244: ConvergenceWarning: Solver terminated early (max_iter=10000).  Consider pre-processing your data with StandardScaler or MinMaxScaler.\n",
      "  % self.max_iter, ConvergenceWarning)\n",
      "/nethome/jbang36/anaconda3/envs/eva_35/lib/python3.6/site-packages/sklearn/svm/base.py:244: ConvergenceWarning: Solver terminated early (max_iter=10000).  Consider pre-processing your data with StandardScaler or MinMaxScaler.\n",
      "  % self.max_iter, ConvergenceWarning)\n"
     ]
    },
    {
     "name": "stdout",
     "output_type": "stream",
     "text": [
      "svm finished training for column s>40 in 0.11259055137634277 seconds\n",
      "Training for s>50\n",
      "svm finished training for column s>50 in 0.11813688278198242 seconds\n",
      "Training for s>60\n"
     ]
    },
    {
     "name": "stderr",
     "output_type": "stream",
     "text": [
      "/nethome/jbang36/anaconda3/envs/eva_35/lib/python3.6/site-packages/sklearn/svm/base.py:244: ConvergenceWarning: Solver terminated early (max_iter=10000).  Consider pre-processing your data with StandardScaler or MinMaxScaler.\n",
      "  % self.max_iter, ConvergenceWarning)\n",
      "/nethome/jbang36/anaconda3/envs/eva_35/lib/python3.6/site-packages/sklearn/svm/base.py:244: ConvergenceWarning: Solver terminated early (max_iter=10000).  Consider pre-processing your data with StandardScaler or MinMaxScaler.\n",
      "  % self.max_iter, ConvergenceWarning)\n",
      "/nethome/jbang36/anaconda3/envs/eva_35/lib/python3.6/site-packages/sklearn/svm/base.py:244: ConvergenceWarning: Solver terminated early (max_iter=10000).  Consider pre-processing your data with StandardScaler or MinMaxScaler.\n",
      "  % self.max_iter, ConvergenceWarning)\n"
     ]
    },
    {
     "name": "stdout",
     "output_type": "stream",
     "text": [
      "svm finished training for column s>60 in 0.10913467407226562 seconds\n",
      "All the labels are same for column s<65\n",
      "All the labels are same for column s<70\n",
      "Training for i=pt335\n",
      "svm finished training for column i=pt335 in 0.09655046463012695 seconds\n",
      "Training for i=pt211\n",
      "svm finished training for column i=pt211 in 0.09521627426147461 seconds\n",
      "Training for i=pt342\n"
     ]
    },
    {
     "name": "stderr",
     "output_type": "stream",
     "text": [
      "/nethome/jbang36/anaconda3/envs/eva_35/lib/python3.6/site-packages/sklearn/svm/base.py:244: ConvergenceWarning: Solver terminated early (max_iter=10000).  Consider pre-processing your data with StandardScaler or MinMaxScaler.\n",
      "  % self.max_iter, ConvergenceWarning)\n",
      "/nethome/jbang36/anaconda3/envs/eva_35/lib/python3.6/site-packages/sklearn/svm/base.py:244: ConvergenceWarning: Solver terminated early (max_iter=10000).  Consider pre-processing your data with StandardScaler or MinMaxScaler.\n",
      "  % self.max_iter, ConvergenceWarning)\n",
      "/nethome/jbang36/anaconda3/envs/eva_35/lib/python3.6/site-packages/sklearn/svm/base.py:244: ConvergenceWarning: Solver terminated early (max_iter=10000).  Consider pre-processing your data with StandardScaler or MinMaxScaler.\n",
      "  % self.max_iter, ConvergenceWarning)\n"
     ]
    },
    {
     "name": "stdout",
     "output_type": "stream",
     "text": [
      "svm finished training for column i=pt342 in 0.0920872688293457 seconds\n",
      "Training for i=pt208\n",
      "svm finished training for column i=pt208 in 0.09675264358520508 seconds\n",
      "Training for o=pt335\n",
      "svm finished training for column o=pt335 in 0.09671187400817871 seconds\n",
      "Training for o=pt211\n"
     ]
    },
    {
     "name": "stderr",
     "output_type": "stream",
     "text": [
      "/nethome/jbang36/anaconda3/envs/eva_35/lib/python3.6/site-packages/sklearn/svm/base.py:244: ConvergenceWarning: Solver terminated early (max_iter=10000).  Consider pre-processing your data with StandardScaler or MinMaxScaler.\n",
      "  % self.max_iter, ConvergenceWarning)\n",
      "/nethome/jbang36/anaconda3/envs/eva_35/lib/python3.6/site-packages/sklearn/svm/base.py:244: ConvergenceWarning: Solver terminated early (max_iter=10000).  Consider pre-processing your data with StandardScaler or MinMaxScaler.\n",
      "  % self.max_iter, ConvergenceWarning)\n"
     ]
    },
    {
     "name": "stdout",
     "output_type": "stream",
     "text": [
      "svm finished training for column o=pt211 in 0.10431551933288574 seconds\n",
      "Training for o=pt342\n",
      "svm finished training for column o=pt342 in 0.0975959300994873 seconds\n",
      "Training for o=pt208\n"
     ]
    },
    {
     "name": "stderr",
     "output_type": "stream",
     "text": [
      "/nethome/jbang36/anaconda3/envs/eva_35/lib/python3.6/site-packages/sklearn/svm/base.py:244: ConvergenceWarning: Solver terminated early (max_iter=10000).  Consider pre-processing your data with StandardScaler or MinMaxScaler.\n",
      "  % self.max_iter, ConvergenceWarning)\n"
     ]
    },
    {
     "name": "stdout",
     "output_type": "stream",
     "text": [
      "svm finished training for column o=pt208 in 0.10831665992736816 seconds\n",
      "Full Model Name: dnn using regular X_train\n",
      "dnn finished training for column t=car in 0.0532069206237793 seconds\n",
      "dnn finished training for column t=van in 0.12299609184265137 seconds\n",
      "dnn finished training for column t=bus in 0.11021637916564941 seconds\n",
      "dnn finished training for column t=others in 0.11219334602355957 seconds\n",
      "dnn finished training for column c=red in 0.08009839057922363 seconds\n",
      "dnn finished training for column c=white in 0.0601806640625 seconds\n",
      "dnn finished training for column c=black in 0.07805943489074707 seconds\n",
      "dnn finished training for column c=silver in 0.07957768440246582 seconds\n",
      "dnn finished training for column s>40 in 0.13885784149169922 seconds\n",
      "dnn finished training for column s>50 in 0.10492801666259766 seconds\n",
      "dnn finished training for column s>60 in 0.10234689712524414 seconds\n",
      "dnn finished training for column s<65 in 0.03783583641052246 seconds\n",
      "dnn finished training for column s<70 in 0.031241416931152344 seconds\n",
      "dnn finished training for column i=pt335 in 0.059206485748291016 seconds\n",
      "dnn finished training for column i=pt211 in 0.06151914596557617 seconds\n",
      "dnn finished training for column i=pt342 in 0.060596466064453125 seconds\n",
      "dnn finished training for column i=pt208 in 0.06605911254882812 seconds\n",
      "dnn finished training for column o=pt335 in 0.06427383422851562 seconds\n",
      "dnn finished training for column o=pt211 in 0.07886099815368652 seconds\n",
      "dnn finished training for column o=pt342 in 0.07747626304626465 seconds\n",
      "dnn finished training for column o=pt208 in 0.07340312004089355 seconds\n",
      "Full Model Name: pca_rf using pca'd X_train\n",
      "rf finished training for column t=car in 0.007798433303833008 seconds\n",
      "rf finished training for column t=van in 0.008025884628295898 seconds\n",
      "rf finished training for column t=bus in 0.008059978485107422 seconds\n",
      "rf finished training for column t=others in 0.007992744445800781 seconds\n",
      "rf finished training for column c=red in 0.007997989654541016 seconds\n",
      "rf finished training for column c=white in 0.007992267608642578 seconds\n"
     ]
    },
    {
     "name": "stderr",
     "output_type": "stream",
     "text": [
      "/nethome/jbang36/anaconda3/envs/eva_35/lib/python3.6/site-packages/sklearn/ensemble/forest.py:246: FutureWarning: The default value of n_estimators will change from 10 in version 0.20 to 100 in 0.22.\n",
      "  \"10 in version 0.20 to 100 in 0.22.\", FutureWarning)\n",
      "/nethome/jbang36/anaconda3/envs/eva_35/lib/python3.6/site-packages/sklearn/ensemble/forest.py:246: FutureWarning: The default value of n_estimators will change from 10 in version 0.20 to 100 in 0.22.\n",
      "  \"10 in version 0.20 to 100 in 0.22.\", FutureWarning)\n",
      "/nethome/jbang36/anaconda3/envs/eva_35/lib/python3.6/site-packages/sklearn/ensemble/forest.py:246: FutureWarning: The default value of n_estimators will change from 10 in version 0.20 to 100 in 0.22.\n",
      "  \"10 in version 0.20 to 100 in 0.22.\", FutureWarning)\n",
      "/nethome/jbang36/anaconda3/envs/eva_35/lib/python3.6/site-packages/sklearn/ensemble/forest.py:246: FutureWarning: The default value of n_estimators will change from 10 in version 0.20 to 100 in 0.22.\n",
      "  \"10 in version 0.20 to 100 in 0.22.\", FutureWarning)\n",
      "/nethome/jbang36/anaconda3/envs/eva_35/lib/python3.6/site-packages/sklearn/ensemble/forest.py:246: FutureWarning: The default value of n_estimators will change from 10 in version 0.20 to 100 in 0.22.\n",
      "  \"10 in version 0.20 to 100 in 0.22.\", FutureWarning)\n",
      "/nethome/jbang36/anaconda3/envs/eva_35/lib/python3.6/site-packages/sklearn/ensemble/forest.py:246: FutureWarning: The default value of n_estimators will change from 10 in version 0.20 to 100 in 0.22.\n",
      "  \"10 in version 0.20 to 100 in 0.22.\", FutureWarning)\n",
      "/nethome/jbang36/anaconda3/envs/eva_35/lib/python3.6/site-packages/sklearn/ensemble/forest.py:246: FutureWarning: The default value of n_estimators will change from 10 in version 0.20 to 100 in 0.22.\n",
      "  \"10 in version 0.20 to 100 in 0.22.\", FutureWarning)\n",
      "/nethome/jbang36/anaconda3/envs/eva_35/lib/python3.6/site-packages/sklearn/ensemble/forest.py:246: FutureWarning: The default value of n_estimators will change from 10 in version 0.20 to 100 in 0.22.\n",
      "  \"10 in version 0.20 to 100 in 0.22.\", FutureWarning)\n",
      "/nethome/jbang36/anaconda3/envs/eva_35/lib/python3.6/site-packages/sklearn/ensemble/forest.py:246: FutureWarning: The default value of n_estimators will change from 10 in version 0.20 to 100 in 0.22.\n",
      "  \"10 in version 0.20 to 100 in 0.22.\", FutureWarning)\n",
      "/nethome/jbang36/anaconda3/envs/eva_35/lib/python3.6/site-packages/sklearn/ensemble/forest.py:246: FutureWarning: The default value of n_estimators will change from 10 in version 0.20 to 100 in 0.22.\n",
      "  \"10 in version 0.20 to 100 in 0.22.\", FutureWarning)\n",
      "/nethome/jbang36/anaconda3/envs/eva_35/lib/python3.6/site-packages/sklearn/ensemble/forest.py:246: FutureWarning: The default value of n_estimators will change from 10 in version 0.20 to 100 in 0.22.\n",
      "  \"10 in version 0.20 to 100 in 0.22.\", FutureWarning)\n",
      "/nethome/jbang36/anaconda3/envs/eva_35/lib/python3.6/site-packages/sklearn/ensemble/forest.py:246: FutureWarning: The default value of n_estimators will change from 10 in version 0.20 to 100 in 0.22.\n",
      "  \"10 in version 0.20 to 100 in 0.22.\", FutureWarning)\n",
      "/nethome/jbang36/anaconda3/envs/eva_35/lib/python3.6/site-packages/sklearn/ensemble/forest.py:246: FutureWarning: The default value of n_estimators will change from 10 in version 0.20 to 100 in 0.22.\n",
      "  \"10 in version 0.20 to 100 in 0.22.\", FutureWarning)\n",
      "/nethome/jbang36/anaconda3/envs/eva_35/lib/python3.6/site-packages/sklearn/ensemble/forest.py:246: FutureWarning: The default value of n_estimators will change from 10 in version 0.20 to 100 in 0.22.\n",
      "  \"10 in version 0.20 to 100 in 0.22.\", FutureWarning)\n",
      "/nethome/jbang36/anaconda3/envs/eva_35/lib/python3.6/site-packages/sklearn/ensemble/forest.py:246: FutureWarning: The default value of n_estimators will change from 10 in version 0.20 to 100 in 0.22.\n",
      "  \"10 in version 0.20 to 100 in 0.22.\", FutureWarning)\n",
      "/nethome/jbang36/anaconda3/envs/eva_35/lib/python3.6/site-packages/sklearn/ensemble/forest.py:246: FutureWarning: The default value of n_estimators will change from 10 in version 0.20 to 100 in 0.22.\n",
      "  \"10 in version 0.20 to 100 in 0.22.\", FutureWarning)\n",
      "/nethome/jbang36/anaconda3/envs/eva_35/lib/python3.6/site-packages/sklearn/ensemble/forest.py:246: FutureWarning: The default value of n_estimators will change from 10 in version 0.20 to 100 in 0.22.\n",
      "  \"10 in version 0.20 to 100 in 0.22.\", FutureWarning)\n",
      "/nethome/jbang36/anaconda3/envs/eva_35/lib/python3.6/site-packages/sklearn/ensemble/forest.py:246: FutureWarning: The default value of n_estimators will change from 10 in version 0.20 to 100 in 0.22.\n",
      "  \"10 in version 0.20 to 100 in 0.22.\", FutureWarning)\n",
      "/nethome/jbang36/anaconda3/envs/eva_35/lib/python3.6/site-packages/sklearn/ensemble/forest.py:246: FutureWarning: The default value of n_estimators will change from 10 in version 0.20 to 100 in 0.22.\n",
      "  \"10 in version 0.20 to 100 in 0.22.\", FutureWarning)\n"
     ]
    },
    {
     "name": "stdout",
     "output_type": "stream",
     "text": [
      "rf finished training for column c=black in 0.009264230728149414 seconds\n",
      "rf finished training for column c=silver in 0.008298397064208984 seconds\n",
      "rf finished training for column s>40 in 0.012278079986572266 seconds\n",
      "rf finished training for column s>50 in 0.01220393180847168 seconds\n",
      "rf finished training for column s>60 in 0.012184619903564453 seconds\n",
      "rf finished training for column s<65 in 0.010623931884765625 seconds\n",
      "rf finished training for column s<70 in 0.010385990142822266 seconds\n",
      "rf finished training for column i=pt335 in 0.011962175369262695 seconds\n",
      "rf finished training for column i=pt211 in 0.011941671371459961 seconds\n",
      "rf finished training for column i=pt342 in 0.011947870254516602 seconds\n",
      "rf finished training for column i=pt208 in 0.012093305587768555 seconds\n",
      "rf finished training for column o=pt335 in 0.01200556755065918 seconds\n",
      "rf finished training for column o=pt211 in 0.01199030876159668 seconds\n",
      "rf finished training for column o=pt342 in 0.008198022842407227 seconds\n",
      "rf finished training for column o=pt208 in 0.008065938949584961 seconds\n",
      "Done in 3.7833974361419678 seconds\n",
      "Total time to train all columns all models  3.918402671813965 seconds\n"
     ]
    },
    {
     "name": "stderr",
     "output_type": "stream",
     "text": [
      "/nethome/jbang36/anaconda3/envs/eva_35/lib/python3.6/site-packages/sklearn/ensemble/forest.py:246: FutureWarning: The default value of n_estimators will change from 10 in version 0.20 to 100 in 0.22.\n",
      "  \"10 in version 0.20 to 100 in 0.22.\", FutureWarning)\n",
      "/nethome/jbang36/anaconda3/envs/eva_35/lib/python3.6/site-packages/sklearn/ensemble/forest.py:246: FutureWarning: The default value of n_estimators will change from 10 in version 0.20 to 100 in 0.22.\n",
      "  \"10 in version 0.20 to 100 in 0.22.\", FutureWarning)\n"
     ]
    }
   ],
   "source": [
    "# Train the filters\n",
    "\n",
    "pp_rep = PP()\n",
    "start_time = time.time()\n",
    "pp_rep.train(X_train_rep, Y_train_dict_rep)\n",
    "print(\"Total time to train all columns all models \", time.time() - start_time, \"seconds\")"
   ]
  },
  {
   "cell_type": "code",
   "execution_count": 18,
   "metadata": {},
   "outputs": [],
   "source": [
    "#extrapolate the predicted labels to all the images\n",
    "def extend_labels(y_hat_rep, X_test_clusters):\n",
    "    arr = np.zeros(shape = (len(X_test_clusters), 1))\n",
    "    for i in range(len(X_test_clusters)):\n",
    "        arr[i,0] = y_hat_rep[X_test_clusters[i]]\n",
    "    return arr\n",
    "\n",
    "def compute_score(y_hat, y):\n",
    "    n = len(y_hat)\n",
    "    assert(len(y_hat) == len(y))\n",
    "    correct_count = 0\n",
    "    for i in range(len(y_hat)):\n",
    "        if y_hat[i] == y[i]:\n",
    "            correct_count += 1\n",
    "    return correct_count / len(y_hat)"
   ]
  },
  {
   "cell_type": "code",
   "execution_count": 19,
   "metadata": {},
   "outputs": [
    {
     "name": "stdout",
     "output_type": "stream",
     "text": [
      "before: (2085, 540, 960, 1)\n",
      "After change, shape of image is (2085, 8160)\n",
      "Finished evaluation in  2.650135040283203 seconds\n"
     ]
    }
   ],
   "source": [
    "# Evaluate the filters\n",
    "pca_model_rep = pp_rep.trained_pre['pca']\n",
    "trained_models_rep = pp_rep.trained_post \n",
    "tic = time.time()\n",
    "\"\"\"\n",
    "{'t=car': {'pca_svm': SVC(C=1.0, cache_size=200, class_weight=None, coef0=0.0,\n",
    "  decision_function_shape='ovr', degree=3, gamma='auto_deprecated',\n",
    "  kernel='linear', max_iter=10000, probability=True, random_state=None,\n",
    "  shrinking=True, tol=0.001, verbose=False),\n",
    "\"\"\"\n",
    "X_test_reshaped = pp_rep._reshape_image(X_test)\n",
    "X_test_pcaed = pca_model_rep.transform(X_test_reshaped)\n",
    "\n",
    "\n",
    "stats_rep = {}\n",
    "for Y_col, models in trained_models_rep.items():\n",
    "    for model_name, model in models.items():\n",
    "        if 'pca' in model_name:\n",
    "            index = Y_names.index(Y_col)\n",
    "            #print(\"index is\",index)\n",
    "            #print(Y_test[:10][0])\n",
    "            #print(type(index))\n",
    "            y_hat_rep = model.predict(X_test_pcaed)\n",
    "            y_hat = extend_labels(y_hat_rep, X_test_clusters)\n",
    "            score = compute_score(y_hat, Y_test[:,index])\n",
    "            stats_rep[Y_col + \" \" + model_name] = [score]\n",
    "        else:\n",
    "            index = Y_names.index(Y_col)\n",
    "            y_hat_rep = model.predict(X_test_reshaped)\n",
    "            y_hat = extend_labels(y_hat_rep, X_test_clusters)\n",
    "            score = compute_score(y_hat, Y_test[:,index])\n",
    "            stats_rep[Y_col + \" \" + model_name] = [score]\n",
    "\n",
    "print(\"Finished evaluation in \", time.time() - tic, \"seconds\")"
   ]
  },
  {
   "cell_type": "code",
   "execution_count": 20,
   "metadata": {},
   "outputs": [],
   "source": [
    "# Compute the accuracy and speed\n",
    "\n",
    "# convert stats dict to table\n",
    "# rows should be column name and model\n",
    "# cols should be accuracy, training_time\n",
    "\n",
    "stats_arr_rep = np.zeros(shape=(len(stats_rep), 2))\n",
    "row_names_rep = []\n",
    "index = 0\n",
    "for row, col in stats_rep.items():\n",
    "    row_names_rep.append(row)\n",
    "    stats_arr_rep[index, 0] = col[0]\n",
    "    index += 1\n",
    "    \n",
    "for Y_col, models in pp_rep.column_stats.items():\n",
    "    for model_name, cost in models.items():\n",
    "        row_index = row_names_rep.index(Y_col + \" \" + model_name)\n",
    "        stats_arr_rep[row_index, 1] = cost[0]"
   ]
  },
  {
   "cell_type": "code",
   "execution_count": 21,
   "metadata": {},
   "outputs": [
    {
     "name": "stdout",
     "output_type": "stream",
     "text": [
      "61\n",
      "60\n",
      "[[ 9.75539568e-01  1.69000000e+00 -1.00000000e+00 -1.00000000e+00]\n",
      " [ 1.00000000e+00  6.01900000e+01  1.00000000e+00  5.00000000e-02]\n",
      " [ 1.00000000e+00  1.28000000e+00  1.00000000e+00  9.00000000e-02]\n",
      " [ 4.95443645e-01  3.99000000e+00  4.23501199e-01  2.70000000e-01]\n",
      " [ 6.66187050e-01  1.08200000e+01  6.49400480e-01  1.20000000e-01]\n",
      " [ 6.71942446e-01  1.27000000e+00  6.07194245e-01  9.00000000e-02]\n",
      " [ 3.86570743e-01  3.37000000e+00  6.73860911e-01  1.80000000e-01]\n",
      " [ 6.97841727e-01  1.99200000e+01  6.77218225e-01  1.10000000e-01]\n",
      " [ 5.71223022e-01  1.26000000e+00  5.52997602e-01  9.00000000e-02]\n",
      " [ 9.31414868e-01  2.38000000e+00  2.66187050e-01  1.60000000e-01]\n",
      " [ 9.59232614e-01  2.13600000e+01  9.59232614e-01  1.10000000e-01]\n",
      " [ 9.59232614e-01  1.26000000e+00  9.59232614e-01  9.00000000e-02]\n",
      " [ 3.40527578e-02  3.68000000e+00  8.53717026e-01  1.80000000e-01]\n",
      " [ 9.62589928e-01  1.08800000e+01  9.73621103e-01  8.00000000e-02]\n",
      " [ 9.73621103e-01  1.27000000e+00  9.73621103e-01  9.00000000e-02]\n",
      " [ 4.38848921e-01  3.72000000e+00  9.76978417e-01  1.80000000e-01]\n",
      " [ 9.65947242e-01  1.10500000e+01  9.76978417e-01  6.00000000e-02]\n",
      " [ 9.76978417e-01  1.27000000e+00  9.76978417e-01  9.00000000e-02]\n",
      " [ 2.52757794e-01  3.71000000e+00  9.60671463e-01  1.80000000e-01]\n",
      " [ 9.62110312e-01  1.08600000e+01  9.73141487e-01  8.00000000e-02]\n",
      " [ 9.73141487e-01  1.26000000e+00  9.73141487e-01  9.00000000e-02]\n",
      " [ 6.08153477e-01  3.68000000e+00  9.74100719e-01  1.80000000e-01]\n",
      " [ 9.63069544e-01  1.09400000e+01  9.74100719e-01  8.00000000e-02]\n",
      " [ 9.74100719e-01  1.27000000e+00  9.74100719e-01  9.00000000e-02]\n",
      " [ 4.23021583e-01  4.42000000e+00  7.74100719e-01  1.90000000e-01]\n",
      " [ 7.58752998e-01  2.14900000e+01  7.58752998e-01  1.40000000e-01]\n",
      " [ 7.88968825e-01  1.27000000e+00  6.17266187e-01  9.00000000e-02]\n",
      " [ 8.87769784e-01  4.38000000e+00  5.43884892e-01  2.00000000e-01]\n",
      " [ 8.92565947e-01  2.12100000e+01  8.92565947e-01  1.00000000e-01]\n",
      " [ 8.92565947e-01  1.27000000e+00  8.92565947e-01  9.00000000e-02]\n",
      " [ 6.38369305e-01  4.11000000e+00  9.59232614e-01  1.90000000e-01]\n",
      " [ 9.59232614e-01  2.00300000e+01  9.59232614e-01  1.00000000e-01]\n",
      " [ 9.59232614e-01  1.26000000e+00  9.59232614e-01  9.00000000e-02]\n",
      " [ 3.08393285e-01  3.77000000e+00  9.76019185e-01  1.80000000e-01]\n",
      " [ 9.65947242e-01  1.11800000e+01  9.76019185e-01  6.00000000e-02]\n",
      " [ 9.76019185e-01  1.27000000e+00  9.76019185e-01  9.00000000e-02]\n",
      " [ 3.65947242e-01  3.70000000e+00  9.76978417e-01  1.80000000e-01]\n",
      " [ 9.65947242e-01  1.13500000e+01  9.76978417e-01  6.00000000e-02]\n",
      " [ 9.76978417e-01  1.27000000e+00  9.76978417e-01  9.00000000e-02]\n",
      " [ 1.59712230e-01  3.78000000e+00  9.69784173e-01  1.70000000e-01]\n",
      " [ 9.58752998e-01  1.14200000e+01  9.69784173e-01  6.00000000e-02]\n",
      " [ 9.69784173e-01  1.27000000e+00  9.69784173e-01  9.00000000e-02]\n",
      " [ 8.64268585e-01  3.67000000e+00  9.76978417e-01  1.80000000e-01]\n",
      " [ 9.65947242e-01  1.13400000e+01  9.76978417e-01  7.00000000e-02]\n",
      " [ 9.76978417e-01  1.27000000e+00  9.76978417e-01  9.00000000e-02]\n",
      " [ 3.08393285e-01  3.71000000e+00  9.76019185e-01  1.80000000e-01]\n",
      " [ 9.65947242e-01  1.11100000e+01  9.76019185e-01  6.00000000e-02]\n",
      " [ 9.76019185e-01  1.27000000e+00  9.76019185e-01  9.00000000e-02]\n",
      " [ 3.65947242e-01  3.71000000e+00  9.76978417e-01  1.80000000e-01]\n",
      " [ 9.65947242e-01  1.12800000e+01  9.76978417e-01  8.00000000e-02]\n",
      " [ 9.76978417e-01  1.27000000e+00  9.76978417e-01  9.00000000e-02]\n",
      " [ 1.59712230e-01  3.56000000e+00  9.69784173e-01  1.80000000e-01]\n",
      " [ 9.58752998e-01  1.13000000e+01  9.69784173e-01  8.00000000e-02]\n",
      " [ 9.69784173e-01  1.27000000e+00  9.69784173e-01  9.00000000e-02]\n",
      " [ 8.64268585e-01  3.69000000e+00  9.76978417e-01  1.90000000e-01]\n",
      " [ 9.65947242e-01  1.15000000e+01  9.76978417e-01  7.00000000e-02]\n",
      " [ 9.76978417e-01  1.27000000e+00  9.76978417e-01  9.00000000e-02]\n",
      " [ 1.00000000e+00  1.19000000e+00  1.00000000e+00  4.00000000e-02]\n",
      " [ 1.00000000e+00  1.24000000e+00  1.00000000e+00  9.00000000e-02]\n",
      " [ 1.00000000e+00  1.17000000e+00  1.00000000e+00  3.00000000e-02]\n",
      " [ 1.00000000e+00  1.24000000e+00  1.00000000e+00  9.00000000e-02]]\n",
      "(61, 4)\n"
     ]
    }
   ],
   "source": [
    "# Create a comparison graph\n",
    "#print(row_names)\n",
    "#print(stats_arr)\n",
    "#print(\"---------------\")\n",
    "#print(stats_arr_rep)\n",
    "\n",
    "#align the rows so that they match\n",
    "#create a matrix with a_ori, c_ori, a_adj, c_adj\n",
    "#we will use row_names as standard\n",
    "\n",
    "union_ = np.zeros(shape = (len(row_names),4 ))\n",
    "\n",
    "print(len(row_names))\n",
    "print(len(row_names_rep))\n",
    "\n",
    "\n",
    "for idx, row_name in enumerate(row_names):\n",
    "    union_[idx,0] = stats_arr[idx][0]\n",
    "    union_[idx,1] = stats_arr[idx][1]\n",
    "    if row_name not in row_names_rep:\n",
    "        union_[idx, 2] = -1\n",
    "        union_[idx, 3] = -1\n",
    "    else:\n",
    "        corresponding_idx = row_names_rep.index(row_name)\n",
    "        union_[idx,2] = stats_arr_rep[corresponding_idx][0]\n",
    "        union_[idx,3] = stats_arr_rep[corresponding_idx][1]\n",
    "    \n",
    "print(union_)\n",
    "print(union_.shape)\n",
    "\n",
    "\n"
   ]
  },
  {
   "cell_type": "code",
   "execution_count": 22,
   "metadata": {},
   "outputs": [
    {
     "data": {
      "image/png": "[encoded data removed]",
      "text/plain": [
       "<Figure size 432x288 with 1 Axes>"
      ]
     },
     "metadata": {
      "needs_background": "light"
     },
     "output_type": "display_data"
    }
   ],
   "source": [
    "# we want to do a comparison in training speed\n",
    "\n",
    "\n",
    "\n",
    "x_axis = []\n",
    "y_axis1 = []\n",
    "y_axis2 = []\n",
    "curr_num = 0\n",
    "for i in range(len(union_)):\n",
    "    if -1 in union_[i]:\n",
    "        continue\n",
    "    else:\n",
    "        x_axis.append(curr_num)\n",
    "        y_axis1.append(union_[i][1])\n",
    "        y_axis2.append(union_[i][3])\n",
    "        curr_num += 1\n",
    "        \n",
    "plt.plot(x_axis, y_axis1, 'g^', x_axis, y_axis2, 'bs')\n",
    "plt.show()\n",
    "\n"
   ]
  },
  {
   "cell_type": "code",
   "execution_count": 23,
   "metadata": {},
   "outputs": [
    {
     "data": {
      "image/png": "[encoded data removed]",
      "text/plain": [
       "<Figure size 432x288 with 1 Axes>"
      ]
     },
     "metadata": {
      "needs_background": "light"
     },
     "output_type": "display_data"
    }
   ],
   "source": [
    "# we want to do a comparison in evaluation accuracy\n",
    "\n",
    "\n",
    "x_axis = []\n",
    "y_axis1 = []\n",
    "y_axis2 = []\n",
    "curr_num = 0\n",
    "for i in range(len(union_)):\n",
    "    if -1 in union_[i]:\n",
    "        continue\n",
    "    else:\n",
    "        x_axis.append(curr_num)\n",
    "        y_axis1.append(union_[i][0])\n",
    "        y_axis2.append(union_[i][2])\n",
    "        curr_num += 1\n",
    "        \n",
    "plt.plot(x_axis, y_axis1, 'g^', x_axis, y_axis2, 'bs')\n",
    "plt.show()"
   ]
  },
  {
   "cell_type": "code",
   "execution_count": 24,
   "metadata": {},
   "outputs": [
    {
     "name": "stdout",
     "output_type": "stream",
     "text": [
      "61\n",
      "60\n",
      "[[ 9.75539568e-01  1.69000000e+00 -1.00000000e+00 -1.00000000e+00]\n",
      " [ 1.00000000e+00  6.01900000e+01  1.00000000e+00  5.00000000e-02]\n",
      " [ 1.00000000e+00  1.28000000e+00  1.00000000e+00  9.00000000e-02]\n",
      " [ 4.95443645e-01  3.99000000e+00  4.23501199e-01  2.70000000e-01]\n",
      " [ 6.66187050e-01  1.08200000e+01  6.49400480e-01  1.20000000e-01]\n",
      " [ 6.71942446e-01  1.27000000e+00  6.07194245e-01  9.00000000e-02]\n",
      " [ 3.86570743e-01  3.37000000e+00  6.73860911e-01  1.80000000e-01]\n",
      " [ 6.97841727e-01  1.99200000e+01  6.77218225e-01  1.10000000e-01]\n",
      " [ 5.71223022e-01  1.26000000e+00  5.52997602e-01  9.00000000e-02]\n",
      " [ 9.31414868e-01  2.38000000e+00  2.66187050e-01  1.60000000e-01]\n",
      " [ 9.59232614e-01  2.13600000e+01  9.59232614e-01  1.10000000e-01]\n",
      " [ 9.59232614e-01  1.26000000e+00  9.59232614e-01  9.00000000e-02]\n",
      " [ 0.00000000e+00  0.00000000e+00  0.00000000e+00  0.00000000e+00]\n",
      " [ 0.00000000e+00  0.00000000e+00  0.00000000e+00  0.00000000e+00]\n",
      " [ 0.00000000e+00  0.00000000e+00  0.00000000e+00  0.00000000e+00]\n",
      " [ 0.00000000e+00  0.00000000e+00  0.00000000e+00  0.00000000e+00]\n",
      " [ 0.00000000e+00  0.00000000e+00  0.00000000e+00  0.00000000e+00]\n",
      " [ 0.00000000e+00  0.00000000e+00  0.00000000e+00  0.00000000e+00]\n",
      " [ 0.00000000e+00  0.00000000e+00  0.00000000e+00  0.00000000e+00]\n",
      " [ 0.00000000e+00  0.00000000e+00  0.00000000e+00  0.00000000e+00]\n",
      " [ 0.00000000e+00  0.00000000e+00  0.00000000e+00  0.00000000e+00]\n",
      " [ 0.00000000e+00  0.00000000e+00  0.00000000e+00  0.00000000e+00]\n",
      " [ 0.00000000e+00  0.00000000e+00  0.00000000e+00  0.00000000e+00]\n",
      " [ 0.00000000e+00  0.00000000e+00  0.00000000e+00  0.00000000e+00]\n",
      " [ 0.00000000e+00  0.00000000e+00  0.00000000e+00  0.00000000e+00]\n",
      " [ 0.00000000e+00  0.00000000e+00  0.00000000e+00  0.00000000e+00]\n",
      " [ 0.00000000e+00  0.00000000e+00  0.00000000e+00  0.00000000e+00]\n",
      " [ 0.00000000e+00  0.00000000e+00  0.00000000e+00  0.00000000e+00]\n",
      " [ 0.00000000e+00  0.00000000e+00  0.00000000e+00  0.00000000e+00]\n",
      " [ 0.00000000e+00  0.00000000e+00  0.00000000e+00  0.00000000e+00]\n",
      " [ 0.00000000e+00  0.00000000e+00  0.00000000e+00  0.00000000e+00]\n",
      " [ 0.00000000e+00  0.00000000e+00  0.00000000e+00  0.00000000e+00]\n",
      " [ 0.00000000e+00  0.00000000e+00  0.00000000e+00  0.00000000e+00]\n",
      " [ 0.00000000e+00  0.00000000e+00  0.00000000e+00  0.00000000e+00]\n",
      " [ 0.00000000e+00  0.00000000e+00  0.00000000e+00  0.00000000e+00]\n",
      " [ 0.00000000e+00  0.00000000e+00  0.00000000e+00  0.00000000e+00]\n",
      " [ 0.00000000e+00  0.00000000e+00  0.00000000e+00  0.00000000e+00]\n",
      " [ 0.00000000e+00  0.00000000e+00  0.00000000e+00  0.00000000e+00]\n",
      " [ 0.00000000e+00  0.00000000e+00  0.00000000e+00  0.00000000e+00]\n",
      " [ 0.00000000e+00  0.00000000e+00  0.00000000e+00  0.00000000e+00]\n",
      " [ 0.00000000e+00  0.00000000e+00  0.00000000e+00  0.00000000e+00]\n",
      " [ 0.00000000e+00  0.00000000e+00  0.00000000e+00  0.00000000e+00]\n",
      " [ 0.00000000e+00  0.00000000e+00  0.00000000e+00  0.00000000e+00]\n",
      " [ 0.00000000e+00  0.00000000e+00  0.00000000e+00  0.00000000e+00]\n",
      " [ 0.00000000e+00  0.00000000e+00  0.00000000e+00  0.00000000e+00]\n",
      " [ 0.00000000e+00  0.00000000e+00  0.00000000e+00  0.00000000e+00]\n",
      " [ 0.00000000e+00  0.00000000e+00  0.00000000e+00  0.00000000e+00]\n",
      " [ 0.00000000e+00  0.00000000e+00  0.00000000e+00  0.00000000e+00]\n",
      " [ 0.00000000e+00  0.00000000e+00  0.00000000e+00  0.00000000e+00]\n",
      " [ 0.00000000e+00  0.00000000e+00  0.00000000e+00  0.00000000e+00]\n",
      " [ 0.00000000e+00  0.00000000e+00  0.00000000e+00  0.00000000e+00]\n",
      " [ 0.00000000e+00  0.00000000e+00  0.00000000e+00  0.00000000e+00]\n",
      " [ 0.00000000e+00  0.00000000e+00  0.00000000e+00  0.00000000e+00]\n",
      " [ 0.00000000e+00  0.00000000e+00  0.00000000e+00  0.00000000e+00]\n",
      " [ 0.00000000e+00  0.00000000e+00  0.00000000e+00  0.00000000e+00]\n",
      " [ 0.00000000e+00  0.00000000e+00  0.00000000e+00  0.00000000e+00]\n",
      " [ 0.00000000e+00  0.00000000e+00  0.00000000e+00  0.00000000e+00]\n",
      " [ 0.00000000e+00  0.00000000e+00  0.00000000e+00  0.00000000e+00]\n",
      " [ 0.00000000e+00  0.00000000e+00  0.00000000e+00  0.00000000e+00]\n",
      " [ 0.00000000e+00  0.00000000e+00  0.00000000e+00  0.00000000e+00]\n",
      " [ 0.00000000e+00  0.00000000e+00  0.00000000e+00  0.00000000e+00]]\n",
      "(61, 4)\n"
     ]
    }
   ],
   "source": [
    "#Comparison for only non random rows\n",
    "\n",
    "\n",
    "\n",
    "union_1 = np.zeros(shape = (len(row_names),4 ))\n",
    "\n",
    "print(len(row_names))\n",
    "print(len(row_names_rep))\n",
    "\n",
    "index = 0\n",
    "new_row_names = []\n",
    "for idx,row_name in enumerate(row_names):\n",
    "    if (\"t=\" in row_name) or (\"s=\" in row_name):\n",
    "        union_1[index,0] = stats_arr[idx][0]\n",
    "        union_1[index,1] = stats_arr[idx][1]\n",
    "        new_row_names.append(row_name)\n",
    "        if row_name not in row_names_rep:\n",
    "            union_1[index, 2] = -1\n",
    "            union_1[index, 3] = -1\n",
    "        else:\n",
    "            corresponding_idx = row_names_rep.index(row_name)\n",
    "            union_1[index,2] = stats_arr_rep[corresponding_idx][0]\n",
    "            union_1[index,3] = stats_arr_rep[corresponding_idx][1]\n",
    "        index += 1\n",
    "    \n",
    "print(union_1)\n",
    "print(union_1.shape)\n",
    "\n"
   ]
  },
  {
   "cell_type": "code",
   "execution_count": 25,
   "metadata": {},
   "outputs": [
    {
     "data": {
      "image/png": "[encoded data removed]",
      "text/plain": [
       "<Figure size 432x288 with 1 Axes>"
      ]
     },
     "metadata": {
      "needs_background": "light"
     },
     "output_type": "display_data"
    }
   ],
   "source": [
    "# we want to do a comparison in evaluation accuracy\n",
    "\n",
    "\n",
    "x_axis = []\n",
    "y_axis1 = []\n",
    "y_axis2 = []\n",
    "curr_num = 0\n",
    "for i in range(len(union_1)):\n",
    "    if -1 in union_1[i]:\n",
    "        continue\n",
    "    elif 0 in union_1[i]:\n",
    "        continue\n",
    "    else:\n",
    "        x_axis.append(curr_num)\n",
    "        y_axis1.append(union_1[i][0])\n",
    "        y_axis2.append(union_1[i][2])\n",
    "        curr_num += 1\n",
    "        \n",
    "plt.plot(x_axis, y_axis1, 'g^', x_axis, y_axis2, 'bs')\n",
    "plt.show()"
   ]
  },
  {
   "cell_type": "code",
   "execution_count": 26,
   "metadata": {},
   "outputs": [
    {
     "name": "stdout",
     "output_type": "stream",
     "text": [
      "avg time for original pipeline 6.753 seconds\n",
      "avg time for new pipeline 0.115 seconds\n",
      "New pipeline is 58.895 times faster\n",
      "avg accuracy for original pipeline 0.792 %\n",
      "avg accuracy for new pipeline 0.901 %\n",
      "avg accuracy for new is  -0.109 worse than original (Note if negative, it means it is better!)\n",
      "avg accuracy for non random columns of original pipeline 0.758 %\n",
      "avg accuracy for non random columns of new pipeline 0.706 %\n",
      "avg accuracy for new is  0.052 worse than original (Note if negative, it means it is better!)\n"
     ]
    }
   ],
   "source": [
    "\n",
    "union_formatted = union_[1:, :]\n",
    "avg_speed_original = sum(union_formatted[:, 1]) / len(union_formatted[:,1])\n",
    "avg_speed_new = sum(union_formatted[:, 3]) / len(union_formatted[:,3])\n",
    "\n",
    "print(\"avg time for original pipeline\", round(avg_speed_original,3), \"seconds\")\n",
    "print(\"avg time for new pipeline\", round(avg_speed_new,3), \"seconds\")\n",
    "print(\"New pipeline is\", round(avg_speed_original / avg_speed_new,3), \"times faster\")\n",
    "avg_accuracy_original = sum(union_formatted[:,0]) / len(union_formatted[:,0])\n",
    "avg_accuracy_new = sum(union_formatted[:,2]) / len(union_formatted[:,2])\n",
    "print(\"avg accuracy for original pipeline\", round(avg_accuracy_original,3), \"%\")\n",
    "print(\"avg accuracy for new pipeline\", round(avg_accuracy_new,3), \"%\")\n",
    "print(\"avg accuracy for new is \", round(avg_accuracy_original - avg_accuracy_new,3),\"worse than original (Note if negative, it means it is better!)\")\n",
    "\n",
    "union_formatted2 = union_1[1:12,:]\n",
    "avg_accuracy_original_ = sum(union_formatted2[:,0]) / len(union_formatted2[:,0])\n",
    "avg_accuracy_new_ = sum(union_formatted2[:,2]) / len(union_formatted2[:,2])\n",
    "print(\"avg accuracy for non random columns of original pipeline\", round(avg_accuracy_original_,3), \"%\")\n",
    "print(\"avg accuracy for non random columns of new pipeline\", round(avg_accuracy_new_,3), \"%\")\n",
    "print(\"avg accuracy for new is \", round(avg_accuracy_original_ - avg_accuracy_new_,3),\"worse than original (Note if negative, it means it is better!)\")\n",
    "\n"
   ]
  },
  {
   "cell_type": "code",
   "execution_count": null,
   "metadata": {},
   "outputs": [],
   "source": [
    "a = [1,2,3,4,5]\n",
    "print(a[1:3])"
   ]
  },
  {
   "cell_type": "code",
   "execution_count": null,
   "metadata": {},
   "outputs": [],
   "source": []
  }
 ],
 "metadata": {
  "kernelspec": {
   "display_name": "Python 3",
   "language": "python",
   "name": "python3"
  },
  "language_info": {
   "codemirror_mode": {
    "name": "ipython",
    "version": 3
   },
   "file_extension": ".py",
   "mimetype": "text/x-python",
   "name": "python",
   "nbconvert_exporter": "python",
   "pygments_lexer": "ipython3",
   "version": "3.7.6"
  }
 },
 "nbformat": 4,
 "nbformat_minor": 4
}
