{
 "cells": [
  {
   "cell_type": "code",
   "execution_count": 1,
   "metadata": {},
   "outputs": [],
   "source": [
    "## Goal is to create an environment / task where uniform sampling performs poorly"
   ]
  },
  {
   "cell_type": "code",
   "execution_count": 2,
   "metadata": {},
   "outputs": [
    {
     "name": "stdout",
     "output_type": "stream",
     "text": [
      "Populating the interactive namespace from numpy and matplotlib\n"
     ]
    }
   ],
   "source": [
    "%pylab inline\n",
    "%load_ext autoreload\n",
    "%autoreload 2\n",
    "\n",
    "import os\n",
    "import sys\n",
    "sys.argv=['']\n",
    "sys.path.append('/nethome/jbang36/eva_storage')\n",
    "\n",
    "\n",
    "import numpy as np\n",
    "#import utils.helpers as helpers\n",
    "import utils as helpers\n",
    "from loaders.uadetrac_loader import UADetracLoader\n",
    "from eva_storage.preprocessingModule import PreprocessingModule\n",
    "from eva_storage.UNet import UNet\n",
    "from eva_storage.clusterModule import ClusterModule\n",
    "from filters.minimum_filter import FilterMinimum\n"
   ]
  },
  {
   "cell_type": "code",
   "execution_count": 146,
   "metadata": {},
   "outputs": [
    {
     "name": "stderr",
     "output_type": "stream",
     "text": [
      "06-05-2020 00:46:19 [info:049]INFO : Total time to load 22481 images: 158.4600921040401 (sec)\n"
     ]
    }
   ],
   "source": [
    "total_eval_num = 2000\n",
    "\n",
    "#loader = JacksonLoader()\n",
    "#images = loader.load_images()\n",
    "#labels = loader.load_labels(relevant_classes=JACKSON_CLASSES)\n",
    "#images, labels = loader.filter_input(images, labels)\n",
    "#boxes = create_dummy_boxes(labels)\n",
    "#labelmap = JACKSON_CLASSES\n",
    "\n",
    "loader = UADetracLoader()\n",
    "images = loader.load_images(dir='/nethome/jbang36/eva_storage/data/ua_detrac/test_images')\n",
    "test_labels, test_boxes = loader.load_labels(dir='/nethome/jbang36/eva_storage/data/ua_detrac/test_xml')\n",
    "labels = test_labels['vehicle']\n",
    "images, labels, boxes = loader.filter_input3(images, labels, test_boxes)\n",
    "\n"
   ]
  },
  {
   "cell_type": "code",
   "execution_count": 147,
   "metadata": {},
   "outputs": [],
   "source": [
    "from others.amdegroot.data.uad import UAD_CLASSES\n",
    "labelmap = UAD_CLASSES"
   ]
  },
  {
   "cell_type": "code",
   "execution_count": 239,
   "metadata": {},
   "outputs": [],
   "source": [
    "### let's try changing the type of queries to something that happens infrequently -- happens 1% of the time, limit queries from blazeit\n",
    "\n",
    "from loaders.uadetrac_label_converter import UADetracConverter\n"
   ]
  },
  {
   "cell_type": "code",
   "execution_count": 383,
   "metadata": {},
   "outputs": [],
   "source": [
    "\n",
    "limit_labels = UADetracConverter.convert2limit_queries(labels, car = 5, bus = 1, van = 1) ## let's try this setting for US"
   ]
  },
  {
   "cell_type": "code",
   "execution_count": 373,
   "metadata": {},
   "outputs": [
    {
     "name": "stdout",
     "output_type": "stream",
     "text": [
      "ALL: 22277, TRUE: 1793, FALSE: 20484, NAN: 0\n"
     ]
    }
   ],
   "source": [
    "UADetracConverter.getTrueFalseCount(limit_labels)"
   ]
  },
  {
   "cell_type": "code",
   "execution_count": 384,
   "metadata": {},
   "outputs": [
    {
     "data": {
      "image/png": "[encoded data removed]",
      "text/plain": [
       "<Figure size 432x288 with 1 Axes>"
      ]
     },
     "metadata": {
      "needs_background": "light"
     },
     "output_type": "display_data"
    }
   ],
   "source": [
    "UADetracConverter.drawTrueFalse(limit_labels)"
   ]
  },
  {
   "cell_type": "code",
   "execution_count": 350,
   "metadata": {},
   "outputs": [],
   "source": [
    "from eva_storage.sampling_experiments.uniform_sample_ssd_evaluation import *\n",
    "from eva_storage.sampling_experiments.sampling_utils import *\n",
    "from eva_storage.sampling_experiments.temporal_clustering_evaluation import *\n",
    "from eva_storage.featureExtractionMethods import *"
   ]
  },
  {
   "cell_type": "code",
   "execution_count": 404,
   "metadata": {},
   "outputs": [],
   "source": [
    "\n",
    "### after generating the labels\n",
    "total_eval_nums = [100]\n"
   ]
  },
  {
   "cell_type": "code",
   "execution_count": 436,
   "metadata": {},
   "outputs": [
    {
     "name": "stderr",
     "output_type": "stream",
     "text": [
      "06-11-2020 01:36:15 [info:049]INFO : Cluster module starting....\n"
     ]
    },
    {
     "name": "stdout",
     "output_type": "stream",
     "text": [
      "total_eval_num is 100\n",
      "(22277, 10, 10)\n"
     ]
    },
    {
     "name": "stderr",
     "output_type": "stream",
     "text": [
      "06-11-2020 01:36:45 [info:049]INFO : Time to fit 22277: 30.19445230346173 (sec)\n",
      "06-11-2020 01:36:45 [info:049]INFO : Sampling frames based on Mean Encounter Method -- we search for frame that is closest to centroid of the cluster strategy\n"
     ]
    },
    {
     "name": "stdout",
     "output_type": "stream",
     "text": [
      "total eval num: 100\n",
      "finished whole process in 30.531709391623735 (secs)\n",
      "Feature Extraction: Downsample the image by avg pixel blocks\n",
      "Sampling Method: Mean Encounter Method -- we search for frame that is closest to centroid of the cluster\n",
      "key: foo, accuracy: 0.8890784216905329, precision: 0.9180265654648956, recall: 0.5175438596491229, f1_score: 0.6619236557668627\n",
      "Median: 128.5, Variance: 54278.317100000015\n",
      "Normalized Median: 1.285, Normalized Var: 542.7831710000002\n"
     ]
    },
    {
     "data": {
      "image/png": "[encoded data removed]",
      "text/plain": [
       "<Figure size 432x288 with 1 Axes>"
      ]
     },
     "metadata": {
      "needs_background": "light"
     },
     "output_type": "display_data"
    },
    {
     "name": "stdout",
     "output_type": "stream",
     "text": [
      "cluster num: 0 does not have tp\n",
      "cluster num: 1 does not have tp\n",
      "cluster num: 2 does not have tp\n",
      "cluster num: 3 does not have tp\n",
      "cluster num: 4 does not have tp\n",
      "cluster num: 5 does not have tp\n",
      "cluster num: 6 does not have tp\n",
      "cluster num: 7 does not have tp\n",
      "cluster num: 8 does not have tp\n",
      "cluster num: 9 does not have tp\n",
      "cluster num: 10 does not have tp\n",
      "cluster num: 11 does not have tp\n",
      "cluster num: 12 does not have tp\n",
      "cluster num: 13 does not have tp\n",
      "14 Sum of tp_arr is 167\n",
      "15 Sum of tp_arr is 253\n",
      "cluster num: 16 does not have tp\n",
      "17 Sum of tp_arr is 79\n",
      "cluster num: 18 does not have tp\n",
      "cluster num: 19 does not have tp\n",
      "cluster num: 20 does not have tp\n",
      "cluster num: 21 does not have tp\n",
      "22 Sum of tp_arr is 136\n",
      "cluster num: 23 does not have tp\n",
      "cluster num: 24 does not have tp\n",
      "cluster num: 25 does not have tp\n",
      "cluster num: 26 does not have tp\n",
      "27 Sum of tp_arr is 188\n",
      "cluster num: 28 does not have tp\n",
      "cluster num: 29 does not have tp\n",
      "cluster num: 30 does not have tp\n",
      "cluster num: 31 does not have tp\n",
      "32 Sum of tp_arr is 52\n",
      "cluster num: 33 does not have tp\n",
      "34 Sum of tp_arr is 116\n",
      "35 Sum of tp_arr is 238\n",
      "cluster num: 36 does not have tp\n",
      "37 Sum of tp_arr is 68\n",
      "38 Sum of tp_arr is 32\n",
      "cluster num: 39 does not have tp\n",
      "40 Sum of tp_arr is 328\n",
      "cluster num: 41 does not have tp\n",
      "cluster num: 42 does not have tp\n",
      "cluster num: 43 does not have tp\n",
      "cluster num: 44 does not have tp\n",
      "cluster num: 45 does not have tp\n",
      "46 Sum of tp_arr is 48\n",
      "cluster num: 47 does not have tp\n",
      "cluster num: 48 does not have tp\n",
      "cluster num: 49 does not have tp\n",
      "50 Sum of tp_arr is 26\n",
      "cluster num: 51 does not have tp\n",
      "cluster num: 52 does not have tp\n",
      "cluster num: 53 does not have tp\n",
      "cluster num: 54 does not have tp\n",
      "55 Sum of tp_arr is 27\n",
      "cluster num: 56 does not have tp\n",
      "cluster num: 57 does not have tp\n",
      "58 Sum of tp_arr is 58\n",
      "cluster num: 59 does not have tp\n",
      "60 Sum of tp_arr is 17\n",
      "cluster num: 61 does not have tp\n",
      "cluster num: 62 does not have tp\n",
      "cluster num: 63 does not have tp\n",
      "cluster num: 64 does not have tp\n",
      "65 Sum of tp_arr is 199\n",
      "cluster num: 66 does not have tp\n",
      "cluster num: 67 does not have tp\n",
      "cluster num: 68 does not have tp\n",
      "cluster num: 69 does not have tp\n",
      "cluster num: 70 does not have tp\n",
      "cluster num: 71 does not have tp\n",
      "72 Sum of tp_arr is 50\n",
      "cluster num: 73 does not have tp\n",
      "cluster num: 74 does not have tp\n",
      "cluster num: 75 does not have tp\n",
      "cluster num: 76 does not have tp\n",
      "cluster num: 77 does not have tp\n",
      "cluster num: 78 does not have tp\n",
      "cluster num: 79 does not have tp\n",
      "80 Sum of tp_arr is 13\n",
      "cluster num: 81 does not have tp\n",
      "cluster num: 82 does not have tp\n",
      "cluster num: 83 does not have tp\n",
      "84 Sum of tp_arr is 28\n",
      "85 Sum of tp_arr is 38\n",
      "cluster num: 86 does not have tp\n",
      "cluster num: 87 does not have tp\n",
      "88 Sum of tp_arr is 53\n",
      "89 Sum of tp_arr is 51\n",
      "90 Sum of tp_arr is 27\n",
      "cluster num: 91 does not have tp\n",
      "cluster num: 92 does not have tp\n",
      "cluster num: 93 does not have tp\n",
      "94 Sum of tp_arr is 16\n",
      "95 Sum of tp_arr is 33\n",
      "96 Sum of tp_arr is 29\n",
      "97 Sum of tp_arr is 49\n",
      "cluster num: 98 does not have tp\n",
      "cluster num: 99 does not have tp\n",
      "Empty DataFrame\n",
      "Columns: [size, fooprecision, foorecall, foof1]\n",
      "Index: []\n",
      "------------\n",
      "     size  fooprecision  foorecall     foof1\n",
      "14  180.0           1.0   0.927778  0.962536\n",
      "27  233.0           1.0   0.806867  0.893112\n",
      "34  161.0           1.0   0.720497  0.837545\n",
      "58   62.0           1.0   0.935484  0.966667\n",
      "60   18.0           1.0   0.944444  0.971429\n",
      "65  282.0           1.0   0.705674  0.827443\n",
      "84   39.0           1.0   0.717949  0.835821\n",
      "89   65.0           1.0   0.784615  0.879310\n",
      "------------\n",
      "     size  fooprecision  foorecall     foof1\n",
      "14  180.0           1.0   0.927778  0.962536\n",
      "27  233.0           1.0   0.806867  0.893112\n",
      "34  161.0           1.0   0.720497  0.837545\n",
      "58   62.0           1.0   0.935484  0.966667\n",
      "60   18.0           1.0   0.944444  0.971429\n",
      "65  282.0           1.0   0.705674  0.827443\n",
      "84   39.0           1.0   0.717949  0.835821\n",
      "89   65.0           1.0   0.784615  0.879310\n",
      "\n",
      "\n",
      "\n",
      "------------------------------------\n"
     ]
    }
   ],
   "source": [
    "for total_eval_num in total_eval_nums:\n",
    "    print(f\"total_eval_num is {total_eval_num}\")\n",
    "    #sampling_results(total_eval_num)\n",
    "    cluster_results1(total_eval_num)\n",
    "    #cluster_results2(total_eval_num)\n",
    "    #cluster_results3(total_eval_num)\n",
    "    print('------------------------------------')"
   ]
  },
  {
   "cell_type": "code",
   "execution_count": 386,
   "metadata": {},
   "outputs": [
    {
     "name": "stderr",
     "output_type": "stream",
     "text": [
      "06-08-2020 20:55:53 [info:049]INFO : Cluster module starting....\n"
     ]
    },
    {
     "name": "stdout",
     "output_type": "stream",
     "text": [
      "total_eval_num is 300\n",
      "(22277, 10, 10)\n"
     ]
    },
    {
     "name": "stderr",
     "output_type": "stream",
     "text": [
      "06-08-2020 20:56:25 [info:049]INFO : Time to fit 22277: 32.01329087559134 (sec)\n",
      "06-08-2020 20:56:25 [info:049]INFO : Sampling frames based on Mean Encounter Method -- we search for frame that is closest to centroid of the cluster strategy\n"
     ]
    },
    {
     "name": "stdout",
     "output_type": "stream",
     "text": [
      "total eval num: 300\n",
      "finished whole process in 33.72203524783254 (secs)\n",
      "Feature Extraction: Downsample the image by avg pixel blocks\n",
      "Sampling Method: Mean Encounter Method -- we search for frame that is closest to centroid of the cluster\n",
      "key: foo, accuracy: 0.8023970911702653, precision: 0.701780415430267, recall: 0.10119811724433034, f1_score: 0.17688855646970827\n",
      "Median: 2.0, Variance: 107904.09078888889\n",
      "Normalized Median: 0.006666666666666667, Normalized Var: 359.68030262962964\n"
     ]
    },
    {
     "data": {
      "image/png": "[encoded data removed]",
      "text/plain": [
       "<Figure size 432x288 with 1 Axes>"
      ]
     },
     "metadata": {
      "needs_background": "light"
     },
     "output_type": "display_data"
    },
    {
     "name": "stderr",
     "output_type": "stream",
     "text": [
      "06-08-2020 20:56:27 [info:049]INFO : Cluster module starting....\n"
     ]
    },
    {
     "name": "stdout",
     "output_type": "stream",
     "text": [
      "\n",
      "\n",
      "\n",
      "------------------------------------\n",
      "total_eval_num is 100\n",
      "(22277, 10, 10)\n"
     ]
    },
    {
     "name": "stderr",
     "output_type": "stream",
     "text": [
      "06-08-2020 20:56:58 [info:049]INFO : Time to fit 22277: 31.08228237181902 (sec)\n",
      "06-08-2020 20:56:58 [info:049]INFO : Sampling frames based on Mean Encounter Method -- we search for frame that is closest to centroid of the cluster strategy\n"
     ]
    },
    {
     "name": "stdout",
     "output_type": "stream",
     "text": [
      "total eval num: 100\n",
      "finished whole process in 31.6216382086277 (secs)\n",
      "Feature Extraction: Downsample the image by avg pixel blocks\n",
      "Sampling Method: Mean Encounter Method -- we search for frame that is closest to centroid of the cluster\n",
      "key: foo, accuracy: 0.7866858194550433, precision: 0.4681372549019608, recall: 0.12259306803594351, f1_score: 0.1943031536113937\n",
      "Median: 17.5, Variance: 331851.1971\n",
      "Normalized Median: 0.175, Normalized Var: 3318.511971\n"
     ]
    },
    {
     "data": {
      "image/png": "[encoded data removed]",
      "text/plain": [
       "<Figure size 432x288 with 1 Axes>"
      ]
     },
     "metadata": {
      "needs_background": "light"
     },
     "output_type": "display_data"
    },
    {
     "name": "stderr",
     "output_type": "stream",
     "text": [
      "06-08-2020 20:56:59 [info:049]INFO : Cluster module starting....\n"
     ]
    },
    {
     "name": "stdout",
     "output_type": "stream",
     "text": [
      "\n",
      "\n",
      "\n",
      "------------------------------------\n",
      "total_eval_num is 500\n",
      "(22277, 10, 10)\n"
     ]
    },
    {
     "name": "stderr",
     "output_type": "stream",
     "text": [
      "06-08-2020 20:57:29 [info:049]INFO : Time to fit 22277: 30.134435744956136 (sec)\n",
      "06-08-2020 20:57:29 [info:049]INFO : Sampling frames based on Mean Encounter Method -- we search for frame that is closest to centroid of the cluster strategy\n"
     ]
    },
    {
     "name": "stdout",
     "output_type": "stream",
     "text": [
      "total eval num: 500\n",
      "finished whole process in 32.71118570212275 (secs)\n",
      "Feature Extraction: Downsample the image by avg pixel blocks\n",
      "Sampling Method: Mean Encounter Method -- we search for frame that is closest to centroid of the cluster\n",
      "key: foo, accuracy: 0.8377250078556359, precision: 0.753956834532374, recall: 0.3363286264441592, f1_score: 0.4651575676875278\n",
      "Median: 2.0, Variance: 34948.17908399999\n",
      "Normalized Median: 0.004, Normalized Var: 69.89635816799998\n"
     ]
    },
    {
     "data": {
      "image/png": "[encoded data removed]",
      "text/plain": [
       "<Figure size 432x288 with 1 Axes>"
      ]
     },
     "metadata": {
      "needs_background": "light"
     },
     "output_type": "display_data"
    },
    {
     "name": "stderr",
     "output_type": "stream",
     "text": [
      "06-08-2020 20:57:33 [info:049]INFO : Cluster module starting....\n"
     ]
    },
    {
     "name": "stdout",
     "output_type": "stream",
     "text": [
      "\n",
      "\n",
      "\n",
      "------------------------------------\n",
      "total_eval_num is 1000\n",
      "(22277, 10, 10)\n"
     ]
    },
    {
     "name": "stderr",
     "output_type": "stream",
     "text": [
      "06-08-2020 20:58:06 [info:049]INFO : Time to fit 22277: 32.54600842576474 (sec)\n",
      "06-08-2020 20:58:06 [info:049]INFO : Sampling frames based on Mean Encounter Method -- we search for frame that is closest to centroid of the cluster strategy\n"
     ]
    },
    {
     "name": "stdout",
     "output_type": "stream",
     "text": [
      "total eval num: 1000\n",
      "finished whole process in 37.2927405461669 (secs)\n",
      "Feature Extraction: Downsample the image by avg pixel blocks\n",
      "Sampling Method: Mean Encounter Method -- we search for frame that is closest to centroid of the cluster\n",
      "key: foo, accuracy: 0.8543340665260134, precision: 0.8246251703771014, recall: 0.3883183568677792, f1_score: 0.528\n",
      "Median: 1.0, Variance: 11038.482270999999\n",
      "Normalized Median: 0.001, Normalized Var: 11.038482271\n"
     ]
    },
    {
     "data": {
      "image/png": "[encoded data removed]",
      "text/plain": [
       "<Figure size 432x288 with 1 Axes>"
      ]
     },
     "metadata": {
      "needs_background": "light"
     },
     "output_type": "display_data"
    },
    {
     "name": "stdout",
     "output_type": "stream",
     "text": [
      "\n",
      "\n",
      "\n",
      "------------------------------------\n"
     ]
    }
   ],
   "source": [
    "for total_eval_num in total_eval_nums:\n",
    "    print(f\"total_eval_num is {total_eval_num}\")\n",
    "    #sampling_results(total_eval_num)\n",
    "    cluster_results1(total_eval_num, linkage = 'average')\n",
    "    #cluster_results2(total_eval_num)\n",
    "    #cluster_results3(total_eval_num)\n",
    "    print('------------------------------------')"
   ]
  },
  {
   "cell_type": "code",
   "execution_count": 387,
   "metadata": {},
   "outputs": [
    {
     "name": "stderr",
     "output_type": "stream",
     "text": [
      "06-08-2020 20:58:13 [info:049]INFO : Cluster module starting....\n"
     ]
    },
    {
     "name": "stdout",
     "output_type": "stream",
     "text": [
      "total_eval_num is 300\n",
      "(22277, 10, 10)\n"
     ]
    },
    {
     "name": "stderr",
     "output_type": "stream",
     "text": [
      "06-08-2020 20:58:45 [info:049]INFO : Time to fit 22277: 31.838004757650197 (sec)\n",
      "06-08-2020 20:58:45 [info:049]INFO : Sampling frames based on Mean Encounter Method -- we search for frame that is closest to centroid of the cluster strategy\n"
     ]
    },
    {
     "name": "stdout",
     "output_type": "stream",
     "text": [
      "total eval num: 300\n",
      "finished whole process in 33.674961113370955 (secs)\n",
      "Feature Extraction: Downsample the image by avg pixel blocks\n",
      "Sampling Method: Mean Encounter Method -- we search for frame that is closest to centroid of the cluster\n",
      "key: foo, accuracy: 0.8023970911702653, precision: 0.701780415430267, recall: 0.10119811724433034, f1_score: 0.17688855646970827\n",
      "Median: 2.0, Variance: 107904.09078888889\n",
      "Normalized Median: 0.006666666666666667, Normalized Var: 359.68030262962964\n"
     ]
    },
    {
     "data": {
      "image/png": "[encoded data removed]",
      "text/plain": [
       "<Figure size 432x288 with 1 Axes>"
      ]
     },
     "metadata": {
      "needs_background": "light"
     },
     "output_type": "display_data"
    },
    {
     "name": "stderr",
     "output_type": "stream",
     "text": [
      "06-08-2020 20:58:47 [info:049]INFO : Cluster module starting....\n"
     ]
    },
    {
     "name": "stdout",
     "output_type": "stream",
     "text": [
      "\n",
      "\n",
      "\n",
      "------------------------------------\n",
      "total_eval_num is 100\n",
      "(22277, 10, 10)\n"
     ]
    },
    {
     "name": "stderr",
     "output_type": "stream",
     "text": [
      "06-08-2020 20:59:20 [info:049]INFO : Time to fit 22277: 32.57632312364876 (sec)\n",
      "06-08-2020 20:59:20 [info:049]INFO : Sampling frames based on Mean Encounter Method -- we search for frame that is closest to centroid of the cluster strategy\n"
     ]
    },
    {
     "name": "stdout",
     "output_type": "stream",
     "text": [
      "total eval num: 100\n",
      "finished whole process in 33.14130880590528 (secs)\n",
      "Feature Extraction: Downsample the image by avg pixel blocks\n",
      "Sampling Method: Mean Encounter Method -- we search for frame that is closest to centroid of the cluster\n",
      "key: foo, accuracy: 0.7866858194550433, precision: 0.4681372549019608, recall: 0.12259306803594351, f1_score: 0.1943031536113937\n",
      "Median: 17.5, Variance: 331851.1971\n",
      "Normalized Median: 0.175, Normalized Var: 3318.511971\n"
     ]
    },
    {
     "data": {
      "image/png": "[encoded data removed]",
      "text/plain": [
       "<Figure size 432x288 with 1 Axes>"
      ]
     },
     "metadata": {
      "needs_background": "light"
     },
     "output_type": "display_data"
    },
    {
     "name": "stderr",
     "output_type": "stream",
     "text": [
      "06-08-2020 20:59:21 [info:049]INFO : Cluster module starting....\n"
     ]
    },
    {
     "name": "stdout",
     "output_type": "stream",
     "text": [
      "\n",
      "\n",
      "\n",
      "------------------------------------\n",
      "total_eval_num is 500\n",
      "(22277, 10, 10)\n"
     ]
    },
    {
     "name": "stderr",
     "output_type": "stream",
     "text": [
      "06-08-2020 20:59:53 [info:049]INFO : Time to fit 22277: 31.646746637299657 (sec)\n",
      "06-08-2020 20:59:53 [info:049]INFO : Sampling frames based on Mean Encounter Method -- we search for frame that is closest to centroid of the cluster strategy\n"
     ]
    },
    {
     "name": "stdout",
     "output_type": "stream",
     "text": [
      "total eval num: 500\n",
      "finished whole process in 34.184919282794 (secs)\n",
      "Feature Extraction: Downsample the image by avg pixel blocks\n",
      "Sampling Method: Mean Encounter Method -- we search for frame that is closest to centroid of the cluster\n",
      "key: foo, accuracy: 0.8377250078556359, precision: 0.753956834532374, recall: 0.3363286264441592, f1_score: 0.4651575676875278\n",
      "Median: 2.0, Variance: 34948.17908399999\n",
      "Normalized Median: 0.004, Normalized Var: 69.89635816799998\n"
     ]
    },
    {
     "data": {
      "image/png": "[encoded data removed]",
      "text/plain": [
       "<Figure size 432x288 with 1 Axes>"
      ]
     },
     "metadata": {
      "needs_background": "light"
     },
     "output_type": "display_data"
    },
    {
     "name": "stderr",
     "output_type": "stream",
     "text": [
      "06-08-2020 20:59:56 [info:049]INFO : Cluster module starting....\n"
     ]
    },
    {
     "name": "stdout",
     "output_type": "stream",
     "text": [
      "\n",
      "\n",
      "\n",
      "------------------------------------\n",
      "total_eval_num is 1000\n",
      "(22277, 10, 10)\n"
     ]
    },
    {
     "name": "stderr",
     "output_type": "stream",
     "text": [
      "06-08-2020 21:00:29 [info:049]INFO : Time to fit 22277: 32.371653059497476 (sec)\n",
      "06-08-2020 21:00:29 [info:049]INFO : Sampling frames based on Mean Encounter Method -- we search for frame that is closest to centroid of the cluster strategy\n"
     ]
    },
    {
     "name": "stdout",
     "output_type": "stream",
     "text": [
      "total eval num: 1000\n",
      "finished whole process in 37.282889015972614 (secs)\n",
      "Feature Extraction: Downsample the image by avg pixel blocks\n",
      "Sampling Method: Mean Encounter Method -- we search for frame that is closest to centroid of the cluster\n",
      "key: foo, accuracy: 0.8543340665260134, precision: 0.8246251703771014, recall: 0.3883183568677792, f1_score: 0.528\n",
      "Median: 1.0, Variance: 11038.482270999999\n",
      "Normalized Median: 0.001, Normalized Var: 11.038482271\n"
     ]
    },
    {
     "data": {
      "image/png": "[encoded data removed]",
      "text/plain": [
       "<Figure size 432x288 with 1 Axes>"
      ]
     },
     "metadata": {
      "needs_background": "light"
     },
     "output_type": "display_data"
    },
    {
     "name": "stdout",
     "output_type": "stream",
     "text": [
      "\n",
      "\n",
      "\n",
      "------------------------------------\n"
     ]
    }
   ],
   "source": [
    "for total_eval_num in total_eval_nums:\n",
    "    print(f\"total_eval_num is {total_eval_num}\")\n",
    "    #sampling_results(total_eval_num)\n",
    "    cluster_results1(total_eval_num, linkage = 'complete')\n",
    "    #cluster_results2(total_eval_num)\n",
    "    #cluster_results3(total_eval_num)\n",
    "    print('------------------------------------')"
   ]
  },
  {
   "cell_type": "code",
   "execution_count": 388,
   "metadata": {},
   "outputs": [
    {
     "name": "stderr",
     "output_type": "stream",
     "text": [
      "06-08-2020 21:00:36 [info:049]INFO : Cluster module starting....\n"
     ]
    },
    {
     "name": "stdout",
     "output_type": "stream",
     "text": [
      "total_eval_num is 300\n",
      "(22277, 10, 10)\n"
     ]
    },
    {
     "name": "stderr",
     "output_type": "stream",
     "text": [
      "06-08-2020 21:01:07 [info:049]INFO : Time to fit 22277: 31.163870784454048 (sec)\n",
      "06-08-2020 21:01:07 [info:049]INFO : Sampling frames based on Mean Encounter Method -- we search for frame that is closest to centroid of the cluster strategy\n"
     ]
    },
    {
     "name": "stdout",
     "output_type": "stream",
     "text": [
      "total eval num: 300\n",
      "finished whole process in 32.61570151243359 (secs)\n",
      "Feature Extraction: Downsample the image by avg pixel blocks\n",
      "Sampling Method: Mean Encounter Method -- we search for frame that is closest to centroid of the cluster\n",
      "key: foo, accuracy: 0.8023970911702653, precision: 0.701780415430267, recall: 0.10119811724433034, f1_score: 0.17688855646970827\n",
      "Median: 2.0, Variance: 107904.0907888889\n",
      "Normalized Median: 0.006666666666666667, Normalized Var: 359.6803026296297\n"
     ]
    },
    {
     "data": {
      "image/png": "[encoded data removed]",
      "text/plain": [
       "<Figure size 432x288 with 1 Axes>"
      ]
     },
     "metadata": {
      "needs_background": "light"
     },
     "output_type": "display_data"
    },
    {
     "name": "stderr",
     "output_type": "stream",
     "text": [
      "06-08-2020 21:01:09 [info:049]INFO : Cluster module starting....\n"
     ]
    },
    {
     "name": "stdout",
     "output_type": "stream",
     "text": [
      "\n",
      "\n",
      "\n",
      "------------------------------------\n",
      "total_eval_num is 100\n",
      "(22277, 10, 10)\n"
     ]
    },
    {
     "name": "stderr",
     "output_type": "stream",
     "text": [
      "06-08-2020 21:01:37 [info:049]INFO : Time to fit 22277: 28.487360945902765 (sec)\n",
      "06-08-2020 21:01:37 [info:049]INFO : Sampling frames based on Mean Encounter Method -- we search for frame that is closest to centroid of the cluster strategy\n"
     ]
    },
    {
     "name": "stdout",
     "output_type": "stream",
     "text": [
      "total eval num: 100\n",
      "finished whole process in 29.031345116905868 (secs)\n",
      "Feature Extraction: Downsample the image by avg pixel blocks\n",
      "Sampling Method: Mean Encounter Method -- we search for frame that is closest to centroid of the cluster\n",
      "key: foo, accuracy: 0.7866858194550433, precision: 0.4681372549019608, recall: 0.12259306803594351, f1_score: 0.1943031536113937\n",
      "Median: 17.5, Variance: 331851.1971\n",
      "Normalized Median: 0.175, Normalized Var: 3318.511971\n"
     ]
    },
    {
     "data": {
      "image/png": "[encoded data removed]",
      "text/plain": [
       "<Figure size 432x288 with 1 Axes>"
      ]
     },
     "metadata": {
      "needs_background": "light"
     },
     "output_type": "display_data"
    },
    {
     "name": "stderr",
     "output_type": "stream",
     "text": [
      "06-08-2020 21:01:38 [info:049]INFO : Cluster module starting....\n"
     ]
    },
    {
     "name": "stdout",
     "output_type": "stream",
     "text": [
      "\n",
      "\n",
      "\n",
      "------------------------------------\n",
      "total_eval_num is 500\n",
      "(22277, 10, 10)\n"
     ]
    },
    {
     "name": "stderr",
     "output_type": "stream",
     "text": [
      "06-08-2020 21:02:11 [info:049]INFO : Time to fit 22277: 32.985768594779074 (sec)\n",
      "06-08-2020 21:02:11 [info:049]INFO : Sampling frames based on Mean Encounter Method -- we search for frame that is closest to centroid of the cluster strategy\n"
     ]
    },
    {
     "name": "stdout",
     "output_type": "stream",
     "text": [
      "total eval num: 500\n",
      "finished whole process in 35.95368632674217 (secs)\n",
      "Feature Extraction: Downsample the image by avg pixel blocks\n",
      "Sampling Method: Mean Encounter Method -- we search for frame that is closest to centroid of the cluster\n",
      "key: foo, accuracy: 0.8377250078556359, precision: 0.753956834532374, recall: 0.3363286264441592, f1_score: 0.4651575676875278\n",
      "Median: 2.0, Variance: 34948.17908399999\n",
      "Normalized Median: 0.004, Normalized Var: 69.89635816799998\n"
     ]
    },
    {
     "data": {
      "image/png": "[encoded data removed]",
      "text/plain": [
       "<Figure size 432x288 with 1 Axes>"
      ]
     },
     "metadata": {
      "needs_background": "light"
     },
     "output_type": "display_data"
    },
    {
     "name": "stderr",
     "output_type": "stream",
     "text": [
      "06-08-2020 21:02:16 [info:049]INFO : Cluster module starting....\n"
     ]
    },
    {
     "name": "stdout",
     "output_type": "stream",
     "text": [
      "\n",
      "\n",
      "\n",
      "------------------------------------\n",
      "total_eval_num is 1000\n",
      "(22277, 10, 10)\n"
     ]
    },
    {
     "name": "stderr",
     "output_type": "stream",
     "text": [
      "06-08-2020 21:02:45 [info:049]INFO : Time to fit 22277: 29.72464324068278 (sec)\n",
      "06-08-2020 21:02:45 [info:049]INFO : Sampling frames based on Mean Encounter Method -- we search for frame that is closest to centroid of the cluster strategy\n"
     ]
    },
    {
     "name": "stdout",
     "output_type": "stream",
     "text": [
      "total eval num: 1000\n",
      "finished whole process in 34.86670828051865 (secs)\n",
      "Feature Extraction: Downsample the image by avg pixel blocks\n",
      "Sampling Method: Mean Encounter Method -- we search for frame that is closest to centroid of the cluster\n",
      "key: foo, accuracy: 0.8543340665260134, precision: 0.8246251703771014, recall: 0.3883183568677792, f1_score: 0.528\n",
      "Median: 1.0, Variance: 11038.482270999999\n",
      "Normalized Median: 0.001, Normalized Var: 11.038482271\n"
     ]
    },
    {
     "data": {
      "image/png": "[encoded data removed]",
      "text/plain": [
       "<Figure size 432x288 with 1 Axes>"
      ]
     },
     "metadata": {
      "needs_background": "light"
     },
     "output_type": "display_data"
    },
    {
     "name": "stdout",
     "output_type": "stream",
     "text": [
      "\n",
      "\n",
      "\n",
      "------------------------------------\n"
     ]
    }
   ],
   "source": [
    "for total_eval_num in total_eval_nums:\n",
    "    print(f\"total_eval_num is {total_eval_num}\")\n",
    "    #sampling_results(total_eval_num)\n",
    "    cluster_results1(total_eval_num, linkage = 'single')\n",
    "    #cluster_results2(total_eval_num)\n",
    "    #cluster_results3(total_eval_num)\n",
    "    print('------------------------------------')"
   ]
  },
  {
   "cell_type": "code",
   "execution_count": 391,
   "metadata": {},
   "outputs": [
    {
     "name": "stderr",
     "output_type": "stream",
     "text": [
      "06-08-2020 22:12:05 [info:049]INFO : Cluster module starting....\n"
     ]
    },
    {
     "name": "stdout",
     "output_type": "stream",
     "text": [
      "total_eval_num is 300\n",
      "(22277, 5, 10)\n"
     ]
    },
    {
     "name": "stderr",
     "output_type": "stream",
     "text": [
      "06-08-2020 22:12:39 [info:049]INFO : Time to fit 22277: 33.18780955951661 (sec)\n",
      "06-08-2020 22:12:39 [info:049]INFO : Sampling frames based on Mean Encounter Method -- we search for frame that is closest to centroid of the cluster strategy\n"
     ]
    },
    {
     "name": "stdout",
     "output_type": "stream",
     "text": [
      "total eval num: 300\n",
      "finished whole process in 34.975353493355215 (secs)\n",
      "Feature Extraction: Downsample the image by avg pixel blocks\n",
      "Sampling Method: Mean Encounter Method -- we search for frame that is closest to centroid of the cluster\n",
      "key: foo, accuracy: 0.7900076311891189, precision: 0.4975062344139651, recall: 0.08536585365853659, f1_score: 0.14572680788897005\n",
      "Median: 3.0, Variance: 115459.46412222221\n",
      "Normalized Median: 0.01, Normalized Var: 384.8648804074074\n"
     ]
    },
    {
     "data": {
      "image/png": "[encoded data removed]",
      "text/plain": [
       "<Figure size 432x288 with 1 Axes>"
      ]
     },
     "metadata": {
      "needs_background": "light"
     },
     "output_type": "display_data"
    },
    {
     "name": "stderr",
     "output_type": "stream",
     "text": [
      "06-08-2020 22:12:41 [info:049]INFO : Cluster module starting....\n"
     ]
    },
    {
     "name": "stdout",
     "output_type": "stream",
     "text": [
      "\n",
      "\n",
      "\n",
      "------------------------------------\n",
      "total_eval_num is 100\n",
      "(22277, 5, 10)\n"
     ]
    },
    {
     "name": "stderr",
     "output_type": "stream",
     "text": [
      "06-08-2020 22:13:13 [info:049]INFO : Time to fit 22277: 31.27393568586558 (sec)\n",
      "06-08-2020 22:13:13 [info:049]INFO : Sampling frames based on Mean Encounter Method -- we search for frame that is closest to centroid of the cluster strategy\n"
     ]
    },
    {
     "name": "stdout",
     "output_type": "stream",
     "text": [
      "total eval num: 100\n",
      "finished whole process in 31.83537391014397 (secs)\n",
      "Feature Extraction: Downsample the image by avg pixel blocks\n",
      "Sampling Method: Mean Encounter Method -- we search for frame that is closest to centroid of the cluster\n",
      "key: foo, accuracy: 0.7902769672756654, precision: 1.0, recall: 0.0004278990158322636, f1_score: 0.0008554319931565441\n",
      "Median: 23.0, Variance: 339702.31709999987\n",
      "Normalized Median: 0.23, Normalized Var: 3397.023170999999\n"
     ]
    },
    {
     "data": {
      "image/png": "[encoded data removed]",
      "text/plain": [
       "<Figure size 432x288 with 1 Axes>"
      ]
     },
     "metadata": {
      "needs_background": "light"
     },
     "output_type": "display_data"
    },
    {
     "name": "stderr",
     "output_type": "stream",
     "text": [
      "06-08-2020 22:13:13 [info:049]INFO : Cluster module starting....\n"
     ]
    },
    {
     "name": "stdout",
     "output_type": "stream",
     "text": [
      "\n",
      "\n",
      "\n",
      "------------------------------------\n",
      "total_eval_num is 500\n",
      "(22277, 5, 10)\n"
     ]
    },
    {
     "name": "stderr",
     "output_type": "stream",
     "text": [
      "06-08-2020 22:13:47 [info:049]INFO : Time to fit 22277: 33.11859316006303 (sec)\n",
      "06-08-2020 22:13:47 [info:049]INFO : Sampling frames based on Mean Encounter Method -- we search for frame that is closest to centroid of the cluster strategy\n"
     ]
    },
    {
     "name": "stdout",
     "output_type": "stream",
     "text": [
      "total eval num: 500\n",
      "finished whole process in 35.7442937605083 (secs)\n",
      "Feature Extraction: Downsample the image by avg pixel blocks\n",
      "Sampling Method: Mean Encounter Method -- we search for frame that is closest to centroid of the cluster\n",
      "key: foo, accuracy: 0.8022624231269919, precision: 0.7208538587848933, recall: 0.09392383397518185, f1_score: 0.16619345069089528\n",
      "Median: 2.0, Variance: 67663.78708400001\n",
      "Normalized Median: 0.004, Normalized Var: 135.327574168\n"
     ]
    },
    {
     "data": {
      "image/png": "[encoded data removed]",
      "text/plain": [
       "<Figure size 432x288 with 1 Axes>"
      ]
     },
     "metadata": {
      "needs_background": "light"
     },
     "output_type": "display_data"
    },
    {
     "name": "stderr",
     "output_type": "stream",
     "text": [
      "06-08-2020 22:13:50 [info:049]INFO : Cluster module starting....\n"
     ]
    },
    {
     "name": "stdout",
     "output_type": "stream",
     "text": [
      "\n",
      "\n",
      "\n",
      "------------------------------------\n",
      "total_eval_num is 1000\n",
      "(22277, 5, 10)\n"
     ]
    },
    {
     "name": "stderr",
     "output_type": "stream",
     "text": [
      "06-08-2020 22:14:21 [info:049]INFO : Time to fit 22277: 30.616034500300884 (sec)\n",
      "06-08-2020 22:14:21 [info:049]INFO : Sampling frames based on Mean Encounter Method -- we search for frame that is closest to centroid of the cluster strategy\n"
     ]
    },
    {
     "name": "stdout",
     "output_type": "stream",
     "text": [
      "total eval num: 1000\n",
      "finished whole process in 36.77409352827817 (secs)\n",
      "Feature Extraction: Downsample the image by avg pixel blocks\n",
      "Sampling Method: Mean Encounter Method -- we search for frame that is closest to centroid of the cluster\n",
      "key: foo, accuracy: 0.8134398707186784, precision: 0.919093851132686, recall: 0.12152332049636286, f1_score: 0.2146636432350718\n",
      "Median: 1.0, Variance: 16553.118271\n",
      "Normalized Median: 0.001, Normalized Var: 16.553118271\n"
     ]
    },
    {
     "data": {
      "image/png": "[encoded data removed]",
      "text/plain": [
       "<Figure size 432x288 with 1 Axes>"
      ]
     },
     "metadata": {
      "needs_background": "light"
     },
     "output_type": "display_data"
    },
    {
     "name": "stdout",
     "output_type": "stream",
     "text": [
      "\n",
      "\n",
      "\n",
      "------------------------------------\n"
     ]
    }
   ],
   "source": [
    "for total_eval_num in total_eval_nums:\n",
    "    print(f\"total_eval_num is {total_eval_num}\")\n",
    "    #sampling_results(total_eval_num)\n",
    "    cluster_results0(total_eval_num, linkage = 'single', vector_size = 50)\n",
    "    #cluster_results2(total_eval_num)\n",
    "    #cluster_results3(total_eval_num)\n",
    "    print('------------------------------------')"
   ]
  },
  {
   "cell_type": "code",
   "execution_count": 392,
   "metadata": {},
   "outputs": [
    {
     "name": "stderr",
     "output_type": "stream",
     "text": [
      "06-08-2020 22:14:29 [info:049]INFO : Cluster module starting....\n"
     ]
    },
    {
     "name": "stdout",
     "output_type": "stream",
     "text": [
      "total_eval_num is 300\n",
      "(22277, 15, 10)\n"
     ]
    },
    {
     "name": "stderr",
     "output_type": "stream",
     "text": [
      "06-08-2020 22:15:02 [info:049]INFO : Time to fit 22277: 32.34683759883046 (sec)\n",
      "06-08-2020 22:15:02 [info:049]INFO : Sampling frames based on Mean Encounter Method -- we search for frame that is closest to centroid of the cluster strategy\n"
     ]
    },
    {
     "name": "stdout",
     "output_type": "stream",
     "text": [
      "total eval num: 300\n",
      "finished whole process in 33.915717649273574 (secs)\n",
      "Feature Extraction: Downsample the image by avg pixel blocks\n",
      "Sampling Method: Mean Encounter Method -- we search for frame that is closest to centroid of the cluster\n",
      "key: foo, accuracy: 0.8055393455133097, precision: 0.6557377049180327, recall: 0.1540436456996149, f1_score: 0.2494802494802495\n",
      "Median: 2.0, Variance: 89453.08412222221\n",
      "Normalized Median: 0.006666666666666667, Normalized Var: 298.176947074074\n"
     ]
    },
    {
     "data": {
      "image/png": "[encoded data removed]",
      "text/plain": [
       "<Figure size 432x288 with 1 Axes>"
      ]
     },
     "metadata": {
      "needs_background": "light"
     },
     "output_type": "display_data"
    },
    {
     "name": "stderr",
     "output_type": "stream",
     "text": [
      "06-08-2020 22:15:04 [info:049]INFO : Cluster module starting....\n"
     ]
    },
    {
     "name": "stdout",
     "output_type": "stream",
     "text": [
      "\n",
      "\n",
      "\n",
      "------------------------------------\n",
      "total_eval_num is 100\n",
      "(22277, 15, 10)\n"
     ]
    },
    {
     "name": "stderr",
     "output_type": "stream",
     "text": [
      "06-08-2020 22:15:37 [info:049]INFO : Time to fit 22277: 32.71920159179717 (sec)\n",
      "06-08-2020 22:15:37 [info:049]INFO : Sampling frames based on Mean Encounter Method -- we search for frame that is closest to centroid of the cluster strategy\n"
     ]
    },
    {
     "name": "stdout",
     "output_type": "stream",
     "text": [
      "total eval num: 100\n",
      "finished whole process in 33.30020172614604 (secs)\n",
      "Feature Extraction: Downsample the image by avg pixel blocks\n",
      "Sampling Method: Mean Encounter Method -- we search for frame that is closest to centroid of the cluster\n",
      "key: foo, accuracy: 0.7901871885801499, precision: 0.0, recall: 0.0, f1_score: 0.0\n",
      "Median: 2.0, Variance: 398982.9771\n",
      "Normalized Median: 0.02, Normalized Var: 3989.829771\n"
     ]
    },
    {
     "name": "stderr",
     "output_type": "stream",
     "text": [
      "/nethome/jbang36/anaconda3/envs/eva_37/lib/python3.7/site-packages/sklearn/metrics/classification.py:1437: UndefinedMetricWarning: Precision is ill-defined and being set to 0.0 due to no predicted samples.\n",
      "  'precision', 'predicted', average, warn_for)\n",
      "/nethome/jbang36/anaconda3/envs/eva_37/lib/python3.7/site-packages/sklearn/metrics/classification.py:1437: UndefinedMetricWarning: F-score is ill-defined and being set to 0.0 due to no predicted samples.\n",
      "  'precision', 'predicted', average, warn_for)\n"
     ]
    },
    {
     "data": {
      "image/png": "[encoded data removed]",
      "text/plain": [
       "<Figure size 432x288 with 1 Axes>"
      ]
     },
     "metadata": {
      "needs_background": "light"
     },
     "output_type": "display_data"
    },
    {
     "name": "stderr",
     "output_type": "stream",
     "text": [
      "06-08-2020 22:15:38 [info:049]INFO : Cluster module starting....\n"
     ]
    },
    {
     "name": "stdout",
     "output_type": "stream",
     "text": [
      "\n",
      "\n",
      "\n",
      "------------------------------------\n",
      "total_eval_num is 500\n",
      "(22277, 15, 10)\n"
     ]
    },
    {
     "name": "stderr",
     "output_type": "stream",
     "text": [
      "06-08-2020 22:16:10 [info:049]INFO : Time to fit 22277: 32.18903885129839 (sec)\n",
      "06-08-2020 22:16:10 [info:049]INFO : Sampling frames based on Mean Encounter Method -- we search for frame that is closest to centroid of the cluster strategy\n"
     ]
    },
    {
     "name": "stdout",
     "output_type": "stream",
     "text": [
      "total eval num: 500\n",
      "finished whole process in 34.995024640113115 (secs)\n",
      "Feature Extraction: Downsample the image by avg pixel blocks\n",
      "Sampling Method: Mean Encounter Method -- we search for frame that is closest to centroid of the cluster\n",
      "key: foo, accuracy: 0.8392063563316425, precision: 0.7159810126582279, recall: 0.38724860932819855, f1_score: 0.502638156067759\n",
      "Median: 1.0, Variance: 41392.107083999996\n",
      "Normalized Median: 0.002, Normalized Var: 82.78421416799999\n"
     ]
    },
    {
     "data": {
      "image/png": "[encoded data removed]",
      "text/plain": [
       "<Figure size 432x288 with 1 Axes>"
      ]
     },
     "metadata": {
      "needs_background": "light"
     },
     "output_type": "display_data"
    },
    {
     "name": "stderr",
     "output_type": "stream",
     "text": [
      "06-08-2020 22:16:14 [info:049]INFO : Cluster module starting....\n"
     ]
    },
    {
     "name": "stdout",
     "output_type": "stream",
     "text": [
      "\n",
      "\n",
      "\n",
      "------------------------------------\n",
      "total_eval_num is 1000\n",
      "(22277, 15, 10)\n"
     ]
    },
    {
     "name": "stderr",
     "output_type": "stream",
     "text": [
      "06-08-2020 22:16:49 [info:049]INFO : Time to fit 22277: 35.02146510500461 (sec)\n",
      "06-08-2020 22:16:49 [info:049]INFO : Sampling frames based on Mean Encounter Method -- we search for frame that is closest to centroid of the cluster strategy\n"
     ]
    },
    {
     "name": "stdout",
     "output_type": "stream",
     "text": [
      "total eval num: 1000\n",
      "finished whole process in 40.04289599880576 (secs)\n",
      "Feature Extraction: Downsample the image by avg pixel blocks\n",
      "Sampling Method: Mean Encounter Method -- we search for frame that is closest to centroid of the cluster\n",
      "key: foo, accuracy: 0.8415854917628047, precision: 0.7813267813267813, recall: 0.34017971758664955, f1_score: 0.47399016246832615\n",
      "Median: 1.0, Variance: 9293.542271\n",
      "Normalized Median: 0.001, Normalized Var: 9.293542271\n"
     ]
    },
    {
     "data": {
      "image/png": "[encoded data removed]",
      "text/plain": [
       "<Figure size 432x288 with 1 Axes>"
      ]
     },
     "metadata": {
      "needs_background": "light"
     },
     "output_type": "display_data"
    },
    {
     "name": "stdout",
     "output_type": "stream",
     "text": [
      "\n",
      "\n",
      "\n",
      "------------------------------------\n"
     ]
    }
   ],
   "source": [
    "for total_eval_num in total_eval_nums:\n",
    "    print(f\"total_eval_num is {total_eval_num}\")\n",
    "    #sampling_results(total_eval_num)\n",
    "    cluster_results0(total_eval_num, linkage = 'single', vector_size = 150)\n",
    "    #cluster_results2(total_eval_num)\n",
    "    #cluster_results3(total_eval_num)\n",
    "    print('------------------------------------')"
   ]
  },
  {
   "cell_type": "code",
   "execution_count": 393,
   "metadata": {},
   "outputs": [
    {
     "name": "stderr",
     "output_type": "stream",
     "text": [
      "06-08-2020 22:16:57 [info:049]INFO : Cluster module starting....\n"
     ]
    },
    {
     "name": "stdout",
     "output_type": "stream",
     "text": [
      "total_eval_num is 300\n",
      "(22277, 20, 10)\n"
     ]
    },
    {
     "name": "stderr",
     "output_type": "stream",
     "text": [
      "06-08-2020 22:17:31 [info:049]INFO : Time to fit 22277: 34.55166258942336 (sec)\n",
      "06-08-2020 22:17:31 [info:049]INFO : Sampling frames based on Mean Encounter Method -- we search for frame that is closest to centroid of the cluster strategy\n"
     ]
    },
    {
     "name": "stdout",
     "output_type": "stream",
     "text": [
      "total eval num: 300\n",
      "finished whole process in 36.35145556926727 (secs)\n",
      "Feature Extraction: Downsample the image by avg pixel blocks\n",
      "Sampling Method: Mean Encounter Method -- we search for frame that is closest to centroid of the cluster\n",
      "key: foo, accuracy: 0.8335502985141626, precision: 0.7607991360691144, recall: 0.3014548566538297, f1_score: 0.4318112166717744\n",
      "Median: 1.0, Variance: 71708.0507888889\n",
      "Normalized Median: 0.0033333333333333335, Normalized Var: 239.026835962963\n"
     ]
    },
    {
     "data": {
      "image/png": "[encoded data removed]",
      "text/plain": [
       "<Figure size 432x288 with 1 Axes>"
      ]
     },
     "metadata": {
      "needs_background": "light"
     },
     "output_type": "display_data"
    },
    {
     "name": "stderr",
     "output_type": "stream",
     "text": [
      "06-08-2020 22:17:34 [info:049]INFO : Cluster module starting....\n"
     ]
    },
    {
     "name": "stdout",
     "output_type": "stream",
     "text": [
      "\n",
      "\n",
      "\n",
      "------------------------------------\n",
      "total_eval_num is 100\n",
      "(22277, 20, 10)\n"
     ]
    },
    {
     "name": "stderr",
     "output_type": "stream",
     "text": [
      "06-08-2020 22:18:07 [info:049]INFO : Time to fit 22277: 33.459683020599186 (sec)\n",
      "06-08-2020 22:18:07 [info:049]INFO : Sampling frames based on Mean Encounter Method -- we search for frame that is closest to centroid of the cluster strategy\n"
     ]
    },
    {
     "name": "stdout",
     "output_type": "stream",
     "text": [
      "total eval num: 100\n",
      "finished whole process in 34.03017406910658 (secs)\n",
      "Feature Extraction: Downsample the image by avg pixel blocks\n",
      "Sampling Method: Mean Encounter Method -- we search for frame that is closest to centroid of the cluster\n",
      "key: foo, accuracy: 0.7901871885801499, precision: 0.0, recall: 0.0, f1_score: 0.0\n",
      "Median: 2.0, Variance: 357928.65709999984\n",
      "Normalized Median: 0.02, Normalized Var: 3579.2865709999983\n"
     ]
    },
    {
     "name": "stderr",
     "output_type": "stream",
     "text": [
      "/nethome/jbang36/anaconda3/envs/eva_37/lib/python3.7/site-packages/sklearn/metrics/classification.py:1437: UndefinedMetricWarning: Precision is ill-defined and being set to 0.0 due to no predicted samples.\n",
      "  'precision', 'predicted', average, warn_for)\n",
      "/nethome/jbang36/anaconda3/envs/eva_37/lib/python3.7/site-packages/sklearn/metrics/classification.py:1437: UndefinedMetricWarning: F-score is ill-defined and being set to 0.0 due to no predicted samples.\n",
      "  'precision', 'predicted', average, warn_for)\n"
     ]
    },
    {
     "data": {
      "image/png": "[encoded data removed]",
      "text/plain": [
       "<Figure size 432x288 with 1 Axes>"
      ]
     },
     "metadata": {
      "needs_background": "light"
     },
     "output_type": "display_data"
    },
    {
     "name": "stderr",
     "output_type": "stream",
     "text": [
      "06-08-2020 22:18:08 [info:049]INFO : Cluster module starting....\n"
     ]
    },
    {
     "name": "stdout",
     "output_type": "stream",
     "text": [
      "\n",
      "\n",
      "\n",
      "------------------------------------\n",
      "total_eval_num is 500\n",
      "(22277, 20, 10)\n"
     ]
    },
    {
     "name": "stderr",
     "output_type": "stream",
     "text": [
      "06-08-2020 22:18:43 [info:049]INFO : Time to fit 22277: 35.004837336950004 (sec)\n",
      "06-08-2020 22:18:43 [info:049]INFO : Sampling frames based on Mean Encounter Method -- we search for frame that is closest to centroid of the cluster strategy\n"
     ]
    },
    {
     "name": "stdout",
     "output_type": "stream",
     "text": [
      "total eval num: 500\n",
      "finished whole process in 37.78755982592702 (secs)\n",
      "Feature Extraction: Downsample the image by avg pixel blocks\n",
      "Sampling Method: Mean Encounter Method -- we search for frame that is closest to centroid of the cluster\n",
      "key: foo, accuracy: 0.8327422902545226, precision: 0.7123655913978495, recall: 0.34017971758664955, f1_score: 0.46046915725456117\n",
      "Median: 1.0, Variance: 35858.34308399999\n",
      "Normalized Median: 0.002, Normalized Var: 71.71668616799998\n"
     ]
    },
    {
     "data": {
      "image/png": "[encoded data removed]",
      "text/plain": [
       "<Figure size 432x288 with 1 Axes>"
      ]
     },
     "metadata": {
      "needs_background": "light"
     },
     "output_type": "display_data"
    },
    {
     "name": "stderr",
     "output_type": "stream",
     "text": [
      "06-08-2020 22:18:47 [info:049]INFO : Cluster module starting....\n"
     ]
    },
    {
     "name": "stdout",
     "output_type": "stream",
     "text": [
      "\n",
      "\n",
      "\n",
      "------------------------------------\n",
      "total_eval_num is 1000\n",
      "(22277, 20, 10)\n"
     ]
    },
    {
     "name": "stderr",
     "output_type": "stream",
     "text": [
      "06-08-2020 22:19:20 [info:049]INFO : Time to fit 22277: 32.438579343259335 (sec)\n",
      "06-08-2020 22:19:20 [info:049]INFO : Sampling frames based on Mean Encounter Method -- we search for frame that is closest to centroid of the cluster strategy\n"
     ]
    },
    {
     "name": "stdout",
     "output_type": "stream",
     "text": [
      "total eval num: 1000\n",
      "finished whole process in 37.967177568003535 (secs)\n",
      "Feature Extraction: Downsample the image by avg pixel blocks\n",
      "Sampling Method: Mean Encounter Method -- we search for frame that is closest to centroid of the cluster\n",
      "key: foo, accuracy: 0.8411814876329847, precision: 0.7591240875912408, recall: 0.3560119811724433, f1_score: 0.484707253131372\n",
      "Median: 1.0, Variance: 11764.830271\n",
      "Normalized Median: 0.001, Normalized Var: 11.764830271000001\n"
     ]
    },
    {
     "data": {
      "image/png": "[encoded data removed]",
      "text/plain": [
       "<Figure size 432x288 with 1 Axes>"
      ]
     },
     "metadata": {
      "needs_background": "light"
     },
     "output_type": "display_data"
    },
    {
     "name": "stdout",
     "output_type": "stream",
     "text": [
      "\n",
      "\n",
      "\n",
      "------------------------------------\n"
     ]
    }
   ],
   "source": [
    "for total_eval_num in total_eval_nums:\n",
    "    print(f\"total_eval_num is {total_eval_num}\")\n",
    "    #sampling_results(total_eval_num)\n",
    "    cluster_results0(total_eval_num, linkage = 'single', vector_size = 200)\n",
    "    #cluster_results2(total_eval_num)\n",
    "    #cluster_results3(total_eval_num)\n",
    "    print('------------------------------------')"
   ]
  },
  {
   "cell_type": "code",
   "execution_count": null,
   "metadata": {},
   "outputs": [],
   "source": []
  },
  {
   "cell_type": "code",
   "execution_count": null,
   "metadata": {},
   "outputs": [],
   "source": []
  },
  {
   "cell_type": "code",
   "execution_count": null,
   "metadata": {},
   "outputs": [],
   "source": [
    "### I have noticed that my method in general has high precision but low recall. I aim to see if number of variables have any relationship with this phenomenon.\n",
    "### let's do the easiest first, try to derive the numbers for "
   ]
  },
  {
   "cell_type": "code",
   "execution_count": null,
   "metadata": {},
   "outputs": [],
   "source": []
  },
  {
   "cell_type": "code",
   "execution_count": 293,
   "metadata": {},
   "outputs": [],
   "source": [
    "### we evaluate on US\n",
    "\n",
    "def sampling_results(total_eval_num):\n",
    "    sampling_rate = int(len(images) / total_eval_num)\n",
    "\n",
    "    images_us, labels_us, boxes_us, mapping_us = sample3_middle(images, limit_labels, boxes, sampling_rate = sampling_rate)\n",
    "    ## we need to derive the 'cluster_labels' for sampling\n",
    "    sample_cluster_labels = get_cluster_labels(mapping_us)\n",
    "    predicted_labels_sample, gt_labels_sample = evaluate_with_gt3(limit_labels, labels_us, mapping_us)\n",
    "\n"
   ]
  },
  {
   "cell_type": "code",
   "execution_count": 365,
   "metadata": {},
   "outputs": [],
   "source": [
    "from eva_storage.analysis.sampling_analysis_tools import *"
   ]
  },
  {
   "cell_type": "code",
   "execution_count": 429,
   "metadata": {},
   "outputs": [],
   "source": [
    "def cluster_results1(total_eval_num, linkage = 'ward'):\n",
    "    ### let's try out my clustering method\n",
    "    cluster_count = total_eval_num\n",
    "\n",
    "    st = time.perf_counter()\n",
    "    number_of_neighbors = 3\n",
    "\n",
    "    #feature_extraction_method = VGG16Method()\n",
    "    feature_extraction_method = DownSampleMeanMethod()\n",
    "    #feature_extraction_method = DownSampleMaxMethod()\n",
    "    rep_selection_method = MeanEncounterMethod()\n",
    "    temporal_cluster = TemporalClusterModule(downsample_method=feature_extraction_method, sampling_method=rep_selection_method)\n",
    "    _, rep_indices, all_cluster_labels = temporal_cluster.run(images, number_of_clusters=cluster_count,\n",
    "                                                              number_of_neighbors=number_of_neighbors,\n",
    "                                                              linkage = linkage)\n",
    "    ## we need to get rep labels, rep_boxes as well\n",
    "    rep_images = images[rep_indices]\n",
    "    rep_labels = np.array(limit_labels)[rep_indices]\n",
    "    rep_boxes = np.array(boxes)[rep_indices]\n",
    "\n",
    "    mapping = temporal_cluster.get_mapping(rep_indices, all_cluster_labels)\n",
    "    mapping = mapping.astype(np.int)\n",
    "\n",
    "\n",
    "    print(f\"total eval num: {total_eval_num}\")\n",
    "    print(f\"finished whole process in {time.perf_counter() - st} (secs)\")\n",
    "    print(f\"Feature Extraction: {temporal_cluster.downsample_method}\")\n",
    "    print(f\"Sampling Method: {temporal_cluster.sampling_method}\")\n",
    "\n",
    "    predicted_labels, gt_labels = evaluate_with_gt3(limit_labels, rep_labels, mapping)\n",
    "\n",
    "    ## we also want to insert cluster related statstics\n",
    "    ## for example, how does the size of the cluster, spread of the cluster change as we alter the cluster number count?\n",
    "    cluster_stats(all_cluster_labels, draw = True)\n",
    "    \n",
    "    df1 = f1_by_cluster(predicted_labels, gt_labels, all_cluster_labels)\n",
    "    ## we want to get clusters under a certain threshold\n",
    "    print(df1[np.logical_and(df1['fooprecision'] < 0.0)])\n",
    "    print('-------------')\n",
    "    print(df1[np.logical_and(df1['fooprecision'] < 1.0, df1['fooprecision'] >= 0)])\n",
    "    print('------------')\n",
    "    print(df1[np.logical_and(df1['foorecall'] < 1.0, df1['foorecall'] > 0)])\n",
    "    print('------------')\n",
    "    print(df1[np.logical_and(df1['foof1'] < 1.0, df1['foof1'] > 0)])\n",
    "    \n",
    "    print(\"\\n\\n\")\n"
   ]
  },
  {
   "cell_type": "code",
   "execution_count": 421,
   "metadata": {},
   "outputs": [
    {
     "data": {
      "text/html": [
       "<div>\n",
       "<style scoped>\n",
       "    .dataframe tbody tr th:only-of-type {\n",
       "        vertical-align: middle;\n",
       "    }\n",
       "\n",
       "    .dataframe tbody tr th {\n",
       "        vertical-align: top;\n",
       "    }\n",
       "\n",
       "    .dataframe thead th {\n",
       "        text-align: right;\n",
       "    }\n",
       "</style>\n",
       "<table border=\"1\" class=\"dataframe\">\n",
       "  <thead>\n",
       "    <tr style=\"text-align: right;\">\n",
       "      <th></th>\n",
       "      <th>size</th>\n",
       "      <th>fooprecision</th>\n",
       "      <th>foorecall</th>\n",
       "      <th>foof1</th>\n",
       "    </tr>\n",
       "  </thead>\n",
       "  <tbody>\n",
       "  </tbody>\n",
       "</table>\n",
       "</div>"
      ],
      "text/plain": [
       "Empty DataFrame\n",
       "Columns: [size, fooprecision, foorecall, foof1]\n",
       "Index: []"
      ]
     },
     "execution_count": 421,
     "metadata": {},
     "output_type": "execute_result"
    }
   ],
   "source": [
    "a = df1['fooprecision'] < 0.7\n",
    "b = df1['fooprecision'] > 0\n",
    "c = np.logical_and(a,b)\n",
    "df1[c]"
   ]
  },
  {
   "cell_type": "code",
   "execution_count": 412,
   "metadata": {},
   "outputs": [
    {
     "ename": "ValueError",
     "evalue": "The truth value of a Series is ambiguous. Use a.empty, a.bool(), a.item(), a.any() or a.all().",
     "output_type": "error",
     "traceback": [
      "\u001b[0;31m---------------------------------------------------------------------------\u001b[0m",
      "\u001b[0;31mValueError\u001b[0m                                Traceback (most recent call last)",
      "\u001b[0;32m<ipython-input-412-61f1d817b550>\u001b[0m in \u001b[0;36m<module>\u001b[0;34m\u001b[0m\n\u001b[0;32m----> 1\u001b[0;31m \u001b[0mdf1\u001b[0m\u001b[0;34m[\u001b[0m\u001b[0mdf1\u001b[0m\u001b[0;34m[\u001b[0m\u001b[0;34m'fooprecision'\u001b[0m\u001b[0;34m]\u001b[0m \u001b[0;34m<\u001b[0m \u001b[0;36m0.7\u001b[0m \u001b[0;32mand\u001b[0m \u001b[0mdf1\u001b[0m\u001b[0;34m[\u001b[0m\u001b[0;34m'fooprecision'\u001b[0m\u001b[0;34m]\u001b[0m \u001b[0;34m>\u001b[0m \u001b[0;36m0\u001b[0m\u001b[0;34m]\u001b[0m\u001b[0;34m\u001b[0m\u001b[0;34m\u001b[0m\u001b[0m\n\u001b[0m",
      "\u001b[0;32m~/anaconda3/envs/eva_37/lib/python3.7/site-packages/pandas/core/generic.py\u001b[0m in \u001b[0;36m__nonzero__\u001b[0;34m(self)\u001b[0m\n\u001b[1;32m   1476\u001b[0m         raise ValueError(\"The truth value of a {0} is ambiguous. \"\n\u001b[1;32m   1477\u001b[0m                          \u001b[0;34m\"Use a.empty, a.bool(), a.item(), a.any() or a.all().\"\u001b[0m\u001b[0;34m\u001b[0m\u001b[0;34m\u001b[0m\u001b[0m\n\u001b[0;32m-> 1478\u001b[0;31m                          .format(self.__class__.__name__))\n\u001b[0m\u001b[1;32m   1479\u001b[0m \u001b[0;34m\u001b[0m\u001b[0m\n\u001b[1;32m   1480\u001b[0m     \u001b[0m__bool__\u001b[0m \u001b[0;34m=\u001b[0m \u001b[0m__nonzero__\u001b[0m\u001b[0;34m\u001b[0m\u001b[0;34m\u001b[0m\u001b[0m\n",
      "\u001b[0;31mValueError\u001b[0m: The truth value of a Series is ambiguous. Use a.empty, a.bool(), a.item(), a.any() or a.all()."
     ]
    }
   ],
   "source": [
    "df1[df1['fooprecision'] < 0.7 and df1['fooprecision'] > 0]"
   ]
  },
  {
   "cell_type": "code",
   "execution_count": 389,
   "metadata": {},
   "outputs": [],
   "source": [
    "def cluster_results0(total_eval_num, linkage = 'ward', vector_size = 100):\n",
    "    ### let's try changing the vector size\n",
    "    ### let's try out my clustering method\n",
    "    cluster_count = total_eval_num\n",
    "\n",
    "    st = time.perf_counter()\n",
    "    number_of_neighbors = 3\n",
    "\n",
    "    #feature_extraction_method = VGG16Method()\n",
    "    feature_extraction_method = DownSampleMeanMethod()\n",
    "    #feature_extraction_method = DownSampleMaxMethod()\n",
    "    rep_selection_method = MeanEncounterMethod()\n",
    "    temporal_cluster = TemporalClusterModule(downsample_method=feature_extraction_method, sampling_method=rep_selection_method, vector_size = vector_size)\n",
    "    _, rep_indices, all_cluster_labels = temporal_cluster.run(images, number_of_clusters=cluster_count,\n",
    "                                                              number_of_neighbors=number_of_neighbors,\n",
    "                                                              linkage = linkage)\n",
    "    ## we need to get rep labels, rep_boxes as well\n",
    "    rep_images = images[rep_indices]\n",
    "    rep_labels = np.array(limit_labels)[rep_indices]\n",
    "    rep_boxes = np.array(boxes)[rep_indices]\n",
    "\n",
    "    mapping = temporal_cluster.get_mapping(rep_indices, all_cluster_labels)\n",
    "    mapping = mapping.astype(np.int)\n",
    "\n",
    "\n",
    "    print(f\"total eval num: {total_eval_num}\")\n",
    "    print(f\"finished whole process in {time.perf_counter() - st} (secs)\")\n",
    "    print(f\"Feature Extraction: {temporal_cluster.downsample_method}\")\n",
    "    print(f\"Sampling Method: {temporal_cluster.sampling_method}\")\n",
    "\n",
    "    predicted_labels, gt_labels = evaluate_with_gt3(limit_labels, rep_labels, mapping)\n",
    "\n",
    "    ## we also want to insert cluster related statstics\n",
    "    ## for example, how does the size of the cluster, spread of the cluster change as we alter the cluster number count?\n",
    "    cluster_stats(all_cluster_labels, draw = True)\n",
    "    \n",
    "    print(\"\\n\\n\")\n"
   ]
  },
  {
   "cell_type": "code",
   "execution_count": 295,
   "metadata": {},
   "outputs": [],
   "source": [
    "def cluster_results2(total_eval_num):\n",
    "    ### let's try out my clustering method\n",
    "    cluster_count = total_eval_num\n",
    "\n",
    "    st = time.perf_counter()\n",
    "    number_of_neighbors = 3\n",
    "\n",
    "    feature_extraction_method = VGG16Method()\n",
    "    #feature_extraction_method = DownSampleMeanMethod()\n",
    "    #feature_extraction_method = DownSampleMaxMethod()\n",
    "    rep_selection_method = MeanEncounterMethod()\n",
    "    temporal_cluster = TemporalClusterModule(downsample_method=feature_extraction_method, sampling_method=rep_selection_method)\n",
    "    _, rep_indices, all_cluster_labels = temporal_cluster.run(images, number_of_clusters=cluster_count,\n",
    "                                                              number_of_neighbors=number_of_neighbors)\n",
    "    ## we need to get rep labels, rep_boxes as well\n",
    "    rep_images = images[rep_indices]\n",
    "    rep_labels = np.array(limit_labels)[rep_indices]\n",
    "    rep_boxes = np.array(boxes)[rep_indices]\n",
    "\n",
    "    mapping = temporal_cluster.get_mapping(rep_indices, all_cluster_labels)\n",
    "    mapping = mapping.astype(np.int)\n",
    "\n",
    "\n",
    "    print(f\"total eval num: {total_eval_num}\")\n",
    "    print(f\"finished whole process in {time.perf_counter() - st} (secs)\")\n",
    "    print(f\"Feature Extraction: {temporal_cluster.downsample_method}\")\n",
    "    print(f\"Sampling Method: {temporal_cluster.sampling_method}\")\n",
    "\n",
    "    predicted_labels, gt_labels = evaluate_with_gt3(limit_labels, rep_labels, mapping)\n",
    "\n",
    "    print(\"\\n\\n\")\n"
   ]
  },
  {
   "cell_type": "code",
   "execution_count": 348,
   "metadata": {},
   "outputs": [],
   "source": [
    "def cluster_results3(total_eval_num):\n",
    "    ### let's try out my clustering method\n",
    "    cluster_count = total_eval_num\n",
    "\n",
    "    st = time.perf_counter()\n",
    "    number_of_neighbors = 3\n",
    "\n",
    "    #feature_extraction_method = VGG16Method()\n",
    "    #feature_extraction_method = DownSampleMeanMethod()\n",
    "    #feature_extraction_method = DownSampleMaxMethod()\n",
    "    feature_extraction_method = DownSampleSkippingMethod()\n",
    "    rep_selection_method = MeanEncounterMethod()\n",
    "    temporal_cluster = TemporalClusterModule(downsample_method=feature_extraction_method, sampling_method=rep_selection_method)\n",
    "    _, rep_indices, all_cluster_labels = temporal_cluster.run(images, number_of_clusters=cluster_count,\n",
    "                                                              number_of_neighbors=number_of_neighbors)\n",
    "    ## we need to get rep labels, rep_boxes as well\n",
    "    rep_images = images[rep_indices]\n",
    "    rep_labels = np.array(limit_labels)[rep_indices]\n",
    "    rep_boxes = np.array(boxes)[rep_indices]\n",
    "\n",
    "    mapping = temporal_cluster.get_mapping(rep_indices, all_cluster_labels)\n",
    "    mapping = mapping.astype(np.int)\n",
    "\n",
    "\n",
    "    print(f\"total eval num: {total_eval_num}\")\n",
    "    print(f\"finished whole process in {time.perf_counter() - st} (secs)\")\n",
    "    print(f\"Feature Extraction: {temporal_cluster.downsample_method}\")\n",
    "    print(f\"Sampling Method: {temporal_cluster.sampling_method}\")\n",
    "\n",
    "    predicted_labels, gt_labels = evaluate_with_gt3(limit_labels, rep_labels, mapping)\n",
    "\n",
    "    print(\"\\n\\n\")\n"
   ]
  },
  {
   "cell_type": "code",
   "execution_count": 190,
   "metadata": {},
   "outputs": [
    {
     "data": {
      "text/plain": [
       "0.0"
      ]
     },
     "execution_count": 190,
     "metadata": {},
     "output_type": "execute_result"
    }
   ],
   "source": [
    "sum(predicted_labels['foo'])"
   ]
  },
  {
   "cell_type": "code",
   "execution_count": 394,
   "metadata": {},
   "outputs": [],
   "source": [
    "## it seems when we sample aggressively, accuracy is higher than JNET, we need to look into why this is happening.\n",
    "## first thing we can do is derive the accuracy for each cluster, let's redo 200 frames\n",
    "\n",
    "from eva_storage.analysis.sampling_analysis_tools import *"
   ]
  },
  {
   "cell_type": "code",
   "execution_count": 398,
   "metadata": {},
   "outputs": [
    {
     "data": {
      "text/plain": [
       "{'foo': array([0., 0., 0., ..., 0., 0., 0.])}"
      ]
     },
     "execution_count": 398,
     "metadata": {},
     "output_type": "execute_result"
    }
   ],
   "source": [
    "predicted_labels"
   ]
  },
  {
   "cell_type": "code",
   "execution_count": 396,
   "metadata": {},
   "outputs": [
    {
     "name": "stderr",
     "output_type": "stream",
     "text": [
      "/nethome/jbang36/anaconda3/envs/eva_37/lib/python3.7/site-packages/sklearn/metrics/classification.py:1437: UndefinedMetricWarning: Precision is ill-defined and being set to 0.0 due to no predicted samples.\n",
      "  'precision', 'predicted', average, warn_for)\n",
      "/nethome/jbang36/anaconda3/envs/eva_37/lib/python3.7/site-packages/sklearn/metrics/classification.py:1439: UndefinedMetricWarning: Recall is ill-defined and being set to 0.0 due to no true samples.\n",
      "  'recall', 'true', average, warn_for)\n",
      "/nethome/jbang36/anaconda3/envs/eva_37/lib/python3.7/site-packages/sklearn/metrics/classification.py:1437: UndefinedMetricWarning: F-score is ill-defined and being set to 0.0 due to no predicted samples.\n",
      "  'precision', 'predicted', average, warn_for)\n",
      "/nethome/jbang36/anaconda3/envs/eva_37/lib/python3.7/site-packages/sklearn/metrics/classification.py:1439: UndefinedMetricWarning: F-score is ill-defined and being set to 0.0 due to no true samples.\n",
      "  'recall', 'true', average, warn_for)\n"
     ]
    }
   ],
   "source": [
    "df1 = f1_by_cluster(predicted_labels, gt_labels, all_cluster_labels)"
   ]
  },
  {
   "cell_type": "code",
   "execution_count": 397,
   "metadata": {},
   "outputs": [
    {
     "data": {
      "text/html": [
       "<div>\n",
       "<style scoped>\n",
       "    .dataframe tbody tr th:only-of-type {\n",
       "        vertical-align: middle;\n",
       "    }\n",
       "\n",
       "    .dataframe tbody tr th {\n",
       "        vertical-align: top;\n",
       "    }\n",
       "\n",
       "    .dataframe thead th {\n",
       "        text-align: right;\n",
       "    }\n",
       "</style>\n",
       "<table border=\"1\" class=\"dataframe\">\n",
       "  <thead>\n",
       "    <tr style=\"text-align: right;\">\n",
       "      <th></th>\n",
       "      <th>size</th>\n",
       "      <th>fooprecision</th>\n",
       "      <th>foorecall</th>\n",
       "      <th>foof1</th>\n",
       "    </tr>\n",
       "  </thead>\n",
       "  <tbody>\n",
       "    <tr>\n",
       "      <th>0</th>\n",
       "      <td>4.0</td>\n",
       "      <td>0.0</td>\n",
       "      <td>0.0</td>\n",
       "      <td>0.0</td>\n",
       "    </tr>\n",
       "    <tr>\n",
       "      <th>1</th>\n",
       "      <td>27.0</td>\n",
       "      <td>0.0</td>\n",
       "      <td>0.0</td>\n",
       "      <td>0.0</td>\n",
       "    </tr>\n",
       "    <tr>\n",
       "      <th>2</th>\n",
       "      <td>16.0</td>\n",
       "      <td>0.0</td>\n",
       "      <td>0.0</td>\n",
       "      <td>0.0</td>\n",
       "    </tr>\n",
       "    <tr>\n",
       "      <th>3</th>\n",
       "      <td>12.0</td>\n",
       "      <td>0.0</td>\n",
       "      <td>0.0</td>\n",
       "      <td>0.0</td>\n",
       "    </tr>\n",
       "    <tr>\n",
       "      <th>4</th>\n",
       "      <td>16.0</td>\n",
       "      <td>0.0</td>\n",
       "      <td>0.0</td>\n",
       "      <td>0.0</td>\n",
       "    </tr>\n",
       "    <tr>\n",
       "      <th>5</th>\n",
       "      <td>8.0</td>\n",
       "      <td>0.0</td>\n",
       "      <td>0.0</td>\n",
       "      <td>0.0</td>\n",
       "    </tr>\n",
       "    <tr>\n",
       "      <th>6</th>\n",
       "      <td>22.0</td>\n",
       "      <td>0.0</td>\n",
       "      <td>0.0</td>\n",
       "      <td>0.0</td>\n",
       "    </tr>\n",
       "    <tr>\n",
       "      <th>7</th>\n",
       "      <td>14.0</td>\n",
       "      <td>0.0</td>\n",
       "      <td>0.0</td>\n",
       "      <td>0.0</td>\n",
       "    </tr>\n",
       "    <tr>\n",
       "      <th>8</th>\n",
       "      <td>12.0</td>\n",
       "      <td>0.0</td>\n",
       "      <td>0.0</td>\n",
       "      <td>0.0</td>\n",
       "    </tr>\n",
       "    <tr>\n",
       "      <th>9</th>\n",
       "      <td>3.0</td>\n",
       "      <td>0.0</td>\n",
       "      <td>0.0</td>\n",
       "      <td>0.0</td>\n",
       "    </tr>\n",
       "    <tr>\n",
       "      <th>10</th>\n",
       "      <td>11.0</td>\n",
       "      <td>0.0</td>\n",
       "      <td>0.0</td>\n",
       "      <td>0.0</td>\n",
       "    </tr>\n",
       "    <tr>\n",
       "      <th>11</th>\n",
       "      <td>3.0</td>\n",
       "      <td>0.0</td>\n",
       "      <td>0.0</td>\n",
       "      <td>0.0</td>\n",
       "    </tr>\n",
       "    <tr>\n",
       "      <th>12</th>\n",
       "      <td>5.0</td>\n",
       "      <td>0.0</td>\n",
       "      <td>0.0</td>\n",
       "      <td>0.0</td>\n",
       "    </tr>\n",
       "    <tr>\n",
       "      <th>13</th>\n",
       "      <td>2.0</td>\n",
       "      <td>0.0</td>\n",
       "      <td>0.0</td>\n",
       "      <td>0.0</td>\n",
       "    </tr>\n",
       "    <tr>\n",
       "      <th>14</th>\n",
       "      <td>5.0</td>\n",
       "      <td>0.0</td>\n",
       "      <td>0.0</td>\n",
       "      <td>0.0</td>\n",
       "    </tr>\n",
       "    <tr>\n",
       "      <th>15</th>\n",
       "      <td>14.0</td>\n",
       "      <td>0.0</td>\n",
       "      <td>0.0</td>\n",
       "      <td>0.0</td>\n",
       "    </tr>\n",
       "    <tr>\n",
       "      <th>16</th>\n",
       "      <td>37.0</td>\n",
       "      <td>0.0</td>\n",
       "      <td>0.0</td>\n",
       "      <td>0.0</td>\n",
       "    </tr>\n",
       "    <tr>\n",
       "      <th>17</th>\n",
       "      <td>7.0</td>\n",
       "      <td>0.0</td>\n",
       "      <td>0.0</td>\n",
       "      <td>0.0</td>\n",
       "    </tr>\n",
       "    <tr>\n",
       "      <th>18</th>\n",
       "      <td>6.0</td>\n",
       "      <td>0.0</td>\n",
       "      <td>0.0</td>\n",
       "      <td>0.0</td>\n",
       "    </tr>\n",
       "    <tr>\n",
       "      <th>19</th>\n",
       "      <td>4.0</td>\n",
       "      <td>0.0</td>\n",
       "      <td>0.0</td>\n",
       "      <td>0.0</td>\n",
       "    </tr>\n",
       "    <tr>\n",
       "      <th>20</th>\n",
       "      <td>27.0</td>\n",
       "      <td>0.0</td>\n",
       "      <td>0.0</td>\n",
       "      <td>0.0</td>\n",
       "    </tr>\n",
       "    <tr>\n",
       "      <th>21</th>\n",
       "      <td>4.0</td>\n",
       "      <td>0.0</td>\n",
       "      <td>0.0</td>\n",
       "      <td>0.0</td>\n",
       "    </tr>\n",
       "    <tr>\n",
       "      <th>22</th>\n",
       "      <td>8.0</td>\n",
       "      <td>0.0</td>\n",
       "      <td>0.0</td>\n",
       "      <td>0.0</td>\n",
       "    </tr>\n",
       "    <tr>\n",
       "      <th>23</th>\n",
       "      <td>10.0</td>\n",
       "      <td>0.0</td>\n",
       "      <td>0.0</td>\n",
       "      <td>0.0</td>\n",
       "    </tr>\n",
       "    <tr>\n",
       "      <th>24</th>\n",
       "      <td>2.0</td>\n",
       "      <td>0.0</td>\n",
       "      <td>0.0</td>\n",
       "      <td>0.0</td>\n",
       "    </tr>\n",
       "    <tr>\n",
       "      <th>25</th>\n",
       "      <td>24.0</td>\n",
       "      <td>0.0</td>\n",
       "      <td>0.0</td>\n",
       "      <td>0.0</td>\n",
       "    </tr>\n",
       "    <tr>\n",
       "      <th>26</th>\n",
       "      <td>3.0</td>\n",
       "      <td>0.0</td>\n",
       "      <td>0.0</td>\n",
       "      <td>0.0</td>\n",
       "    </tr>\n",
       "    <tr>\n",
       "      <th>27</th>\n",
       "      <td>3.0</td>\n",
       "      <td>0.0</td>\n",
       "      <td>0.0</td>\n",
       "      <td>0.0</td>\n",
       "    </tr>\n",
       "    <tr>\n",
       "      <th>28</th>\n",
       "      <td>11.0</td>\n",
       "      <td>0.0</td>\n",
       "      <td>0.0</td>\n",
       "      <td>0.0</td>\n",
       "    </tr>\n",
       "    <tr>\n",
       "      <th>29</th>\n",
       "      <td>29.0</td>\n",
       "      <td>0.0</td>\n",
       "      <td>0.0</td>\n",
       "      <td>0.0</td>\n",
       "    </tr>\n",
       "    <tr>\n",
       "      <th>...</th>\n",
       "      <td>...</td>\n",
       "      <td>...</td>\n",
       "      <td>...</td>\n",
       "      <td>...</td>\n",
       "    </tr>\n",
       "    <tr>\n",
       "      <th>270</th>\n",
       "      <td>1.0</td>\n",
       "      <td>0.0</td>\n",
       "      <td>0.0</td>\n",
       "      <td>0.0</td>\n",
       "    </tr>\n",
       "    <tr>\n",
       "      <th>271</th>\n",
       "      <td>1.0</td>\n",
       "      <td>0.0</td>\n",
       "      <td>0.0</td>\n",
       "      <td>0.0</td>\n",
       "    </tr>\n",
       "    <tr>\n",
       "      <th>272</th>\n",
       "      <td>1.0</td>\n",
       "      <td>0.0</td>\n",
       "      <td>0.0</td>\n",
       "      <td>0.0</td>\n",
       "    </tr>\n",
       "    <tr>\n",
       "      <th>273</th>\n",
       "      <td>1.0</td>\n",
       "      <td>0.0</td>\n",
       "      <td>0.0</td>\n",
       "      <td>0.0</td>\n",
       "    </tr>\n",
       "    <tr>\n",
       "      <th>274</th>\n",
       "      <td>1.0</td>\n",
       "      <td>0.0</td>\n",
       "      <td>0.0</td>\n",
       "      <td>0.0</td>\n",
       "    </tr>\n",
       "    <tr>\n",
       "      <th>275</th>\n",
       "      <td>1.0</td>\n",
       "      <td>0.0</td>\n",
       "      <td>0.0</td>\n",
       "      <td>0.0</td>\n",
       "    </tr>\n",
       "    <tr>\n",
       "      <th>276</th>\n",
       "      <td>1.0</td>\n",
       "      <td>0.0</td>\n",
       "      <td>0.0</td>\n",
       "      <td>0.0</td>\n",
       "    </tr>\n",
       "    <tr>\n",
       "      <th>277</th>\n",
       "      <td>1.0</td>\n",
       "      <td>0.0</td>\n",
       "      <td>0.0</td>\n",
       "      <td>0.0</td>\n",
       "    </tr>\n",
       "    <tr>\n",
       "      <th>278</th>\n",
       "      <td>1.0</td>\n",
       "      <td>0.0</td>\n",
       "      <td>0.0</td>\n",
       "      <td>0.0</td>\n",
       "    </tr>\n",
       "    <tr>\n",
       "      <th>279</th>\n",
       "      <td>1.0</td>\n",
       "      <td>0.0</td>\n",
       "      <td>0.0</td>\n",
       "      <td>0.0</td>\n",
       "    </tr>\n",
       "    <tr>\n",
       "      <th>280</th>\n",
       "      <td>1.0</td>\n",
       "      <td>0.0</td>\n",
       "      <td>0.0</td>\n",
       "      <td>0.0</td>\n",
       "    </tr>\n",
       "    <tr>\n",
       "      <th>281</th>\n",
       "      <td>1.0</td>\n",
       "      <td>0.0</td>\n",
       "      <td>0.0</td>\n",
       "      <td>0.0</td>\n",
       "    </tr>\n",
       "    <tr>\n",
       "      <th>282</th>\n",
       "      <td>1.0</td>\n",
       "      <td>0.0</td>\n",
       "      <td>0.0</td>\n",
       "      <td>0.0</td>\n",
       "    </tr>\n",
       "    <tr>\n",
       "      <th>283</th>\n",
       "      <td>1.0</td>\n",
       "      <td>0.0</td>\n",
       "      <td>0.0</td>\n",
       "      <td>0.0</td>\n",
       "    </tr>\n",
       "    <tr>\n",
       "      <th>284</th>\n",
       "      <td>1.0</td>\n",
       "      <td>0.0</td>\n",
       "      <td>0.0</td>\n",
       "      <td>0.0</td>\n",
       "    </tr>\n",
       "    <tr>\n",
       "      <th>285</th>\n",
       "      <td>1.0</td>\n",
       "      <td>0.0</td>\n",
       "      <td>0.0</td>\n",
       "      <td>0.0</td>\n",
       "    </tr>\n",
       "    <tr>\n",
       "      <th>286</th>\n",
       "      <td>1.0</td>\n",
       "      <td>0.0</td>\n",
       "      <td>0.0</td>\n",
       "      <td>0.0</td>\n",
       "    </tr>\n",
       "    <tr>\n",
       "      <th>287</th>\n",
       "      <td>1.0</td>\n",
       "      <td>0.0</td>\n",
       "      <td>0.0</td>\n",
       "      <td>0.0</td>\n",
       "    </tr>\n",
       "    <tr>\n",
       "      <th>288</th>\n",
       "      <td>1.0</td>\n",
       "      <td>0.0</td>\n",
       "      <td>0.0</td>\n",
       "      <td>0.0</td>\n",
       "    </tr>\n",
       "    <tr>\n",
       "      <th>289</th>\n",
       "      <td>1.0</td>\n",
       "      <td>0.0</td>\n",
       "      <td>0.0</td>\n",
       "      <td>0.0</td>\n",
       "    </tr>\n",
       "    <tr>\n",
       "      <th>290</th>\n",
       "      <td>1.0</td>\n",
       "      <td>0.0</td>\n",
       "      <td>0.0</td>\n",
       "      <td>0.0</td>\n",
       "    </tr>\n",
       "    <tr>\n",
       "      <th>291</th>\n",
       "      <td>1.0</td>\n",
       "      <td>0.0</td>\n",
       "      <td>0.0</td>\n",
       "      <td>0.0</td>\n",
       "    </tr>\n",
       "    <tr>\n",
       "      <th>292</th>\n",
       "      <td>1.0</td>\n",
       "      <td>0.0</td>\n",
       "      <td>0.0</td>\n",
       "      <td>0.0</td>\n",
       "    </tr>\n",
       "    <tr>\n",
       "      <th>293</th>\n",
       "      <td>1.0</td>\n",
       "      <td>0.0</td>\n",
       "      <td>0.0</td>\n",
       "      <td>0.0</td>\n",
       "    </tr>\n",
       "    <tr>\n",
       "      <th>294</th>\n",
       "      <td>1.0</td>\n",
       "      <td>0.0</td>\n",
       "      <td>0.0</td>\n",
       "      <td>0.0</td>\n",
       "    </tr>\n",
       "    <tr>\n",
       "      <th>295</th>\n",
       "      <td>1.0</td>\n",
       "      <td>0.0</td>\n",
       "      <td>0.0</td>\n",
       "      <td>0.0</td>\n",
       "    </tr>\n",
       "    <tr>\n",
       "      <th>296</th>\n",
       "      <td>1.0</td>\n",
       "      <td>0.0</td>\n",
       "      <td>0.0</td>\n",
       "      <td>0.0</td>\n",
       "    </tr>\n",
       "    <tr>\n",
       "      <th>297</th>\n",
       "      <td>1.0</td>\n",
       "      <td>0.0</td>\n",
       "      <td>0.0</td>\n",
       "      <td>0.0</td>\n",
       "    </tr>\n",
       "    <tr>\n",
       "      <th>298</th>\n",
       "      <td>1.0</td>\n",
       "      <td>0.0</td>\n",
       "      <td>0.0</td>\n",
       "      <td>0.0</td>\n",
       "    </tr>\n",
       "    <tr>\n",
       "      <th>299</th>\n",
       "      <td>1.0</td>\n",
       "      <td>0.0</td>\n",
       "      <td>0.0</td>\n",
       "      <td>0.0</td>\n",
       "    </tr>\n",
       "  </tbody>\n",
       "</table>\n",
       "<p>300 rows × 4 columns</p>\n",
       "</div>"
      ],
      "text/plain": [
       "     size  fooprecision  foorecall  foof1\n",
       "0     4.0           0.0        0.0    0.0\n",
       "1    27.0           0.0        0.0    0.0\n",
       "2    16.0           0.0        0.0    0.0\n",
       "3    12.0           0.0        0.0    0.0\n",
       "4    16.0           0.0        0.0    0.0\n",
       "5     8.0           0.0        0.0    0.0\n",
       "6    22.0           0.0        0.0    0.0\n",
       "7    14.0           0.0        0.0    0.0\n",
       "8    12.0           0.0        0.0    0.0\n",
       "9     3.0           0.0        0.0    0.0\n",
       "10   11.0           0.0        0.0    0.0\n",
       "11    3.0           0.0        0.0    0.0\n",
       "12    5.0           0.0        0.0    0.0\n",
       "13    2.0           0.0        0.0    0.0\n",
       "14    5.0           0.0        0.0    0.0\n",
       "15   14.0           0.0        0.0    0.0\n",
       "16   37.0           0.0        0.0    0.0\n",
       "17    7.0           0.0        0.0    0.0\n",
       "18    6.0           0.0        0.0    0.0\n",
       "19    4.0           0.0        0.0    0.0\n",
       "20   27.0           0.0        0.0    0.0\n",
       "21    4.0           0.0        0.0    0.0\n",
       "22    8.0           0.0        0.0    0.0\n",
       "23   10.0           0.0        0.0    0.0\n",
       "24    2.0           0.0        0.0    0.0\n",
       "25   24.0           0.0        0.0    0.0\n",
       "26    3.0           0.0        0.0    0.0\n",
       "27    3.0           0.0        0.0    0.0\n",
       "28   11.0           0.0        0.0    0.0\n",
       "29   29.0           0.0        0.0    0.0\n",
       "..    ...           ...        ...    ...\n",
       "270   1.0           0.0        0.0    0.0\n",
       "271   1.0           0.0        0.0    0.0\n",
       "272   1.0           0.0        0.0    0.0\n",
       "273   1.0           0.0        0.0    0.0\n",
       "274   1.0           0.0        0.0    0.0\n",
       "275   1.0           0.0        0.0    0.0\n",
       "276   1.0           0.0        0.0    0.0\n",
       "277   1.0           0.0        0.0    0.0\n",
       "278   1.0           0.0        0.0    0.0\n",
       "279   1.0           0.0        0.0    0.0\n",
       "280   1.0           0.0        0.0    0.0\n",
       "281   1.0           0.0        0.0    0.0\n",
       "282   1.0           0.0        0.0    0.0\n",
       "283   1.0           0.0        0.0    0.0\n",
       "284   1.0           0.0        0.0    0.0\n",
       "285   1.0           0.0        0.0    0.0\n",
       "286   1.0           0.0        0.0    0.0\n",
       "287   1.0           0.0        0.0    0.0\n",
       "288   1.0           0.0        0.0    0.0\n",
       "289   1.0           0.0        0.0    0.0\n",
       "290   1.0           0.0        0.0    0.0\n",
       "291   1.0           0.0        0.0    0.0\n",
       "292   1.0           0.0        0.0    0.0\n",
       "293   1.0           0.0        0.0    0.0\n",
       "294   1.0           0.0        0.0    0.0\n",
       "295   1.0           0.0        0.0    0.0\n",
       "296   1.0           0.0        0.0    0.0\n",
       "297   1.0           0.0        0.0    0.0\n",
       "298   1.0           0.0        0.0    0.0\n",
       "299   1.0           0.0        0.0    0.0\n",
       "\n",
       "[300 rows x 4 columns]"
      ]
     },
     "execution_count": 397,
     "metadata": {},
     "output_type": "execute_result"
    }
   ],
   "source": [
    "df1"
   ]
  },
  {
   "cell_type": "code",
   "execution_count": 155,
   "metadata": {},
   "outputs": [],
   "source": [
    "df = accuracy_by_cluster(predicted_labels, gt_labels, all_cluster_labels)"
   ]
  },
  {
   "cell_type": "code",
   "execution_count": 158,
   "metadata": {},
   "outputs": [
    {
     "data": {
      "text/html": [
       "<div>\n",
       "<style scoped>\n",
       "    .dataframe tbody tr th:only-of-type {\n",
       "        vertical-align: middle;\n",
       "    }\n",
       "\n",
       "    .dataframe tbody tr th {\n",
       "        vertical-align: top;\n",
       "    }\n",
       "\n",
       "    .dataframe thead th {\n",
       "        text-align: right;\n",
       "    }\n",
       "</style>\n",
       "<table border=\"1\" class=\"dataframe\">\n",
       "  <thead>\n",
       "    <tr style=\"text-align: right;\">\n",
       "      <th></th>\n",
       "      <th>size</th>\n",
       "      <th>foo</th>\n",
       "    </tr>\n",
       "  </thead>\n",
       "  <tbody>\n",
       "    <tr>\n",
       "      <th>0</th>\n",
       "      <td>3002.0</td>\n",
       "      <td>0.754830</td>\n",
       "    </tr>\n",
       "    <tr>\n",
       "      <th>1</th>\n",
       "      <td>1712.0</td>\n",
       "      <td>0.981308</td>\n",
       "    </tr>\n",
       "    <tr>\n",
       "      <th>2</th>\n",
       "      <td>2114.0</td>\n",
       "      <td>0.468780</td>\n",
       "    </tr>\n",
       "    <tr>\n",
       "      <th>3</th>\n",
       "      <td>3860.0</td>\n",
       "      <td>1.000000</td>\n",
       "    </tr>\n",
       "    <tr>\n",
       "      <th>4</th>\n",
       "      <td>1328.0</td>\n",
       "      <td>1.000000</td>\n",
       "    </tr>\n",
       "    <tr>\n",
       "      <th>5</th>\n",
       "      <td>2821.0</td>\n",
       "      <td>0.897200</td>\n",
       "    </tr>\n",
       "    <tr>\n",
       "      <th>6</th>\n",
       "      <td>1600.0</td>\n",
       "      <td>0.795625</td>\n",
       "    </tr>\n",
       "    <tr>\n",
       "      <th>7</th>\n",
       "      <td>956.0</td>\n",
       "      <td>1.000000</td>\n",
       "    </tr>\n",
       "    <tr>\n",
       "      <th>8</th>\n",
       "      <td>884.0</td>\n",
       "      <td>0.970588</td>\n",
       "    </tr>\n",
       "    <tr>\n",
       "      <th>9</th>\n",
       "      <td>4000.0</td>\n",
       "      <td>0.999750</td>\n",
       "    </tr>\n",
       "  </tbody>\n",
       "</table>\n",
       "</div>"
      ],
      "text/plain": [
       "     size       foo\n",
       "0  3002.0  0.754830\n",
       "1  1712.0  0.981308\n",
       "2  2114.0  0.468780\n",
       "3  3860.0  1.000000\n",
       "4  1328.0  1.000000\n",
       "5  2821.0  0.897200\n",
       "6  1600.0  0.795625\n",
       "7   956.0  1.000000\n",
       "8   884.0  0.970588\n",
       "9  4000.0  0.999750"
      ]
     },
     "execution_count": 158,
     "metadata": {},
     "output_type": "execute_result"
    }
   ],
   "source": [
    "df"
   ]
  },
  {
   "cell_type": "code",
   "execution_count": 156,
   "metadata": {},
   "outputs": [
    {
     "data": {
      "text/html": [
       "<div>\n",
       "<style scoped>\n",
       "    .dataframe tbody tr th:only-of-type {\n",
       "        vertical-align: middle;\n",
       "    }\n",
       "\n",
       "    .dataframe tbody tr th {\n",
       "        vertical-align: top;\n",
       "    }\n",
       "\n",
       "    .dataframe thead th {\n",
       "        text-align: right;\n",
       "    }\n",
       "</style>\n",
       "<table border=\"1\" class=\"dataframe\">\n",
       "  <thead>\n",
       "    <tr style=\"text-align: right;\">\n",
       "      <th></th>\n",
       "      <th>size</th>\n",
       "      <th>foo</th>\n",
       "    </tr>\n",
       "  </thead>\n",
       "  <tbody>\n",
       "    <tr>\n",
       "      <th>2</th>\n",
       "      <td>2114.0</td>\n",
       "      <td>0.46878</td>\n",
       "    </tr>\n",
       "  </tbody>\n",
       "</table>\n",
       "</div>"
      ],
      "text/plain": [
       "     size      foo\n",
       "2  2114.0  0.46878"
      ]
     },
     "execution_count": 156,
     "metadata": {},
     "output_type": "execute_result"
    }
   ],
   "source": [
    "df[df['foo'] < 0.7]"
   ]
  },
  {
   "cell_type": "code",
   "execution_count": 157,
   "metadata": {},
   "outputs": [
    {
     "data": {
      "text/html": [
       "<div>\n",
       "<style scoped>\n",
       "    .dataframe tbody tr th:only-of-type {\n",
       "        vertical-align: middle;\n",
       "    }\n",
       "\n",
       "    .dataframe tbody tr th {\n",
       "        vertical-align: top;\n",
       "    }\n",
       "\n",
       "    .dataframe thead th {\n",
       "        text-align: right;\n",
       "    }\n",
       "</style>\n",
       "<table border=\"1\" class=\"dataframe\">\n",
       "  <thead>\n",
       "    <tr style=\"text-align: right;\">\n",
       "      <th></th>\n",
       "      <th>size</th>\n",
       "      <th>foo</th>\n",
       "    </tr>\n",
       "  </thead>\n",
       "  <tbody>\n",
       "    <tr>\n",
       "      <th>0</th>\n",
       "      <td>3002.0</td>\n",
       "      <td>0.754830</td>\n",
       "    </tr>\n",
       "    <tr>\n",
       "      <th>1</th>\n",
       "      <td>1712.0</td>\n",
       "      <td>0.981308</td>\n",
       "    </tr>\n",
       "    <tr>\n",
       "      <th>2</th>\n",
       "      <td>2114.0</td>\n",
       "      <td>0.468780</td>\n",
       "    </tr>\n",
       "    <tr>\n",
       "      <th>3</th>\n",
       "      <td>3860.0</td>\n",
       "      <td>1.000000</td>\n",
       "    </tr>\n",
       "    <tr>\n",
       "      <th>4</th>\n",
       "      <td>1328.0</td>\n",
       "      <td>1.000000</td>\n",
       "    </tr>\n",
       "    <tr>\n",
       "      <th>5</th>\n",
       "      <td>2821.0</td>\n",
       "      <td>0.897200</td>\n",
       "    </tr>\n",
       "    <tr>\n",
       "      <th>6</th>\n",
       "      <td>1600.0</td>\n",
       "      <td>0.795625</td>\n",
       "    </tr>\n",
       "    <tr>\n",
       "      <th>7</th>\n",
       "      <td>956.0</td>\n",
       "      <td>1.000000</td>\n",
       "    </tr>\n",
       "    <tr>\n",
       "      <th>8</th>\n",
       "      <td>884.0</td>\n",
       "      <td>0.970588</td>\n",
       "    </tr>\n",
       "    <tr>\n",
       "      <th>9</th>\n",
       "      <td>4000.0</td>\n",
       "      <td>0.999750</td>\n",
       "    </tr>\n",
       "  </tbody>\n",
       "</table>\n",
       "</div>"
      ],
      "text/plain": [
       "     size       foo\n",
       "0  3002.0  0.754830\n",
       "1  1712.0  0.981308\n",
       "2  2114.0  0.468780\n",
       "3  3860.0  1.000000\n",
       "4  1328.0  1.000000\n",
       "5  2821.0  0.897200\n",
       "6  1600.0  0.795625\n",
       "7   956.0  1.000000\n",
       "8   884.0  0.970588\n",
       "9  4000.0  0.999750"
      ]
     },
     "execution_count": 157,
     "metadata": {},
     "output_type": "execute_result"
    }
   ],
   "source": [
    "### if evenly divided, the cluster size would be around 111, how many clusters are above the size... 400? -- 13 clusters\n",
    "df[df['size'] > 400]"
   ]
  },
  {
   "cell_type": "code",
   "execution_count": null,
   "metadata": {},
   "outputs": [],
   "source": []
  },
  {
   "cell_type": "code",
   "execution_count": 159,
   "metadata": {},
   "outputs": [],
   "source": [
    "## I am curious as to how US does for each cluster..\n",
    "\n",
    "df_sample = accuracy_by_cluster(predicted_labels_sample, gt_labels_sample, sample_cluster_labels)\n",
    "\n"
   ]
  },
  {
   "cell_type": "code",
   "execution_count": 161,
   "metadata": {},
   "outputs": [
    {
     "data": {
      "text/html": [
       "<div>\n",
       "<style scoped>\n",
       "    .dataframe tbody tr th:only-of-type {\n",
       "        vertical-align: middle;\n",
       "    }\n",
       "\n",
       "    .dataframe tbody tr th {\n",
       "        vertical-align: top;\n",
       "    }\n",
       "\n",
       "    .dataframe thead th {\n",
       "        text-align: right;\n",
       "    }\n",
       "</style>\n",
       "<table border=\"1\" class=\"dataframe\">\n",
       "  <thead>\n",
       "    <tr style=\"text-align: right;\">\n",
       "      <th></th>\n",
       "      <th>size</th>\n",
       "      <th>foo</th>\n",
       "    </tr>\n",
       "  </thead>\n",
       "  <tbody>\n",
       "    <tr>\n",
       "      <th>4</th>\n",
       "      <td>2227.0</td>\n",
       "      <td>0.5815</td>\n",
       "    </tr>\n",
       "  </tbody>\n",
       "</table>\n",
       "</div>"
      ],
      "text/plain": [
       "     size     foo\n",
       "4  2227.0  0.5815"
      ]
     },
     "execution_count": 161,
     "metadata": {},
     "output_type": "execute_result"
    }
   ],
   "source": [
    "df_sample[df_sample['foo'] < 0.7]"
   ]
  },
  {
   "cell_type": "code",
   "execution_count": 409,
   "metadata": {},
   "outputs": [
    {
     "data": {
      "text/plain": [
       "0     False\n",
       "1     False\n",
       "2     False\n",
       "3     False\n",
       "4      True\n",
       "5     False\n",
       "6     False\n",
       "7     False\n",
       "8     False\n",
       "9     False\n",
       "10    False\n",
       "Name: foo, dtype: bool"
      ]
     },
     "execution_count": 409,
     "metadata": {},
     "output_type": "execute_result"
    }
   ],
   "source": [
    "df_sample['foo'] < 0.7"
   ]
  },
  {
   "cell_type": "code",
   "execution_count": 160,
   "metadata": {},
   "outputs": [
    {
     "data": {
      "text/plain": [
       "1"
      ]
     },
     "execution_count": 160,
     "metadata": {},
     "output_type": "execute_result"
    }
   ],
   "source": [
    "sum(df_sample['foo'] < 0.7)"
   ]
  },
  {
   "cell_type": "code",
   "execution_count": 347,
   "metadata": {},
   "outputs": [
    {
     "name": "stdout",
     "output_type": "stream",
     "text": [
      "hello world\n"
     ]
    }
   ],
   "source": [
    "print('hello world')"
   ]
  },
  {
   "cell_type": "code",
   "execution_count": null,
   "metadata": {},
   "outputs": [],
   "source": []
  }
 ],
 "metadata": {
  "kernelspec": {
   "display_name": "Python 3",
   "language": "python",
   "name": "python3"
  },
  "language_info": {
   "codemirror_mode": {
    "name": "ipython",
    "version": 3
   },
   "file_extension": ".py",
   "mimetype": "text/x-python",
   "name": "python",
   "nbconvert_exporter": "python",
   "pygments_lexer": "ipython3",
   "version": "3.7.3"
  }
 },
 "nbformat": 4,
 "nbformat_minor": 2
}
