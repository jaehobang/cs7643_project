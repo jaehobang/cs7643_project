{
 "cells": [
  {
   "cell_type": "markdown",
   "metadata": {},
   "source": [
    "## In this file we will evaluate whether, the extracted indexes (rep frames) are enough to use with deep learning in terms of training and evaluation\n"
   ]
  },
  {
   "cell_type": "code",
   "execution_count": null,
   "metadata": {},
   "outputs": [],
   "source": [
    "\"\"\"\n",
    "Steps:\n",
    "1. Create the indexes\n",
    "2. 1 instance of the network is trained using the whole data with augmentation\n",
    "3. 1 instance of the network is trained using rep frame data with augmentation\n",
    "4. Compare training speed\n",
    "5. Compare training loss\n",
    "6. Compare mAP\n",
    "\"\"\""
   ]
  },
  {
   "cell_type": "code",
   "execution_count": null,
   "metadata": {},
   "outputs": [],
   "source": [
    "import os\n",
    "os.getcwd()\n",
    "%pylab inline\n",
    "%load_ext autoreload\n",
    "%autoreload 2\n",
    "\n",
    "import os\n",
    "import sys\n",
    "sys.argv=['']\n",
    "sys.path.append('../../')\n",
    "\n",
    "\n",
    "import numpy as np\n",
    "#import utils.helpers as helpers\n",
    "import utils as helpers\n",
    "from loaders.uadetrac_loader import UADetracLoader\n",
    "from eva_storage.preprocessingModule import PreprocessingModule\n",
    "from eva_storage.UNet import UNet\n",
    "from eva_storage.clusterModule import ClusterModule\n",
    "from filters.minimum_filter import FilterMinimum\n",
    "from eva_storage.evaluation.evaluate_compression import *"
   ]
  },
  {
   "cell_type": "code",
   "execution_count": null,
   "metadata": {},
   "outputs": [],
   "source": [
    "# load the data  \n",
    "loader = UADetracLoader()\n",
    "images = loader.load_cached_images()\n",
    "labels = loader.load_cached_labels()\n",
    "video_start_indices = loader.get_video_start_indices()"
   ]
  },
  {
   "cell_type": "code",
   "execution_count": null,
   "metadata": {},
   "outputs": [],
   "source": [
    "# run background subtraction\n",
    "pm = PreprocessingModule()\n",
    "seg_images = pm.run(images,video_start_indices)\n",
    "print(seg_images.shape)"
   ]
  },
  {
   "cell_type": "code",
   "execution_count": null,
   "metadata": {},
   "outputs": [],
   "source": [
    "# train the main network\n",
    "unet = UNet()\n",
    "unet.train(images, seg_images, epoch = 100)\n"
   ]
  },
  {
   "cell_type": "code",
   "execution_count": null,
   "metadata": {},
   "outputs": [],
   "source": [
    "# Generate the compressed / segmented images\n",
    "unet_compressed_images, unet_segmented_images = unet.execute()"
   ]
  },
  {
   "cell_type": "code",
   "execution_count": null,
   "metadata": {},
   "outputs": [],
   "source": [
    "# Create clusters\n",
    "cm = ClusterModule()\n",
    "image_cluster_labels = cm.run(unet_compressed_images)"
   ]
  },
  {
   "cell_type": "code",
   "execution_count": null,
   "metadata": {},
   "outputs": [],
   "source": [
    "# Generate binary labels\n",
    "## within labels['vehicle'] there are ['car', 'others', 'van', 'bus']\n",
    "\n",
    "car_labels = helpers.generateBinaryLabels(labels['vehicle'])\n",
    "other_labels = helpers.generateBinaryLabels(labels['vehicle'], label_of_interest = 'others')\n",
    "van_labels = helpers.generateBinaryLabels(labels['vehicle'], 'van')\n",
    "bus_labels = helpers.generateBinaryLabels(labels['vehicle'], 'bus')"
   ]
  },
  {
   "cell_type": "code",
   "execution_count": null,
   "metadata": {},
   "outputs": [],
   "source": []
  },
  {
   "cell_type": "code",
   "execution_count": null,
   "metadata": {},
   "outputs": [],
   "source": []
  },
  {
   "cell_type": "code",
   "execution_count": null,
   "metadata": {},
   "outputs": [],
   "source": []
  },
  {
   "cell_type": "code",
   "execution_count": null,
   "metadata": {},
   "outputs": [],
   "source": []
  },
  {
   "cell_type": "code",
   "execution_count": null,
   "metadata": {},
   "outputs": [],
   "source": []
  },
  {
   "cell_type": "code",
   "execution_count": null,
   "metadata": {},
   "outputs": [],
   "source": []
  },
  {
   "cell_type": "code",
   "execution_count": null,
   "metadata": {},
   "outputs": [],
   "source": []
  },
  {
   "cell_type": "code",
   "execution_count": null,
   "metadata": {},
   "outputs": [],
   "source": []
  }
 ],
 "metadata": {
  "kernelspec": {
   "display_name": "Python 3",
   "language": "python",
   "name": "python3"
  },
  "language_info": {
   "codemirror_mode": {
    "name": "ipython",
    "version": 3
   },
   "file_extension": ".py",
   "mimetype": "text/x-python",
   "name": "python",
   "nbconvert_exporter": "python",
   "pygments_lexer": "ipython3",
   "version": "3.7.3"
  }
 },
 "nbformat": 4,
 "nbformat_minor": 2
}
